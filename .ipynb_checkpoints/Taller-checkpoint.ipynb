{
 "cells": [
  {
   "cell_type": "markdown",
   "metadata": {
    "colab_type": "text",
    "id": "rx5bv53yVYsj"
   },
   "source": [
    "# 👻  **Taller 1 - Operadores de Control y estructuras**\n",
    "\n",
    "<img src=\"https://www.udistrital.edu.co/themes/custom/versh/images/default/preloader.png\" align=\"left\" width=\"192px\" height=\"192px\"/>\n",
    "<img align=\"left\" width=\"0\" height=\"192px\" hspace=\"10\"/>\n",
    "\n",
    "> Juan Felipe Rodríguez Galindo  - **COD. 20181020158**\n",
    "<br></br>\n",
    "[![Juan Felipe Rodriguez Galindo](https://img.shields.io/badge/Juferoga-github-br?style=flat-square)](https://gitlab.com/Juferoga)\n",
    "[![License](https://img.shields.io/badge/License-GPL_V.3-blue?style=flat-square)](https://www.gnu.org/licenses/gpl-3.0.html)\n",
    "\n",
    "\n",
    "Introducción a la Ciencia de Datos\n",
    "\n",
    "Desarrrollo del taller propuesto en la clase de introducción a la ciencia de datos."
   ]
  },
  {
   "cell_type": "markdown",
   "metadata": {
    "colab_type": "text",
    "id": "LS9ZdVIfY8e5"
   },
   "source": [
    "## Talller\n",
    "\n",
    "Utilizando la sentencia ELSE en bucles, desarrollar un juego que genere un número entero aleatorio de 0 al 99 y le pida al usuario que lo adivine. El número de intentos debe ser de 10. Al finalizar (adivine o no) se debe indicar si el usuario ganó o perdió y se le debe dar un puntaje.\n"
   ]
  },
  {
   "cell_type": "markdown",
   "metadata": {
    "colab_type": "text",
    "id": "l_IlAkhrEcVQ"
   },
   "source": [
    "## Desarrollo"
   ]
  },
  {
   "cell_type": "markdown",
   "metadata": {
    "colab_type": "text",
    "id": "asgebyo96sV3"
   },
   "source": [
    " ## Libreria Random\n",
    " Libreria de python que permite generar numeros pseudo-random."
   ]
  },
  {
   "cell_type": "code",
   "execution_count": 12,
   "metadata": {
    "colab": {
     "base_uri": "https://localhost:8080/",
     "height": 34
    },
    "colab_type": "code",
    "id": "p34CHk9k7E76",
    "outputId": "3014f212-fc10-4760-fbf7-b290e72216f2"
   },
   "outputs": [
    {
     "name": "stdout",
     "output_type": "stream",
     "text": [
      "7\n"
     ]
    }
   ],
   "source": [
    "# Importamos el modulo Random\n",
    "import random\n",
    "\n",
    "# definición de variables\n",
    "\n",
    "# Creamos un número aleatorio del 0 al 99 y lo guardamos en num_rand\n",
    "num_rand = random.randint(0,99)\n",
    "print(num_rand)\n",
    "\n",
    "# Creamos algo asi como un booleano para controlar si adivino o no el número\n",
    "Verificador = False"
   ]
  },
  {
   "cell_type": "markdown",
   "metadata": {
    "colab_type": "text",
    "id": "klzwdHjL7fiU"
   },
   "source": [
    "Utilizamos una sentencia ciclica para controlar el numero de intentos del usuario."
   ]
  },
  {
   "cell_type": "code",
   "execution_count": null,
   "metadata": {
    "colab": {
     "base_uri": "https://localhost:8080/",
     "height": 260
    },
    "colab_type": "code",
    "id": "dMa77Gfl7pPA",
    "outputId": "6b42d259-c1e9-456c-f8b4-2b064829a6f8"
   },
   "outputs": [],
   "source": [
    "for x in range(10):\n",
    "  entrada = int(input(\" Adivina adivinador, cual es el número que random escogio \\n\"))\n",
    "  if (entrada == num_rand) :\n",
    "    Verificador = True\n",
    "    puntaje = 100-(x*10)\n",
    "    break\n",
    "  else:\n",
    "    puntaje = 100-(x*10)\n",
    "    continue"
   ]
  },
  {
   "cell_type": "markdown",
   "metadata": {
    "colab_type": "text",
    "id": "GCukJgF28JjK"
   },
   "source": [
    "Utilizamos una sentencia de control tipo IF-ELSE para verificar si el usuario gano y mostrar su respectivo puntaje."
   ]
  },
  {
   "cell_type": "code",
   "execution_count": null,
   "metadata": {
    "colab": {
     "base_uri": "https://localhost:8080/",
     "height": 52
    },
    "colab_type": "code",
    "id": "D1wgMp0mZE9g",
    "outputId": "20d4f2a9-6dbd-4017-b3d6-c3159f447f07"
   },
   "outputs": [],
   "source": [
    "if(Verificador == True):\n",
    "  print('Ganaste! \\n Puntaje :',puntaje)\n",
    "else:\n",
    "  print('Perdiste! \\n Puntaje :',puntaje)\n",
    "\n",
    "\n"
   ]
  }
 ],
 "metadata": {
  "colab": {
   "collapsed_sections": [],
   "name": "Taller",
   "provenance": []
  },
  "kernelspec": {
   "display_name": "Python 3",
   "language": "python",
   "name": "python3"
  },
  "language_info": {
   "codemirror_mode": {
    "name": "ipython",
    "version": 3
   },
   "file_extension": ".py",
   "mimetype": "text/x-python",
   "name": "python",
   "nbconvert_exporter": "python",
   "pygments_lexer": "ipython3",
   "version": "3.7.6"
  }
 },
 "nbformat": 4,
 "nbformat_minor": 1
}
