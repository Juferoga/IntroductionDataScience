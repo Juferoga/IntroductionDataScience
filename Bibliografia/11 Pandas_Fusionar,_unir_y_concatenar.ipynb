{
  "nbformat": 4,
  "nbformat_minor": 0,
  "metadata": {
    "colab": {
      "name": "Pandas: Fusionar, unir y concatenar.ipynb",
      "provenance": []
    },
    "kernelspec": {
      "name": "python3",
      "display_name": "Python 3"
    }
  },
  "cells": [
    {
      "cell_type": "markdown",
      "metadata": {
        "id": "CUYMSym62co7",
        "colab_type": "text"
      },
      "source": [
        "#Pandas: Fusionar, unir y concatenar"
      ]
    },
    {
      "cell_type": "markdown",
      "metadata": {
        "id": "adYQobQE3LqA",
        "colab_type": "text"
      },
      "source": [
        "\n",
        "\n",
        "---\n",
        "\n",
        "\n",
        "###Concatenación vertical\n",
        "\n",
        "\n",
        "---\n",
        "\n"
      ]
    },
    {
      "cell_type": "code",
      "metadata": {
        "id": "zYVBpkt81E9n",
        "colab_type": "code",
        "colab": {}
      },
      "source": [
        ""
      ],
      "execution_count": null,
      "outputs": []
    },
    {
      "cell_type": "code",
      "metadata": {
        "id": "AJ5bjYygflZd",
        "colab_type": "code",
        "colab": {
          "base_uri": "https://localhost:8080/",
          "height": 340
        },
        "outputId": "96ca3978-d768-4fbd-a8a4-4866d5c12b6e"
      },
      "source": [
        "import pandas as pd\n",
        "\n",
        "\n",
        "df1 = pd.DataFrame({'A': ['A0', 'A1', 'A2', 'A3'],'B': ['B0', 'B1', 'B2', 'B3'],\n",
        "'C': ['C0', 'C1', 'C2', 'C3'],'D': ['D0', 'D1', 'D2', 'D3']},index=[0, 1, 2, 3])\n",
        "df2 = pd.DataFrame({'A': ['A4', 'A5', 'A6', 'A7'],'B': ['B4', 'B5', 'B6', 'B7'],\n",
        "'C': ['C4', 'C5', 'C6', 'C7'],'D': ['D4', 'D5', 'D6', 'D7']},index=[4, 5, 6, 7])\n",
        "\n",
        "frames=[df1,df2]\n",
        "dfv=pd.concat(frames, axis=0) # axis=0 por defecto\n",
        "print(df1)\n",
        "print(df2)\n",
        "print(dfv)"
      ],
      "execution_count": null,
      "outputs": [
        {
          "output_type": "stream",
          "text": [
            "    A   B   C   D\n",
            "0  A0  B0  C0  D0\n",
            "1  A1  B1  C1  D1\n",
            "2  A2  B2  C2  D2\n",
            "3  A3  B3  C3  D3\n",
            "    A   B   C   D\n",
            "4  A4  B4  C4  D4\n",
            "5  A5  B5  C5  D5\n",
            "6  A6  B6  C6  D6\n",
            "7  A7  B7  C7  D7\n",
            "    A   B   C   D\n",
            "0  A0  B0  C0  D0\n",
            "1  A1  B1  C1  D1\n",
            "2  A2  B2  C2  D2\n",
            "3  A3  B3  C3  D3\n",
            "4  A4  B4  C4  D4\n",
            "5  A5  B5  C5  D5\n",
            "6  A6  B6  C6  D6\n",
            "7  A7  B7  C7  D7\n"
          ],
          "name": "stdout"
        }
      ]
    },
    {
      "cell_type": "markdown",
      "metadata": {
        "id": "jEXI6ZHh3jp2",
        "colab_type": "text"
      },
      "source": [
        "\n",
        "---\n",
        "\n",
        "\n",
        "###Concatenación horizontal\n",
        "\n",
        "\n",
        "---\n"
      ]
    },
    {
      "cell_type": "code",
      "metadata": {
        "id": "oAcG4Rpx3hJ3",
        "colab_type": "code",
        "colab": {
          "base_uri": "https://localhost:8080/",
          "height": 272
        },
        "outputId": "e6619830-3174-4dc5-af20-4a42e4a3f8b6"
      },
      "source": [
        "df3 = pd.DataFrame({'E': ['E0', 'E1', 'E2', 'E3'],'F': ['F0', 'F1', 'F2', 'F3'],\n",
        "'G': ['G0', 'G1', 'G2', 'G3'],'H': ['H0', 'H1', 'H2', 'H3']},index=[0, 1, 2, 3])\n",
        "\n",
        "frames=[df1,df3]\n",
        "dfh=pd.concat(frames, axis=1)\n",
        "print(df1)\n",
        "print(df3)\n",
        "print(dfh)"
      ],
      "execution_count": null,
      "outputs": [
        {
          "output_type": "stream",
          "text": [
            "    A   B   C   D\n",
            "0  A0  B0  C0  D0\n",
            "1  A1  B1  C1  D1\n",
            "2  A2  B2  C2  D2\n",
            "3  A3  B3  C3  D3\n",
            "    E   F   G   H\n",
            "0  E0  F0  G0  H0\n",
            "1  E1  F1  G1  H1\n",
            "2  E2  F2  G2  H2\n",
            "3  E3  F3  G3  H3\n",
            "    A   B   C   D   E   F   G   H\n",
            "0  A0  B0  C0  D0  E0  F0  G0  H0\n",
            "1  A1  B1  C1  D1  E1  F1  G1  H1\n",
            "2  A2  B2  C2  D2  E2  F2  G2  H2\n",
            "3  A3  B3  C3  D3  E3  F3  G3  H3\n"
          ],
          "name": "stdout"
        }
      ]
    },
    {
      "cell_type": "markdown",
      "metadata": {
        "id": "a2I2oPl93yLp",
        "colab_type": "text"
      },
      "source": [
        "---\n",
        "\n",
        "\n",
        "###Inner y outer\n",
        "\n",
        "\n",
        "---\n"
      ]
    },
    {
      "cell_type": "code",
      "metadata": {
        "id": "JYID39sU3ysA",
        "colab_type": "code",
        "colab": {
          "base_uri": "https://localhost:8080/",
          "height": 340
        },
        "outputId": "42c7dd94-58e8-426b-bd7c-ffc3f000bb1b"
      },
      "source": [
        "df4 = pd.DataFrame({'A': ['A2', 'A3', 'A6', 'A7'],'C': ['C2', 'C3', 'C6', 'C7'],\n",
        "'G': ['G2', 'G3', 'C6', 'C7'],'H': ['H2', 'H2', 'D6', 'D7']},index=[2, 3, 6, 7])\n",
        "\n",
        "\n",
        "frames=[df1,df4]\n",
        "dfv=pd.concat(frames, axis=0, join='outer') #join='outer' por defecto\n",
        "print(df1)\n",
        "print(df4)\n",
        "print(dfv)"
      ],
      "execution_count": null,
      "outputs": [
        {
          "output_type": "stream",
          "text": [
            "    A   B   C   D\n",
            "0  A0  B0  C0  D0\n",
            "1  A1  B1  C1  D1\n",
            "2  A2  B2  C2  D2\n",
            "3  A3  B3  C3  D3\n",
            "    A   C   G   H\n",
            "2  A2  C2  G2  H2\n",
            "3  A3  C3  G3  H2\n",
            "6  A6  C6  C6  D6\n",
            "7  A7  C7  C7  D7\n",
            "    A    B   C    D    G    H\n",
            "0  A0   B0  C0   D0  NaN  NaN\n",
            "1  A1   B1  C1   D1  NaN  NaN\n",
            "2  A2   B2  C2   D2  NaN  NaN\n",
            "3  A3   B3  C3   D3  NaN  NaN\n",
            "2  A2  NaN  C2  NaN   G2   H2\n",
            "3  A3  NaN  C3  NaN   G3   H2\n",
            "6  A6  NaN  C6  NaN   C6   D6\n",
            "7  A7  NaN  C7  NaN   C7   D7\n"
          ],
          "name": "stdout"
        }
      ]
    },
    {
      "cell_type": "code",
      "metadata": {
        "id": "KU3XPubh6EHS",
        "colab_type": "code",
        "colab": {
          "base_uri": "https://localhost:8080/",
          "height": 225
        },
        "outputId": "beaa21cd-8c06-41f1-f7ce-e9fdb5173c42"
      },
      "source": [
        "dfh=pd.concat(frames, axis=1, join='outer') #join='outer' por defecto\n",
        "print(df1)\n",
        "print(df4)\n",
        "print(dfh)"
      ],
      "execution_count": null,
      "outputs": [
        {
          "output_type": "error",
          "ename": "NameError",
          "evalue": "ignored",
          "traceback": [
            "\u001b[0;31m---------------------------------------------------------------------------\u001b[0m",
            "\u001b[0;31mNameError\u001b[0m                                 Traceback (most recent call last)",
            "\u001b[0;32m<ipython-input-1-ca652ce697f1>\u001b[0m in \u001b[0;36m<module>\u001b[0;34m()\u001b[0m\n\u001b[0;32m----> 1\u001b[0;31m \u001b[0mdfh\u001b[0m\u001b[0;34m=\u001b[0m\u001b[0mpd\u001b[0m\u001b[0;34m.\u001b[0m\u001b[0mconcat\u001b[0m\u001b[0;34m(\u001b[0m\u001b[0mframes\u001b[0m\u001b[0;34m,\u001b[0m \u001b[0maxis\u001b[0m\u001b[0;34m=\u001b[0m\u001b[0;36m1\u001b[0m\u001b[0;34m,\u001b[0m \u001b[0mjoin\u001b[0m\u001b[0;34m=\u001b[0m\u001b[0;34m'outer'\u001b[0m\u001b[0;34m)\u001b[0m \u001b[0;31m#join='outer' por defecto\u001b[0m\u001b[0;34m\u001b[0m\u001b[0;34m\u001b[0m\u001b[0m\n\u001b[0m\u001b[1;32m      2\u001b[0m \u001b[0mprint\u001b[0m\u001b[0;34m(\u001b[0m\u001b[0mdf1\u001b[0m\u001b[0;34m)\u001b[0m\u001b[0;34m\u001b[0m\u001b[0;34m\u001b[0m\u001b[0m\n\u001b[1;32m      3\u001b[0m \u001b[0mprint\u001b[0m\u001b[0;34m(\u001b[0m\u001b[0mdf4\u001b[0m\u001b[0;34m)\u001b[0m\u001b[0;34m\u001b[0m\u001b[0;34m\u001b[0m\u001b[0m\n\u001b[1;32m      4\u001b[0m \u001b[0mprint\u001b[0m\u001b[0;34m(\u001b[0m\u001b[0mdfh\u001b[0m\u001b[0;34m)\u001b[0m\u001b[0;34m\u001b[0m\u001b[0;34m\u001b[0m\u001b[0m\n",
            "\u001b[0;31mNameError\u001b[0m: name 'pd' is not defined"
          ]
        }
      ]
    },
    {
      "cell_type": "code",
      "metadata": {
        "id": "djRU00Nj6Hwx",
        "colab_type": "code",
        "colab": {
          "base_uri": "https://localhost:8080/",
          "height": 233
        },
        "outputId": "b9c14fac-ef53-41b9-eedd-465e5e828817"
      },
      "source": [
        "frames=[df1,df4]\n",
        "dfv=pd.concat(frames, axis=0, join='inner')\n",
        "print(df1)\n",
        "print(df4)\n",
        "print(dfv)"
      ],
      "execution_count": null,
      "outputs": [
        {
          "output_type": "error",
          "ename": "NameError",
          "evalue": "ignored",
          "traceback": [
            "\u001b[0;31m---------------------------------------------------------------------------\u001b[0m",
            "\u001b[0;31mNameError\u001b[0m                                 Traceback (most recent call last)",
            "\u001b[0;32m<ipython-input-1-cbe6b99e105e>\u001b[0m in \u001b[0;36m<module>\u001b[0;34m()\u001b[0m\n\u001b[0;32m----> 1\u001b[0;31m \u001b[0mframes\u001b[0m\u001b[0;34m=\u001b[0m\u001b[0;34m[\u001b[0m\u001b[0mdf1\u001b[0m\u001b[0;34m,\u001b[0m\u001b[0mdf4\u001b[0m\u001b[0;34m]\u001b[0m\u001b[0;34m\u001b[0m\u001b[0;34m\u001b[0m\u001b[0m\n\u001b[0m\u001b[1;32m      2\u001b[0m \u001b[0mdfv\u001b[0m\u001b[0;34m=\u001b[0m\u001b[0mpd\u001b[0m\u001b[0;34m.\u001b[0m\u001b[0mconcat\u001b[0m\u001b[0;34m(\u001b[0m\u001b[0mframes\u001b[0m\u001b[0;34m,\u001b[0m \u001b[0maxis\u001b[0m\u001b[0;34m=\u001b[0m\u001b[0;36m0\u001b[0m\u001b[0;34m,\u001b[0m \u001b[0mjoin\u001b[0m\u001b[0;34m=\u001b[0m\u001b[0;34m'inner'\u001b[0m\u001b[0;34m)\u001b[0m\u001b[0;34m\u001b[0m\u001b[0;34m\u001b[0m\u001b[0m\n\u001b[1;32m      3\u001b[0m \u001b[0mprint\u001b[0m\u001b[0;34m(\u001b[0m\u001b[0mdf1\u001b[0m\u001b[0;34m)\u001b[0m\u001b[0;34m\u001b[0m\u001b[0;34m\u001b[0m\u001b[0m\n\u001b[1;32m      4\u001b[0m \u001b[0mprint\u001b[0m\u001b[0;34m(\u001b[0m\u001b[0mdf4\u001b[0m\u001b[0;34m)\u001b[0m\u001b[0;34m\u001b[0m\u001b[0;34m\u001b[0m\u001b[0m\n\u001b[1;32m      5\u001b[0m \u001b[0mprint\u001b[0m\u001b[0;34m(\u001b[0m\u001b[0mdfv\u001b[0m\u001b[0;34m)\u001b[0m\u001b[0;34m\u001b[0m\u001b[0;34m\u001b[0m\u001b[0m\n",
            "\u001b[0;31mNameError\u001b[0m: name 'df1' is not defined"
          ]
        }
      ]
    },
    {
      "cell_type": "code",
      "metadata": {
        "id": "M_xFe5q16JS-",
        "colab_type": "code",
        "colab": {}
      },
      "source": [
        "dfh=pd.concat(frames, axis=1, join='inner') \n",
        "print(df1)\n",
        "print(df4)\n",
        "print(dfh)"
      ],
      "execution_count": null,
      "outputs": []
    },
    {
      "cell_type": "markdown",
      "metadata": {
        "id": "ffKPvgAy4TkK",
        "colab_type": "text"
      },
      "source": [
        "---\n",
        "\n",
        "\n",
        "###Keys\n",
        "\n",
        "\n",
        "---\n"
      ]
    },
    {
      "cell_type": "code",
      "metadata": {
        "id": "7S2qWhc64R1w",
        "colab_type": "code",
        "colab": {
          "base_uri": "https://localhost:8080/",
          "height": 693
        },
        "outputId": "8aab7df7-2d21-45ae-db58-275241d293bf"
      },
      "source": [
        "\n",
        "dfv = pd.concat([df1, df2], axis=0,  keys=['s1', 's2'])\n",
        "print(df1)\n",
        "print(df2)\n",
        "print(dfv)\n",
        "\n",
        "dfh = pd.concat([df1, df2], axis=1, keys=['s1', 's2'])\n",
        "print(df1)\n",
        "print(df2)\n",
        "print(dfh)"
      ],
      "execution_count": null,
      "outputs": [
        {
          "output_type": "stream",
          "text": [
            "    A   B   C   D\n",
            "0  A0  B0  C0  D0\n",
            "1  A1  B1  C1  D1\n",
            "2  A2  B2  C2  D2\n",
            "3  A3  B3  C3  D3\n",
            "    A   B   C   D\n",
            "4  A4  B4  C4  D4\n",
            "5  A5  B5  C5  D5\n",
            "6  A6  B6  C6  D6\n",
            "7  A7  B7  C7  D7\n",
            "       A   B   C   D\n",
            "s1 0  A0  B0  C0  D0\n",
            "   1  A1  B1  C1  D1\n",
            "   2  A2  B2  C2  D2\n",
            "   3  A3  B3  C3  D3\n",
            "s2 4  A4  B4  C4  D4\n",
            "   5  A5  B5  C5  D5\n",
            "   6  A6  B6  C6  D6\n",
            "   7  A7  B7  C7  D7\n",
            "    A   B   C   D\n",
            "0  A0  B0  C0  D0\n",
            "1  A1  B1  C1  D1\n",
            "2  A2  B2  C2  D2\n",
            "3  A3  B3  C3  D3\n",
            "    A   B   C   D\n",
            "4  A4  B4  C4  D4\n",
            "5  A5  B5  C5  D5\n",
            "6  A6  B6  C6  D6\n",
            "7  A7  B7  C7  D7\n",
            "    s1                  s2               \n",
            "     A    B    C    D    A    B    C    D\n",
            "0   A0   B0   C0   D0  NaN  NaN  NaN  NaN\n",
            "1   A1   B1   C1   D1  NaN  NaN  NaN  NaN\n",
            "2   A2   B2   C2   D2  NaN  NaN  NaN  NaN\n",
            "3   A3   B3   C3   D3  NaN  NaN  NaN  NaN\n",
            "4  NaN  NaN  NaN  NaN   A4   B4   C4   D4\n",
            "5  NaN  NaN  NaN  NaN   A5   B5   C5   D5\n",
            "6  NaN  NaN  NaN  NaN   A6   B6   C6   D6\n",
            "7  NaN  NaN  NaN  NaN   A7   B7   C7   D7\n"
          ],
          "name": "stdout"
        }
      ]
    },
    {
      "cell_type": "markdown",
      "metadata": {
        "id": "eaQ_wmVx5OVy",
        "colab_type": "text"
      },
      "source": [
        "---\n",
        "\n",
        "\n",
        "###Ignore index\n",
        "\n",
        "\n",
        "---\n"
      ]
    },
    {
      "cell_type": "code",
      "metadata": {
        "id": "XKXKvSUY4dBp",
        "colab_type": "code",
        "colab": {
          "base_uri": "https://localhost:8080/",
          "height": 641
        },
        "outputId": "1e587028-e918-401a-ee10-efe152923bed"
      },
      "source": [
        "dfV = pd.concat([df1, df4], axis=0, ignore_index = True)\n",
        "print(df1)\n",
        "print(df4)\n",
        "print(dfV)\n",
        "\n",
        "dfh = pd.concat([df1, df4], axis=1, ignore_index = True)\n",
        "print(df1)\n",
        "print(df4)\n",
        "print(dfh)"
      ],
      "execution_count": null,
      "outputs": [
        {
          "output_type": "stream",
          "text": [
            "    A   B   C   D\n",
            "0  A0  B0  C0  D0\n",
            "1  A1  B1  C1  D1\n",
            "2  A2  B2  C2  D2\n",
            "3  A3  B3  C3  D3\n",
            "    A   C   G   H\n",
            "2  A2  C2  G2  H2\n",
            "3  A3  C3  G3  H2\n",
            "6  A6  C6  C6  D6\n",
            "7  A7  C7  C7  D7\n",
            "    A    B   C    D    G    H\n",
            "0  A0   B0  C0   D0  NaN  NaN\n",
            "1  A1   B1  C1   D1  NaN  NaN\n",
            "2  A2   B2  C2   D2  NaN  NaN\n",
            "3  A3   B3  C3   D3  NaN  NaN\n",
            "4  A2  NaN  C2  NaN   G2   H2\n",
            "5  A3  NaN  C3  NaN   G3   H2\n",
            "6  A6  NaN  C6  NaN   C6   D6\n",
            "7  A7  NaN  C7  NaN   C7   D7\n",
            "    A   B   C   D\n",
            "0  A0  B0  C0  D0\n",
            "1  A1  B1  C1  D1\n",
            "2  A2  B2  C2  D2\n",
            "3  A3  B3  C3  D3\n",
            "    A   C   G   H\n",
            "2  A2  C2  G2  H2\n",
            "3  A3  C3  G3  H2\n",
            "6  A6  C6  C6  D6\n",
            "7  A7  C7  C7  D7\n",
            "     0    1    2    3    4    5    6    7\n",
            "0   A0   B0   C0   D0  NaN  NaN  NaN  NaN\n",
            "1   A1   B1   C1   D1  NaN  NaN  NaN  NaN\n",
            "2   A2   B2   C2   D2   A2   C2   G2   H2\n",
            "3   A3   B3   C3   D3   A3   C3   G3   H2\n",
            "6  NaN  NaN  NaN  NaN   A6   C6   C6   D6\n",
            "7  NaN  NaN  NaN  NaN   A7   C7   C7   D7\n"
          ],
          "name": "stdout"
        }
      ]
    },
    {
      "cell_type": "markdown",
      "metadata": {
        "id": "V0adrF4P5Uyr",
        "colab_type": "text"
      },
      "source": [
        "---\n",
        "\n",
        "\n",
        "###Concatenando con Append\n",
        "\n",
        "\n",
        "---\n"
      ]
    },
    {
      "cell_type": "code",
      "metadata": {
        "id": "YArI7tzA5VK0",
        "colab_type": "code",
        "colab": {
          "base_uri": "https://localhost:8080/",
          "height": 676
        },
        "outputId": "c3fa5e18-8642-461c-978e-5b75f576f269"
      },
      "source": [
        "dfv=df1.append(df4)\n",
        "print(df1)\n",
        "print(df4)\n",
        "print(dfv)\n",
        "\n",
        "dfv=df1.append(df4, ignore_index=True)\n",
        "print(df1)\n",
        "print(df4)\n",
        "print(dfv)"
      ],
      "execution_count": null,
      "outputs": [
        {
          "output_type": "stream",
          "text": [
            "    A   B   C   D\n",
            "0  A0  B0  C0  D0\n",
            "1  A1  B1  C1  D1\n",
            "2  A2  B2  C2  D2\n",
            "3  A3  B3  C3  D3\n",
            "    A   C   G   H\n",
            "2  A2  C2  G2  H2\n",
            "3  A3  C3  G3  H2\n",
            "6  A6  C6  C6  D6\n",
            "7  A7  C7  C7  D7\n",
            "    A    B   C    D    G    H\n",
            "0  A0   B0  C0   D0  NaN  NaN\n",
            "1  A1   B1  C1   D1  NaN  NaN\n",
            "2  A2   B2  C2   D2  NaN  NaN\n",
            "3  A3   B3  C3   D3  NaN  NaN\n",
            "2  A2  NaN  C2  NaN   G2   H2\n",
            "3  A3  NaN  C3  NaN   G3   H2\n",
            "6  A6  NaN  C6  NaN   C6   D6\n",
            "7  A7  NaN  C7  NaN   C7   D7\n",
            "    A   B   C   D\n",
            "0  A0  B0  C0  D0\n",
            "1  A1  B1  C1  D1\n",
            "2  A2  B2  C2  D2\n",
            "3  A3  B3  C3  D3\n",
            "    A   C   G   H\n",
            "2  A2  C2  G2  H2\n",
            "3  A3  C3  G3  H2\n",
            "6  A6  C6  C6  D6\n",
            "7  A7  C7  C7  D7\n",
            "    A    B   C    D    G    H\n",
            "0  A0   B0  C0   D0  NaN  NaN\n",
            "1  A1   B1  C1   D1  NaN  NaN\n",
            "2  A2   B2  C2   D2  NaN  NaN\n",
            "3  A3   B3  C3   D3  NaN  NaN\n",
            "4  A2  NaN  C2  NaN   G2   H2\n",
            "5  A3  NaN  C3  NaN   G3   H2\n",
            "6  A6  NaN  C6  NaN   C6   D6\n",
            "7  A7  NaN  C7  NaN   C7   D7\n"
          ],
          "name": "stdout"
        }
      ]
    },
    {
      "cell_type": "markdown",
      "metadata": {
        "id": "671pYuhRm_wu",
        "colab_type": "text"
      },
      "source": [
        "\n",
        "\n",
        "---\n",
        "\n",
        "\n",
        "###Tarea\n",
        "\n",
        "\n",
        "---\n",
        "\n"
      ]
    },
    {
      "cell_type": "markdown",
      "metadata": {
        "id": "iWKLojEknJdG",
        "colab_type": "text"
      },
      "source": [
        "Consultar y realizar ejemplos de Merge"
      ]
    }
  ]
}