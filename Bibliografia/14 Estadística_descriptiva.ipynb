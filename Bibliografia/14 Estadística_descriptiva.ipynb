{
  "nbformat": 4,
  "nbformat_minor": 0,
  "metadata": {
    "colab": {
      "name": "Estadística descriptiva.ipynb",
      "provenance": [],
      "collapsed_sections": [
        "KE9_7Xu9JcJx",
        "9Ywx6qOTMqSA",
        "5kuAh8sOR31t"
      ]
    },
    "kernelspec": {
      "name": "python3",
      "display_name": "Python 3"
    }
  },
  "cells": [
    {
      "cell_type": "markdown",
      "metadata": {
        "id": "PKoiNkaQECAt",
        "colab_type": "text"
      },
      "source": [
        "# ESTADÍSTICA DESCRIPTIVA\n",
        "\n",
        "\n",
        "\n",
        "* Distribución\n",
        "* Tendencia central\n",
        "* Dispersión \n",
        "* Relación entre variables\n",
        "\n",
        "\n",
        "\n",
        "\n"
      ]
    },
    {
      "cell_type": "markdown",
      "metadata": {
        "id": "Ar2O2TiyEUUt",
        "colab_type": "text"
      },
      "source": [
        "\n",
        "\n",
        "---\n",
        "\n",
        "\n",
        "###DISTRIBUCCIÓN\n",
        "\n",
        "\n",
        "---\n",
        "* Histograma\n",
        "* Diagrama de cajas\n"
      ]
    },
    {
      "cell_type": "code",
      "metadata": {
        "id": "slLuoPxmgvJb",
        "colab_type": "code",
        "colab": {
          "base_uri": "https://localhost:8080/",
          "height": 281
        },
        "outputId": "5881122c-efa7-4048-de26-bc48bd7802ab"
      },
      "source": [
        "from matplotlib import pyplot as plt \n",
        "import numpy as np  \n",
        "   \n",
        "edades = np.array([22,87,5,43,56,73,55,54,11,20,51,5,79,31,27,11,3,5]) \n",
        "plt.hist(edades, bins = range(100)) \n",
        "plt.title(\"histogram\") \n",
        "plt.show()\n"
      ],
      "execution_count": null,
      "outputs": [
        {
          "output_type": "display_data",
          "data": {
            "image/png": "[encoded data removed]",
            "text/plain": [
              "<Figure size 432x288 with 1 Axes>"
            ]
          },
          "metadata": {
            "tags": [],
            "needs_background": "light"
          }
        }
      ]
    },
    {
      "cell_type": "code",
      "metadata": {
        "id": "RKymb6ScI2kM",
        "colab_type": "code",
        "colab": {
          "base_uri": "https://localhost:8080/",
          "height": 420
        },
        "outputId": "4cebf285-8e3d-4d9a-9063-93bb6571abfe"
      },
      "source": [
        "import numpy as np\n",
        "import matplotlib.pyplot as plt\n",
        "\n",
        "# Fixing random state for reproducibility\n",
        "np.random.seed(19680801)\n",
        "\n",
        "# fake up some data\n",
        "spread = np.random.rand(50) * 100\n",
        "center = np.ones(25) * 50\n",
        "flier_high = np.random.rand(10) * 100 + 100\n",
        "flier_low = np.random.rand(10) * -100\n",
        "data = np.concatenate((spread, center,flier_high, flier_low))\n",
        "fig1, ax1 = plt.subplots()\n",
        "ax1.set_title('Basic Plot')\n",
        "ax1.boxplot(data)"
      ],
      "execution_count": null,
      "outputs": [
        {
          "output_type": "execute_result",
          "data": {
            "text/plain": [
              "{'boxes': [<matplotlib.lines.Line2D at 0x7f5067c12358>],\n",
              " 'caps': [<matplotlib.lines.Line2D at 0x7f5067c12d68>,\n",
              "  <matplotlib.lines.Line2D at 0x7f5067c25128>],\n",
              " 'fliers': [<matplotlib.lines.Line2D at 0x7f5067c25828>],\n",
              " 'means': [],\n",
              " 'medians': [<matplotlib.lines.Line2D at 0x7f5067c254a8>],\n",
              " 'whiskers': [<matplotlib.lines.Line2D at 0x7f5067c12668>,\n",
              "  <matplotlib.lines.Line2D at 0x7f5067c129e8>]}"
            ]
          },
          "metadata": {
            "tags": []
          },
          "execution_count": 8
        },
        {
          "output_type": "display_data",
          "data": {
            "image/png": "[encoded data removed]",
            "text/plain": [
              "<Figure size 432x288 with 1 Axes>"
            ]
          },
          "metadata": {
            "tags": [],
            "needs_background": "light"
          }
        }
      ]
    },
    {
      "cell_type": "markdown",
      "metadata": {
        "id": "KE9_7Xu9JcJx",
        "colab_type": "text"
      },
      "source": [
        "\n",
        "\n",
        "---\n",
        "### TENDENCIA CENTRAL\n",
        "\n",
        "\n",
        "---\n",
        "\n",
        "* Media\n",
        "* Mediana\n",
        "* Moda\n"
      ]
    },
    {
      "cell_type": "code",
      "metadata": {
        "id": "f-CDy-mjJuhJ",
        "colab_type": "code",
        "colab": {
          "base_uri": "https://localhost:8080/",
          "height": 35
        },
        "outputId": "387cc5b3-d151-4025-fee2-0b03504f905c"
      },
      "source": [
        "import statistics as st\n",
        "st.mean([2,3,5,7,9,12])"
      ],
      "execution_count": null,
      "outputs": [
        {
          "output_type": "execute_result",
          "data": {
            "text/plain": [
              "6.333333333333333"
            ]
          },
          "metadata": {
            "tags": []
          },
          "execution_count": 4
        }
      ]
    },
    {
      "cell_type": "code",
      "metadata": {
        "id": "IqFrggAdJykJ",
        "colab_type": "code",
        "colab": {
          "base_uri": "https://localhost:8080/",
          "height": 35
        },
        "outputId": "e89ea9e9-1045-4781-b1e1-db27d7563b82"
      },
      "source": [
        "st.median([2,3,5,7,9,12,30])"
      ],
      "execution_count": null,
      "outputs": [
        {
          "output_type": "execute_result",
          "data": {
            "text/plain": [
              "7"
            ]
          },
          "metadata": {
            "tags": []
          },
          "execution_count": 9
        }
      ]
    },
    {
      "cell_type": "code",
      "metadata": {
        "id": "TtPGNwggaobp",
        "colab_type": "code",
        "colab": {
          "base_uri": "https://localhost:8080/",
          "height": 35
        },
        "outputId": "7e0b757f-24ee-47a5-e0e2-9baa61c5a407"
      },
      "source": [
        "st.median([5,30,2,12,9,7,3])"
      ],
      "execution_count": null,
      "outputs": [
        {
          "output_type": "execute_result",
          "data": {
            "text/plain": [
              "7"
            ]
          },
          "metadata": {
            "tags": []
          },
          "execution_count": 10
        }
      ]
    },
    {
      "cell_type": "code",
      "metadata": {
        "id": "tbH_q68UKcoO",
        "colab_type": "code",
        "colab": {
          "base_uri": "https://localhost:8080/",
          "height": 35
        },
        "outputId": "901edcb7-e1fd-4fe1-efd3-58bade7de81d"
      },
      "source": [
        "st.median([2,2,3,5,7,9,12,30])"
      ],
      "execution_count": null,
      "outputs": [
        {
          "output_type": "execute_result",
          "data": {
            "text/plain": [
              "6.0"
            ]
          },
          "metadata": {
            "tags": []
          },
          "execution_count": 27
        }
      ]
    },
    {
      "cell_type": "code",
      "metadata": {
        "id": "e5uDer6NKmJ-",
        "colab_type": "code",
        "colab": {
          "base_uri": "https://localhost:8080/",
          "height": 35
        },
        "outputId": "30ab0be7-bc22-4abc-b7f3-9ff86b0ee0b6"
      },
      "source": [
        "st.median_grouped([1, 2, 2, 3, 4, 4, 4, 4, 4, 5])"
      ],
      "execution_count": null,
      "outputs": [
        {
          "output_type": "execute_result",
          "data": {
            "text/plain": [
              "3.7"
            ]
          },
          "metadata": {
            "tags": []
          },
          "execution_count": 28
        }
      ]
    },
    {
      "cell_type": "code",
      "metadata": {
        "id": "G8ZfxcoVKqXc",
        "colab_type": "code",
        "colab": {
          "base_uri": "https://localhost:8080/",
          "height": 35
        },
        "outputId": "361b835f-4e23-4dc3-c7d6-c4cc450d346b"
      },
      "source": [
        "st.mode([1, 2, 2, 3, 4, 4, 4, 4, 4, 5])"
      ],
      "execution_count": null,
      "outputs": [
        {
          "output_type": "execute_result",
          "data": {
            "text/plain": [
              "4"
            ]
          },
          "metadata": {
            "tags": []
          },
          "execution_count": 11
        }
      ]
    },
    {
      "cell_type": "markdown",
      "metadata": {
        "id": "9Ywx6qOTMqSA",
        "colab_type": "text"
      },
      "source": [
        "\n",
        "\n",
        "---\n",
        "### DISPERSIÓN\n",
        "\n",
        "\n",
        "---\n",
        "\n",
        "* Rango\n",
        "* Varianza\n",
        "* Desviación estándar"
      ]
    },
    {
      "cell_type": "code",
      "metadata": {
        "id": "QDRcfsq7M0sD",
        "colab_type": "code",
        "colab": {
          "base_uri": "https://localhost:8080/",
          "height": 35
        },
        "outputId": "4c5b41fc-a00b-40b8-e884-439af77dbf96"
      },
      "source": [
        "def data_range(x): \n",
        "    return max(x) - min(x)\n",
        "\n",
        "edades = np.array([22,87,5,43,56,73,55,54,11,20,51,5,79,31,27,11,3,5])\n",
        "data_range(edades)"
      ],
      "execution_count": null,
      "outputs": [
        {
          "output_type": "execute_result",
          "data": {
            "text/plain": [
              "84"
            ]
          },
          "metadata": {
            "tags": []
          },
          "execution_count": 12
        }
      ]
    },
    {
      "cell_type": "code",
      "metadata": {
        "id": "dxlFUh7MNblO",
        "colab_type": "code",
        "colab": {
          "base_uri": "https://localhost:8080/",
          "height": 35
        },
        "outputId": "782494f9-1e1e-43c0-d453-66d76ddf8369"
      },
      "source": [
        "st.pvariance([20, 22, 22, 23, 24])"
      ],
      "execution_count": null,
      "outputs": [
        {
          "output_type": "execute_result",
          "data": {
            "text/plain": [
              "1.76"
            ]
          },
          "metadata": {
            "tags": []
          },
          "execution_count": 13
        }
      ]
    },
    {
      "cell_type": "code",
      "metadata": {
        "id": "KAif6UPLNq3D",
        "colab_type": "code",
        "colab": {
          "base_uri": "https://localhost:8080/",
          "height": 35
        },
        "outputId": "d8354487-156a-4167-f151-1cc44e6341d4"
      },
      "source": [
        "st.variance([20, 22, 22, 23, 24])"
      ],
      "execution_count": null,
      "outputs": [
        {
          "output_type": "execute_result",
          "data": {
            "text/plain": [
              "2.2"
            ]
          },
          "metadata": {
            "tags": []
          },
          "execution_count": 14
        }
      ]
    },
    {
      "cell_type": "code",
      "metadata": {
        "id": "PE7CYb8ZPHI6",
        "colab_type": "code",
        "colab": {
          "base_uri": "https://localhost:8080/",
          "height": 35
        },
        "outputId": "6c5e87e9-dbe3-4ad1-de95-cf6457169b83"
      },
      "source": [
        "np.std([20, 22, 22, 23, 24])"
      ],
      "execution_count": null,
      "outputs": [
        {
          "output_type": "execute_result",
          "data": {
            "text/plain": [
              "1.32664991614216"
            ]
          },
          "metadata": {
            "tags": []
          },
          "execution_count": 15
        }
      ]
    },
    {
      "cell_type": "markdown",
      "metadata": {
        "id": "5kuAh8sOR31t",
        "colab_type": "text"
      },
      "source": [
        "\n",
        "\n",
        "---\n",
        "###RELACIÓN ENTRE VARIABLES\n",
        "\n",
        "\n",
        "---\n",
        "* Covarianza\n",
        "* Correlación\n",
        "\n"
      ]
    },
    {
      "cell_type": "code",
      "metadata": {
        "id": "BGQOxsmRSB_B",
        "colab_type": "code",
        "colab": {
          "base_uri": "https://localhost:8080/",
          "height": 156
        },
        "outputId": "e8e15fb0-b3f9-4e1b-9622-ba7959e400d3"
      },
      "source": [
        "x = [-2.1, -1,  4.3, 3]\n",
        "y = [3,  1.1,  0.12, 0.9]\n",
        "\n",
        "print(st.variance(x))\n",
        "print(st.variance(y))\n",
        "print(np.cov(x,y))\n",
        "print(st.pvariance(x))\n",
        "print(st.pvariance(y))\n",
        "print(np.cov(x, y, bias=True))"
      ],
      "execution_count": null,
      "outputs": [
        {
          "output_type": "stream",
          "text": [
            "9.496666666666666\n",
            "1.4936\n",
            "[[ 9.49666667 -3.18666667]\n",
            " [-3.18666667  1.4936    ]]\n",
            "7.1225\n",
            "1.1202\n",
            "[[ 7.1225 -2.39  ]\n",
            " [-2.39    1.1202]]\n"
          ],
          "name": "stdout"
        }
      ]
    },
    {
      "cell_type": "code",
      "metadata": {
        "id": "c6VJYIQNTgza",
        "colab_type": "code",
        "colab": {
          "base_uri": "https://localhost:8080/",
          "height": 52
        },
        "outputId": "91412d7b-e3ba-45aa-e76c-0e96a453904e"
      },
      "source": [
        "np.corrcoef(x, y)"
      ],
      "execution_count": null,
      "outputs": [
        {
          "output_type": "execute_result",
          "data": {
            "text/plain": [
              "array([[ 1.        , -0.84612375],\n",
              "       [-0.84612375,  1.        ]])"
            ]
          },
          "metadata": {
            "tags": []
          },
          "execution_count": 35
        }
      ]
    },
    {
      "cell_type": "code",
      "metadata": {
        "id": "uM66AA7eTv3i",
        "colab_type": "code",
        "colab": {
          "base_uri": "https://localhost:8080/",
          "height": 35
        },
        "outputId": "a7b6a48a-4861-4ca5-a48f-67f7bf5ec5a0"
      },
      "source": [
        "from scipy import stats\n",
        "stats.pearsonr(x, y)"
      ],
      "execution_count": null,
      "outputs": [
        {
          "output_type": "execute_result",
          "data": {
            "text/plain": [
              "(-0.8461237545091677, 0.15387624549083234)"
            ]
          },
          "metadata": {
            "tags": []
          },
          "execution_count": 36
        }
      ]
    }
  ]
}