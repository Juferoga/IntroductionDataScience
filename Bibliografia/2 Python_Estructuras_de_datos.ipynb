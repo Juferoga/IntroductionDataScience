{
  "nbformat": 4,
  "nbformat_minor": 0,
  "metadata": {
    "colab": {
      "name": "Python: Estructuras de datos.ipynb",
      "provenance": []
    },
    "kernelspec": {
      "name": "python3",
      "display_name": "Python 3"
    }
  },
  "cells": [
    {
      "cell_type": "markdown",
      "metadata": {
        "id": "Khmp9aYaJbb6",
        "colab_type": "text"
      },
      "source": [
        "#ESTRUCTURAS DE DATOS\n",
        "\n",
        "\n",
        "*   Listas\n",
        "*   Tuplas\n",
        "*   Sets\n",
        "*   Diccionarios\n",
        "\n",
        "\n",
        "\n",
        "\n"
      ]
    },
    {
      "cell_type": "markdown",
      "metadata": {
        "id": "dBAEME0dKqia",
        "colab_type": "text"
      },
      "source": [
        "\n",
        "\n",
        "---\n",
        "\n",
        "\n",
        "###LISTAS\n",
        "\n",
        "\n",
        "---\n",
        "\n"
      ]
    },
    {
      "cell_type": "markdown",
      "metadata": {
        "id": "iJOizY-YPA4G",
        "colab_type": "text"
      },
      "source": [
        "Construcción de Listas"
      ]
    },
    {
      "cell_type": "code",
      "metadata": {
        "id": "l1MZo_-MLVb3",
        "colab_type": "code",
        "colab": {}
      },
      "source": [
        "Primos = [2, 3, 5, 7, 11, 13, 17, 19]\n",
        "print(type(Primos))\n",
        "Temperaturas = [5.5, 6.3, 9.6, 10, 12.4, 14.7, 18, 20.2]\n",
        "print(type(Temperaturas))\n",
        "Nombres = ['Pedro Perez', 'Nelson Vera', 'Carlos Montenegro']\n",
        "print(type(Nombres))\n",
        "Mezcla = [3, 40, 'Hola', 30.5, True, 2+5j]\n",
        "print(type(Mezcla))\n",
        "print(type(Mezcla[2]))\n",
        "print(type(Mezcla[5]))\n"
      ],
      "execution_count": 0,
      "outputs": []
    },
    {
      "cell_type": "markdown",
      "metadata": {
        "id": "tJTvNwNUP988",
        "colab_type": "text"
      },
      "source": [
        "Indexación de Listas"
      ]
    },
    {
      "cell_type": "code",
      "metadata": {
        "id": "WUdSngYaQDQ9",
        "colab_type": "code",
        "colab": {}
      },
      "source": [
        "print(Primos)\n",
        "print(Primos[4:])\n",
        "print(Primos[:6])\n",
        "print(Primos[4:6])\n",
        "print(Primos[-7:-2])\n",
        "\n"
      ],
      "execution_count": 0,
      "outputs": []
    },
    {
      "cell_type": "markdown",
      "metadata": {
        "id": "Q7Ud85TLQRO4",
        "colab_type": "text"
      },
      "source": [
        "Operaciones básicas con Listas"
      ]
    },
    {
      "cell_type": "code",
      "metadata": {
        "id": "S5iT5n6vQmpB",
        "colab_type": "code",
        "colab": {}
      },
      "source": [
        "print(Primos + Temperaturas)\n",
        "print(Primos*3)\n",
        "len(Temperaturas)"
      ],
      "execution_count": 0,
      "outputs": []
    },
    {
      "cell_type": "markdown",
      "metadata": {
        "id": "Bz7lEuESS5tc",
        "colab_type": "text"
      },
      "source": [
        "Métodos de Listas"
      ]
    },
    {
      "cell_type": "code",
      "metadata": {
        "id": "qC5auA9fS-4O",
        "colab_type": "code",
        "colab": {}
      },
      "source": [
        "Nombres.append('Manuel Cifuentes')\n",
        "print(Nombres)"
      ],
      "execution_count": 0,
      "outputs": []
    },
    {
      "cell_type": "code",
      "metadata": {
        "id": "2Z5yFLtwUKfU",
        "colab_type": "code",
        "colab": {}
      },
      "source": [
        "Mezcla.extend(Primos)\n",
        "Mezcla.extend(Nombres)\n",
        "print(Mezcla)\n",
        "Mezcla.extend('Hola Mundo')\n",
        "print(Mezcla)"
      ],
      "execution_count": 0,
      "outputs": []
    },
    {
      "cell_type": "code",
      "metadata": {
        "id": "J8IFM4j3VAcc",
        "colab_type": "code",
        "colab": {}
      },
      "source": [
        "print(Mezcla)\n",
        "Mezcla.insert(3, 'Mundo')\n",
        "print(Mezcla)"
      ],
      "execution_count": 0,
      "outputs": []
    },
    {
      "cell_type": "code",
      "metadata": {
        "id": "Tl79BK3-XFo4",
        "colab_type": "code",
        "colab": {}
      },
      "source": [
        "Mezcla.remove('Mundo')\n",
        "print(Mezcla)"
      ],
      "execution_count": 0,
      "outputs": []
    },
    {
      "cell_type": "code",
      "metadata": {
        "id": "3mbkCxzKXI5c",
        "colab_type": "code",
        "colab": {}
      },
      "source": [
        "print(Mezcla)\n",
        "print(Mezcla.pop())\n",
        "print(Mezcla)\n",
        "print(Mezcla.pop(2))\n",
        "print(Mezcla)"
      ],
      "execution_count": 0,
      "outputs": []
    },
    {
      "cell_type": "code",
      "metadata": {
        "id": "I6nB58VOXMgz",
        "colab_type": "code",
        "colab": {}
      },
      "source": [
        "print(Mezcla)\n",
        "Mezcla.count(3)"
      ],
      "execution_count": 0,
      "outputs": []
    },
    {
      "cell_type": "code",
      "metadata": {
        "id": "JStmiDxaXVAt",
        "colab_type": "code",
        "colab": {}
      },
      "source": [
        "print(Temperaturas)\n",
        "Temperaturas.reverse()\n",
        "print(Temperaturas)"
      ],
      "execution_count": 0,
      "outputs": []
    },
    {
      "cell_type": "code",
      "metadata": {
        "id": "2_EcemCRXXcm",
        "colab_type": "code",
        "colab": {}
      },
      "source": [
        "print(Nombres)\n",
        "Nombres.sort()\n",
        "print(Nombres)\n",
        "print(Temperaturas)\n",
        "Temperaturas.sort()\n",
        "print(Temperaturas)"
      ],
      "execution_count": 0,
      "outputs": []
    },
    {
      "cell_type": "code",
      "metadata": {
        "id": "RuEasNqfXaH-",
        "colab_type": "code",
        "outputId": "90d4e7c0-330d-4e64-b96c-19eee4c7935c",
        "colab": {
          "base_uri": "https://localhost:8080/",
          "height": 52
        }
      },
      "source": [
        "print(Temperaturas)\n",
        "Temperaturas.index(12.4)"
      ],
      "execution_count": 0,
      "outputs": [
        {
          "output_type": "stream",
          "text": [
            "[5.5, 6.3, 9.6, 10, 12.4, 14.7, 18, 20.2]\n"
          ],
          "name": "stdout"
        },
        {
          "output_type": "execute_result",
          "data": {
            "text/plain": [
              "4"
            ]
          },
          "metadata": {
            "tags": []
          },
          "execution_count": 10
        }
      ]
    },
    {
      "cell_type": "code",
      "metadata": {
        "id": "3xAuTSCzXdLe",
        "colab_type": "code",
        "outputId": "966af349-3be4-4177-f1b6-fc77b953e345",
        "colab": {
          "base_uri": "https://localhost:8080/",
          "height": 35
        }
      },
      "source": [
        "Temperaturas.index(12.4,2,7)"
      ],
      "execution_count": 0,
      "outputs": [
        {
          "output_type": "execute_result",
          "data": {
            "text/plain": [
              "4"
            ]
          },
          "metadata": {
            "tags": []
          },
          "execution_count": 11
        }
      ]
    },
    {
      "cell_type": "code",
      "metadata": {
        "id": "GtIh2y4vXeiZ",
        "colab_type": "code",
        "colab": {}
      },
      "source": [
        "Temperaturas.index(12.4,1,3)"
      ],
      "execution_count": 0,
      "outputs": []
    },
    {
      "cell_type": "markdown",
      "metadata": {
        "id": "i787ScygaP6x",
        "colab_type": "text"
      },
      "source": [
        "\n",
        "\n",
        "---\n",
        "\n",
        "\n",
        "###TUPLAS\n",
        "\n",
        "\n",
        "---\n",
        "\n"
      ]
    },
    {
      "cell_type": "markdown",
      "metadata": {
        "id": "gNzH1gc9aVyo",
        "colab_type": "text"
      },
      "source": [
        "Construcción de Tuplas"
      ]
    },
    {
      "cell_type": "code",
      "metadata": {
        "id": "4xT3M8dYasg3",
        "colab_type": "code",
        "outputId": "2a799da9-5bcc-4b29-ffdc-ea1dee451e42",
        "colab": {
          "base_uri": "https://localhost:8080/",
          "height": 52
        }
      },
      "source": [
        "T = 40, 32, 10.5, 'Hola', 'Mundo'\n",
        "L = [40, 32, 10.5, 'Hola', 'Mundo']\n",
        "print(type(T))\n",
        "print(type(L))"
      ],
      "execution_count": 0,
      "outputs": [
        {
          "output_type": "stream",
          "text": [
            "<class 'tuple'>\n",
            "<class 'list'>\n"
          ],
          "name": "stdout"
        }
      ]
    },
    {
      "cell_type": "code",
      "metadata": {
        "id": "pBj_wGhQvsFY",
        "colab_type": "code",
        "outputId": "12e4048b-3a46-498e-b7c3-8e0ad782f3e9",
        "colab": {
          "base_uri": "https://localhost:8080/",
          "height": 35
        }
      },
      "source": [
        "r=list(T)\n",
        "type(r)"
      ],
      "execution_count": 0,
      "outputs": [
        {
          "output_type": "execute_result",
          "data": {
            "text/plain": [
              "list"
            ]
          },
          "metadata": {
            "tags": []
          },
          "execution_count": 14
        }
      ]
    },
    {
      "cell_type": "markdown",
      "metadata": {
        "id": "ay1zmx0obL6U",
        "colab_type": "text"
      },
      "source": [
        "Las Tuplas son inmutables"
      ]
    },
    {
      "cell_type": "code",
      "metadata": {
        "id": "VisqMasFdf6w",
        "colab_type": "code",
        "outputId": "d7e3952d-6fa6-43b4-afe6-a9a8c6c0d958",
        "colab": {
          "base_uri": "https://localhost:8080/",
          "height": 35
        }
      },
      "source": [
        "L[4]='Todos'\n",
        "print(L)"
      ],
      "execution_count": 0,
      "outputs": [
        {
          "output_type": "stream",
          "text": [
            "[40, 32, 10.5, 'Hola', 'Todos']\n"
          ],
          "name": "stdout"
        }
      ]
    },
    {
      "cell_type": "code",
      "metadata": {
        "id": "KT8cp6J_dzOW",
        "colab_type": "code",
        "colab": {}
      },
      "source": [
        "T[4]='Todos'"
      ],
      "execution_count": 0,
      "outputs": []
    },
    {
      "cell_type": "markdown",
      "metadata": {
        "id": "UmA_x0tLd6F3",
        "colab_type": "text"
      },
      "source": [
        "\n",
        "\n",
        "---\n",
        "\n",
        "###SETS\n",
        "\n",
        "---\n",
        "Elimina elementos repetidos - No importa el orden\n"
      ]
    },
    {
      "cell_type": "markdown",
      "metadata": {
        "id": "dWN5IeD2fuvW",
        "colab_type": "text"
      },
      "source": [
        "Construcción de Sets"
      ]
    },
    {
      "cell_type": "code",
      "metadata": {
        "id": "9KYJ80sKf0qY",
        "colab_type": "code",
        "outputId": "9375c517-6ba7-4a59-9a97-ee9f05302614",
        "colab": {
          "base_uri": "https://localhost:8080/",
          "height": 35
        }
      },
      "source": [
        "Frutas = {'Naranja', 'Manzana', 'Piña', 'Durazno', 'Manzana'}\n",
        "print(Frutas)"
      ],
      "execution_count": 0,
      "outputs": [
        {
          "output_type": "stream",
          "text": [
            "{'Manzana', 'Naranja', 'Piña', 'Durazno'}\n"
          ],
          "name": "stdout"
        }
      ]
    },
    {
      "cell_type": "markdown",
      "metadata": {
        "id": "XrYJAxolFEft",
        "colab_type": "text"
      },
      "source": [
        "Conversión a Sets"
      ]
    },
    {
      "cell_type": "code",
      "metadata": {
        "id": "8KEe2pNlFFWF",
        "colab_type": "code",
        "colab": {}
      },
      "source": [
        "S = set('manzanas')\n",
        "print(S)\n",
        "E = set('duraznos')\n",
        "print(E)"
      ],
      "execution_count": 0,
      "outputs": []
    },
    {
      "cell_type": "markdown",
      "metadata": {
        "id": "0XA6SCM-FepK",
        "colab_type": "text"
      },
      "source": [
        "Operaciones con Sets"
      ]
    },
    {
      "cell_type": "code",
      "metadata": {
        "id": "8RWs-A2DFhYo",
        "colab_type": "code",
        "colab": {}
      },
      "source": [
        "print(S,E)\n",
        "print('Letras en S pero no en E:',S-E)\n",
        "print('Letras en S o E o en ambos:',S|E)\n",
        "print('Letras en ambos conjuntos:',S&E)\n",
        "print('Letras en S o E pero no en ambos:',S^E)\n"
      ],
      "execution_count": 0,
      "outputs": []
    },
    {
      "cell_type": "markdown",
      "metadata": {
        "id": "MvfOnp4FJKR-",
        "colab_type": "text"
      },
      "source": [
        "\n",
        "\n",
        "---\n",
        "\n",
        "###DICCIONARIOS\n",
        "\n",
        "\n",
        "---\n",
        "\n",
        "Son colecciones que relacionan una llave (también conocida como clave) con un valor. Las llaves son únicas por cada diccionario, estas pueden ser cualquier dato de tipo inmutable, es decir, tuplas, cadenas de texto, números o booleanos y los valores pueden ser cualquier tipo de dato (numérico, cadena de caracteres, listas, tuplas e incluso más diccionarios)."
      ]
    },
    {
      "cell_type": "markdown",
      "metadata": {
        "id": "KozwhnSjLPQX",
        "colab_type": "text"
      },
      "source": [
        "Crear un diccionario"
      ]
    },
    {
      "cell_type": "code",
      "metadata": {
        "id": "L2Yh-lT_KJUN",
        "colab_type": "code",
        "outputId": "41adbeae-2ce7-4cc4-fd04-30bd0aa66ca6",
        "colab": {
          "base_uri": "https://localhost:8080/",
          "height": 35
        }
      },
      "source": [
        "estudiantes={'10203040': \"Cristian Rojas\", '12321001' : \"Steven Sierra\", '218479' : \"Nelson Vera\" }\n",
        "print(estudiantes)"
      ],
      "execution_count": 0,
      "outputs": [
        {
          "output_type": "stream",
          "text": [
            "{'10203040': 'Cristian Rojas', '12321001': 'Steven Sierra', '218479': 'Nelson Vera'}\n"
          ],
          "name": "stdout"
        }
      ]
    },
    {
      "cell_type": "markdown",
      "metadata": {
        "id": "DbYaeKHWLSgN",
        "colab_type": "text"
      },
      "source": [
        "Agregar un dato"
      ]
    },
    {
      "cell_type": "code",
      "metadata": {
        "id": "48zs7BxuLVw2",
        "colab_type": "code",
        "outputId": "3a7cecfa-f0fb-4154-a397-29a97ee1e71a",
        "colab": {
          "base_uri": "https://localhost:8080/",
          "height": 35
        }
      },
      "source": [
        "estudiantes['122126873']=\"Ruben Medina\"\n",
        "print(estudiantes)"
      ],
      "execution_count": 0,
      "outputs": [
        {
          "output_type": "stream",
          "text": [
            "{'10203040': 'Cristian Rojas', '12321001': 'Steven Sierra', '218479': 'Nelson Vera', '122126873': 'Ruben Medina'}\n"
          ],
          "name": "stdout"
        }
      ]
    },
    {
      "cell_type": "markdown",
      "metadata": {
        "id": "fKNov8LGL1lL",
        "colab_type": "text"
      },
      "source": [
        "Acceder a los datos"
      ]
    },
    {
      "cell_type": "code",
      "metadata": {
        "id": "I3cO_sfRMEZ3",
        "colab_type": "code",
        "outputId": "324c278a-dddf-4d81-be58-370dbdc81b71",
        "colab": {
          "base_uri": "https://localhost:8080/",
          "height": 35
        }
      },
      "source": [
        "print (estudiantes['122126873'])"
      ],
      "execution_count": 0,
      "outputs": [
        {
          "output_type": "stream",
          "text": [
            "Ruben Medina\n"
          ],
          "name": "stdout"
        }
      ]
    },
    {
      "cell_type": "markdown",
      "metadata": {
        "id": "qYjHrm3XMK9W",
        "colab_type": "text"
      },
      "source": [
        "Funciones para tratar con diccionarios"
      ]
    },
    {
      "cell_type": "code",
      "metadata": {
        "id": "yJxx2DMzMXEQ",
        "colab_type": "code",
        "colab": {}
      },
      "source": [
        "print(len(estudiantes))\n",
        "del estudiantes['122126873']\n",
        "print('122126873' in estudiantes)\n",
        "print(estudiantes.keys())\n",
        "print(estudiantes.values())\n",
        "print(estudiantes.pop('12321001'))\n",
        "print(estudiantes)"
      ],
      "execution_count": 0,
      "outputs": []
    }
  ]
}