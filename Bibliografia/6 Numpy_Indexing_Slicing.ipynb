{
  "nbformat": 4,
  "nbformat_minor": 0,
  "metadata": {
    "colab": {
      "name": "Numpy: Indexing - Slicing.ipynb",
      "provenance": []
    },
    "kernelspec": {
      "name": "python3",
      "display_name": "Python 3"
    }
  },
  "cells": [
    {
      "cell_type": "markdown",
      "metadata": {
        "id": "YsQs3emPozPK",
        "colab_type": "text"
      },
      "source": [
        "#INDEXING - SLICING"
      ]
    },
    {
      "cell_type": "markdown",
      "metadata": {
        "id": "YYKVlTaTo6Hi",
        "colab_type": "text"
      },
      "source": [
        "\n",
        "\n",
        "---\n",
        "\n",
        "\n",
        "###1 DIMENSIÓN\n",
        "\n",
        "\n",
        "---\n",
        "\n"
      ]
    },
    {
      "cell_type": "code",
      "metadata": {
        "id": "mal-0zFFpcvA",
        "colab_type": "code",
        "outputId": "eaa0c3c1-9578-40f3-9e9d-b28b65af333a",
        "colab": {
          "base_uri": "https://localhost:8080/",
          "height": 35
        }
      },
      "source": [
        "import numpy as np\n",
        "v = np.arange(10)\n",
        "print(v)"
      ],
      "execution_count": 0,
      "outputs": [
        {
          "output_type": "stream",
          "text": [
            "[0 1 2 3 4 5 6 7 8 9]\n"
          ],
          "name": "stdout"
        }
      ]
    },
    {
      "cell_type": "markdown",
      "metadata": {
        "id": "vKhu46sApD8D",
        "colab_type": "text"
      },
      "source": [
        "Indexing 1D"
      ]
    },
    {
      "cell_type": "code",
      "metadata": {
        "id": "SLZwTBPPpT67",
        "colab_type": "code",
        "colab": {}
      },
      "source": [
        "print(v)\n",
        "print(v[3])\n",
        "print(v[-2])"
      ],
      "execution_count": 0,
      "outputs": []
    },
    {
      "cell_type": "markdown",
      "metadata": {
        "id": "Rgs-h89_p8Gx",
        "colab_type": "text"
      },
      "source": [
        "Slincing 1D"
      ]
    },
    {
      "cell_type": "code",
      "metadata": {
        "id": "nDZ3L9gRpnVc",
        "colab_type": "code",
        "colab": {}
      },
      "source": [
        "print(v)\n",
        "print(v[1:7:2])\n",
        "print(v[-2:10])\n",
        "print(v[-3:3:-1])\n",
        "print(v[:])"
      ],
      "execution_count": 0,
      "outputs": []
    },
    {
      "cell_type": "markdown",
      "metadata": {
        "id": "RYpQuFzWqCRa",
        "colab_type": "text"
      },
      "source": [
        "\n",
        "\n",
        "---\n",
        "###2 DIMENSIONES\n",
        "\n",
        "\n",
        "---\n",
        "\n",
        "\n"
      ]
    },
    {
      "cell_type": "code",
      "metadata": {
        "id": "cHr8znoUqTaq",
        "colab_type": "code",
        "outputId": "bff21413-7025-499c-8951-7db238bb6571",
        "colab": {
          "base_uri": "https://localhost:8080/",
          "height": 104
        }
      },
      "source": [
        "m = np.arange(20).reshape(5,4)\n",
        "print(m)"
      ],
      "execution_count": 0,
      "outputs": [
        {
          "output_type": "stream",
          "text": [
            "[[ 0  1  2  3]\n",
            " [ 4  5  6  7]\n",
            " [ 8  9 10 11]\n",
            " [12 13 14 15]\n",
            " [16 17 18 19]]\n"
          ],
          "name": "stdout"
        }
      ]
    },
    {
      "cell_type": "markdown",
      "metadata": {
        "id": "vbLIe7MqqWsk",
        "colab_type": "text"
      },
      "source": [
        "Indexing 2D"
      ]
    },
    {
      "cell_type": "code",
      "metadata": {
        "id": "D0HXizEOqZ_x",
        "colab_type": "code",
        "colab": {}
      },
      "source": [
        "#simple\n",
        "print(m,'\\n')\n",
        "print(m[2,1]) # [[y],[x]]\n",
        "print(m[2]) # ¿Qué pasa si falta una coordenada?"
      ],
      "execution_count": 0,
      "outputs": []
    },
    {
      "cell_type": "code",
      "metadata": {
        "id": "-YJxKjJ-Qlui",
        "colab_type": "code",
        "colab": {}
      },
      "source": [
        "#múltiple\n",
        "print(m,'\\n')\n",
        "n = m[[1,2,3],[0,3,1]] # [[las y´s],[las x´s]]\n",
        "print(n)\n",
        "n = m[[1,2,3]] # ¿Qué pasa si falta una coordenada?\n",
        "print(n)"
      ],
      "execution_count": 0,
      "outputs": []
    },
    {
      "cell_type": "markdown",
      "metadata": {
        "id": "WHgJLjoRrcoG",
        "colab_type": "text"
      },
      "source": [
        "Slicing 2D"
      ]
    },
    {
      "cell_type": "code",
      "metadata": {
        "id": "Xo4Q3qs6uaDy",
        "colab_type": "code",
        "colab": {}
      },
      "source": [
        "# 2D->2D\n",
        "print(m,'\\n')\n",
        "print(m[1:3, 1:3])\n",
        "print(m[:, 1:3])\n",
        "print(m[1:3,:])"
      ],
      "execution_count": 0,
      "outputs": []
    },
    {
      "cell_type": "code",
      "metadata": {
        "id": "WVdqLOyGQhxL",
        "colab_type": "code",
        "colab": {}
      },
      "source": [
        "# 2D->1D\n",
        "print(m,'\\n')\n",
        "print(m[1:2, 1:3])\n",
        "print(m[1:2, 1:3].reshape(2))"
      ],
      "execution_count": 0,
      "outputs": []
    },
    {
      "cell_type": "markdown",
      "metadata": {
        "id": "rsF8R8UwDmx_",
        "colab_type": "text"
      },
      "source": [
        "\n",
        "\n",
        "---\n",
        "\n",
        "\n",
        "###3 DIMENSIONES\n",
        "\n",
        "\n",
        "---\n",
        "\n"
      ]
    },
    {
      "cell_type": "code",
      "metadata": {
        "id": "Bip14uKMDug0",
        "colab_type": "code",
        "outputId": "76eceef2-157a-45ee-905c-e26a9870cf64",
        "colab": {
          "base_uri": "https://localhost:8080/",
          "height": 208
        }
      },
      "source": [
        "s = np.arange(40).reshape(2,5,4)\n",
        "print(s)"
      ],
      "execution_count": 0,
      "outputs": [
        {
          "output_type": "stream",
          "text": [
            "[[[ 0  1  2  3]\n",
            "  [ 4  5  6  7]\n",
            "  [ 8  9 10 11]\n",
            "  [12 13 14 15]\n",
            "  [16 17 18 19]]\n",
            "\n",
            " [[20 21 22 23]\n",
            "  [24 25 26 27]\n",
            "  [28 29 30 31]\n",
            "  [32 33 34 35]\n",
            "  [36 37 38 39]]]\n"
          ],
          "name": "stdout"
        }
      ]
    },
    {
      "cell_type": "markdown",
      "metadata": {
        "id": "J0muiN1xEyJ-",
        "colab_type": "text"
      },
      "source": [
        "Indexing 3D"
      ]
    },
    {
      "cell_type": "code",
      "metadata": {
        "id": "Xq4dEktYE0lG",
        "colab_type": "code",
        "colab": {}
      },
      "source": [
        "print(s,'\\n')\n",
        "\n",
        "#simple\n",
        "print(s[1,3,1]) # [z,y,x]\n",
        "print(s[1,3]) # ¿Qué pasa si falta una coordenada?\n",
        "print(s[1]) # ¿Qué pasa si faltan dos coordenadas?"
      ],
      "execution_count": 0,
      "outputs": []
    },
    {
      "cell_type": "code",
      "metadata": {
        "id": "bdUfi6DNSJ-a",
        "colab_type": "code",
        "outputId": "d755a605-c887-4595-efd2-8b978e252f31",
        "colab": {
          "base_uri": "https://localhost:8080/",
          "height": 468
        }
      },
      "source": [
        "#múltiple\n",
        "print(s,'\\n')\n",
        "n = s[[1,0],[0,3],[1,2]] # [[las z´s],[las y´s],[las x´s]]\n",
        "print(n)\n",
        "n = s[[1,0],[0,3]] # ¿Qué pasa si falta una coordenada?\n",
        "print(n)\n",
        "n = s[[1,0]] # ¿Qué pasa si faltan dos coordenadas?\n",
        "print(n)"
      ],
      "execution_count": 0,
      "outputs": [
        {
          "output_type": "stream",
          "text": [
            "[[[ 0  1  2  3]\n",
            "  [ 4  5  6  7]\n",
            "  [ 8  9 10 11]\n",
            "  [12 13 14 15]\n",
            "  [16 17 18 19]]\n",
            "\n",
            " [[20 21 22 23]\n",
            "  [24 25 26 27]\n",
            "  [28 29 30 31]\n",
            "  [32 33 34 35]\n",
            "  [36 37 38 39]]] \n",
            "\n",
            "[21 14]\n",
            "[[20 21 22 23]\n",
            " [12 13 14 15]]\n",
            "[[[20 21 22 23]\n",
            "  [24 25 26 27]\n",
            "  [28 29 30 31]\n",
            "  [32 33 34 35]\n",
            "  [36 37 38 39]]\n",
            "\n",
            " [[ 0  1  2  3]\n",
            "  [ 4  5  6  7]\n",
            "  [ 8  9 10 11]\n",
            "  [12 13 14 15]\n",
            "  [16 17 18 19]]]\n"
          ],
          "name": "stdout"
        }
      ]
    },
    {
      "cell_type": "markdown",
      "metadata": {
        "id": "wPa7CYkHFj7E",
        "colab_type": "text"
      },
      "source": [
        "Slicing 3D"
      ]
    },
    {
      "cell_type": "code",
      "metadata": {
        "id": "u1XSD9xZFlxM",
        "colab_type": "code",
        "colab": {}
      },
      "source": [
        "# 3D->3D\n",
        "print(s,'\\n')\n",
        "print(s[0:2,0:3,0:3])\n",
        "print(s[:,:,0:3])"
      ],
      "execution_count": 0,
      "outputs": []
    },
    {
      "cell_type": "code",
      "metadata": {
        "id": "TMBu6DLDTSRM",
        "colab_type": "code",
        "outputId": "a75d3843-ac44-4834-ecfe-bfcd2f2513cb",
        "colab": {
          "base_uri": "https://localhost:8080/",
          "height": 329
        }
      },
      "source": [
        "# 3D->2D\n",
        "print(s,'\\n')\n",
        "print(s[:,0:1,:])\n",
        "print(s[0:1,0:3,0:3].reshape(3,3))"
      ],
      "execution_count": 0,
      "outputs": [
        {
          "output_type": "stream",
          "text": [
            "[[[ 0  1  2  3]\n",
            "  [ 4  5  6  7]\n",
            "  [ 8  9 10 11]\n",
            "  [12 13 14 15]\n",
            "  [16 17 18 19]]\n",
            "\n",
            " [[20 21 22 23]\n",
            "  [24 25 26 27]\n",
            "  [28 29 30 31]\n",
            "  [32 33 34 35]\n",
            "  [36 37 38 39]]] \n",
            "\n",
            "[[[ 0  1  2  3]]\n",
            "\n",
            " [[20 21 22 23]]]\n",
            "[[ 0  1  2]\n",
            " [ 4  5  6]\n",
            " [ 8  9 10]]\n"
          ],
          "name": "stdout"
        }
      ]
    },
    {
      "cell_type": "code",
      "metadata": {
        "id": "hHUj4GWWTm8U",
        "colab_type": "code",
        "outputId": "1704c6dc-6c1c-40b2-ee84-e95eab30a636",
        "colab": {
          "base_uri": "https://localhost:8080/",
          "height": 260
        }
      },
      "source": [
        "# 3D->1D\n",
        "print(s,'\\n')\n",
        "print(s[0:1,0:1,0:3])\n",
        "print(s[0:1,0:1,0:3].reshape(3))"
      ],
      "execution_count": 0,
      "outputs": [
        {
          "output_type": "stream",
          "text": [
            "[[[ 0  1  2  3]\n",
            "  [ 4  5  6  7]\n",
            "  [ 8  9 10 11]\n",
            "  [12 13 14 15]\n",
            "  [16 17 18 19]]\n",
            "\n",
            " [[20 21 22 23]\n",
            "  [24 25 26 27]\n",
            "  [28 29 30 31]\n",
            "  [32 33 34 35]\n",
            "  [36 37 38 39]]] \n",
            "\n",
            "[[[0 1 2]]]\n",
            "[0 1 2]\n"
          ],
          "name": "stdout"
        }
      ]
    }
  ]
}