{
  "nbformat": 4,
  "nbformat_minor": 0,
  "metadata": {
    "colab": {
      "name": "Pandas: Transformar.ipynb",
      "provenance": []
    },
    "kernelspec": {
      "name": "python3",
      "display_name": "Python 3"
    }
  },
  "cells": [
    {
      "cell_type": "markdown",
      "metadata": {
        "id": "ZBgoL9wFC-40",
        "colab_type": "text"
      },
      "source": [
        "#Pandas: Pipe, Apply, Agg, Transform y Applymap"
      ]
    },
    {
      "cell_type": "markdown",
      "metadata": {
        "id": "HYx1qvM0DQOE",
        "colab_type": "text"
      },
      "source": [
        "\n",
        "\n",
        "---\n",
        "### Pipe\n",
        "\n",
        "\n",
        "---\n",
        "\n",
        "Permite aplicar funciones de forma encadenada que reciban y retornen dataframes \n"
      ]
    },
    {
      "cell_type": "code",
      "metadata": {
        "id": "6O17Lg8cfSYU",
        "colab_type": "code",
        "colab": {
          "base_uri": "https://localhost:8080/",
          "height": 237
        },
        "outputId": "d5092900-ca49-4b14-cd95-0dc2565e0c0b"
      },
      "source": [
        "\n",
        "import numpy as np\n",
        "import pandas as pd\n",
        "\n",
        "a = np.random.randint(low=0, high=10, size=(5, 3))\n",
        "df = pd.DataFrame(data=a, columns=['A', 'B', 'C'])\n",
        "print(df)\n",
        "\n",
        "# Creamos las funciones\n",
        "def funcion1(dataframe):\n",
        "    return dataframe.multiply(-2)\n",
        "\n",
        "def funcion2(dataframe, col):\n",
        "    # col = (col^2 + col)^(1/2)\n",
        "    dataframe[col] = np.sqrt(dataframe[col]**2 + dataframe[col])\n",
        "    return dataframe\n",
        "\n",
        "\n",
        "# Creamos el pipe con las funciones anteriores\n",
        "print(df.pipe(funcion1).pipe(funcion2, 'A'))"
      ],
      "execution_count": null,
      "outputs": [
        {
          "output_type": "stream",
          "text": [
            "   A  B  C\n",
            "0  8  1  5\n",
            "1  6  3  8\n",
            "2  1  2  3\n",
            "3  8  5  6\n",
            "4  4  5  3\n",
            "           A   B   C\n",
            "0  15.491933  -2 -10\n",
            "1  11.489125  -6 -16\n",
            "2   1.414214  -4  -6\n",
            "3  15.491933 -10 -12\n",
            "4   7.483315 -10  -6\n"
          ],
          "name": "stdout"
        }
      ]
    },
    {
      "cell_type": "markdown",
      "metadata": {
        "id": "Vq2b__vHFIvX",
        "colab_type": "text"
      },
      "source": [
        "---\n",
        "### Apply\n",
        "\n",
        "\n",
        "---\n",
        "\n",
        "Permite aplicar funciones a dataframes, ya sean funciones existentes o definidas por el programador"
      ]
    },
    {
      "cell_type": "code",
      "metadata": {
        "id": "siJBemd8FHAL",
        "colab_type": "code",
        "colab": {
          "base_uri": "https://localhost:8080/",
          "height": 812
        },
        "outputId": "6b9cf4ee-f8f1-4c15-b0f0-ec5d976a6504"
      },
      "source": [
        "# función ya existente\n",
        "print(df.apply(np.mean))\n",
        "print(df.apply(np.mean, axis=1))\n",
        "\n",
        "# función definida\n",
        "print(df.apply(funcion1))\n",
        "print(\"_--------\")\n",
        "print(df)\n",
        "\n",
        "print(df.apply(lambda x: x.max() - x.min()))\n",
        "print(df.apply(lambda x: x.max() - x.min(), axis=1))\n",
        "df"
      ],
      "execution_count": null,
      "outputs": [
        {
          "output_type": "stream",
          "text": [
            "A    5.4\n",
            "B    3.2\n",
            "C    5.0\n",
            "dtype: float64\n",
            "0    4.666667\n",
            "1    5.666667\n",
            "2    2.000000\n",
            "3    6.333333\n",
            "4    4.000000\n",
            "dtype: float64\n",
            "    A   B   C\n",
            "0 -16  -2 -10\n",
            "1 -12  -6 -16\n",
            "2  -2  -4  -6\n",
            "3 -16 -10 -12\n",
            "4  -8 -10  -6\n",
            "_--------\n",
            "   A  B  C\n",
            "0  8  1  5\n",
            "1  6  3  8\n",
            "2  1  2  3\n",
            "3  8  5  6\n",
            "4  4  5  3\n",
            "A    7\n",
            "B    4\n",
            "C    5\n",
            "dtype: int64\n",
            "0    7\n",
            "1    5\n",
            "2    2\n",
            "3    3\n",
            "4    2\n",
            "dtype: int64\n"
          ],
          "name": "stdout"
        },
        {
          "output_type": "execute_result",
          "data": {
            "text/html": [
              "<div>\n",
              "<style scoped>\n",
              "    .dataframe tbody tr th:only-of-type {\n",
              "        vertical-align: middle;\n",
              "    }\n",
              "\n",
              "    .dataframe tbody tr th {\n",
              "        vertical-align: top;\n",
              "    }\n",
              "\n",
              "    .dataframe thead th {\n",
              "        text-align: right;\n",
              "    }\n",
              "</style>\n",
              "<table border=\"1\" class=\"dataframe\">\n",
              "  <thead>\n",
              "    <tr style=\"text-align: right;\">\n",
              "      <th></th>\n",
              "      <th>A</th>\n",
              "      <th>B</th>\n",
              "      <th>C</th>\n",
              "    </tr>\n",
              "  </thead>\n",
              "  <tbody>\n",
              "    <tr>\n",
              "      <th>0</th>\n",
              "      <td>8</td>\n",
              "      <td>1</td>\n",
              "      <td>5</td>\n",
              "    </tr>\n",
              "    <tr>\n",
              "      <th>1</th>\n",
              "      <td>6</td>\n",
              "      <td>3</td>\n",
              "      <td>8</td>\n",
              "    </tr>\n",
              "    <tr>\n",
              "      <th>2</th>\n",
              "      <td>1</td>\n",
              "      <td>2</td>\n",
              "      <td>3</td>\n",
              "    </tr>\n",
              "    <tr>\n",
              "      <th>3</th>\n",
              "      <td>8</td>\n",
              "      <td>5</td>\n",
              "      <td>6</td>\n",
              "    </tr>\n",
              "    <tr>\n",
              "      <th>4</th>\n",
              "      <td>4</td>\n",
              "      <td>5</td>\n",
              "      <td>3</td>\n",
              "    </tr>\n",
              "  </tbody>\n",
              "</table>\n",
              "</div>"
            ],
            "text/plain": [
              "   A  B  C\n",
              "0  8  1  5\n",
              "1  6  3  8\n",
              "2  1  2  3\n",
              "3  8  5  6\n",
              "4  4  5  3"
            ]
          },
          "metadata": {
            "tags": []
          },
          "execution_count": 5
        }
      ]
    },
    {
      "cell_type": "markdown",
      "metadata": {
        "id": "sZLnCXlXFVKW",
        "colab_type": "text"
      },
      "source": [
        "---\n",
        "### Agg\n",
        "\n",
        "\n",
        "---\n",
        "\n",
        "Crea un nuevo dataframe con una fila por cada función aplicada a cada una de las columnas de un dataframe de entrada"
      ]
    },
    {
      "cell_type": "code",
      "metadata": {
        "id": "fy0cOpqgFVUH",
        "colab_type": "code",
        "colab": {
          "base_uri": "https://localhost:8080/",
          "height": 237
        },
        "outputId": "e9698299-032d-4ef0-e408-572941cce027"
      },
      "source": [
        "print (df)\n",
        "print(df.agg(['sum', 'mean']))\n",
        "print(df.agg([np.sum, 'mean']))"
      ],
      "execution_count": null,
      "outputs": [
        {
          "output_type": "stream",
          "text": [
            "   A  B  C\n",
            "0  8  1  5\n",
            "1  6  3  8\n",
            "2  1  2  3\n",
            "3  8  5  6\n",
            "4  4  5  3\n",
            "         A     B     C\n",
            "sum   27.0  16.0  25.0\n",
            "mean   5.4   3.2   5.0\n",
            "         A     B     C\n",
            "sum   27.0  16.0  25.0\n",
            "mean   5.4   3.2   5.0\n"
          ],
          "name": "stdout"
        }
      ]
    },
    {
      "cell_type": "markdown",
      "metadata": {
        "id": "GsfACc7TFwGv",
        "colab_type": "text"
      },
      "source": [
        "---\n",
        "### Transform\n",
        "\n",
        "\n",
        "---\n",
        "\n",
        "Crea un nuevo dataframe con los datos resultantes de aplicar una o varias funciones a cada uno de los elementos de un dataframe de entrada"
      ]
    },
    {
      "cell_type": "code",
      "metadata": {
        "id": "48vSIwKqbesx",
        "colab_type": "code",
        "colab": {
          "base_uri": "https://localhost:8080/",
          "height": 202
        },
        "outputId": "290c9f6d-3d44-4dfb-e47a-04ca24835bc4"
      },
      "source": [
        "df"
      ],
      "execution_count": null,
      "outputs": [
        {
          "output_type": "execute_result",
          "data": {
            "text/html": [
              "<div>\n",
              "<style scoped>\n",
              "    .dataframe tbody tr th:only-of-type {\n",
              "        vertical-align: middle;\n",
              "    }\n",
              "\n",
              "    .dataframe tbody tr th {\n",
              "        vertical-align: top;\n",
              "    }\n",
              "\n",
              "    .dataframe thead th {\n",
              "        text-align: right;\n",
              "    }\n",
              "</style>\n",
              "<table border=\"1\" class=\"dataframe\">\n",
              "  <thead>\n",
              "    <tr style=\"text-align: right;\">\n",
              "      <th></th>\n",
              "      <th>A</th>\n",
              "      <th>B</th>\n",
              "      <th>C</th>\n",
              "    </tr>\n",
              "  </thead>\n",
              "  <tbody>\n",
              "    <tr>\n",
              "      <th>0</th>\n",
              "      <td>7</td>\n",
              "      <td>8</td>\n",
              "      <td>4</td>\n",
              "    </tr>\n",
              "    <tr>\n",
              "      <th>1</th>\n",
              "      <td>3</td>\n",
              "      <td>3</td>\n",
              "      <td>9</td>\n",
              "    </tr>\n",
              "    <tr>\n",
              "      <th>2</th>\n",
              "      <td>8</td>\n",
              "      <td>0</td>\n",
              "      <td>8</td>\n",
              "    </tr>\n",
              "    <tr>\n",
              "      <th>3</th>\n",
              "      <td>3</td>\n",
              "      <td>6</td>\n",
              "      <td>4</td>\n",
              "    </tr>\n",
              "    <tr>\n",
              "      <th>4</th>\n",
              "      <td>3</td>\n",
              "      <td>2</td>\n",
              "      <td>7</td>\n",
              "    </tr>\n",
              "  </tbody>\n",
              "</table>\n",
              "</div>"
            ],
            "text/plain": [
              "   A  B  C\n",
              "0  7  8  4\n",
              "1  3  3  9\n",
              "2  8  0  8\n",
              "3  3  6  4\n",
              "4  3  2  7"
            ]
          },
          "metadata": {
            "tags": []
          },
          "execution_count": 11
        }
      ]
    },
    {
      "cell_type": "code",
      "metadata": {
        "id": "yS1cT_vcFwSP",
        "colab_type": "code",
        "colab": {
          "base_uri": "https://localhost:8080/",
          "height": 233
        },
        "outputId": "fd81725a-39b2-45d9-910d-1ca491ac15a1"
      },
      "source": [
        "\n",
        "df1 = df.transform([np.abs, lambda x: x+1, funcion1])\n",
        "df1"
      ],
      "execution_count": null,
      "outputs": [
        {
          "output_type": "execute_result",
          "data": {
            "text/html": [
              "<div>\n",
              "<style scoped>\n",
              "    .dataframe tbody tr th:only-of-type {\n",
              "        vertical-align: middle;\n",
              "    }\n",
              "\n",
              "    .dataframe tbody tr th {\n",
              "        vertical-align: top;\n",
              "    }\n",
              "\n",
              "    .dataframe thead tr th {\n",
              "        text-align: left;\n",
              "    }\n",
              "</style>\n",
              "<table border=\"1\" class=\"dataframe\">\n",
              "  <thead>\n",
              "    <tr>\n",
              "      <th></th>\n",
              "      <th colspan=\"3\" halign=\"left\">A</th>\n",
              "      <th colspan=\"3\" halign=\"left\">B</th>\n",
              "      <th colspan=\"3\" halign=\"left\">C</th>\n",
              "    </tr>\n",
              "    <tr>\n",
              "      <th></th>\n",
              "      <th>absolute</th>\n",
              "      <th>&lt;lambda&gt;</th>\n",
              "      <th>funcion1</th>\n",
              "      <th>absolute</th>\n",
              "      <th>&lt;lambda&gt;</th>\n",
              "      <th>funcion1</th>\n",
              "      <th>absolute</th>\n",
              "      <th>&lt;lambda&gt;</th>\n",
              "      <th>funcion1</th>\n",
              "    </tr>\n",
              "  </thead>\n",
              "  <tbody>\n",
              "    <tr>\n",
              "      <th>0</th>\n",
              "      <td>7</td>\n",
              "      <td>8</td>\n",
              "      <td>-14</td>\n",
              "      <td>8</td>\n",
              "      <td>9</td>\n",
              "      <td>-16</td>\n",
              "      <td>4</td>\n",
              "      <td>5</td>\n",
              "      <td>-8</td>\n",
              "    </tr>\n",
              "    <tr>\n",
              "      <th>1</th>\n",
              "      <td>3</td>\n",
              "      <td>4</td>\n",
              "      <td>-6</td>\n",
              "      <td>3</td>\n",
              "      <td>4</td>\n",
              "      <td>-6</td>\n",
              "      <td>9</td>\n",
              "      <td>10</td>\n",
              "      <td>-18</td>\n",
              "    </tr>\n",
              "    <tr>\n",
              "      <th>2</th>\n",
              "      <td>8</td>\n",
              "      <td>9</td>\n",
              "      <td>-16</td>\n",
              "      <td>0</td>\n",
              "      <td>1</td>\n",
              "      <td>0</td>\n",
              "      <td>8</td>\n",
              "      <td>9</td>\n",
              "      <td>-16</td>\n",
              "    </tr>\n",
              "    <tr>\n",
              "      <th>3</th>\n",
              "      <td>3</td>\n",
              "      <td>4</td>\n",
              "      <td>-6</td>\n",
              "      <td>6</td>\n",
              "      <td>7</td>\n",
              "      <td>-12</td>\n",
              "      <td>4</td>\n",
              "      <td>5</td>\n",
              "      <td>-8</td>\n",
              "    </tr>\n",
              "    <tr>\n",
              "      <th>4</th>\n",
              "      <td>3</td>\n",
              "      <td>4</td>\n",
              "      <td>-6</td>\n",
              "      <td>2</td>\n",
              "      <td>3</td>\n",
              "      <td>-4</td>\n",
              "      <td>7</td>\n",
              "      <td>8</td>\n",
              "      <td>-14</td>\n",
              "    </tr>\n",
              "  </tbody>\n",
              "</table>\n",
              "</div>"
            ],
            "text/plain": [
              "         A                          B  ...                 C                  \n",
              "  absolute <lambda> funcion1 absolute  ... funcion1 absolute <lambda> funcion1\n",
              "0        7        8      -14        8  ...      -16        4        5       -8\n",
              "1        3        4       -6        3  ...       -6        9       10      -18\n",
              "2        8        9      -16        0  ...        0        8        9      -16\n",
              "3        3        4       -6        6  ...      -12        4        5       -8\n",
              "4        3        4       -6        2  ...       -4        7        8      -14\n",
              "\n",
              "[5 rows x 9 columns]"
            ]
          },
          "metadata": {
            "tags": []
          },
          "execution_count": 12
        }
      ]
    },
    {
      "cell_type": "markdown",
      "metadata": {
        "id": "wfi9YU1MF6un",
        "colab_type": "text"
      },
      "source": [
        "---\n",
        "### Applymap\n",
        "\n",
        "\n",
        "---\n",
        "\n",
        "Permite aplicar a un dataframe una función que recibe y retorna un único valor"
      ]
    },
    {
      "cell_type": "code",
      "metadata": {
        "id": "jaag8dowF62l",
        "colab_type": "code",
        "colab": {
          "base_uri": "https://localhost:8080/",
          "height": 121
        },
        "outputId": "2860d134-45db-4fc7-d831-f3e0f0c07273"
      },
      "source": [
        "\n",
        "f = lambda x: len(str(x/1000))\n",
        "print(df.applymap(f))\n"
      ],
      "execution_count": null,
      "outputs": [
        {
          "output_type": "stream",
          "text": [
            "   A  B  C\n",
            "0  5  5  5\n",
            "1  3  5  5\n",
            "2  3  5  5\n",
            "3  5  5  5\n",
            "4  3  5  5\n"
          ],
          "name": "stdout"
        }
      ]
    }
  ]
}