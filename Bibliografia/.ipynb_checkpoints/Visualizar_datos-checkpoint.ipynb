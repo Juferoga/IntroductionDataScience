{
 "cells": [
  {
   "cell_type": "markdown",
   "metadata": {
    "colab_type": "text",
    "id": "Tlpg2hS_ro9m"
   },
   "source": [
    "#Visualización de datos en Pandas"
   ]
  },
  {
   "cell_type": "markdown",
   "metadata": {
    "colab_type": "text",
    "id": "Faa--RIBWAze"
   },
   "source": [
    "\n",
    "\n",
    "---\n",
    "\n",
    "\n",
    "###Plot\n",
    "\n",
    "\n",
    "---\n",
    "\n"
   ]
  },
  {
   "cell_type": "code",
   "execution_count": 1,
   "metadata": {
    "colab": {
     "base_uri": "https://localhost:8080/",
     "height": 437
    },
    "colab_type": "code",
    "id": "Xi5wOtVDrm74",
    "outputId": "3111ee5f-688e-477b-fa9f-b081f6b89013"
   },
   "outputs": [],
   "source": [
    "import numpy as np\n",
    "import pandas as pd\n",
    "import matplotlib.pyplot as plt\n",
    "import dateutil\n",
    "\n",
    "# https://www.datos.gov.co/Salud-y-Protecci-n-Social/Casos-positivos-de-COVID-19-en-Colombia/gt2j-8ykr\n",
    "\n",
    "data = pd.read_csv(\"Casos_positivos_de_COVID-19_en_Colombia.csv\", index_col='ID de caso') "
   ]
  },
  {
   "cell_type": "code",
   "execution_count": 2,
   "metadata": {
    "colab": {
     "base_uri": "https://localhost:8080/",
     "height": 174
    },
    "colab_type": "code",
    "id": "NJm_hobksW4B",
    "outputId": "8c7aa525-f861-4c99-a9bf-19f77432eec8"
   },
   "outputs": [
    {
     "data": {
      "text/html": [
       "<div>\n",
       "<style scoped>\n",
       "    .dataframe tbody tr th:only-of-type {\n",
       "        vertical-align: middle;\n",
       "    }\n",
       "\n",
       "    .dataframe tbody tr th {\n",
       "        vertical-align: top;\n",
       "    }\n",
       "\n",
       "    .dataframe thead th {\n",
       "        text-align: right;\n",
       "    }\n",
       "</style>\n",
       "<table border=\"1\" class=\"dataframe\">\n",
       "  <thead>\n",
       "    <tr style=\"text-align: right;\">\n",
       "      <th></th>\n",
       "      <th>Fecha de notificación</th>\n",
       "      <th>Codigo DIVIPOLA</th>\n",
       "      <th>Ciudad de ubicación</th>\n",
       "      <th>Departamento o Distrito</th>\n",
       "      <th>atención</th>\n",
       "      <th>Edad</th>\n",
       "      <th>Sexo</th>\n",
       "      <th>Tipo</th>\n",
       "      <th>Estado</th>\n",
       "      <th>País de procedencia</th>\n",
       "      <th>FIS</th>\n",
       "      <th>Fecha de muerte</th>\n",
       "      <th>Fecha diagnostico</th>\n",
       "      <th>Fecha recuperado</th>\n",
       "      <th>fecha reporte web</th>\n",
       "    </tr>\n",
       "    <tr>\n",
       "      <th>ID de caso</th>\n",
       "      <th></th>\n",
       "      <th></th>\n",
       "      <th></th>\n",
       "      <th></th>\n",
       "      <th></th>\n",
       "      <th></th>\n",
       "      <th></th>\n",
       "      <th></th>\n",
       "      <th></th>\n",
       "      <th></th>\n",
       "      <th></th>\n",
       "      <th></th>\n",
       "      <th></th>\n",
       "      <th></th>\n",
       "      <th></th>\n",
       "    </tr>\n",
       "  </thead>\n",
       "  <tbody>\n",
       "    <tr>\n",
       "      <th>1</th>\n",
       "      <td>2020-03-02T00:00:00.000</td>\n",
       "      <td>11001</td>\n",
       "      <td>Bogotá D.C.</td>\n",
       "      <td>Bogotá D.C.</td>\n",
       "      <td>Recuperado</td>\n",
       "      <td>19</td>\n",
       "      <td>F</td>\n",
       "      <td>Importado</td>\n",
       "      <td>Leve</td>\n",
       "      <td>Italia</td>\n",
       "      <td>2020-02-27T00:00:00.000</td>\n",
       "      <td>-   -</td>\n",
       "      <td>2020-03-06T00:00:00.000</td>\n",
       "      <td>2020-03-13T00:00:00.000</td>\n",
       "      <td>2020-03-06T00:00:00.000</td>\n",
       "    </tr>\n",
       "    <tr>\n",
       "      <th>2</th>\n",
       "      <td>2020-03-06T00:00:00.000</td>\n",
       "      <td>76111</td>\n",
       "      <td>Guadalajara de Buga</td>\n",
       "      <td>Valle del Cauca</td>\n",
       "      <td>Recuperado</td>\n",
       "      <td>34</td>\n",
       "      <td>M</td>\n",
       "      <td>Importado</td>\n",
       "      <td>Leve</td>\n",
       "      <td>España</td>\n",
       "      <td>2020-03-04T00:00:00.000</td>\n",
       "      <td>-   -</td>\n",
       "      <td>2020-03-09T00:00:00.000</td>\n",
       "      <td>2020-03-19T00:00:00.000</td>\n",
       "      <td>2020-03-09T00:00:00.000</td>\n",
       "    </tr>\n",
       "    <tr>\n",
       "      <th>3</th>\n",
       "      <td>2020-03-07T00:00:00.000</td>\n",
       "      <td>5001</td>\n",
       "      <td>Medellín</td>\n",
       "      <td>Antioquia</td>\n",
       "      <td>Recuperado</td>\n",
       "      <td>50</td>\n",
       "      <td>F</td>\n",
       "      <td>Importado</td>\n",
       "      <td>Leve</td>\n",
       "      <td>España</td>\n",
       "      <td>2020-02-29T00:00:00.000</td>\n",
       "      <td>-   -</td>\n",
       "      <td>2020-03-09T00:00:00.000</td>\n",
       "      <td>2020-03-15T00:00:00.000</td>\n",
       "      <td>2020-03-09T00:00:00.000</td>\n",
       "    </tr>\n",
       "    <tr>\n",
       "      <th>4</th>\n",
       "      <td>2020-03-09T00:00:00.000</td>\n",
       "      <td>5001</td>\n",
       "      <td>Medellín</td>\n",
       "      <td>Antioquia</td>\n",
       "      <td>Recuperado</td>\n",
       "      <td>55</td>\n",
       "      <td>M</td>\n",
       "      <td>Relacionado</td>\n",
       "      <td>Leve</td>\n",
       "      <td>Colombia</td>\n",
       "      <td>2020-03-06T00:00:00.000</td>\n",
       "      <td>-   -</td>\n",
       "      <td>2020-03-11T00:00:00.000</td>\n",
       "      <td>2020-03-26T00:00:00.000</td>\n",
       "      <td>2020-03-11T00:00:00.000</td>\n",
       "    </tr>\n",
       "    <tr>\n",
       "      <th>5</th>\n",
       "      <td>2020-03-09T00:00:00.000</td>\n",
       "      <td>5001</td>\n",
       "      <td>Medellín</td>\n",
       "      <td>Antioquia</td>\n",
       "      <td>Recuperado</td>\n",
       "      <td>25</td>\n",
       "      <td>M</td>\n",
       "      <td>Relacionado</td>\n",
       "      <td>Leve</td>\n",
       "      <td>Colombia</td>\n",
       "      <td>2020-03-08T00:00:00.000</td>\n",
       "      <td>-   -</td>\n",
       "      <td>2020-03-11T00:00:00.000</td>\n",
       "      <td>2020-03-23T00:00:00.000</td>\n",
       "      <td>2020-03-11T00:00:00.000</td>\n",
       "    </tr>\n",
       "    <tr>\n",
       "      <th>6</th>\n",
       "      <td>2020-03-10T00:00:00.000</td>\n",
       "      <td>5360</td>\n",
       "      <td>Itagüí</td>\n",
       "      <td>Antioquia</td>\n",
       "      <td>Recuperado</td>\n",
       "      <td>27</td>\n",
       "      <td>F</td>\n",
       "      <td>Relacionado</td>\n",
       "      <td>Leve</td>\n",
       "      <td>Colombia</td>\n",
       "      <td>2020-03-06T00:00:00.000</td>\n",
       "      <td>-   -</td>\n",
       "      <td>2020-03-11T00:00:00.000</td>\n",
       "      <td>2020-03-26T00:00:00.000</td>\n",
       "      <td>2020-03-11T00:00:00.000</td>\n",
       "    </tr>\n",
       "    <tr>\n",
       "      <th>7</th>\n",
       "      <td>2020-03-08T00:00:00.000</td>\n",
       "      <td>13001</td>\n",
       "      <td>Cartagena de Indias</td>\n",
       "      <td>Cartagena D.T. y C.</td>\n",
       "      <td>Recuperado</td>\n",
       "      <td>85</td>\n",
       "      <td>F</td>\n",
       "      <td>Importado</td>\n",
       "      <td>Leve</td>\n",
       "      <td>Estados Unidos de América</td>\n",
       "      <td>2020-03-02T00:00:00.000</td>\n",
       "      <td>-   -</td>\n",
       "      <td>2020-03-11T00:00:00.000</td>\n",
       "      <td>2020-03-17T00:00:00.000</td>\n",
       "      <td>2020-03-11T00:00:00.000</td>\n",
       "    </tr>\n",
       "    <tr>\n",
       "      <th>8</th>\n",
       "      <td>2020-03-09T00:00:00.000</td>\n",
       "      <td>11001</td>\n",
       "      <td>Bogotá D.C.</td>\n",
       "      <td>Bogotá D.C.</td>\n",
       "      <td>Recuperado</td>\n",
       "      <td>22</td>\n",
       "      <td>F</td>\n",
       "      <td>Importado</td>\n",
       "      <td>Leve</td>\n",
       "      <td>España</td>\n",
       "      <td>2020-03-06T00:00:00.000</td>\n",
       "      <td>-   -</td>\n",
       "      <td>2020-03-11T00:00:00.000</td>\n",
       "      <td>2020-03-21T00:00:00.000</td>\n",
       "      <td>2020-03-11T00:00:00.000</td>\n",
       "    </tr>\n",
       "    <tr>\n",
       "      <th>9</th>\n",
       "      <td>2020-03-08T00:00:00.000</td>\n",
       "      <td>11001</td>\n",
       "      <td>Bogotá D.C.</td>\n",
       "      <td>Bogotá D.C.</td>\n",
       "      <td>Recuperado</td>\n",
       "      <td>28</td>\n",
       "      <td>F</td>\n",
       "      <td>Importado</td>\n",
       "      <td>Leve</td>\n",
       "      <td>España</td>\n",
       "      <td>2020-03-07T00:00:00.000</td>\n",
       "      <td>-   -</td>\n",
       "      <td>2020-03-11T00:00:00.000</td>\n",
       "      <td>2020-03-23T00:00:00.000</td>\n",
       "      <td>2020-03-11T00:00:00.000</td>\n",
       "    </tr>\n",
       "    <tr>\n",
       "      <th>10</th>\n",
       "      <td>2020-03-12T00:00:00.000</td>\n",
       "      <td>11001</td>\n",
       "      <td>Bogotá D.C.</td>\n",
       "      <td>Bogotá D.C.</td>\n",
       "      <td>Recuperado</td>\n",
       "      <td>36</td>\n",
       "      <td>F</td>\n",
       "      <td>Importado</td>\n",
       "      <td>Leve</td>\n",
       "      <td>España</td>\n",
       "      <td>2020-03-06T00:00:00.000</td>\n",
       "      <td>-   -</td>\n",
       "      <td>2020-03-12T00:00:00.000</td>\n",
       "      <td>2020-03-21T00:00:00.000</td>\n",
       "      <td>2020-03-12T00:00:00.000</td>\n",
       "    </tr>\n",
       "    <tr>\n",
       "      <th>11</th>\n",
       "      <td>2020-03-11T00:00:00.000</td>\n",
       "      <td>11001</td>\n",
       "      <td>Bogotá D.C.</td>\n",
       "      <td>Bogotá D.C.</td>\n",
       "      <td>Recuperado</td>\n",
       "      <td>42</td>\n",
       "      <td>F</td>\n",
       "      <td>Importado</td>\n",
       "      <td>Leve</td>\n",
       "      <td>España</td>\n",
       "      <td>2020-03-06T00:00:00.000</td>\n",
       "      <td>-   -</td>\n",
       "      <td>2020-03-12T00:00:00.000</td>\n",
       "      <td>2020-03-31T00:00:00.000</td>\n",
       "      <td>2020-03-12T00:00:00.000</td>\n",
       "    </tr>\n",
       "    <tr>\n",
       "      <th>12</th>\n",
       "      <td>2020-03-10T00:00:00.000</td>\n",
       "      <td>41001</td>\n",
       "      <td>Neiva</td>\n",
       "      <td>Huila</td>\n",
       "      <td>Recuperado</td>\n",
       "      <td>74</td>\n",
       "      <td>F</td>\n",
       "      <td>Importado</td>\n",
       "      <td>Leve</td>\n",
       "      <td>Italia</td>\n",
       "      <td>2020-03-06T00:00:00.000</td>\n",
       "      <td>-   -</td>\n",
       "      <td>2020-03-12T00:00:00.000</td>\n",
       "      <td>2020-04-09T00:00:00.000</td>\n",
       "      <td>2020-03-12T00:00:00.000</td>\n",
       "    </tr>\n",
       "    <tr>\n",
       "      <th>13</th>\n",
       "      <td>2020-03-10T00:00:00.000</td>\n",
       "      <td>41001</td>\n",
       "      <td>Neiva</td>\n",
       "      <td>Huila</td>\n",
       "      <td>Recuperado</td>\n",
       "      <td>68</td>\n",
       "      <td>F</td>\n",
       "      <td>Relacionado</td>\n",
       "      <td>Leve</td>\n",
       "      <td>Colombia</td>\n",
       "      <td>2020-03-06T00:00:00.000</td>\n",
       "      <td>-   -</td>\n",
       "      <td>2020-03-12T00:00:00.000</td>\n",
       "      <td>2020-03-30T00:00:00.000</td>\n",
       "      <td>2020-03-12T00:00:00.000</td>\n",
       "    </tr>\n",
       "    <tr>\n",
       "      <th>14</th>\n",
       "      <td>2020-03-10T00:00:00.000</td>\n",
       "      <td>76520</td>\n",
       "      <td>Palmira</td>\n",
       "      <td>Valle del Cauca</td>\n",
       "      <td>Recuperado</td>\n",
       "      <td>48</td>\n",
       "      <td>M</td>\n",
       "      <td>Importado</td>\n",
       "      <td>Leve</td>\n",
       "      <td>España</td>\n",
       "      <td>2020-03-07T00:00:00.000</td>\n",
       "      <td>-   -</td>\n",
       "      <td>2020-03-13T00:00:00.000</td>\n",
       "      <td>2020-03-21T00:00:00.000</td>\n",
       "      <td>2020-03-13T00:00:00.000</td>\n",
       "    </tr>\n",
       "    <tr>\n",
       "      <th>15</th>\n",
       "      <td>2020-03-13T00:00:00.000</td>\n",
       "      <td>50001</td>\n",
       "      <td>Villavicencio</td>\n",
       "      <td>Meta</td>\n",
       "      <td>Recuperado</td>\n",
       "      <td>30</td>\n",
       "      <td>F</td>\n",
       "      <td>Importado</td>\n",
       "      <td>Leve</td>\n",
       "      <td>España</td>\n",
       "      <td>2020-03-09T00:00:00.000</td>\n",
       "      <td>-   -</td>\n",
       "      <td>2020-03-13T00:00:00.000</td>\n",
       "      <td>2020-03-23T00:00:00.000</td>\n",
       "      <td>2020-03-13T00:00:00.000</td>\n",
       "    </tr>\n",
       "    <tr>\n",
       "      <th>16</th>\n",
       "      <td>2020-03-11T00:00:00.000</td>\n",
       "      <td>11001</td>\n",
       "      <td>Bogotá D.C.</td>\n",
       "      <td>Bogotá D.C.</td>\n",
       "      <td>Recuperado</td>\n",
       "      <td>61</td>\n",
       "      <td>F</td>\n",
       "      <td>Importado</td>\n",
       "      <td>Leve</td>\n",
       "      <td>Italia</td>\n",
       "      <td>2020-03-08T00:00:00.000</td>\n",
       "      <td>-   -</td>\n",
       "      <td>2020-03-13T00:00:00.000</td>\n",
       "      <td>2020-03-23T00:00:00.000</td>\n",
       "      <td>2020-03-13T00:00:00.000</td>\n",
       "    </tr>\n",
       "    <tr>\n",
       "      <th>17</th>\n",
       "      <td>2020-03-11T00:00:00.000</td>\n",
       "      <td>11001</td>\n",
       "      <td>Bogotá D.C.</td>\n",
       "      <td>Bogotá D.C.</td>\n",
       "      <td>Recuperado</td>\n",
       "      <td>73</td>\n",
       "      <td>F</td>\n",
       "      <td>Importado</td>\n",
       "      <td>Leve</td>\n",
       "      <td>España</td>\n",
       "      <td>2020-02-28T00:00:00.000</td>\n",
       "      <td>-   -</td>\n",
       "      <td>2020-03-14T00:00:00.000</td>\n",
       "      <td>2020-03-14T00:00:00.000</td>\n",
       "      <td>2020-03-14T00:00:00.000</td>\n",
       "    </tr>\n",
       "    <tr>\n",
       "      <th>18</th>\n",
       "      <td>2020-03-11T00:00:00.000</td>\n",
       "      <td>11001</td>\n",
       "      <td>Bogotá D.C.</td>\n",
       "      <td>Bogotá D.C.</td>\n",
       "      <td>Recuperado</td>\n",
       "      <td>54</td>\n",
       "      <td>M</td>\n",
       "      <td>Importado</td>\n",
       "      <td>Leve</td>\n",
       "      <td>España</td>\n",
       "      <td>2020-03-07T00:00:00.000</td>\n",
       "      <td>-   -</td>\n",
       "      <td>2020-03-14T00:00:00.000</td>\n",
       "      <td>2020-04-07T00:00:00.000</td>\n",
       "      <td>2020-03-14T00:00:00.000</td>\n",
       "    </tr>\n",
       "    <tr>\n",
       "      <th>19</th>\n",
       "      <td>2020-03-12T00:00:00.000</td>\n",
       "      <td>11001</td>\n",
       "      <td>Bogotá D.C.</td>\n",
       "      <td>Bogotá D.C.</td>\n",
       "      <td>Recuperado</td>\n",
       "      <td>54</td>\n",
       "      <td>F</td>\n",
       "      <td>Relacionado</td>\n",
       "      <td>Leve</td>\n",
       "      <td>Colombia</td>\n",
       "      <td>2020-03-09T00:00:00.000</td>\n",
       "      <td>-   -</td>\n",
       "      <td>2020-03-14T00:00:00.000</td>\n",
       "      <td>2020-03-24T00:00:00.000</td>\n",
       "      <td>2020-03-14T00:00:00.000</td>\n",
       "    </tr>\n",
       "    <tr>\n",
       "      <th>20</th>\n",
       "      <td>2020-03-11T00:00:00.000</td>\n",
       "      <td>5001</td>\n",
       "      <td>Medellín</td>\n",
       "      <td>Antioquia</td>\n",
       "      <td>Recuperado</td>\n",
       "      <td>26</td>\n",
       "      <td>F</td>\n",
       "      <td>Relacionado</td>\n",
       "      <td>Leve</td>\n",
       "      <td>Colombia</td>\n",
       "      <td>2020-03-09T00:00:00.000</td>\n",
       "      <td>-   -</td>\n",
       "      <td>2020-03-14T00:00:00.000</td>\n",
       "      <td>2020-03-24T00:00:00.000</td>\n",
       "      <td>2020-03-14T00:00:00.000</td>\n",
       "    </tr>\n",
       "    <tr>\n",
       "      <th>21</th>\n",
       "      <td>2020-03-11T00:00:00.000</td>\n",
       "      <td>5001</td>\n",
       "      <td>Medellín</td>\n",
       "      <td>Antioquia</td>\n",
       "      <td>Recuperado</td>\n",
       "      <td>28</td>\n",
       "      <td>M</td>\n",
       "      <td>Relacionado</td>\n",
       "      <td>Leve</td>\n",
       "      <td>Colombia</td>\n",
       "      <td>2020-03-10T00:00:00.000</td>\n",
       "      <td>-   -</td>\n",
       "      <td>2020-03-14T00:00:00.000</td>\n",
       "      <td>2020-04-10T00:00:00.000</td>\n",
       "      <td>2020-03-14T00:00:00.000</td>\n",
       "    </tr>\n",
       "    <tr>\n",
       "      <th>22</th>\n",
       "      <td>2020-03-12T00:00:00.000</td>\n",
       "      <td>5615</td>\n",
       "      <td>Rionegro</td>\n",
       "      <td>Antioquia</td>\n",
       "      <td>Recuperado</td>\n",
       "      <td>36</td>\n",
       "      <td>M</td>\n",
       "      <td>Importado</td>\n",
       "      <td>Leve</td>\n",
       "      <td>Estados Unidos de América</td>\n",
       "      <td>2020-03-09T00:00:00.000</td>\n",
       "      <td>-   -</td>\n",
       "      <td>2020-03-14T00:00:00.000</td>\n",
       "      <td>2020-03-24T00:00:00.000</td>\n",
       "      <td>2020-03-14T00:00:00.000</td>\n",
       "    </tr>\n",
       "    <tr>\n",
       "      <th>23</th>\n",
       "      <td>2020-03-12T00:00:00.000</td>\n",
       "      <td>11001</td>\n",
       "      <td>Bogotá D.C.</td>\n",
       "      <td>Bogotá D.C.</td>\n",
       "      <td>Recuperado</td>\n",
       "      <td>23</td>\n",
       "      <td>M</td>\n",
       "      <td>Relacionado</td>\n",
       "      <td>Leve</td>\n",
       "      <td>Colombia</td>\n",
       "      <td>2020-03-08T00:00:00.000</td>\n",
       "      <td>-   -</td>\n",
       "      <td>2020-03-14T00:00:00.000</td>\n",
       "      <td>2020-03-23T00:00:00.000</td>\n",
       "      <td>2020-03-14T00:00:00.000</td>\n",
       "    </tr>\n",
       "    <tr>\n",
       "      <th>24</th>\n",
       "      <td>2020-03-12T00:00:00.000</td>\n",
       "      <td>11001</td>\n",
       "      <td>Bogotá D.C.</td>\n",
       "      <td>Bogotá D.C.</td>\n",
       "      <td>Recuperado</td>\n",
       "      <td>18</td>\n",
       "      <td>F</td>\n",
       "      <td>Importado</td>\n",
       "      <td>Leve</td>\n",
       "      <td>España</td>\n",
       "      <td>2020-03-12T00:00:00.000</td>\n",
       "      <td>-   -</td>\n",
       "      <td>2020-03-14T00:00:00.000</td>\n",
       "      <td>2020-03-27T00:00:00.000</td>\n",
       "      <td>2020-03-14T00:00:00.000</td>\n",
       "    </tr>\n",
       "    <tr>\n",
       "      <th>25</th>\n",
       "      <td>2020-03-13T00:00:00.000</td>\n",
       "      <td>76001</td>\n",
       "      <td>Cali</td>\n",
       "      <td>Valle del Cauca</td>\n",
       "      <td>Casa</td>\n",
       "      <td>49</td>\n",
       "      <td>M</td>\n",
       "      <td>Importado</td>\n",
       "      <td>Leve</td>\n",
       "      <td>España</td>\n",
       "      <td>2020-03-10T00:00:00.000</td>\n",
       "      <td>-   -</td>\n",
       "      <td>2020-03-13T00:00:00.000</td>\n",
       "      <td>-   -</td>\n",
       "      <td>2020-03-13T00:00:00.000</td>\n",
       "    </tr>\n",
       "    <tr>\n",
       "      <th>26</th>\n",
       "      <td>2020-03-15T00:00:00.000</td>\n",
       "      <td>13001</td>\n",
       "      <td>Cartagena de Indias</td>\n",
       "      <td>Cartagena D.T. y C.</td>\n",
       "      <td>Recuperado</td>\n",
       "      <td>30</td>\n",
       "      <td>F</td>\n",
       "      <td>Relacionado</td>\n",
       "      <td>Asintomático</td>\n",
       "      <td>Colombia</td>\n",
       "      <td>Asintomático</td>\n",
       "      <td>-   -</td>\n",
       "      <td>2020-03-15T00:00:00.000</td>\n",
       "      <td>2020-03-25T00:00:00.000</td>\n",
       "      <td>2020-03-15T00:00:00.000</td>\n",
       "    </tr>\n",
       "    <tr>\n",
       "      <th>27</th>\n",
       "      <td>2020-03-15T00:00:00.000</td>\n",
       "      <td>13001</td>\n",
       "      <td>Cartagena de Indias</td>\n",
       "      <td>Cartagena D.T. y C.</td>\n",
       "      <td>Recuperado</td>\n",
       "      <td>30</td>\n",
       "      <td>F</td>\n",
       "      <td>Relacionado</td>\n",
       "      <td>Asintomático</td>\n",
       "      <td>Colombia</td>\n",
       "      <td>Asintomático</td>\n",
       "      <td>-   -</td>\n",
       "      <td>2020-03-15T00:00:00.000</td>\n",
       "      <td>2020-03-25T00:00:00.000</td>\n",
       "      <td>2020-03-15T00:00:00.000</td>\n",
       "    </tr>\n",
       "    <tr>\n",
       "      <th>28</th>\n",
       "      <td>2020-03-12T00:00:00.000</td>\n",
       "      <td>66170</td>\n",
       "      <td>Dosquebradas</td>\n",
       "      <td>Risaralda</td>\n",
       "      <td>Recuperado</td>\n",
       "      <td>22</td>\n",
       "      <td>M</td>\n",
       "      <td>Importado</td>\n",
       "      <td>Leve</td>\n",
       "      <td>Estados Unidos de América</td>\n",
       "      <td>2020-03-10T00:00:00.000</td>\n",
       "      <td>-   -</td>\n",
       "      <td>2020-03-14T00:00:00.000</td>\n",
       "      <td>2020-04-08T00:00:00.000</td>\n",
       "      <td>2020-03-14T00:00:00.000</td>\n",
       "    </tr>\n",
       "    <tr>\n",
       "      <th>29</th>\n",
       "      <td>2020-03-12T00:00:00.000</td>\n",
       "      <td>41001</td>\n",
       "      <td>Neiva</td>\n",
       "      <td>Huila</td>\n",
       "      <td>Recuperado</td>\n",
       "      <td>55</td>\n",
       "      <td>F</td>\n",
       "      <td>Relacionado</td>\n",
       "      <td>Leve</td>\n",
       "      <td>Colombia</td>\n",
       "      <td>2020-03-10T00:00:00.000</td>\n",
       "      <td>-   -</td>\n",
       "      <td>2020-03-12T00:00:00.000</td>\n",
       "      <td>2020-03-25T00:00:00.000</td>\n",
       "      <td>2020-03-12T00:00:00.000</td>\n",
       "    </tr>\n",
       "    <tr>\n",
       "      <th>30</th>\n",
       "      <td>2020-03-13T00:00:00.000</td>\n",
       "      <td>54001</td>\n",
       "      <td>Cúcuta</td>\n",
       "      <td>Norte de Santander</td>\n",
       "      <td>Recuperado</td>\n",
       "      <td>48</td>\n",
       "      <td>F</td>\n",
       "      <td>Importado</td>\n",
       "      <td>Leve</td>\n",
       "      <td>España</td>\n",
       "      <td>2020-03-11T00:00:00.000</td>\n",
       "      <td>-   -</td>\n",
       "      <td>2020-03-15T00:00:00.000</td>\n",
       "      <td>2020-03-25T00:00:00.000</td>\n",
       "      <td>2020-03-15T00:00:00.000</td>\n",
       "    </tr>\n",
       "    <tr>\n",
       "      <th>...</th>\n",
       "      <td>...</td>\n",
       "      <td>...</td>\n",
       "      <td>...</td>\n",
       "      <td>...</td>\n",
       "      <td>...</td>\n",
       "      <td>...</td>\n",
       "      <td>...</td>\n",
       "      <td>...</td>\n",
       "      <td>...</td>\n",
       "      <td>...</td>\n",
       "      <td>...</td>\n",
       "      <td>...</td>\n",
       "      <td>...</td>\n",
       "      <td>...</td>\n",
       "      <td>...</td>\n",
       "    </tr>\n",
       "    <tr>\n",
       "      <th>10506</th>\n",
       "      <td>2020-05-04T00:00:00.000</td>\n",
       "      <td>11001</td>\n",
       "      <td>Bogotá D.C.</td>\n",
       "      <td>Bogotá D.C.</td>\n",
       "      <td>Fallecido</td>\n",
       "      <td>89</td>\n",
       "      <td>F</td>\n",
       "      <td>En estudio</td>\n",
       "      <td>Fallecido</td>\n",
       "      <td>Colombia</td>\n",
       "      <td>2020-05-03T00:00:00.000</td>\n",
       "      <td>2020-05-08T00:00:00.000</td>\n",
       "      <td>2020-05-09T00:00:00.000</td>\n",
       "      <td>-   -</td>\n",
       "      <td>2020-05-09T00:00:00.000</td>\n",
       "    </tr>\n",
       "    <tr>\n",
       "      <th>10507</th>\n",
       "      <td>2020-05-04T00:00:00.000</td>\n",
       "      <td>11001</td>\n",
       "      <td>Bogotá D.C.</td>\n",
       "      <td>Bogotá D.C.</td>\n",
       "      <td>Hospital</td>\n",
       "      <td>37</td>\n",
       "      <td>M</td>\n",
       "      <td>En estudio</td>\n",
       "      <td>Moderado</td>\n",
       "      <td>Colombia</td>\n",
       "      <td>2020-04-29T00:00:00.000</td>\n",
       "      <td>-   -</td>\n",
       "      <td>2020-05-09T00:00:00.000</td>\n",
       "      <td>-   -</td>\n",
       "      <td>2020-05-09T00:00:00.000</td>\n",
       "    </tr>\n",
       "    <tr>\n",
       "      <th>10508</th>\n",
       "      <td>2020-05-04T00:00:00.000</td>\n",
       "      <td>11001</td>\n",
       "      <td>Bogotá D.C.</td>\n",
       "      <td>Bogotá D.C.</td>\n",
       "      <td>Casa</td>\n",
       "      <td>21</td>\n",
       "      <td>F</td>\n",
       "      <td>En estudio</td>\n",
       "      <td>Leve</td>\n",
       "      <td>Colombia</td>\n",
       "      <td>2020-05-04T00:00:00.000</td>\n",
       "      <td>-   -</td>\n",
       "      <td>2020-05-09T00:00:00.000</td>\n",
       "      <td>-   -</td>\n",
       "      <td>2020-05-09T00:00:00.000</td>\n",
       "    </tr>\n",
       "    <tr>\n",
       "      <th>10509</th>\n",
       "      <td>2020-05-04T00:00:00.000</td>\n",
       "      <td>11001</td>\n",
       "      <td>Bogotá D.C.</td>\n",
       "      <td>Bogotá D.C.</td>\n",
       "      <td>Casa</td>\n",
       "      <td>68</td>\n",
       "      <td>M</td>\n",
       "      <td>En estudio</td>\n",
       "      <td>Leve</td>\n",
       "      <td>Colombia</td>\n",
       "      <td>2020-04-27T00:00:00.000</td>\n",
       "      <td>-   -</td>\n",
       "      <td>2020-05-09T00:00:00.000</td>\n",
       "      <td>-   -</td>\n",
       "      <td>2020-05-09T00:00:00.000</td>\n",
       "    </tr>\n",
       "    <tr>\n",
       "      <th>10510</th>\n",
       "      <td>2020-05-05T00:00:00.000</td>\n",
       "      <td>11001</td>\n",
       "      <td>Bogotá D.C.</td>\n",
       "      <td>Bogotá D.C.</td>\n",
       "      <td>Casa</td>\n",
       "      <td>66</td>\n",
       "      <td>F</td>\n",
       "      <td>En estudio</td>\n",
       "      <td>Leve</td>\n",
       "      <td>Colombia</td>\n",
       "      <td>2020-04-27T00:00:00.000</td>\n",
       "      <td>-   -</td>\n",
       "      <td>2020-05-09T00:00:00.000</td>\n",
       "      <td>-   -</td>\n",
       "      <td>2020-05-09T00:00:00.000</td>\n",
       "    </tr>\n",
       "    <tr>\n",
       "      <th>10511</th>\n",
       "      <td>2020-05-04T00:00:00.000</td>\n",
       "      <td>11001</td>\n",
       "      <td>Bogotá D.C.</td>\n",
       "      <td>Bogotá D.C.</td>\n",
       "      <td>Casa</td>\n",
       "      <td>42</td>\n",
       "      <td>M</td>\n",
       "      <td>En estudio</td>\n",
       "      <td>Leve</td>\n",
       "      <td>Colombia</td>\n",
       "      <td>2020-05-04T00:00:00.000</td>\n",
       "      <td>-   -</td>\n",
       "      <td>2020-05-09T00:00:00.000</td>\n",
       "      <td>-   -</td>\n",
       "      <td>2020-05-09T00:00:00.000</td>\n",
       "    </tr>\n",
       "    <tr>\n",
       "      <th>10512</th>\n",
       "      <td>2020-05-05T00:00:00.000</td>\n",
       "      <td>11001</td>\n",
       "      <td>Bogotá D.C.</td>\n",
       "      <td>Bogotá D.C.</td>\n",
       "      <td>Casa</td>\n",
       "      <td>16</td>\n",
       "      <td>F</td>\n",
       "      <td>En estudio</td>\n",
       "      <td>Leve</td>\n",
       "      <td>Colombia</td>\n",
       "      <td>2020-05-05T00:00:00.000</td>\n",
       "      <td>-   -</td>\n",
       "      <td>2020-05-09T00:00:00.000</td>\n",
       "      <td>-   -</td>\n",
       "      <td>2020-05-09T00:00:00.000</td>\n",
       "    </tr>\n",
       "    <tr>\n",
       "      <th>10513</th>\n",
       "      <td>2020-05-05T00:00:00.000</td>\n",
       "      <td>11001</td>\n",
       "      <td>Bogotá D.C.</td>\n",
       "      <td>Bogotá D.C.</td>\n",
       "      <td>Casa</td>\n",
       "      <td>26</td>\n",
       "      <td>F</td>\n",
       "      <td>En estudio</td>\n",
       "      <td>Leve</td>\n",
       "      <td>Colombia</td>\n",
       "      <td>2020-05-05T00:00:00.000</td>\n",
       "      <td>-   -</td>\n",
       "      <td>2020-05-09T00:00:00.000</td>\n",
       "      <td>-   -</td>\n",
       "      <td>2020-05-09T00:00:00.000</td>\n",
       "    </tr>\n",
       "    <tr>\n",
       "      <th>10514</th>\n",
       "      <td>2020-05-05T00:00:00.000</td>\n",
       "      <td>11001</td>\n",
       "      <td>Bogotá D.C.</td>\n",
       "      <td>Bogotá D.C.</td>\n",
       "      <td>Casa</td>\n",
       "      <td>24</td>\n",
       "      <td>F</td>\n",
       "      <td>En estudio</td>\n",
       "      <td>Leve</td>\n",
       "      <td>Colombia</td>\n",
       "      <td>2020-05-02T00:00:00.000</td>\n",
       "      <td>-   -</td>\n",
       "      <td>2020-05-09T00:00:00.000</td>\n",
       "      <td>-   -</td>\n",
       "      <td>2020-05-09T00:00:00.000</td>\n",
       "    </tr>\n",
       "    <tr>\n",
       "      <th>10515</th>\n",
       "      <td>2020-05-05T00:00:00.000</td>\n",
       "      <td>11001</td>\n",
       "      <td>Bogotá D.C.</td>\n",
       "      <td>Bogotá D.C.</td>\n",
       "      <td>Casa</td>\n",
       "      <td>21</td>\n",
       "      <td>F</td>\n",
       "      <td>En estudio</td>\n",
       "      <td>Leve</td>\n",
       "      <td>Colombia</td>\n",
       "      <td>2020-05-05T00:00:00.000</td>\n",
       "      <td>-   -</td>\n",
       "      <td>2020-05-09T00:00:00.000</td>\n",
       "      <td>-   -</td>\n",
       "      <td>2020-05-09T00:00:00.000</td>\n",
       "    </tr>\n",
       "    <tr>\n",
       "      <th>10516</th>\n",
       "      <td>2020-05-05T00:00:00.000</td>\n",
       "      <td>11001</td>\n",
       "      <td>Bogotá D.C.</td>\n",
       "      <td>Bogotá D.C.</td>\n",
       "      <td>Casa</td>\n",
       "      <td>42</td>\n",
       "      <td>F</td>\n",
       "      <td>En estudio</td>\n",
       "      <td>Leve</td>\n",
       "      <td>Colombia</td>\n",
       "      <td>2020-05-05T00:00:00.000</td>\n",
       "      <td>-   -</td>\n",
       "      <td>2020-05-09T00:00:00.000</td>\n",
       "      <td>-   -</td>\n",
       "      <td>2020-05-09T00:00:00.000</td>\n",
       "    </tr>\n",
       "    <tr>\n",
       "      <th>10517</th>\n",
       "      <td>2020-05-05T00:00:00.000</td>\n",
       "      <td>11001</td>\n",
       "      <td>Bogotá D.C.</td>\n",
       "      <td>Bogotá D.C.</td>\n",
       "      <td>Casa</td>\n",
       "      <td>52</td>\n",
       "      <td>F</td>\n",
       "      <td>En estudio</td>\n",
       "      <td>Leve</td>\n",
       "      <td>Colombia</td>\n",
       "      <td>2020-05-01T00:00:00.000</td>\n",
       "      <td>-   -</td>\n",
       "      <td>2020-05-09T00:00:00.000</td>\n",
       "      <td>-   -</td>\n",
       "      <td>2020-05-09T00:00:00.000</td>\n",
       "    </tr>\n",
       "    <tr>\n",
       "      <th>10518</th>\n",
       "      <td>2020-05-05T00:00:00.000</td>\n",
       "      <td>11001</td>\n",
       "      <td>Bogotá D.C.</td>\n",
       "      <td>Bogotá D.C.</td>\n",
       "      <td>Casa</td>\n",
       "      <td>45</td>\n",
       "      <td>F</td>\n",
       "      <td>En estudio</td>\n",
       "      <td>Leve</td>\n",
       "      <td>Colombia</td>\n",
       "      <td>2020-04-26T00:00:00.000</td>\n",
       "      <td>-   -</td>\n",
       "      <td>2020-05-09T00:00:00.000</td>\n",
       "      <td>-   -</td>\n",
       "      <td>2020-05-09T00:00:00.000</td>\n",
       "    </tr>\n",
       "    <tr>\n",
       "      <th>10519</th>\n",
       "      <td>2020-05-05T00:00:00.000</td>\n",
       "      <td>11001</td>\n",
       "      <td>Bogotá D.C.</td>\n",
       "      <td>Bogotá D.C.</td>\n",
       "      <td>Casa</td>\n",
       "      <td>48</td>\n",
       "      <td>F</td>\n",
       "      <td>En estudio</td>\n",
       "      <td>Leve</td>\n",
       "      <td>Colombia</td>\n",
       "      <td>2020-04-28T00:00:00.000</td>\n",
       "      <td>-   -</td>\n",
       "      <td>2020-05-09T00:00:00.000</td>\n",
       "      <td>-   -</td>\n",
       "      <td>2020-05-09T00:00:00.000</td>\n",
       "    </tr>\n",
       "    <tr>\n",
       "      <th>10520</th>\n",
       "      <td>2020-05-05T00:00:00.000</td>\n",
       "      <td>11001</td>\n",
       "      <td>Bogotá D.C.</td>\n",
       "      <td>Bogotá D.C.</td>\n",
       "      <td>Casa</td>\n",
       "      <td>51</td>\n",
       "      <td>M</td>\n",
       "      <td>En estudio</td>\n",
       "      <td>Leve</td>\n",
       "      <td>Colombia</td>\n",
       "      <td>2020-04-25T00:00:00.000</td>\n",
       "      <td>-   -</td>\n",
       "      <td>2020-05-09T00:00:00.000</td>\n",
       "      <td>-   -</td>\n",
       "      <td>2020-05-09T00:00:00.000</td>\n",
       "    </tr>\n",
       "    <tr>\n",
       "      <th>10521</th>\n",
       "      <td>2020-05-05T00:00:00.000</td>\n",
       "      <td>11001</td>\n",
       "      <td>Bogotá D.C.</td>\n",
       "      <td>Bogotá D.C.</td>\n",
       "      <td>Casa</td>\n",
       "      <td>49</td>\n",
       "      <td>M</td>\n",
       "      <td>En estudio</td>\n",
       "      <td>Leve</td>\n",
       "      <td>Colombia</td>\n",
       "      <td>2020-05-02T00:00:00.000</td>\n",
       "      <td>-   -</td>\n",
       "      <td>2020-05-09T00:00:00.000</td>\n",
       "      <td>-   -</td>\n",
       "      <td>2020-05-09T00:00:00.000</td>\n",
       "    </tr>\n",
       "    <tr>\n",
       "      <th>10522</th>\n",
       "      <td>2020-05-05T00:00:00.000</td>\n",
       "      <td>11001</td>\n",
       "      <td>Bogotá D.C.</td>\n",
       "      <td>Bogotá D.C.</td>\n",
       "      <td>Casa</td>\n",
       "      <td>56</td>\n",
       "      <td>F</td>\n",
       "      <td>En estudio</td>\n",
       "      <td>Leve</td>\n",
       "      <td>Colombia</td>\n",
       "      <td>2020-05-04T00:00:00.000</td>\n",
       "      <td>-   -</td>\n",
       "      <td>2020-05-09T00:00:00.000</td>\n",
       "      <td>-   -</td>\n",
       "      <td>2020-05-09T00:00:00.000</td>\n",
       "    </tr>\n",
       "    <tr>\n",
       "      <th>10523</th>\n",
       "      <td>2020-05-05T00:00:00.000</td>\n",
       "      <td>11001</td>\n",
       "      <td>Bogotá D.C.</td>\n",
       "      <td>Bogotá D.C.</td>\n",
       "      <td>Casa</td>\n",
       "      <td>17</td>\n",
       "      <td>F</td>\n",
       "      <td>En estudio</td>\n",
       "      <td>Leve</td>\n",
       "      <td>Colombia</td>\n",
       "      <td>2020-05-03T00:00:00.000</td>\n",
       "      <td>-   -</td>\n",
       "      <td>2020-05-09T00:00:00.000</td>\n",
       "      <td>-   -</td>\n",
       "      <td>2020-05-09T00:00:00.000</td>\n",
       "    </tr>\n",
       "    <tr>\n",
       "      <th>10524</th>\n",
       "      <td>2020-05-05T00:00:00.000</td>\n",
       "      <td>11001</td>\n",
       "      <td>Bogotá D.C.</td>\n",
       "      <td>Bogotá D.C.</td>\n",
       "      <td>Casa</td>\n",
       "      <td>49</td>\n",
       "      <td>M</td>\n",
       "      <td>En estudio</td>\n",
       "      <td>Leve</td>\n",
       "      <td>Colombia</td>\n",
       "      <td>2020-04-29T00:00:00.000</td>\n",
       "      <td>-   -</td>\n",
       "      <td>2020-05-09T00:00:00.000</td>\n",
       "      <td>-   -</td>\n",
       "      <td>2020-05-09T00:00:00.000</td>\n",
       "    </tr>\n",
       "    <tr>\n",
       "      <th>10525</th>\n",
       "      <td>2020-05-05T00:00:00.000</td>\n",
       "      <td>11001</td>\n",
       "      <td>Bogotá D.C.</td>\n",
       "      <td>Bogotá D.C.</td>\n",
       "      <td>Casa</td>\n",
       "      <td>26</td>\n",
       "      <td>M</td>\n",
       "      <td>En estudio</td>\n",
       "      <td>Leve</td>\n",
       "      <td>Colombia</td>\n",
       "      <td>2020-05-05T00:00:00.000</td>\n",
       "      <td>-   -</td>\n",
       "      <td>2020-05-09T00:00:00.000</td>\n",
       "      <td>-   -</td>\n",
       "      <td>2020-05-09T00:00:00.000</td>\n",
       "    </tr>\n",
       "    <tr>\n",
       "      <th>10526</th>\n",
       "      <td>2020-05-05T00:00:00.000</td>\n",
       "      <td>11001</td>\n",
       "      <td>Bogotá D.C.</td>\n",
       "      <td>Bogotá D.C.</td>\n",
       "      <td>Casa</td>\n",
       "      <td>79</td>\n",
       "      <td>F</td>\n",
       "      <td>En estudio</td>\n",
       "      <td>Leve</td>\n",
       "      <td>Colombia</td>\n",
       "      <td>2020-04-30T00:00:00.000</td>\n",
       "      <td>-   -</td>\n",
       "      <td>2020-05-09T00:00:00.000</td>\n",
       "      <td>-   -</td>\n",
       "      <td>2020-05-09T00:00:00.000</td>\n",
       "    </tr>\n",
       "    <tr>\n",
       "      <th>10527</th>\n",
       "      <td>2020-05-05T00:00:00.000</td>\n",
       "      <td>11001</td>\n",
       "      <td>Bogotá D.C.</td>\n",
       "      <td>Bogotá D.C.</td>\n",
       "      <td>Casa</td>\n",
       "      <td>31</td>\n",
       "      <td>M</td>\n",
       "      <td>En estudio</td>\n",
       "      <td>Leve</td>\n",
       "      <td>Colombia</td>\n",
       "      <td>2020-04-30T00:00:00.000</td>\n",
       "      <td>-   -</td>\n",
       "      <td>2020-05-09T00:00:00.000</td>\n",
       "      <td>-   -</td>\n",
       "      <td>2020-05-09T00:00:00.000</td>\n",
       "    </tr>\n",
       "    <tr>\n",
       "      <th>10528</th>\n",
       "      <td>2020-05-05T00:00:00.000</td>\n",
       "      <td>11001</td>\n",
       "      <td>Bogotá D.C.</td>\n",
       "      <td>Bogotá D.C.</td>\n",
       "      <td>Casa</td>\n",
       "      <td>32</td>\n",
       "      <td>F</td>\n",
       "      <td>En estudio</td>\n",
       "      <td>Leve</td>\n",
       "      <td>Colombia</td>\n",
       "      <td>2020-05-05T00:00:00.000</td>\n",
       "      <td>-   -</td>\n",
       "      <td>2020-05-09T00:00:00.000</td>\n",
       "      <td>-   -</td>\n",
       "      <td>2020-05-09T00:00:00.000</td>\n",
       "    </tr>\n",
       "    <tr>\n",
       "      <th>10529</th>\n",
       "      <td>2020-05-05T00:00:00.000</td>\n",
       "      <td>11001</td>\n",
       "      <td>Bogotá D.C.</td>\n",
       "      <td>Bogotá D.C.</td>\n",
       "      <td>Casa</td>\n",
       "      <td>63</td>\n",
       "      <td>M</td>\n",
       "      <td>En estudio</td>\n",
       "      <td>Leve</td>\n",
       "      <td>Colombia</td>\n",
       "      <td>2020-05-04T00:00:00.000</td>\n",
       "      <td>-   -</td>\n",
       "      <td>2020-05-09T00:00:00.000</td>\n",
       "      <td>-   -</td>\n",
       "      <td>2020-05-09T00:00:00.000</td>\n",
       "    </tr>\n",
       "    <tr>\n",
       "      <th>10530</th>\n",
       "      <td>2020-05-06T00:00:00.000</td>\n",
       "      <td>11001</td>\n",
       "      <td>Bogotá D.C.</td>\n",
       "      <td>Bogotá D.C.</td>\n",
       "      <td>Casa</td>\n",
       "      <td>38</td>\n",
       "      <td>M</td>\n",
       "      <td>En estudio</td>\n",
       "      <td>Leve</td>\n",
       "      <td>Colombia</td>\n",
       "      <td>2020-05-06T00:00:00.000</td>\n",
       "      <td>-   -</td>\n",
       "      <td>2020-05-09T00:00:00.000</td>\n",
       "      <td>-   -</td>\n",
       "      <td>2020-05-09T00:00:00.000</td>\n",
       "    </tr>\n",
       "    <tr>\n",
       "      <th>10531</th>\n",
       "      <td>2020-05-07T00:00:00.000</td>\n",
       "      <td>11001</td>\n",
       "      <td>Bogotá D.C.</td>\n",
       "      <td>Bogotá D.C.</td>\n",
       "      <td>Casa</td>\n",
       "      <td>21</td>\n",
       "      <td>M</td>\n",
       "      <td>En estudio</td>\n",
       "      <td>Leve</td>\n",
       "      <td>Colombia</td>\n",
       "      <td>2020-05-03T00:00:00.000</td>\n",
       "      <td>-   -</td>\n",
       "      <td>2020-05-09T00:00:00.000</td>\n",
       "      <td>-   -</td>\n",
       "      <td>2020-05-09T00:00:00.000</td>\n",
       "    </tr>\n",
       "    <tr>\n",
       "      <th>10532</th>\n",
       "      <td>2020-05-07T00:00:00.000</td>\n",
       "      <td>11001</td>\n",
       "      <td>Bogotá D.C.</td>\n",
       "      <td>Bogotá D.C.</td>\n",
       "      <td>Casa</td>\n",
       "      <td>29</td>\n",
       "      <td>M</td>\n",
       "      <td>En estudio</td>\n",
       "      <td>Leve</td>\n",
       "      <td>Colombia</td>\n",
       "      <td>2020-05-03T00:00:00.000</td>\n",
       "      <td>-   -</td>\n",
       "      <td>2020-05-09T00:00:00.000</td>\n",
       "      <td>-   -</td>\n",
       "      <td>2020-05-09T00:00:00.000</td>\n",
       "    </tr>\n",
       "    <tr>\n",
       "      <th>10533</th>\n",
       "      <td>2020-05-07T00:00:00.000</td>\n",
       "      <td>11001</td>\n",
       "      <td>Bogotá D.C.</td>\n",
       "      <td>Bogotá D.C.</td>\n",
       "      <td>Casa</td>\n",
       "      <td>36</td>\n",
       "      <td>F</td>\n",
       "      <td>Relacionado</td>\n",
       "      <td>Leve</td>\n",
       "      <td>Colombia</td>\n",
       "      <td>2020-05-04T00:00:00.000</td>\n",
       "      <td>-   -</td>\n",
       "      <td>2020-05-09T00:00:00.000</td>\n",
       "      <td>-   -</td>\n",
       "      <td>2020-05-09T00:00:00.000</td>\n",
       "    </tr>\n",
       "    <tr>\n",
       "      <th>10534</th>\n",
       "      <td>2020-04-26T00:00:00.000</td>\n",
       "      <td>91001</td>\n",
       "      <td>Leticia</td>\n",
       "      <td>Amazonas</td>\n",
       "      <td>Fallecido</td>\n",
       "      <td>64</td>\n",
       "      <td>M</td>\n",
       "      <td>En estudio</td>\n",
       "      <td>Fallecido</td>\n",
       "      <td>Colombia</td>\n",
       "      <td>2020-04-26T00:00:00.000</td>\n",
       "      <td>2020-05-07T00:00:00.000</td>\n",
       "      <td>2020-05-09T00:00:00.000</td>\n",
       "      <td>-   -</td>\n",
       "      <td>2020-05-09T00:00:00.000</td>\n",
       "    </tr>\n",
       "    <tr>\n",
       "      <th>10535</th>\n",
       "      <td>2020-04-28T00:00:00.000</td>\n",
       "      <td>91001</td>\n",
       "      <td>Leticia</td>\n",
       "      <td>Amazonas</td>\n",
       "      <td>Fallecido</td>\n",
       "      <td>79</td>\n",
       "      <td>M</td>\n",
       "      <td>Relacionado</td>\n",
       "      <td>Fallecido</td>\n",
       "      <td>Colombia</td>\n",
       "      <td>2020-04-26T00:00:00.000</td>\n",
       "      <td>2020-04-29T00:00:00.000</td>\n",
       "      <td>2020-05-09T00:00:00.000</td>\n",
       "      <td>-   -</td>\n",
       "      <td>2020-05-09T00:00:00.000</td>\n",
       "    </tr>\n",
       "  </tbody>\n",
       "</table>\n",
       "<p>10495 rows × 15 columns</p>\n",
       "</div>"
      ],
      "text/plain": [
       "              Fecha de notificación  Codigo DIVIPOLA  Ciudad de ubicación  \\\n",
       "ID de caso                                                                  \n",
       "1           2020-03-02T00:00:00.000            11001          Bogotá D.C.   \n",
       "2           2020-03-06T00:00:00.000            76111  Guadalajara de Buga   \n",
       "3           2020-03-07T00:00:00.000             5001             Medellín   \n",
       "4           2020-03-09T00:00:00.000             5001             Medellín   \n",
       "5           2020-03-09T00:00:00.000             5001             Medellín   \n",
       "6           2020-03-10T00:00:00.000             5360               Itagüí   \n",
       "7           2020-03-08T00:00:00.000            13001  Cartagena de Indias   \n",
       "8           2020-03-09T00:00:00.000            11001          Bogotá D.C.   \n",
       "9           2020-03-08T00:00:00.000            11001          Bogotá D.C.   \n",
       "10          2020-03-12T00:00:00.000            11001          Bogotá D.C.   \n",
       "11          2020-03-11T00:00:00.000            11001          Bogotá D.C.   \n",
       "12          2020-03-10T00:00:00.000            41001                Neiva   \n",
       "13          2020-03-10T00:00:00.000            41001                Neiva   \n",
       "14          2020-03-10T00:00:00.000            76520              Palmira   \n",
       "15          2020-03-13T00:00:00.000            50001        Villavicencio   \n",
       "16          2020-03-11T00:00:00.000            11001          Bogotá D.C.   \n",
       "17          2020-03-11T00:00:00.000            11001          Bogotá D.C.   \n",
       "18          2020-03-11T00:00:00.000            11001          Bogotá D.C.   \n",
       "19          2020-03-12T00:00:00.000            11001          Bogotá D.C.   \n",
       "20          2020-03-11T00:00:00.000             5001             Medellín   \n",
       "21          2020-03-11T00:00:00.000             5001             Medellín   \n",
       "22          2020-03-12T00:00:00.000             5615             Rionegro   \n",
       "23          2020-03-12T00:00:00.000            11001          Bogotá D.C.   \n",
       "24          2020-03-12T00:00:00.000            11001          Bogotá D.C.   \n",
       "25          2020-03-13T00:00:00.000            76001                 Cali   \n",
       "26          2020-03-15T00:00:00.000            13001  Cartagena de Indias   \n",
       "27          2020-03-15T00:00:00.000            13001  Cartagena de Indias   \n",
       "28          2020-03-12T00:00:00.000            66170         Dosquebradas   \n",
       "29          2020-03-12T00:00:00.000            41001                Neiva   \n",
       "30          2020-03-13T00:00:00.000            54001               Cúcuta   \n",
       "...                             ...              ...                  ...   \n",
       "10506       2020-05-04T00:00:00.000            11001          Bogotá D.C.   \n",
       "10507       2020-05-04T00:00:00.000            11001          Bogotá D.C.   \n",
       "10508       2020-05-04T00:00:00.000            11001          Bogotá D.C.   \n",
       "10509       2020-05-04T00:00:00.000            11001          Bogotá D.C.   \n",
       "10510       2020-05-05T00:00:00.000            11001          Bogotá D.C.   \n",
       "10511       2020-05-04T00:00:00.000            11001          Bogotá D.C.   \n",
       "10512       2020-05-05T00:00:00.000            11001          Bogotá D.C.   \n",
       "10513       2020-05-05T00:00:00.000            11001          Bogotá D.C.   \n",
       "10514       2020-05-05T00:00:00.000            11001          Bogotá D.C.   \n",
       "10515       2020-05-05T00:00:00.000            11001          Bogotá D.C.   \n",
       "10516       2020-05-05T00:00:00.000            11001          Bogotá D.C.   \n",
       "10517       2020-05-05T00:00:00.000            11001          Bogotá D.C.   \n",
       "10518       2020-05-05T00:00:00.000            11001          Bogotá D.C.   \n",
       "10519       2020-05-05T00:00:00.000            11001          Bogotá D.C.   \n",
       "10520       2020-05-05T00:00:00.000            11001          Bogotá D.C.   \n",
       "10521       2020-05-05T00:00:00.000            11001          Bogotá D.C.   \n",
       "10522       2020-05-05T00:00:00.000            11001          Bogotá D.C.   \n",
       "10523       2020-05-05T00:00:00.000            11001          Bogotá D.C.   \n",
       "10524       2020-05-05T00:00:00.000            11001          Bogotá D.C.   \n",
       "10525       2020-05-05T00:00:00.000            11001          Bogotá D.C.   \n",
       "10526       2020-05-05T00:00:00.000            11001          Bogotá D.C.   \n",
       "10527       2020-05-05T00:00:00.000            11001          Bogotá D.C.   \n",
       "10528       2020-05-05T00:00:00.000            11001          Bogotá D.C.   \n",
       "10529       2020-05-05T00:00:00.000            11001          Bogotá D.C.   \n",
       "10530       2020-05-06T00:00:00.000            11001          Bogotá D.C.   \n",
       "10531       2020-05-07T00:00:00.000            11001          Bogotá D.C.   \n",
       "10532       2020-05-07T00:00:00.000            11001          Bogotá D.C.   \n",
       "10533       2020-05-07T00:00:00.000            11001          Bogotá D.C.   \n",
       "10534       2020-04-26T00:00:00.000            91001              Leticia   \n",
       "10535       2020-04-28T00:00:00.000            91001              Leticia   \n",
       "\n",
       "           Departamento o Distrito     atención  Edad Sexo         Tipo  \\\n",
       "ID de caso                                                                \n",
       "1                       Bogotá D.C.  Recuperado    19    F    Importado   \n",
       "2                   Valle del Cauca  Recuperado    34    M    Importado   \n",
       "3                         Antioquia  Recuperado    50    F    Importado   \n",
       "4                         Antioquia  Recuperado    55    M  Relacionado   \n",
       "5                         Antioquia  Recuperado    25    M  Relacionado   \n",
       "6                         Antioquia  Recuperado    27    F  Relacionado   \n",
       "7               Cartagena D.T. y C.  Recuperado    85    F    Importado   \n",
       "8                       Bogotá D.C.  Recuperado    22    F    Importado   \n",
       "9                       Bogotá D.C.  Recuperado    28    F    Importado   \n",
       "10                      Bogotá D.C.  Recuperado    36    F    Importado   \n",
       "11                      Bogotá D.C.  Recuperado    42    F    Importado   \n",
       "12                            Huila  Recuperado    74    F    Importado   \n",
       "13                            Huila  Recuperado    68    F  Relacionado   \n",
       "14                  Valle del Cauca  Recuperado    48    M    Importado   \n",
       "15                             Meta  Recuperado    30    F    Importado   \n",
       "16                      Bogotá D.C.  Recuperado    61    F    Importado   \n",
       "17                      Bogotá D.C.  Recuperado    73    F    Importado   \n",
       "18                      Bogotá D.C.  Recuperado    54    M    Importado   \n",
       "19                      Bogotá D.C.  Recuperado    54    F  Relacionado   \n",
       "20                        Antioquia  Recuperado    26    F  Relacionado   \n",
       "21                        Antioquia  Recuperado    28    M  Relacionado   \n",
       "22                        Antioquia  Recuperado    36    M    Importado   \n",
       "23                      Bogotá D.C.  Recuperado    23    M  Relacionado   \n",
       "24                      Bogotá D.C.  Recuperado    18    F    Importado   \n",
       "25                  Valle del Cauca        Casa    49    M    Importado   \n",
       "26              Cartagena D.T. y C.  Recuperado    30    F  Relacionado   \n",
       "27              Cartagena D.T. y C.  Recuperado    30    F  Relacionado   \n",
       "28                        Risaralda  Recuperado    22    M    Importado   \n",
       "29                            Huila  Recuperado    55    F  Relacionado   \n",
       "30               Norte de Santander  Recuperado    48    F    Importado   \n",
       "...                             ...         ...   ...  ...          ...   \n",
       "10506                   Bogotá D.C.   Fallecido    89    F   En estudio   \n",
       "10507                   Bogotá D.C.    Hospital    37    M   En estudio   \n",
       "10508                   Bogotá D.C.        Casa    21    F   En estudio   \n",
       "10509                   Bogotá D.C.        Casa    68    M   En estudio   \n",
       "10510                   Bogotá D.C.        Casa    66    F   En estudio   \n",
       "10511                   Bogotá D.C.        Casa    42    M   En estudio   \n",
       "10512                   Bogotá D.C.        Casa    16    F   En estudio   \n",
       "10513                   Bogotá D.C.        Casa    26    F   En estudio   \n",
       "10514                   Bogotá D.C.        Casa    24    F   En estudio   \n",
       "10515                   Bogotá D.C.        Casa    21    F   En estudio   \n",
       "10516                   Bogotá D.C.        Casa    42    F   En estudio   \n",
       "10517                   Bogotá D.C.        Casa    52    F   En estudio   \n",
       "10518                   Bogotá D.C.        Casa    45    F   En estudio   \n",
       "10519                   Bogotá D.C.        Casa    48    F   En estudio   \n",
       "10520                   Bogotá D.C.        Casa    51    M   En estudio   \n",
       "10521                   Bogotá D.C.        Casa    49    M   En estudio   \n",
       "10522                   Bogotá D.C.        Casa    56    F   En estudio   \n",
       "10523                   Bogotá D.C.        Casa    17    F   En estudio   \n",
       "10524                   Bogotá D.C.        Casa    49    M   En estudio   \n",
       "10525                   Bogotá D.C.        Casa    26    M   En estudio   \n",
       "10526                   Bogotá D.C.        Casa    79    F   En estudio   \n",
       "10527                   Bogotá D.C.        Casa    31    M   En estudio   \n",
       "10528                   Bogotá D.C.        Casa    32    F   En estudio   \n",
       "10529                   Bogotá D.C.        Casa    63    M   En estudio   \n",
       "10530                   Bogotá D.C.        Casa    38    M   En estudio   \n",
       "10531                   Bogotá D.C.        Casa    21    M   En estudio   \n",
       "10532                   Bogotá D.C.        Casa    29    M   En estudio   \n",
       "10533                   Bogotá D.C.        Casa    36    F  Relacionado   \n",
       "10534                      Amazonas   Fallecido    64    M   En estudio   \n",
       "10535                      Amazonas   Fallecido    79    M  Relacionado   \n",
       "\n",
       "                  Estado        País de procedencia                      FIS  \\\n",
       "ID de caso                                                                     \n",
       "1                   Leve                     Italia  2020-02-27T00:00:00.000   \n",
       "2                   Leve                     España  2020-03-04T00:00:00.000   \n",
       "3                   Leve                     España  2020-02-29T00:00:00.000   \n",
       "4                   Leve                   Colombia  2020-03-06T00:00:00.000   \n",
       "5                   Leve                   Colombia  2020-03-08T00:00:00.000   \n",
       "6                   Leve                   Colombia  2020-03-06T00:00:00.000   \n",
       "7                   Leve  Estados Unidos de América  2020-03-02T00:00:00.000   \n",
       "8                   Leve                     España  2020-03-06T00:00:00.000   \n",
       "9                   Leve                     España  2020-03-07T00:00:00.000   \n",
       "10                  Leve                     España  2020-03-06T00:00:00.000   \n",
       "11                  Leve                     España  2020-03-06T00:00:00.000   \n",
       "12                  Leve                     Italia  2020-03-06T00:00:00.000   \n",
       "13                  Leve                   Colombia  2020-03-06T00:00:00.000   \n",
       "14                  Leve                     España  2020-03-07T00:00:00.000   \n",
       "15                  Leve                     España  2020-03-09T00:00:00.000   \n",
       "16                  Leve                     Italia  2020-03-08T00:00:00.000   \n",
       "17                  Leve                     España  2020-02-28T00:00:00.000   \n",
       "18                  Leve                     España  2020-03-07T00:00:00.000   \n",
       "19                  Leve                   Colombia  2020-03-09T00:00:00.000   \n",
       "20                  Leve                   Colombia  2020-03-09T00:00:00.000   \n",
       "21                  Leve                   Colombia  2020-03-10T00:00:00.000   \n",
       "22                  Leve  Estados Unidos de América  2020-03-09T00:00:00.000   \n",
       "23                  Leve                   Colombia  2020-03-08T00:00:00.000   \n",
       "24                  Leve                     España  2020-03-12T00:00:00.000   \n",
       "25                  Leve                     España  2020-03-10T00:00:00.000   \n",
       "26          Asintomático                   Colombia             Asintomático   \n",
       "27          Asintomático                   Colombia             Asintomático   \n",
       "28                  Leve  Estados Unidos de América  2020-03-10T00:00:00.000   \n",
       "29                  Leve                   Colombia  2020-03-10T00:00:00.000   \n",
       "30                  Leve                     España  2020-03-11T00:00:00.000   \n",
       "...                  ...                        ...                      ...   \n",
       "10506          Fallecido                   Colombia  2020-05-03T00:00:00.000   \n",
       "10507           Moderado                   Colombia  2020-04-29T00:00:00.000   \n",
       "10508               Leve                   Colombia  2020-05-04T00:00:00.000   \n",
       "10509               Leve                   Colombia  2020-04-27T00:00:00.000   \n",
       "10510               Leve                   Colombia  2020-04-27T00:00:00.000   \n",
       "10511               Leve                   Colombia  2020-05-04T00:00:00.000   \n",
       "10512               Leve                   Colombia  2020-05-05T00:00:00.000   \n",
       "10513               Leve                   Colombia  2020-05-05T00:00:00.000   \n",
       "10514               Leve                   Colombia  2020-05-02T00:00:00.000   \n",
       "10515               Leve                   Colombia  2020-05-05T00:00:00.000   \n",
       "10516               Leve                   Colombia  2020-05-05T00:00:00.000   \n",
       "10517               Leve                   Colombia  2020-05-01T00:00:00.000   \n",
       "10518               Leve                   Colombia  2020-04-26T00:00:00.000   \n",
       "10519               Leve                   Colombia  2020-04-28T00:00:00.000   \n",
       "10520               Leve                   Colombia  2020-04-25T00:00:00.000   \n",
       "10521               Leve                   Colombia  2020-05-02T00:00:00.000   \n",
       "10522               Leve                   Colombia  2020-05-04T00:00:00.000   \n",
       "10523               Leve                   Colombia  2020-05-03T00:00:00.000   \n",
       "10524               Leve                   Colombia  2020-04-29T00:00:00.000   \n",
       "10525               Leve                   Colombia  2020-05-05T00:00:00.000   \n",
       "10526               Leve                   Colombia  2020-04-30T00:00:00.000   \n",
       "10527               Leve                   Colombia  2020-04-30T00:00:00.000   \n",
       "10528               Leve                   Colombia  2020-05-05T00:00:00.000   \n",
       "10529               Leve                   Colombia  2020-05-04T00:00:00.000   \n",
       "10530               Leve                   Colombia  2020-05-06T00:00:00.000   \n",
       "10531               Leve                   Colombia  2020-05-03T00:00:00.000   \n",
       "10532               Leve                   Colombia  2020-05-03T00:00:00.000   \n",
       "10533               Leve                   Colombia  2020-05-04T00:00:00.000   \n",
       "10534          Fallecido                   Colombia  2020-04-26T00:00:00.000   \n",
       "10535          Fallecido                   Colombia  2020-04-26T00:00:00.000   \n",
       "\n",
       "                    Fecha de muerte        Fecha diagnostico  \\\n",
       "ID de caso                                                     \n",
       "1                             -   -  2020-03-06T00:00:00.000   \n",
       "2                             -   -  2020-03-09T00:00:00.000   \n",
       "3                             -   -  2020-03-09T00:00:00.000   \n",
       "4                             -   -  2020-03-11T00:00:00.000   \n",
       "5                             -   -  2020-03-11T00:00:00.000   \n",
       "6                             -   -  2020-03-11T00:00:00.000   \n",
       "7                             -   -  2020-03-11T00:00:00.000   \n",
       "8                             -   -  2020-03-11T00:00:00.000   \n",
       "9                             -   -  2020-03-11T00:00:00.000   \n",
       "10                            -   -  2020-03-12T00:00:00.000   \n",
       "11                            -   -  2020-03-12T00:00:00.000   \n",
       "12                            -   -  2020-03-12T00:00:00.000   \n",
       "13                            -   -  2020-03-12T00:00:00.000   \n",
       "14                            -   -  2020-03-13T00:00:00.000   \n",
       "15                            -   -  2020-03-13T00:00:00.000   \n",
       "16                            -   -  2020-03-13T00:00:00.000   \n",
       "17                            -   -  2020-03-14T00:00:00.000   \n",
       "18                            -   -  2020-03-14T00:00:00.000   \n",
       "19                            -   -  2020-03-14T00:00:00.000   \n",
       "20                            -   -  2020-03-14T00:00:00.000   \n",
       "21                            -   -  2020-03-14T00:00:00.000   \n",
       "22                            -   -  2020-03-14T00:00:00.000   \n",
       "23                            -   -  2020-03-14T00:00:00.000   \n",
       "24                            -   -  2020-03-14T00:00:00.000   \n",
       "25                            -   -  2020-03-13T00:00:00.000   \n",
       "26                            -   -  2020-03-15T00:00:00.000   \n",
       "27                            -   -  2020-03-15T00:00:00.000   \n",
       "28                            -   -  2020-03-14T00:00:00.000   \n",
       "29                            -   -  2020-03-12T00:00:00.000   \n",
       "30                            -   -  2020-03-15T00:00:00.000   \n",
       "...                             ...                      ...   \n",
       "10506       2020-05-08T00:00:00.000  2020-05-09T00:00:00.000   \n",
       "10507                         -   -  2020-05-09T00:00:00.000   \n",
       "10508                         -   -  2020-05-09T00:00:00.000   \n",
       "10509                         -   -  2020-05-09T00:00:00.000   \n",
       "10510                         -   -  2020-05-09T00:00:00.000   \n",
       "10511                         -   -  2020-05-09T00:00:00.000   \n",
       "10512                         -   -  2020-05-09T00:00:00.000   \n",
       "10513                         -   -  2020-05-09T00:00:00.000   \n",
       "10514                         -   -  2020-05-09T00:00:00.000   \n",
       "10515                         -   -  2020-05-09T00:00:00.000   \n",
       "10516                         -   -  2020-05-09T00:00:00.000   \n",
       "10517                         -   -  2020-05-09T00:00:00.000   \n",
       "10518                         -   -  2020-05-09T00:00:00.000   \n",
       "10519                         -   -  2020-05-09T00:00:00.000   \n",
       "10520                         -   -  2020-05-09T00:00:00.000   \n",
       "10521                         -   -  2020-05-09T00:00:00.000   \n",
       "10522                         -   -  2020-05-09T00:00:00.000   \n",
       "10523                         -   -  2020-05-09T00:00:00.000   \n",
       "10524                         -   -  2020-05-09T00:00:00.000   \n",
       "10525                         -   -  2020-05-09T00:00:00.000   \n",
       "10526                         -   -  2020-05-09T00:00:00.000   \n",
       "10527                         -   -  2020-05-09T00:00:00.000   \n",
       "10528                         -   -  2020-05-09T00:00:00.000   \n",
       "10529                         -   -  2020-05-09T00:00:00.000   \n",
       "10530                         -   -  2020-05-09T00:00:00.000   \n",
       "10531                         -   -  2020-05-09T00:00:00.000   \n",
       "10532                         -   -  2020-05-09T00:00:00.000   \n",
       "10533                         -   -  2020-05-09T00:00:00.000   \n",
       "10534       2020-05-07T00:00:00.000  2020-05-09T00:00:00.000   \n",
       "10535       2020-04-29T00:00:00.000  2020-05-09T00:00:00.000   \n",
       "\n",
       "                   Fecha recuperado        fecha reporte web  \n",
       "ID de caso                                                    \n",
       "1           2020-03-13T00:00:00.000  2020-03-06T00:00:00.000  \n",
       "2           2020-03-19T00:00:00.000  2020-03-09T00:00:00.000  \n",
       "3           2020-03-15T00:00:00.000  2020-03-09T00:00:00.000  \n",
       "4           2020-03-26T00:00:00.000  2020-03-11T00:00:00.000  \n",
       "5           2020-03-23T00:00:00.000  2020-03-11T00:00:00.000  \n",
       "6           2020-03-26T00:00:00.000  2020-03-11T00:00:00.000  \n",
       "7           2020-03-17T00:00:00.000  2020-03-11T00:00:00.000  \n",
       "8           2020-03-21T00:00:00.000  2020-03-11T00:00:00.000  \n",
       "9           2020-03-23T00:00:00.000  2020-03-11T00:00:00.000  \n",
       "10          2020-03-21T00:00:00.000  2020-03-12T00:00:00.000  \n",
       "11          2020-03-31T00:00:00.000  2020-03-12T00:00:00.000  \n",
       "12          2020-04-09T00:00:00.000  2020-03-12T00:00:00.000  \n",
       "13          2020-03-30T00:00:00.000  2020-03-12T00:00:00.000  \n",
       "14          2020-03-21T00:00:00.000  2020-03-13T00:00:00.000  \n",
       "15          2020-03-23T00:00:00.000  2020-03-13T00:00:00.000  \n",
       "16          2020-03-23T00:00:00.000  2020-03-13T00:00:00.000  \n",
       "17          2020-03-14T00:00:00.000  2020-03-14T00:00:00.000  \n",
       "18          2020-04-07T00:00:00.000  2020-03-14T00:00:00.000  \n",
       "19          2020-03-24T00:00:00.000  2020-03-14T00:00:00.000  \n",
       "20          2020-03-24T00:00:00.000  2020-03-14T00:00:00.000  \n",
       "21          2020-04-10T00:00:00.000  2020-03-14T00:00:00.000  \n",
       "22          2020-03-24T00:00:00.000  2020-03-14T00:00:00.000  \n",
       "23          2020-03-23T00:00:00.000  2020-03-14T00:00:00.000  \n",
       "24          2020-03-27T00:00:00.000  2020-03-14T00:00:00.000  \n",
       "25                            -   -  2020-03-13T00:00:00.000  \n",
       "26          2020-03-25T00:00:00.000  2020-03-15T00:00:00.000  \n",
       "27          2020-03-25T00:00:00.000  2020-03-15T00:00:00.000  \n",
       "28          2020-04-08T00:00:00.000  2020-03-14T00:00:00.000  \n",
       "29          2020-03-25T00:00:00.000  2020-03-12T00:00:00.000  \n",
       "30          2020-03-25T00:00:00.000  2020-03-15T00:00:00.000  \n",
       "...                             ...                      ...  \n",
       "10506                         -   -  2020-05-09T00:00:00.000  \n",
       "10507                         -   -  2020-05-09T00:00:00.000  \n",
       "10508                         -   -  2020-05-09T00:00:00.000  \n",
       "10509                         -   -  2020-05-09T00:00:00.000  \n",
       "10510                         -   -  2020-05-09T00:00:00.000  \n",
       "10511                         -   -  2020-05-09T00:00:00.000  \n",
       "10512                         -   -  2020-05-09T00:00:00.000  \n",
       "10513                         -   -  2020-05-09T00:00:00.000  \n",
       "10514                         -   -  2020-05-09T00:00:00.000  \n",
       "10515                         -   -  2020-05-09T00:00:00.000  \n",
       "10516                         -   -  2020-05-09T00:00:00.000  \n",
       "10517                         -   -  2020-05-09T00:00:00.000  \n",
       "10518                         -   -  2020-05-09T00:00:00.000  \n",
       "10519                         -   -  2020-05-09T00:00:00.000  \n",
       "10520                         -   -  2020-05-09T00:00:00.000  \n",
       "10521                         -   -  2020-05-09T00:00:00.000  \n",
       "10522                         -   -  2020-05-09T00:00:00.000  \n",
       "10523                         -   -  2020-05-09T00:00:00.000  \n",
       "10524                         -   -  2020-05-09T00:00:00.000  \n",
       "10525                         -   -  2020-05-09T00:00:00.000  \n",
       "10526                         -   -  2020-05-09T00:00:00.000  \n",
       "10527                         -   -  2020-05-09T00:00:00.000  \n",
       "10528                         -   -  2020-05-09T00:00:00.000  \n",
       "10529                         -   -  2020-05-09T00:00:00.000  \n",
       "10530                         -   -  2020-05-09T00:00:00.000  \n",
       "10531                         -   -  2020-05-09T00:00:00.000  \n",
       "10532                         -   -  2020-05-09T00:00:00.000  \n",
       "10533                         -   -  2020-05-09T00:00:00.000  \n",
       "10534                         -   -  2020-05-09T00:00:00.000  \n",
       "10535                         -   -  2020-05-09T00:00:00.000  \n",
       "\n",
       "[10495 rows x 15 columns]"
      ]
     },
     "execution_count": 2,
     "metadata": {},
     "output_type": "execute_result"
    }
   ],
   "source": [
    "data"
   ]
  },
  {
   "cell_type": "code",
   "execution_count": 3,
   "metadata": {
    "colab": {},
    "colab_type": "code",
    "id": "zFjFHn3UC5yW"
   },
   "outputs": [
    {
     "data": {
      "text/plain": [
       "array(['-   -', '2020-04-05T00:00:00.000', '2020-04-06T00:00:00.000',\n",
       "       '2020-03-23T00:00:00.000', '2020-03-22T00:00:00.000',\n",
       "       '2020-03-16T00:00:00.000', '2020-03-26T00:00:00.000',\n",
       "       '2020-03-25T00:00:00.000', '2020-04-04T00:00:00.000',\n",
       "       '2020-04-15T00:00:00.000', '2020-04-09T00:00:00.000',\n",
       "       '2020-03-30T00:00:00.000', '2020-03-28T00:00:00.000',\n",
       "       '2020-04-02T00:00:00.000', '2020-04-08T00:00:00.000',\n",
       "       '2020-03-27T00:00:00.000', '2020-04-12T00:00:00.000',\n",
       "       '2020-04-03T00:00:00.000', '2020-04-24T00:00:00.000',\n",
       "       '2020-04-21T00:00:00.000', '2020-04-07T00:00:00.000',\n",
       "       '2020-04-14T00:00:00.000', '2020-04-01T00:00:00.000',\n",
       "       '2020-04-19T00:00:00.000', '2020-03-31T00:00:00.000',\n",
       "       '2020-04-10T00:00:00.000', '2020-04-18T00:00:00.000',\n",
       "       '2020-04-11T00:00:00.000', '2020-03-29T00:00:00.000',\n",
       "       '2020-04-28T00:00:00.000', '2020-05-04T00:00:00.000',\n",
       "       '2020-04-17T00:00:00.000', '2020-04-16T00:00:00.000',\n",
       "       '2020-04-13T00:00:00.000', '2020-04-25T00:00:00.000',\n",
       "       '2020-03-24T00:00:00.000', '2020-05-01T00:00:00.000',\n",
       "       '2020-04-29T00:00:00.000', '2020-04-27T00:00:00.000',\n",
       "       '2020-04-20T00:00:00.000', '2020-04-26T00:00:00.000',\n",
       "       '2020-04-22T00:00:00.000', '2020-04-23T00:00:00.000',\n",
       "       '2020-05-02T00:00:00.000', '2020-05-06T00:00:00.000',\n",
       "       '2020-04-30T00:00:00.000', '2020-05-05T00:00:00.000',\n",
       "       '2020-05-07T00:00:00.000', '2020-05-03T00:00:00.000',\n",
       "       '2020-05-08T00:00:00.000'], dtype=object)"
      ]
     },
     "execution_count": 3,
     "metadata": {},
     "output_type": "execute_result"
    }
   ],
   "source": [
    "data['Fecha de muerte'].unique()"
   ]
  },
  {
   "cell_type": "code",
   "execution_count": 4,
   "metadata": {
    "colab": {},
    "colab_type": "code",
    "id": "Brhs-EvWFKni"
   },
   "outputs": [
    {
     "data": {
      "text/plain": [
       "array(['2020-03-06T00:00:00.000', '2020-03-09T00:00:00.000',\n",
       "       '2020-03-11T00:00:00.000', '2020-03-12T00:00:00.000',\n",
       "       '2020-03-13T00:00:00.000', '2020-03-14T00:00:00.000',\n",
       "       '2020-03-15T00:00:00.000', '2020-03-16T00:00:00.000',\n",
       "       '2020-03-17T00:00:00.000', '2020-03-18T00:00:00.000',\n",
       "       '2020-03-19T00:00:00.000', '2020-03-20T00:00:00.000',\n",
       "       '2020-03-21T00:00:00.000', '2020-03-22T00:00:00.000',\n",
       "       '2020-03-23T00:00:00.000', '2020-03-24T00:00:00.000',\n",
       "       '2020-03-27T00:00:00.000', '2020-03-25T00:00:00.000',\n",
       "       '2020-03-26T00:00:00.000', '2020-03-28T00:00:00.000',\n",
       "       '2020-03-29T00:00:00.000', '2020-03-30T00:00:00.000',\n",
       "       '2020-03-31T00:00:00.000', '2020-04-01T00:00:00.000',\n",
       "       '2020-04-02T00:00:00.000', '2020-04-03T00:00:00.000',\n",
       "       '2020-04-04T00:00:00.000', '2020-04-05T00:00:00.000',\n",
       "       '2020-04-06T00:00:00.000', '2020-04-07T00:00:00.000',\n",
       "       '2020-04-08T00:00:00.000', '2020-04-09T00:00:00.000',\n",
       "       '2020-04-10T00:00:00.000', '2020-04-11T00:00:00.000',\n",
       "       '2020-04-12T00:00:00.000', '2020-04-13T00:00:00.000',\n",
       "       '2020-04-14T00:00:00.000', '2020-04-19T00:00:00.000',\n",
       "       '2020-04-15T00:00:00.000', '2020-04-28T00:00:00.000',\n",
       "       '2020-04-16T00:00:00.000', '2020-04-17T00:00:00.000',\n",
       "       '2020-04-18T00:00:00.000', '2020-04-20T00:00:00.000',\n",
       "       '2020-04-22T00:00:00.000', '2020-04-21T00:00:00.000',\n",
       "       '2020-04-23T00:00:00.000', '2020-05-01T00:00:00.000',\n",
       "       '2020-04-24T00:00:00.000', '2020-05-05T00:00:00.000',\n",
       "       '2020-04-25T00:00:00.000', '2020-04-26T00:00:00.000',\n",
       "       '2020-04-27T00:00:00.000', '2020-04-29T00:00:00.000',\n",
       "       '2020-04-30T00:00:00.000', '2020-05-02T00:00:00.000',\n",
       "       '2020-05-04T00:00:00.000', '2020-05-03T00:00:00.000',\n",
       "       '2020-05-06T00:00:00.000', '2020-05-07T00:00:00.000',\n",
       "       '2020-05-08T00:00:00.000', '2020-05-09T00:00:00.000'], dtype=object)"
      ]
     },
     "execution_count": 4,
     "metadata": {},
     "output_type": "execute_result"
    }
   ],
   "source": [
    "data['Fecha diagnostico'].unique()"
   ]
  },
  {
   "cell_type": "code",
   "execution_count": 5,
   "metadata": {
    "colab": {},
    "colab_type": "code",
    "id": "M3SJPMBS7FXS"
   },
   "outputs": [],
   "source": [
    "data['Fecha de muerte'].replace('-   -',np.nan, inplace=True)\n",
    "data['Fecha de muerte'].replace('/  /',np.nan, inplace=True)\n",
    "data['Fecha recuperado'].replace('-   -',np.nan, inplace=True)\n",
    "data['Fecha diagnostico'].replace('SIN DATO',np.nan, inplace=True)\n",
    "S1 = data['Fecha diagnostico'].dropna().apply(dateutil.parser.parse, yearfirst=True).value_counts().sort_index(ascending=True)\n",
    "S2 = data['Fecha de muerte'].dropna().apply(dateutil.parser.parse, yearfirst=True).value_counts().sort_index(ascending=True)\n",
    "S3 = data['Fecha recuperado'].dropna().apply(dateutil.parser.parse, yearfirst=True).value_counts().sort_index(ascending=True)"
   ]
  },
  {
   "cell_type": "code",
   "execution_count": 6,
   "metadata": {
    "colab": {},
    "colab_type": "code",
    "id": "CQdyH17Z1ST4"
   },
   "outputs": [
    {
     "data": {
      "text/plain": [
       "array(['2020-03-06T00:00:00.000', '2020-03-09T00:00:00.000',\n",
       "       '2020-03-11T00:00:00.000', '2020-03-12T00:00:00.000',\n",
       "       '2020-03-13T00:00:00.000', '2020-03-14T00:00:00.000',\n",
       "       '2020-03-15T00:00:00.000', '2020-03-16T00:00:00.000',\n",
       "       '2020-03-17T00:00:00.000', '2020-03-18T00:00:00.000',\n",
       "       '2020-03-19T00:00:00.000', '2020-03-20T00:00:00.000',\n",
       "       '2020-03-21T00:00:00.000', '2020-03-22T00:00:00.000',\n",
       "       '2020-03-23T00:00:00.000', '2020-03-24T00:00:00.000',\n",
       "       '2020-03-27T00:00:00.000', '2020-03-25T00:00:00.000',\n",
       "       '2020-03-26T00:00:00.000', '2020-03-28T00:00:00.000',\n",
       "       '2020-03-29T00:00:00.000', '2020-03-30T00:00:00.000',\n",
       "       '2020-03-31T00:00:00.000', '2020-04-01T00:00:00.000',\n",
       "       '2020-04-02T00:00:00.000', '2020-04-03T00:00:00.000',\n",
       "       '2020-04-04T00:00:00.000', '2020-04-05T00:00:00.000',\n",
       "       '2020-04-06T00:00:00.000', '2020-04-07T00:00:00.000',\n",
       "       '2020-04-08T00:00:00.000', '2020-04-09T00:00:00.000',\n",
       "       '2020-04-10T00:00:00.000', '2020-04-11T00:00:00.000',\n",
       "       '2020-04-12T00:00:00.000', '2020-04-13T00:00:00.000',\n",
       "       '2020-04-14T00:00:00.000', '2020-04-19T00:00:00.000',\n",
       "       '2020-04-15T00:00:00.000', '2020-04-28T00:00:00.000',\n",
       "       '2020-04-16T00:00:00.000', '2020-04-17T00:00:00.000',\n",
       "       '2020-04-18T00:00:00.000', '2020-04-20T00:00:00.000',\n",
       "       '2020-04-22T00:00:00.000', '2020-04-21T00:00:00.000',\n",
       "       '2020-04-23T00:00:00.000', '2020-05-01T00:00:00.000',\n",
       "       '2020-04-24T00:00:00.000', '2020-05-05T00:00:00.000',\n",
       "       '2020-04-25T00:00:00.000', '2020-04-26T00:00:00.000',\n",
       "       '2020-04-27T00:00:00.000', '2020-04-29T00:00:00.000',\n",
       "       '2020-04-30T00:00:00.000', '2020-05-02T00:00:00.000',\n",
       "       '2020-05-04T00:00:00.000', '2020-05-03T00:00:00.000',\n",
       "       '2020-05-06T00:00:00.000', '2020-05-07T00:00:00.000',\n",
       "       '2020-05-08T00:00:00.000', '2020-05-09T00:00:00.000'], dtype=object)"
      ]
     },
     "execution_count": 6,
     "metadata": {},
     "output_type": "execute_result"
    }
   ],
   "source": [
    "data['Fecha diagnostico'].unique()"
   ]
  },
  {
   "cell_type": "code",
   "execution_count": 7,
   "metadata": {
    "colab": {},
    "colab_type": "code",
    "id": "MGJlunZC4WAU"
   },
   "outputs": [],
   "source": [
    "frame = { 'Contagiados': S1, 'Muertos': S2, 'Recuperados': S3 } \n",
    "df=pd.DataFrame(frame).fillna(value=0)\n"
   ]
  },
  {
   "cell_type": "code",
   "execution_count": 8,
   "metadata": {
    "colab": {},
    "colab_type": "code",
    "id": "-DpEMd5gvJFk"
   },
   "outputs": [
    {
     "data": {
      "text/plain": [
       "<matplotlib.axes._subplots.AxesSubplot at 0x7efd057d0490>"
      ]
     },
     "execution_count": 8,
     "metadata": {},
     "output_type": "execute_result"
    },
    {
     "data": {
      "image/png": "[encoded data removed]",
      "text/plain": [
       "<Figure size 432x288 with 1 Axes>"
      ]
     },
     "metadata": {
      "needs_background": "light"
     },
     "output_type": "display_data"
    }
   ],
   "source": [
    "df['Contagiados'].plot()"
   ]
  },
  {
   "cell_type": "code",
   "execution_count": 9,
   "metadata": {
    "colab": {},
    "colab_type": "code",
    "id": "c_S3xKE43koP"
   },
   "outputs": [
    {
     "data": {
      "text/plain": [
       "<matplotlib.axes._subplots.AxesSubplot at 0x7efd0544a590>"
      ]
     },
     "execution_count": 9,
     "metadata": {},
     "output_type": "execute_result"
    },
    {
     "data": {
      "image/png": "[encoded data removed]",
      "text/plain": [
       "<Figure size 432x288 with 1 Axes>"
      ]
     },
     "metadata": {
      "needs_background": "light"
     },
     "output_type": "display_data"
    }
   ],
   "source": [
    "df['Contagiados'].cumsum().plot()"
   ]
  },
  {
   "cell_type": "code",
   "execution_count": 10,
   "metadata": {
    "colab": {},
    "colab_type": "code",
    "id": "Y47l0Ln5h6NA"
   },
   "outputs": [
    {
     "data": {
      "text/plain": [
       "<matplotlib.axes._subplots.AxesSubplot at 0x7efd05806990>"
      ]
     },
     "execution_count": 10,
     "metadata": {},
     "output_type": "execute_result"
    },
    {
     "data": {
      "image/png": "[encoded data removed]",
      "text/plain": [
       "<Figure size 432x288 with 1 Axes>"
      ]
     },
     "metadata": {
      "needs_background": "light"
     },
     "output_type": "display_data"
    }
   ],
   "source": [
    "df.cumsum().plot()"
   ]
  },
  {
   "cell_type": "code",
   "execution_count": 11,
   "metadata": {
    "colab": {},
    "colab_type": "code",
    "id": "HkqLspUre3NJ"
   },
   "outputs": [
    {
     "data": {
      "text/plain": [
       "array([<matplotlib.axes._subplots.AxesSubplot object at 0x7efd05349c90>,\n",
       "       <matplotlib.axes._subplots.AxesSubplot object at 0x7efd052a5cd0>,\n",
       "       <matplotlib.axes._subplots.AxesSubplot object at 0x7efd0525cd50>],\n",
       "      dtype=object)"
      ]
     },
     "execution_count": 11,
     "metadata": {},
     "output_type": "execute_result"
    },
    {
     "data": {
      "image/png": "[encoded data removed]",
      "text/plain": [
       "<Figure size 432x288 with 3 Axes>"
      ]
     },
     "metadata": {
      "needs_background": "light"
     },
     "output_type": "display_data"
    }
   ],
   "source": [
    "df.cumsum().plot(subplots=True)"
   ]
  },
  {
   "cell_type": "code",
   "execution_count": 12,
   "metadata": {
    "colab": {},
    "colab_type": "code",
    "id": "d2OrzJlGiVpo"
   },
   "outputs": [
    {
     "data": {
      "text/plain": [
       "<matplotlib.axes._subplots.AxesSubplot at 0x7efd05158dd0>"
      ]
     },
     "execution_count": 12,
     "metadata": {},
     "output_type": "execute_result"
    },
    {
     "data": {
      "image/png": "[encoded data removed]",
      "text/plain": [
       "<Figure size 432x288 with 1 Axes>"
      ]
     },
     "metadata": {
      "needs_background": "light"
     },
     "output_type": "display_data"
    }
   ],
   "source": [
    "df.cumsum().plot(x='Contagiados', y='Muertos')"
   ]
  },
  {
   "cell_type": "markdown",
   "metadata": {
    "colab_type": "text",
    "id": "-c2tnoM5WYjn"
   },
   "source": [
    "\n",
    "\n",
    "---\n",
    "\n",
    "###Bar\n",
    "\n",
    "\n",
    "---\n",
    "\n"
   ]
  },
  {
   "cell_type": "code",
   "execution_count": 13,
   "metadata": {
    "colab": {},
    "colab_type": "code",
    "id": "CKefw-W3jzzl"
   },
   "outputs": [
    {
     "data": {
      "text/plain": [
       "<matplotlib.axes._subplots.AxesSubplot at 0x7efd050f8f90>"
      ]
     },
     "execution_count": 13,
     "metadata": {},
     "output_type": "execute_result"
    },
    {
     "data": {
      "image/png": "[encoded data removed]",
      "text/plain": [
       "<Figure size 2160x720 with 1 Axes>"
      ]
     },
     "metadata": {
      "needs_background": "light"
     },
     "output_type": "display_data"
    }
   ],
   "source": [
    "data['Edad'].value_counts().sort_index(ascending=True).plot(kind = 'bar', figsize=(30,10))"
   ]
  },
  {
   "cell_type": "code",
   "execution_count": 14,
   "metadata": {
    "colab": {},
    "colab_type": "code",
    "id": "wFi5PSujmnG5"
   },
   "outputs": [
    {
     "data": {
      "text/plain": [
       "<matplotlib.axes._subplots.AxesSubplot at 0x7efd04fe57d0>"
      ]
     },
     "execution_count": 14,
     "metadata": {},
     "output_type": "execute_result"
    },
    {
     "data": {
      "image/png": "[encoded data removed]",
      "text/plain": [
       "<Figure size 2160x720 with 1 Axes>"
      ]
     },
     "metadata": {
      "needs_background": "light"
     },
     "output_type": "display_data"
    }
   ],
   "source": [
    "data['Edad'][data['Estado']=='Fallecido'].value_counts().sort_index(ascending=True).plot(kind = 'bar', figsize=(30,10))"
   ]
  },
  {
   "cell_type": "code",
   "execution_count": 15,
   "metadata": {
    "colab": {},
    "colab_type": "code",
    "id": "m6dYN3BCpLGv"
   },
   "outputs": [
    {
     "data": {
      "text/plain": [
       "<matplotlib.axes._subplots.AxesSubplot at 0x7efd04e4df50>"
      ]
     },
     "execution_count": 15,
     "metadata": {},
     "output_type": "execute_result"
    },
    {
     "data": {
      "image/png": "[encoded data removed]",
      "text/plain": [
       "<Figure size 432x288 with 1 Axes>"
      ]
     },
     "metadata": {
      "needs_background": "light"
     },
     "output_type": "display_data"
    }
   ],
   "source": [
    "df.iloc[len(df)-10:,:].plot.bar()"
   ]
  },
  {
   "cell_type": "code",
   "execution_count": 16,
   "metadata": {
    "colab": {},
    "colab_type": "code",
    "id": "4MXmnHUEtjto"
   },
   "outputs": [
    {
     "data": {
      "text/plain": [
       "<matplotlib.axes._subplots.AxesSubplot at 0x7efd04bd7b10>"
      ]
     },
     "execution_count": 16,
     "metadata": {},
     "output_type": "execute_result"
    },
    {
     "data": {
      "image/png": "[encoded data removed]",
      "text/plain": [
       "<Figure size 432x288 with 1 Axes>"
      ]
     },
     "metadata": {
      "needs_background": "light"
     },
     "output_type": "display_data"
    }
   ],
   "source": [
    "df.iloc[len(df)-10:,:].plot.bar(stacked=True)"
   ]
  },
  {
   "cell_type": "markdown",
   "metadata": {
    "colab_type": "text",
    "id": "JCpyDXoTWhUL"
   },
   "source": [
    "\n",
    "\n",
    "---\n",
    "\n",
    "###Hist\n",
    "\n",
    "\n",
    "---\n",
    "\n"
   ]
  },
  {
   "cell_type": "code",
   "execution_count": 17,
   "metadata": {
    "colab": {},
    "colab_type": "code",
    "id": "QvDsMJpWumhj"
   },
   "outputs": [
    {
     "data": {
      "text/plain": [
       "<matplotlib.axes._subplots.AxesSubplot at 0x7efd05059610>"
      ]
     },
     "execution_count": 17,
     "metadata": {},
     "output_type": "execute_result"
    },
    {
     "data": {
      "image/png": "[encoded data removed]",
      "text/plain": [
       "<Figure size 432x288 with 1 Axes>"
      ]
     },
     "metadata": {
      "needs_background": "light"
     },
     "output_type": "display_data"
    }
   ],
   "source": [
    "data['Edad'].hist(bins=10)\n",
    "data['Edad'][data['Estado']=='Fallecido'].hist(bins=10)"
   ]
  },
  {
   "cell_type": "code",
   "execution_count": 26,
   "metadata": {
    "colab": {},
    "colab_type": "code",
    "id": "gbDjugTZw_MX"
   },
   "outputs": [
    {
     "data": {
      "text/plain": [
       "array([[<matplotlib.axes._subplots.AxesSubplot object at 0x7efcfe0d9f10>,\n",
       "        <matplotlib.axes._subplots.AxesSubplot object at 0x7efcfe057b50>],\n",
       "       [<matplotlib.axes._subplots.AxesSubplot object at 0x7efcfe1e1910>,\n",
       "        <matplotlib.axes._subplots.AxesSubplot object at 0x7efcfe1476d0>],\n",
       "       [<matplotlib.axes._subplots.AxesSubplot object at 0x7efcfe080610>,\n",
       "        <matplotlib.axes._subplots.AxesSubplot object at 0x7efcfe1017d0>]],\n",
       "      dtype=object)"
      ]
     },
     "execution_count": 26,
     "metadata": {},
     "output_type": "execute_result"
    },
    {
     "name": "stdout",
     "output_type": "stream",
     "text": [
      "Error in callback <function post_execute at 0x7efd05bd1a28> (for post_execute):\n"
     ]
    },
    {
     "ename": "ValueError",
     "evalue": "matplotlib display text must have all code points < 128 or use Unicode strings",
     "output_type": "error",
     "traceback": [
      "\u001b[0;31m\u001b[0m",
      "\u001b[0;31mValueError\u001b[0mTraceback (most recent call last)",
      "\u001b[0;32m/home/juferoga/anaconda2/lib/python2.7/site-packages/matplotlib/pyplot.pyc\u001b[0m in \u001b[0;36mpost_execute\u001b[0;34m()\u001b[0m\n\u001b[1;32m    147\u001b[0m             \u001b[0;32mdef\u001b[0m \u001b[0mpost_execute\u001b[0m\u001b[0;34m(\u001b[0m\u001b[0;34m)\u001b[0m\u001b[0;34m:\u001b[0m\u001b[0;34m\u001b[0m\u001b[0m\n\u001b[1;32m    148\u001b[0m                 \u001b[0;32mif\u001b[0m \u001b[0mmatplotlib\u001b[0m\u001b[0;34m.\u001b[0m\u001b[0mis_interactive\u001b[0m\u001b[0;34m(\u001b[0m\u001b[0;34m)\u001b[0m\u001b[0;34m:\u001b[0m\u001b[0;34m\u001b[0m\u001b[0m\n\u001b[0;32m--> 149\u001b[0;31m                     \u001b[0mdraw_all\u001b[0m\u001b[0;34m(\u001b[0m\u001b[0;34m)\u001b[0m\u001b[0;34m\u001b[0m\u001b[0m\n\u001b[0m\u001b[1;32m    150\u001b[0m \u001b[0;34m\u001b[0m\u001b[0m\n\u001b[1;32m    151\u001b[0m             \u001b[0;31m# IPython >= 2\u001b[0m\u001b[0;34m\u001b[0m\u001b[0;34m\u001b[0m\u001b[0m\n",
      "\u001b[0;32m/home/juferoga/anaconda2/lib/python2.7/site-packages/matplotlib/_pylab_helpers.pyc\u001b[0m in \u001b[0;36mdraw_all\u001b[0;34m(cls, force)\u001b[0m\n\u001b[1;32m    134\u001b[0m         \u001b[0;32mfor\u001b[0m \u001b[0mf_mgr\u001b[0m \u001b[0;32min\u001b[0m \u001b[0mcls\u001b[0m\u001b[0;34m.\u001b[0m\u001b[0mget_all_fig_managers\u001b[0m\u001b[0;34m(\u001b[0m\u001b[0;34m)\u001b[0m\u001b[0;34m:\u001b[0m\u001b[0;34m\u001b[0m\u001b[0m\n\u001b[1;32m    135\u001b[0m             \u001b[0;32mif\u001b[0m \u001b[0mforce\u001b[0m \u001b[0;32mor\u001b[0m \u001b[0mf_mgr\u001b[0m\u001b[0;34m.\u001b[0m\u001b[0mcanvas\u001b[0m\u001b[0;34m.\u001b[0m\u001b[0mfigure\u001b[0m\u001b[0;34m.\u001b[0m\u001b[0mstale\u001b[0m\u001b[0;34m:\u001b[0m\u001b[0;34m\u001b[0m\u001b[0m\n\u001b[0;32m--> 136\u001b[0;31m                 \u001b[0mf_mgr\u001b[0m\u001b[0;34m.\u001b[0m\u001b[0mcanvas\u001b[0m\u001b[0;34m.\u001b[0m\u001b[0mdraw_idle\u001b[0m\u001b[0;34m(\u001b[0m\u001b[0;34m)\u001b[0m\u001b[0;34m\u001b[0m\u001b[0m\n\u001b[0m\u001b[1;32m    137\u001b[0m \u001b[0;34m\u001b[0m\u001b[0m\n\u001b[1;32m    138\u001b[0m \u001b[0matexit\u001b[0m\u001b[0;34m.\u001b[0m\u001b[0mregister\u001b[0m\u001b[0;34m(\u001b[0m\u001b[0mGcf\u001b[0m\u001b[0;34m.\u001b[0m\u001b[0mdestroy_all\u001b[0m\u001b[0;34m)\u001b[0m\u001b[0;34m\u001b[0m\u001b[0m\n",
      "\u001b[0;32m/home/juferoga/anaconda2/lib/python2.7/site-packages/matplotlib/backend_bases.pyc\u001b[0m in \u001b[0;36mdraw_idle\u001b[0;34m(self, *args, **kwargs)\u001b[0m\n\u001b[1;32m   2053\u001b[0m         \u001b[0;32mif\u001b[0m \u001b[0;32mnot\u001b[0m \u001b[0mself\u001b[0m\u001b[0;34m.\u001b[0m\u001b[0m_is_idle_drawing\u001b[0m\u001b[0;34m:\u001b[0m\u001b[0;34m\u001b[0m\u001b[0m\n\u001b[1;32m   2054\u001b[0m             \u001b[0;32mwith\u001b[0m \u001b[0mself\u001b[0m\u001b[0;34m.\u001b[0m\u001b[0m_idle_draw_cntx\u001b[0m\u001b[0;34m(\u001b[0m\u001b[0;34m)\u001b[0m\u001b[0;34m:\u001b[0m\u001b[0;34m\u001b[0m\u001b[0m\n\u001b[0;32m-> 2055\u001b[0;31m                 \u001b[0mself\u001b[0m\u001b[0;34m.\u001b[0m\u001b[0mdraw\u001b[0m\u001b[0;34m(\u001b[0m\u001b[0;34m*\u001b[0m\u001b[0margs\u001b[0m\u001b[0;34m,\u001b[0m \u001b[0;34m**\u001b[0m\u001b[0mkwargs\u001b[0m\u001b[0;34m)\u001b[0m\u001b[0;34m\u001b[0m\u001b[0m\n\u001b[0m\u001b[1;32m   2056\u001b[0m \u001b[0;34m\u001b[0m\u001b[0m\n\u001b[1;32m   2057\u001b[0m     \u001b[0;32mdef\u001b[0m \u001b[0mdraw_cursor\u001b[0m\u001b[0;34m(\u001b[0m\u001b[0mself\u001b[0m\u001b[0;34m,\u001b[0m \u001b[0mevent\u001b[0m\u001b[0;34m)\u001b[0m\u001b[0;34m:\u001b[0m\u001b[0;34m\u001b[0m\u001b[0m\n",
      "\u001b[0;32m/home/juferoga/anaconda2/lib/python2.7/site-packages/matplotlib/backends/backend_agg.pyc\u001b[0m in \u001b[0;36mdraw\u001b[0;34m(self)\u001b[0m\n\u001b[1;32m    435\u001b[0m             \u001b[0;31m# if toolbar:\u001b[0m\u001b[0;34m\u001b[0m\u001b[0;34m\u001b[0m\u001b[0m\n\u001b[1;32m    436\u001b[0m             \u001b[0;31m#     toolbar.set_cursor(cursors.WAIT)\u001b[0m\u001b[0;34m\u001b[0m\u001b[0;34m\u001b[0m\u001b[0m\n\u001b[0;32m--> 437\u001b[0;31m             \u001b[0mself\u001b[0m\u001b[0;34m.\u001b[0m\u001b[0mfigure\u001b[0m\u001b[0;34m.\u001b[0m\u001b[0mdraw\u001b[0m\u001b[0;34m(\u001b[0m\u001b[0mself\u001b[0m\u001b[0;34m.\u001b[0m\u001b[0mrenderer\u001b[0m\u001b[0;34m)\u001b[0m\u001b[0;34m\u001b[0m\u001b[0m\n\u001b[0m\u001b[1;32m    438\u001b[0m             \u001b[0;31m# A GUI class may be need to update a window using this draw, so\u001b[0m\u001b[0;34m\u001b[0m\u001b[0;34m\u001b[0m\u001b[0m\n\u001b[1;32m    439\u001b[0m             \u001b[0;31m# don't forget to call the superclass.\u001b[0m\u001b[0;34m\u001b[0m\u001b[0;34m\u001b[0m\u001b[0m\n",
      "\u001b[0;32m/home/juferoga/anaconda2/lib/python2.7/site-packages/matplotlib/artist.pyc\u001b[0m in \u001b[0;36mdraw_wrapper\u001b[0;34m(artist, renderer, *args, **kwargs)\u001b[0m\n\u001b[1;32m     53\u001b[0m                 \u001b[0mrenderer\u001b[0m\u001b[0;34m.\u001b[0m\u001b[0mstart_filter\u001b[0m\u001b[0;34m(\u001b[0m\u001b[0;34m)\u001b[0m\u001b[0;34m\u001b[0m\u001b[0m\n\u001b[1;32m     54\u001b[0m \u001b[0;34m\u001b[0m\u001b[0m\n\u001b[0;32m---> 55\u001b[0;31m             \u001b[0;32mreturn\u001b[0m \u001b[0mdraw\u001b[0m\u001b[0;34m(\u001b[0m\u001b[0martist\u001b[0m\u001b[0;34m,\u001b[0m \u001b[0mrenderer\u001b[0m\u001b[0;34m,\u001b[0m \u001b[0;34m*\u001b[0m\u001b[0margs\u001b[0m\u001b[0;34m,\u001b[0m \u001b[0;34m**\u001b[0m\u001b[0mkwargs\u001b[0m\u001b[0;34m)\u001b[0m\u001b[0;34m\u001b[0m\u001b[0m\n\u001b[0m\u001b[1;32m     56\u001b[0m         \u001b[0;32mfinally\u001b[0m\u001b[0;34m:\u001b[0m\u001b[0;34m\u001b[0m\u001b[0m\n\u001b[1;32m     57\u001b[0m             \u001b[0;32mif\u001b[0m \u001b[0martist\u001b[0m\u001b[0;34m.\u001b[0m\u001b[0mget_agg_filter\u001b[0m\u001b[0;34m(\u001b[0m\u001b[0;34m)\u001b[0m \u001b[0;32mis\u001b[0m \u001b[0;32mnot\u001b[0m \u001b[0mNone\u001b[0m\u001b[0;34m:\u001b[0m\u001b[0;34m\u001b[0m\u001b[0m\n",
      "\u001b[0;32m/home/juferoga/anaconda2/lib/python2.7/site-packages/matplotlib/figure.pyc\u001b[0m in \u001b[0;36mdraw\u001b[0;34m(self, renderer)\u001b[0m\n\u001b[1;32m   1491\u001b[0m \u001b[0;34m\u001b[0m\u001b[0m\n\u001b[1;32m   1492\u001b[0m             mimage._draw_list_compositing_images(\n\u001b[0;32m-> 1493\u001b[0;31m                 renderer, self, artists, self.suppressComposite)\n\u001b[0m\u001b[1;32m   1494\u001b[0m \u001b[0;34m\u001b[0m\u001b[0m\n\u001b[1;32m   1495\u001b[0m             \u001b[0mrenderer\u001b[0m\u001b[0;34m.\u001b[0m\u001b[0mclose_group\u001b[0m\u001b[0;34m(\u001b[0m\u001b[0;34m'figure'\u001b[0m\u001b[0;34m)\u001b[0m\u001b[0;34m\u001b[0m\u001b[0m\n",
      "\u001b[0;32m/home/juferoga/anaconda2/lib/python2.7/site-packages/matplotlib/image.pyc\u001b[0m in \u001b[0;36m_draw_list_compositing_images\u001b[0;34m(renderer, parent, artists, suppress_composite)\u001b[0m\n\u001b[1;32m    139\u001b[0m     \u001b[0;32mif\u001b[0m \u001b[0mnot_composite\u001b[0m \u001b[0;32mor\u001b[0m \u001b[0;32mnot\u001b[0m \u001b[0mhas_images\u001b[0m\u001b[0;34m:\u001b[0m\u001b[0;34m\u001b[0m\u001b[0m\n\u001b[1;32m    140\u001b[0m         \u001b[0;32mfor\u001b[0m \u001b[0ma\u001b[0m \u001b[0;32min\u001b[0m \u001b[0martists\u001b[0m\u001b[0;34m:\u001b[0m\u001b[0;34m\u001b[0m\u001b[0m\n\u001b[0;32m--> 141\u001b[0;31m             \u001b[0ma\u001b[0m\u001b[0;34m.\u001b[0m\u001b[0mdraw\u001b[0m\u001b[0;34m(\u001b[0m\u001b[0mrenderer\u001b[0m\u001b[0;34m)\u001b[0m\u001b[0;34m\u001b[0m\u001b[0m\n\u001b[0m\u001b[1;32m    142\u001b[0m     \u001b[0;32melse\u001b[0m\u001b[0;34m:\u001b[0m\u001b[0;34m\u001b[0m\u001b[0m\n\u001b[1;32m    143\u001b[0m         \u001b[0;31m# Composite any adjacent images together\u001b[0m\u001b[0;34m\u001b[0m\u001b[0;34m\u001b[0m\u001b[0m\n",
      "\u001b[0;32m/home/juferoga/anaconda2/lib/python2.7/site-packages/matplotlib/artist.pyc\u001b[0m in \u001b[0;36mdraw_wrapper\u001b[0;34m(artist, renderer, *args, **kwargs)\u001b[0m\n\u001b[1;32m     53\u001b[0m                 \u001b[0mrenderer\u001b[0m\u001b[0;34m.\u001b[0m\u001b[0mstart_filter\u001b[0m\u001b[0;34m(\u001b[0m\u001b[0;34m)\u001b[0m\u001b[0;34m\u001b[0m\u001b[0m\n\u001b[1;32m     54\u001b[0m \u001b[0;34m\u001b[0m\u001b[0m\n\u001b[0;32m---> 55\u001b[0;31m             \u001b[0;32mreturn\u001b[0m \u001b[0mdraw\u001b[0m\u001b[0;34m(\u001b[0m\u001b[0martist\u001b[0m\u001b[0;34m,\u001b[0m \u001b[0mrenderer\u001b[0m\u001b[0;34m,\u001b[0m \u001b[0;34m*\u001b[0m\u001b[0margs\u001b[0m\u001b[0;34m,\u001b[0m \u001b[0;34m**\u001b[0m\u001b[0mkwargs\u001b[0m\u001b[0;34m)\u001b[0m\u001b[0;34m\u001b[0m\u001b[0m\n\u001b[0m\u001b[1;32m     56\u001b[0m         \u001b[0;32mfinally\u001b[0m\u001b[0;34m:\u001b[0m\u001b[0;34m\u001b[0m\u001b[0m\n\u001b[1;32m     57\u001b[0m             \u001b[0;32mif\u001b[0m \u001b[0martist\u001b[0m\u001b[0;34m.\u001b[0m\u001b[0mget_agg_filter\u001b[0m\u001b[0;34m(\u001b[0m\u001b[0;34m)\u001b[0m \u001b[0;32mis\u001b[0m \u001b[0;32mnot\u001b[0m \u001b[0mNone\u001b[0m\u001b[0;34m:\u001b[0m\u001b[0;34m\u001b[0m\u001b[0m\n",
      "\u001b[0;32m/home/juferoga/anaconda2/lib/python2.7/site-packages/matplotlib/axes/_base.pyc\u001b[0m in \u001b[0;36mdraw\u001b[0;34m(self, renderer, inframe)\u001b[0m\n\u001b[1;32m   2633\u001b[0m             \u001b[0mrenderer\u001b[0m\u001b[0;34m.\u001b[0m\u001b[0mstop_rasterizing\u001b[0m\u001b[0;34m(\u001b[0m\u001b[0;34m)\u001b[0m\u001b[0;34m\u001b[0m\u001b[0m\n\u001b[1;32m   2634\u001b[0m \u001b[0;34m\u001b[0m\u001b[0m\n\u001b[0;32m-> 2635\u001b[0;31m         \u001b[0mmimage\u001b[0m\u001b[0;34m.\u001b[0m\u001b[0m_draw_list_compositing_images\u001b[0m\u001b[0;34m(\u001b[0m\u001b[0mrenderer\u001b[0m\u001b[0;34m,\u001b[0m \u001b[0mself\u001b[0m\u001b[0;34m,\u001b[0m \u001b[0martists\u001b[0m\u001b[0;34m)\u001b[0m\u001b[0;34m\u001b[0m\u001b[0m\n\u001b[0m\u001b[1;32m   2636\u001b[0m \u001b[0;34m\u001b[0m\u001b[0m\n\u001b[1;32m   2637\u001b[0m         \u001b[0mrenderer\u001b[0m\u001b[0;34m.\u001b[0m\u001b[0mclose_group\u001b[0m\u001b[0;34m(\u001b[0m\u001b[0;34m'axes'\u001b[0m\u001b[0;34m)\u001b[0m\u001b[0;34m\u001b[0m\u001b[0m\n",
      "\u001b[0;32m/home/juferoga/anaconda2/lib/python2.7/site-packages/matplotlib/image.pyc\u001b[0m in \u001b[0;36m_draw_list_compositing_images\u001b[0;34m(renderer, parent, artists, suppress_composite)\u001b[0m\n\u001b[1;32m    139\u001b[0m     \u001b[0;32mif\u001b[0m \u001b[0mnot_composite\u001b[0m \u001b[0;32mor\u001b[0m \u001b[0;32mnot\u001b[0m \u001b[0mhas_images\u001b[0m\u001b[0;34m:\u001b[0m\u001b[0;34m\u001b[0m\u001b[0m\n\u001b[1;32m    140\u001b[0m         \u001b[0;32mfor\u001b[0m \u001b[0ma\u001b[0m \u001b[0;32min\u001b[0m \u001b[0martists\u001b[0m\u001b[0;34m:\u001b[0m\u001b[0;34m\u001b[0m\u001b[0m\n\u001b[0;32m--> 141\u001b[0;31m             \u001b[0ma\u001b[0m\u001b[0;34m.\u001b[0m\u001b[0mdraw\u001b[0m\u001b[0;34m(\u001b[0m\u001b[0mrenderer\u001b[0m\u001b[0;34m)\u001b[0m\u001b[0;34m\u001b[0m\u001b[0m\n\u001b[0m\u001b[1;32m    142\u001b[0m     \u001b[0;32melse\u001b[0m\u001b[0;34m:\u001b[0m\u001b[0;34m\u001b[0m\u001b[0m\n\u001b[1;32m    143\u001b[0m         \u001b[0;31m# Composite any adjacent images together\u001b[0m\u001b[0;34m\u001b[0m\u001b[0;34m\u001b[0m\u001b[0m\n",
      "\u001b[0;32m/home/juferoga/anaconda2/lib/python2.7/site-packages/matplotlib/artist.pyc\u001b[0m in \u001b[0;36mdraw_wrapper\u001b[0;34m(artist, renderer, *args, **kwargs)\u001b[0m\n\u001b[1;32m     53\u001b[0m                 \u001b[0mrenderer\u001b[0m\u001b[0;34m.\u001b[0m\u001b[0mstart_filter\u001b[0m\u001b[0;34m(\u001b[0m\u001b[0;34m)\u001b[0m\u001b[0;34m\u001b[0m\u001b[0m\n\u001b[1;32m     54\u001b[0m \u001b[0;34m\u001b[0m\u001b[0m\n\u001b[0;32m---> 55\u001b[0;31m             \u001b[0;32mreturn\u001b[0m \u001b[0mdraw\u001b[0m\u001b[0;34m(\u001b[0m\u001b[0martist\u001b[0m\u001b[0;34m,\u001b[0m \u001b[0mrenderer\u001b[0m\u001b[0;34m,\u001b[0m \u001b[0;34m*\u001b[0m\u001b[0margs\u001b[0m\u001b[0;34m,\u001b[0m \u001b[0;34m**\u001b[0m\u001b[0mkwargs\u001b[0m\u001b[0;34m)\u001b[0m\u001b[0;34m\u001b[0m\u001b[0m\n\u001b[0m\u001b[1;32m     56\u001b[0m         \u001b[0;32mfinally\u001b[0m\u001b[0;34m:\u001b[0m\u001b[0;34m\u001b[0m\u001b[0m\n\u001b[1;32m     57\u001b[0m             \u001b[0;32mif\u001b[0m \u001b[0martist\u001b[0m\u001b[0;34m.\u001b[0m\u001b[0mget_agg_filter\u001b[0m\u001b[0;34m(\u001b[0m\u001b[0;34m)\u001b[0m \u001b[0;32mis\u001b[0m \u001b[0;32mnot\u001b[0m \u001b[0mNone\u001b[0m\u001b[0;34m:\u001b[0m\u001b[0;34m\u001b[0m\u001b[0m\n",
      "\u001b[0;32m/home/juferoga/anaconda2/lib/python2.7/site-packages/matplotlib/text.pyc\u001b[0m in \u001b[0;36mdraw\u001b[0;34m(self, renderer)\u001b[0m\n\u001b[1;32m    704\u001b[0m \u001b[0;34m\u001b[0m\u001b[0m\n\u001b[1;32m    705\u001b[0m         \u001b[0;32mwith\u001b[0m \u001b[0m_wrap_text\u001b[0m\u001b[0;34m(\u001b[0m\u001b[0mself\u001b[0m\u001b[0;34m)\u001b[0m \u001b[0;32mas\u001b[0m \u001b[0mtextobj\u001b[0m\u001b[0;34m:\u001b[0m\u001b[0;34m\u001b[0m\u001b[0m\n\u001b[0;32m--> 706\u001b[0;31m             \u001b[0mbbox\u001b[0m\u001b[0;34m,\u001b[0m \u001b[0minfo\u001b[0m\u001b[0;34m,\u001b[0m \u001b[0mdescent\u001b[0m \u001b[0;34m=\u001b[0m \u001b[0mtextobj\u001b[0m\u001b[0;34m.\u001b[0m\u001b[0m_get_layout\u001b[0m\u001b[0;34m(\u001b[0m\u001b[0mrenderer\u001b[0m\u001b[0;34m)\u001b[0m\u001b[0;34m\u001b[0m\u001b[0m\n\u001b[0m\u001b[1;32m    707\u001b[0m             \u001b[0mtrans\u001b[0m \u001b[0;34m=\u001b[0m \u001b[0mtextobj\u001b[0m\u001b[0;34m.\u001b[0m\u001b[0mget_transform\u001b[0m\u001b[0;34m(\u001b[0m\u001b[0;34m)\u001b[0m\u001b[0;34m\u001b[0m\u001b[0m\n\u001b[1;32m    708\u001b[0m \u001b[0;34m\u001b[0m\u001b[0m\n",
      "\u001b[0;32m/home/juferoga/anaconda2/lib/python2.7/site-packages/matplotlib/text.pyc\u001b[0m in \u001b[0;36m_get_layout\u001b[0;34m(self, renderer)\u001b[0m\n\u001b[1;32m    303\u001b[0m         \u001b[0mbaseline\u001b[0m \u001b[0;34m=\u001b[0m \u001b[0;36m0\u001b[0m\u001b[0;34m\u001b[0m\u001b[0m\n\u001b[1;32m    304\u001b[0m         \u001b[0;32mfor\u001b[0m \u001b[0mi\u001b[0m\u001b[0;34m,\u001b[0m \u001b[0mline\u001b[0m \u001b[0;32min\u001b[0m \u001b[0menumerate\u001b[0m\u001b[0;34m(\u001b[0m\u001b[0mlines\u001b[0m\u001b[0;34m)\u001b[0m\u001b[0;34m:\u001b[0m\u001b[0;34m\u001b[0m\u001b[0m\n\u001b[0;32m--> 305\u001b[0;31m             \u001b[0mclean_line\u001b[0m\u001b[0;34m,\u001b[0m \u001b[0mismath\u001b[0m \u001b[0;34m=\u001b[0m \u001b[0mself\u001b[0m\u001b[0;34m.\u001b[0m\u001b[0mis_math_text\u001b[0m\u001b[0;34m(\u001b[0m\u001b[0mline\u001b[0m\u001b[0;34m,\u001b[0m \u001b[0mself\u001b[0m\u001b[0;34m.\u001b[0m\u001b[0mget_usetex\u001b[0m\u001b[0;34m(\u001b[0m\u001b[0;34m)\u001b[0m\u001b[0;34m)\u001b[0m\u001b[0;34m\u001b[0m\u001b[0m\n\u001b[0m\u001b[1;32m    306\u001b[0m             \u001b[0;32mif\u001b[0m \u001b[0mclean_line\u001b[0m\u001b[0;34m:\u001b[0m\u001b[0;34m\u001b[0m\u001b[0m\n\u001b[1;32m    307\u001b[0m                 w, h, d = renderer.get_text_width_height_descent(clean_line,\n",
      "\u001b[0;32m/home/juferoga/anaconda2/lib/python2.7/site-packages/matplotlib/text.pyc\u001b[0m in \u001b[0;36mis_math_text\u001b[0;34m(s, usetex)\u001b[0m\n\u001b[1;32m   1186\u001b[0m             \u001b[0;32mreturn\u001b[0m \u001b[0ms\u001b[0m\u001b[0;34m,\u001b[0m \u001b[0;34m'TeX'\u001b[0m\u001b[0;34m\u001b[0m\u001b[0m\n\u001b[1;32m   1187\u001b[0m \u001b[0;34m\u001b[0m\u001b[0m\n\u001b[0;32m-> 1188\u001b[0;31m         \u001b[0;32mif\u001b[0m \u001b[0mcbook\u001b[0m\u001b[0;34m.\u001b[0m\u001b[0mis_math_text\u001b[0m\u001b[0;34m(\u001b[0m\u001b[0ms\u001b[0m\u001b[0;34m)\u001b[0m\u001b[0;34m:\u001b[0m\u001b[0;34m\u001b[0m\u001b[0m\n\u001b[0m\u001b[1;32m   1189\u001b[0m             \u001b[0;32mreturn\u001b[0m \u001b[0ms\u001b[0m\u001b[0;34m,\u001b[0m \u001b[0mTrue\u001b[0m\u001b[0;34m\u001b[0m\u001b[0m\n\u001b[1;32m   1190\u001b[0m         \u001b[0;32melse\u001b[0m\u001b[0;34m:\u001b[0m\u001b[0;34m\u001b[0m\u001b[0m\n",
      "\u001b[0;32m/home/juferoga/anaconda2/lib/python2.7/site-packages/matplotlib/cbook/__init__.pyc\u001b[0m in \u001b[0;36mis_math_text\u001b[0;34m(s)\u001b[0m\n\u001b[1;32m   2033\u001b[0m     \u001b[0;32mexcept\u001b[0m \u001b[0mUnicodeDecodeError\u001b[0m\u001b[0;34m:\u001b[0m\u001b[0;34m\u001b[0m\u001b[0m\n\u001b[1;32m   2034\u001b[0m         raise ValueError(\n\u001b[0;32m-> 2035\u001b[0;31m             \u001b[0;34m\"matplotlib display text must have all code points < 128 or use \"\u001b[0m\u001b[0;34m\u001b[0m\u001b[0m\n\u001b[0m\u001b[1;32m   2036\u001b[0m             \"Unicode strings\")\n\u001b[1;32m   2037\u001b[0m \u001b[0;34m\u001b[0m\u001b[0m\n",
      "\u001b[0;31mValueError\u001b[0m: matplotlib display text must have all code points < 128 or use Unicode strings"
     ]
    },
    {
     "ename": "ValueError",
     "evalue": "matplotlib display text must have all code points < 128 or use Unicode strings",
     "output_type": "error",
     "traceback": [
      "\u001b[0;31m\u001b[0m",
      "\u001b[0;31mValueError\u001b[0mTraceback (most recent call last)",
      "\u001b[0;32m/home/juferoga/anaconda2/lib/python2.7/site-packages/IPython/core/formatters.pyc\u001b[0m in \u001b[0;36m__call__\u001b[0;34m(self, obj)\u001b[0m\n\u001b[1;32m    332\u001b[0m                 \u001b[0;32mpass\u001b[0m\u001b[0;34m\u001b[0m\u001b[0m\n\u001b[1;32m    333\u001b[0m             \u001b[0;32melse\u001b[0m\u001b[0;34m:\u001b[0m\u001b[0;34m\u001b[0m\u001b[0m\n\u001b[0;32m--> 334\u001b[0;31m                 \u001b[0;32mreturn\u001b[0m \u001b[0mprinter\u001b[0m\u001b[0;34m(\u001b[0m\u001b[0mobj\u001b[0m\u001b[0;34m)\u001b[0m\u001b[0;34m\u001b[0m\u001b[0m\n\u001b[0m\u001b[1;32m    335\u001b[0m             \u001b[0;31m# Finally look for special method names\u001b[0m\u001b[0;34m\u001b[0m\u001b[0;34m\u001b[0m\u001b[0m\n\u001b[1;32m    336\u001b[0m             \u001b[0mmethod\u001b[0m \u001b[0;34m=\u001b[0m \u001b[0mget_real_method\u001b[0m\u001b[0;34m(\u001b[0m\u001b[0mobj\u001b[0m\u001b[0;34m,\u001b[0m \u001b[0mself\u001b[0m\u001b[0;34m.\u001b[0m\u001b[0mprint_method\u001b[0m\u001b[0;34m)\u001b[0m\u001b[0;34m\u001b[0m\u001b[0m\n",
      "\u001b[0;32m/home/juferoga/anaconda2/lib/python2.7/site-packages/IPython/core/pylabtools.pyc\u001b[0m in \u001b[0;36m<lambda>\u001b[0;34m(fig)\u001b[0m\n\u001b[1;32m    245\u001b[0m \u001b[0;34m\u001b[0m\u001b[0m\n\u001b[1;32m    246\u001b[0m     \u001b[0;32mif\u001b[0m \u001b[0;34m'png'\u001b[0m \u001b[0;32min\u001b[0m \u001b[0mformats\u001b[0m\u001b[0;34m:\u001b[0m\u001b[0;34m\u001b[0m\u001b[0m\n\u001b[0;32m--> 247\u001b[0;31m         \u001b[0mpng_formatter\u001b[0m\u001b[0;34m.\u001b[0m\u001b[0mfor_type\u001b[0m\u001b[0;34m(\u001b[0m\u001b[0mFigure\u001b[0m\u001b[0;34m,\u001b[0m \u001b[0;32mlambda\u001b[0m \u001b[0mfig\u001b[0m\u001b[0;34m:\u001b[0m \u001b[0mprint_figure\u001b[0m\u001b[0;34m(\u001b[0m\u001b[0mfig\u001b[0m\u001b[0;34m,\u001b[0m \u001b[0;34m'png'\u001b[0m\u001b[0;34m,\u001b[0m \u001b[0;34m**\u001b[0m\u001b[0mkwargs\u001b[0m\u001b[0;34m)\u001b[0m\u001b[0;34m)\u001b[0m\u001b[0;34m\u001b[0m\u001b[0m\n\u001b[0m\u001b[1;32m    248\u001b[0m     \u001b[0;32mif\u001b[0m \u001b[0;34m'retina'\u001b[0m \u001b[0;32min\u001b[0m \u001b[0mformats\u001b[0m \u001b[0;32mor\u001b[0m \u001b[0;34m'png2x'\u001b[0m \u001b[0;32min\u001b[0m \u001b[0mformats\u001b[0m\u001b[0;34m:\u001b[0m\u001b[0;34m\u001b[0m\u001b[0m\n\u001b[1;32m    249\u001b[0m         \u001b[0mpng_formatter\u001b[0m\u001b[0;34m.\u001b[0m\u001b[0mfor_type\u001b[0m\u001b[0;34m(\u001b[0m\u001b[0mFigure\u001b[0m\u001b[0;34m,\u001b[0m \u001b[0;32mlambda\u001b[0m \u001b[0mfig\u001b[0m\u001b[0;34m:\u001b[0m \u001b[0mretina_figure\u001b[0m\u001b[0;34m(\u001b[0m\u001b[0mfig\u001b[0m\u001b[0;34m,\u001b[0m \u001b[0;34m**\u001b[0m\u001b[0mkwargs\u001b[0m\u001b[0;34m)\u001b[0m\u001b[0;34m)\u001b[0m\u001b[0;34m\u001b[0m\u001b[0m\n",
      "\u001b[0;32m/home/juferoga/anaconda2/lib/python2.7/site-packages/IPython/core/pylabtools.pyc\u001b[0m in \u001b[0;36mprint_figure\u001b[0;34m(fig, fmt, bbox_inches, **kwargs)\u001b[0m\n\u001b[1;32m    129\u001b[0m \u001b[0;34m\u001b[0m\u001b[0m\n\u001b[1;32m    130\u001b[0m     \u001b[0mbytes_io\u001b[0m \u001b[0;34m=\u001b[0m \u001b[0mBytesIO\u001b[0m\u001b[0;34m(\u001b[0m\u001b[0;34m)\u001b[0m\u001b[0;34m\u001b[0m\u001b[0m\n\u001b[0;32m--> 131\u001b[0;31m     \u001b[0mfig\u001b[0m\u001b[0;34m.\u001b[0m\u001b[0mcanvas\u001b[0m\u001b[0;34m.\u001b[0m\u001b[0mprint_figure\u001b[0m\u001b[0;34m(\u001b[0m\u001b[0mbytes_io\u001b[0m\u001b[0;34m,\u001b[0m \u001b[0;34m**\u001b[0m\u001b[0mkw\u001b[0m\u001b[0;34m)\u001b[0m\u001b[0;34m\u001b[0m\u001b[0m\n\u001b[0m\u001b[1;32m    132\u001b[0m     \u001b[0mdata\u001b[0m \u001b[0;34m=\u001b[0m \u001b[0mbytes_io\u001b[0m\u001b[0;34m.\u001b[0m\u001b[0mgetvalue\u001b[0m\u001b[0;34m(\u001b[0m\u001b[0;34m)\u001b[0m\u001b[0;34m\u001b[0m\u001b[0m\n\u001b[1;32m    133\u001b[0m     \u001b[0;32mif\u001b[0m \u001b[0mfmt\u001b[0m \u001b[0;34m==\u001b[0m \u001b[0;34m'svg'\u001b[0m\u001b[0;34m:\u001b[0m\u001b[0;34m\u001b[0m\u001b[0m\n",
      "\u001b[0;32m/home/juferoga/anaconda2/lib/python2.7/site-packages/matplotlib/backend_bases.pyc\u001b[0m in \u001b[0;36mprint_figure\u001b[0;34m(self, filename, dpi, facecolor, edgecolor, orientation, format, **kwargs)\u001b[0m\n\u001b[1;32m   2210\u001b[0m                     \u001b[0morientation\u001b[0m\u001b[0;34m=\u001b[0m\u001b[0morientation\u001b[0m\u001b[0;34m,\u001b[0m\u001b[0;34m\u001b[0m\u001b[0m\n\u001b[1;32m   2211\u001b[0m                     \u001b[0mdryrun\u001b[0m\u001b[0;34m=\u001b[0m\u001b[0mTrue\u001b[0m\u001b[0;34m,\u001b[0m\u001b[0;34m\u001b[0m\u001b[0m\n\u001b[0;32m-> 2212\u001b[0;31m                     **kwargs)\n\u001b[0m\u001b[1;32m   2213\u001b[0m                 \u001b[0mrenderer\u001b[0m \u001b[0;34m=\u001b[0m \u001b[0mself\u001b[0m\u001b[0;34m.\u001b[0m\u001b[0mfigure\u001b[0m\u001b[0;34m.\u001b[0m\u001b[0m_cachedRenderer\u001b[0m\u001b[0;34m\u001b[0m\u001b[0m\n\u001b[1;32m   2214\u001b[0m                 \u001b[0mbbox_inches\u001b[0m \u001b[0;34m=\u001b[0m \u001b[0mself\u001b[0m\u001b[0;34m.\u001b[0m\u001b[0mfigure\u001b[0m\u001b[0;34m.\u001b[0m\u001b[0mget_tightbbox\u001b[0m\u001b[0;34m(\u001b[0m\u001b[0mrenderer\u001b[0m\u001b[0;34m)\u001b[0m\u001b[0;34m\u001b[0m\u001b[0m\n",
      "\u001b[0;32m/home/juferoga/anaconda2/lib/python2.7/site-packages/matplotlib/backends/backend_agg.pyc\u001b[0m in \u001b[0;36mprint_png\u001b[0;34m(self, filename_or_obj, *args, **kwargs)\u001b[0m\n\u001b[1;32m    515\u001b[0m \u001b[0;34m\u001b[0m\u001b[0m\n\u001b[1;32m    516\u001b[0m     \u001b[0;32mdef\u001b[0m \u001b[0mprint_png\u001b[0m\u001b[0;34m(\u001b[0m\u001b[0mself\u001b[0m\u001b[0;34m,\u001b[0m \u001b[0mfilename_or_obj\u001b[0m\u001b[0;34m,\u001b[0m \u001b[0;34m*\u001b[0m\u001b[0margs\u001b[0m\u001b[0;34m,\u001b[0m \u001b[0;34m**\u001b[0m\u001b[0mkwargs\u001b[0m\u001b[0;34m)\u001b[0m\u001b[0;34m:\u001b[0m\u001b[0;34m\u001b[0m\u001b[0m\n\u001b[0;32m--> 517\u001b[0;31m         \u001b[0mFigureCanvasAgg\u001b[0m\u001b[0;34m.\u001b[0m\u001b[0mdraw\u001b[0m\u001b[0;34m(\u001b[0m\u001b[0mself\u001b[0m\u001b[0;34m)\u001b[0m\u001b[0;34m\u001b[0m\u001b[0m\n\u001b[0m\u001b[1;32m    518\u001b[0m         \u001b[0mrenderer\u001b[0m \u001b[0;34m=\u001b[0m \u001b[0mself\u001b[0m\u001b[0;34m.\u001b[0m\u001b[0mget_renderer\u001b[0m\u001b[0;34m(\u001b[0m\u001b[0;34m)\u001b[0m\u001b[0;34m\u001b[0m\u001b[0m\n\u001b[1;32m    519\u001b[0m         \u001b[0moriginal_dpi\u001b[0m \u001b[0;34m=\u001b[0m \u001b[0mrenderer\u001b[0m\u001b[0;34m.\u001b[0m\u001b[0mdpi\u001b[0m\u001b[0;34m\u001b[0m\u001b[0m\n",
      "\u001b[0;32m/home/juferoga/anaconda2/lib/python2.7/site-packages/matplotlib/backends/backend_agg.pyc\u001b[0m in \u001b[0;36mdraw\u001b[0;34m(self)\u001b[0m\n\u001b[1;32m    435\u001b[0m             \u001b[0;31m# if toolbar:\u001b[0m\u001b[0;34m\u001b[0m\u001b[0;34m\u001b[0m\u001b[0m\n\u001b[1;32m    436\u001b[0m             \u001b[0;31m#     toolbar.set_cursor(cursors.WAIT)\u001b[0m\u001b[0;34m\u001b[0m\u001b[0;34m\u001b[0m\u001b[0m\n\u001b[0;32m--> 437\u001b[0;31m             \u001b[0mself\u001b[0m\u001b[0;34m.\u001b[0m\u001b[0mfigure\u001b[0m\u001b[0;34m.\u001b[0m\u001b[0mdraw\u001b[0m\u001b[0;34m(\u001b[0m\u001b[0mself\u001b[0m\u001b[0;34m.\u001b[0m\u001b[0mrenderer\u001b[0m\u001b[0;34m)\u001b[0m\u001b[0;34m\u001b[0m\u001b[0m\n\u001b[0m\u001b[1;32m    438\u001b[0m             \u001b[0;31m# A GUI class may be need to update a window using this draw, so\u001b[0m\u001b[0;34m\u001b[0m\u001b[0;34m\u001b[0m\u001b[0m\n\u001b[1;32m    439\u001b[0m             \u001b[0;31m# don't forget to call the superclass.\u001b[0m\u001b[0;34m\u001b[0m\u001b[0;34m\u001b[0m\u001b[0m\n",
      "\u001b[0;32m/home/juferoga/anaconda2/lib/python2.7/site-packages/matplotlib/artist.pyc\u001b[0m in \u001b[0;36mdraw_wrapper\u001b[0;34m(artist, renderer, *args, **kwargs)\u001b[0m\n\u001b[1;32m     53\u001b[0m                 \u001b[0mrenderer\u001b[0m\u001b[0;34m.\u001b[0m\u001b[0mstart_filter\u001b[0m\u001b[0;34m(\u001b[0m\u001b[0;34m)\u001b[0m\u001b[0;34m\u001b[0m\u001b[0m\n\u001b[1;32m     54\u001b[0m \u001b[0;34m\u001b[0m\u001b[0m\n\u001b[0;32m---> 55\u001b[0;31m             \u001b[0;32mreturn\u001b[0m \u001b[0mdraw\u001b[0m\u001b[0;34m(\u001b[0m\u001b[0martist\u001b[0m\u001b[0;34m,\u001b[0m \u001b[0mrenderer\u001b[0m\u001b[0;34m,\u001b[0m \u001b[0;34m*\u001b[0m\u001b[0margs\u001b[0m\u001b[0;34m,\u001b[0m \u001b[0;34m**\u001b[0m\u001b[0mkwargs\u001b[0m\u001b[0;34m)\u001b[0m\u001b[0;34m\u001b[0m\u001b[0m\n\u001b[0m\u001b[1;32m     56\u001b[0m         \u001b[0;32mfinally\u001b[0m\u001b[0;34m:\u001b[0m\u001b[0;34m\u001b[0m\u001b[0m\n\u001b[1;32m     57\u001b[0m             \u001b[0;32mif\u001b[0m \u001b[0martist\u001b[0m\u001b[0;34m.\u001b[0m\u001b[0mget_agg_filter\u001b[0m\u001b[0;34m(\u001b[0m\u001b[0;34m)\u001b[0m \u001b[0;32mis\u001b[0m \u001b[0;32mnot\u001b[0m \u001b[0mNone\u001b[0m\u001b[0;34m:\u001b[0m\u001b[0;34m\u001b[0m\u001b[0m\n",
      "\u001b[0;32m/home/juferoga/anaconda2/lib/python2.7/site-packages/matplotlib/figure.pyc\u001b[0m in \u001b[0;36mdraw\u001b[0;34m(self, renderer)\u001b[0m\n\u001b[1;32m   1491\u001b[0m \u001b[0;34m\u001b[0m\u001b[0m\n\u001b[1;32m   1492\u001b[0m             mimage._draw_list_compositing_images(\n\u001b[0;32m-> 1493\u001b[0;31m                 renderer, self, artists, self.suppressComposite)\n\u001b[0m\u001b[1;32m   1494\u001b[0m \u001b[0;34m\u001b[0m\u001b[0m\n\u001b[1;32m   1495\u001b[0m             \u001b[0mrenderer\u001b[0m\u001b[0;34m.\u001b[0m\u001b[0mclose_group\u001b[0m\u001b[0;34m(\u001b[0m\u001b[0;34m'figure'\u001b[0m\u001b[0;34m)\u001b[0m\u001b[0;34m\u001b[0m\u001b[0m\n",
      "\u001b[0;32m/home/juferoga/anaconda2/lib/python2.7/site-packages/matplotlib/image.pyc\u001b[0m in \u001b[0;36m_draw_list_compositing_images\u001b[0;34m(renderer, parent, artists, suppress_composite)\u001b[0m\n\u001b[1;32m    139\u001b[0m     \u001b[0;32mif\u001b[0m \u001b[0mnot_composite\u001b[0m \u001b[0;32mor\u001b[0m \u001b[0;32mnot\u001b[0m \u001b[0mhas_images\u001b[0m\u001b[0;34m:\u001b[0m\u001b[0;34m\u001b[0m\u001b[0m\n\u001b[1;32m    140\u001b[0m         \u001b[0;32mfor\u001b[0m \u001b[0ma\u001b[0m \u001b[0;32min\u001b[0m \u001b[0martists\u001b[0m\u001b[0;34m:\u001b[0m\u001b[0;34m\u001b[0m\u001b[0m\n\u001b[0;32m--> 141\u001b[0;31m             \u001b[0ma\u001b[0m\u001b[0;34m.\u001b[0m\u001b[0mdraw\u001b[0m\u001b[0;34m(\u001b[0m\u001b[0mrenderer\u001b[0m\u001b[0;34m)\u001b[0m\u001b[0;34m\u001b[0m\u001b[0m\n\u001b[0m\u001b[1;32m    142\u001b[0m     \u001b[0;32melse\u001b[0m\u001b[0;34m:\u001b[0m\u001b[0;34m\u001b[0m\u001b[0m\n\u001b[1;32m    143\u001b[0m         \u001b[0;31m# Composite any adjacent images together\u001b[0m\u001b[0;34m\u001b[0m\u001b[0;34m\u001b[0m\u001b[0m\n",
      "\u001b[0;32m/home/juferoga/anaconda2/lib/python2.7/site-packages/matplotlib/artist.pyc\u001b[0m in \u001b[0;36mdraw_wrapper\u001b[0;34m(artist, renderer, *args, **kwargs)\u001b[0m\n\u001b[1;32m     53\u001b[0m                 \u001b[0mrenderer\u001b[0m\u001b[0;34m.\u001b[0m\u001b[0mstart_filter\u001b[0m\u001b[0;34m(\u001b[0m\u001b[0;34m)\u001b[0m\u001b[0;34m\u001b[0m\u001b[0m\n\u001b[1;32m     54\u001b[0m \u001b[0;34m\u001b[0m\u001b[0m\n\u001b[0;32m---> 55\u001b[0;31m             \u001b[0;32mreturn\u001b[0m \u001b[0mdraw\u001b[0m\u001b[0;34m(\u001b[0m\u001b[0martist\u001b[0m\u001b[0;34m,\u001b[0m \u001b[0mrenderer\u001b[0m\u001b[0;34m,\u001b[0m \u001b[0;34m*\u001b[0m\u001b[0margs\u001b[0m\u001b[0;34m,\u001b[0m \u001b[0;34m**\u001b[0m\u001b[0mkwargs\u001b[0m\u001b[0;34m)\u001b[0m\u001b[0;34m\u001b[0m\u001b[0m\n\u001b[0m\u001b[1;32m     56\u001b[0m         \u001b[0;32mfinally\u001b[0m\u001b[0;34m:\u001b[0m\u001b[0;34m\u001b[0m\u001b[0m\n\u001b[1;32m     57\u001b[0m             \u001b[0;32mif\u001b[0m \u001b[0martist\u001b[0m\u001b[0;34m.\u001b[0m\u001b[0mget_agg_filter\u001b[0m\u001b[0;34m(\u001b[0m\u001b[0;34m)\u001b[0m \u001b[0;32mis\u001b[0m \u001b[0;32mnot\u001b[0m \u001b[0mNone\u001b[0m\u001b[0;34m:\u001b[0m\u001b[0;34m\u001b[0m\u001b[0m\n",
      "\u001b[0;32m/home/juferoga/anaconda2/lib/python2.7/site-packages/matplotlib/axes/_base.pyc\u001b[0m in \u001b[0;36mdraw\u001b[0;34m(self, renderer, inframe)\u001b[0m\n\u001b[1;32m   2633\u001b[0m             \u001b[0mrenderer\u001b[0m\u001b[0;34m.\u001b[0m\u001b[0mstop_rasterizing\u001b[0m\u001b[0;34m(\u001b[0m\u001b[0;34m)\u001b[0m\u001b[0;34m\u001b[0m\u001b[0m\n\u001b[1;32m   2634\u001b[0m \u001b[0;34m\u001b[0m\u001b[0m\n\u001b[0;32m-> 2635\u001b[0;31m         \u001b[0mmimage\u001b[0m\u001b[0;34m.\u001b[0m\u001b[0m_draw_list_compositing_images\u001b[0m\u001b[0;34m(\u001b[0m\u001b[0mrenderer\u001b[0m\u001b[0;34m,\u001b[0m \u001b[0mself\u001b[0m\u001b[0;34m,\u001b[0m \u001b[0martists\u001b[0m\u001b[0;34m)\u001b[0m\u001b[0;34m\u001b[0m\u001b[0m\n\u001b[0m\u001b[1;32m   2636\u001b[0m \u001b[0;34m\u001b[0m\u001b[0m\n\u001b[1;32m   2637\u001b[0m         \u001b[0mrenderer\u001b[0m\u001b[0;34m.\u001b[0m\u001b[0mclose_group\u001b[0m\u001b[0;34m(\u001b[0m\u001b[0;34m'axes'\u001b[0m\u001b[0;34m)\u001b[0m\u001b[0;34m\u001b[0m\u001b[0m\n",
      "\u001b[0;32m/home/juferoga/anaconda2/lib/python2.7/site-packages/matplotlib/image.pyc\u001b[0m in \u001b[0;36m_draw_list_compositing_images\u001b[0;34m(renderer, parent, artists, suppress_composite)\u001b[0m\n\u001b[1;32m    139\u001b[0m     \u001b[0;32mif\u001b[0m \u001b[0mnot_composite\u001b[0m \u001b[0;32mor\u001b[0m \u001b[0;32mnot\u001b[0m \u001b[0mhas_images\u001b[0m\u001b[0;34m:\u001b[0m\u001b[0;34m\u001b[0m\u001b[0m\n\u001b[1;32m    140\u001b[0m         \u001b[0;32mfor\u001b[0m \u001b[0ma\u001b[0m \u001b[0;32min\u001b[0m \u001b[0martists\u001b[0m\u001b[0;34m:\u001b[0m\u001b[0;34m\u001b[0m\u001b[0m\n\u001b[0;32m--> 141\u001b[0;31m             \u001b[0ma\u001b[0m\u001b[0;34m.\u001b[0m\u001b[0mdraw\u001b[0m\u001b[0;34m(\u001b[0m\u001b[0mrenderer\u001b[0m\u001b[0;34m)\u001b[0m\u001b[0;34m\u001b[0m\u001b[0m\n\u001b[0m\u001b[1;32m    142\u001b[0m     \u001b[0;32melse\u001b[0m\u001b[0;34m:\u001b[0m\u001b[0;34m\u001b[0m\u001b[0m\n\u001b[1;32m    143\u001b[0m         \u001b[0;31m# Composite any adjacent images together\u001b[0m\u001b[0;34m\u001b[0m\u001b[0;34m\u001b[0m\u001b[0m\n",
      "\u001b[0;32m/home/juferoga/anaconda2/lib/python2.7/site-packages/matplotlib/artist.pyc\u001b[0m in \u001b[0;36mdraw_wrapper\u001b[0;34m(artist, renderer, *args, **kwargs)\u001b[0m\n\u001b[1;32m     53\u001b[0m                 \u001b[0mrenderer\u001b[0m\u001b[0;34m.\u001b[0m\u001b[0mstart_filter\u001b[0m\u001b[0;34m(\u001b[0m\u001b[0;34m)\u001b[0m\u001b[0;34m\u001b[0m\u001b[0m\n\u001b[1;32m     54\u001b[0m \u001b[0;34m\u001b[0m\u001b[0m\n\u001b[0;32m---> 55\u001b[0;31m             \u001b[0;32mreturn\u001b[0m \u001b[0mdraw\u001b[0m\u001b[0;34m(\u001b[0m\u001b[0martist\u001b[0m\u001b[0;34m,\u001b[0m \u001b[0mrenderer\u001b[0m\u001b[0;34m,\u001b[0m \u001b[0;34m*\u001b[0m\u001b[0margs\u001b[0m\u001b[0;34m,\u001b[0m \u001b[0;34m**\u001b[0m\u001b[0mkwargs\u001b[0m\u001b[0;34m)\u001b[0m\u001b[0;34m\u001b[0m\u001b[0m\n\u001b[0m\u001b[1;32m     56\u001b[0m         \u001b[0;32mfinally\u001b[0m\u001b[0;34m:\u001b[0m\u001b[0;34m\u001b[0m\u001b[0m\n\u001b[1;32m     57\u001b[0m             \u001b[0;32mif\u001b[0m \u001b[0martist\u001b[0m\u001b[0;34m.\u001b[0m\u001b[0mget_agg_filter\u001b[0m\u001b[0;34m(\u001b[0m\u001b[0;34m)\u001b[0m \u001b[0;32mis\u001b[0m \u001b[0;32mnot\u001b[0m \u001b[0mNone\u001b[0m\u001b[0;34m:\u001b[0m\u001b[0;34m\u001b[0m\u001b[0m\n",
      "\u001b[0;32m/home/juferoga/anaconda2/lib/python2.7/site-packages/matplotlib/text.pyc\u001b[0m in \u001b[0;36mdraw\u001b[0;34m(self, renderer)\u001b[0m\n\u001b[1;32m    704\u001b[0m \u001b[0;34m\u001b[0m\u001b[0m\n\u001b[1;32m    705\u001b[0m         \u001b[0;32mwith\u001b[0m \u001b[0m_wrap_text\u001b[0m\u001b[0;34m(\u001b[0m\u001b[0mself\u001b[0m\u001b[0;34m)\u001b[0m \u001b[0;32mas\u001b[0m \u001b[0mtextobj\u001b[0m\u001b[0;34m:\u001b[0m\u001b[0;34m\u001b[0m\u001b[0m\n\u001b[0;32m--> 706\u001b[0;31m             \u001b[0mbbox\u001b[0m\u001b[0;34m,\u001b[0m \u001b[0minfo\u001b[0m\u001b[0;34m,\u001b[0m \u001b[0mdescent\u001b[0m \u001b[0;34m=\u001b[0m \u001b[0mtextobj\u001b[0m\u001b[0;34m.\u001b[0m\u001b[0m_get_layout\u001b[0m\u001b[0;34m(\u001b[0m\u001b[0mrenderer\u001b[0m\u001b[0;34m)\u001b[0m\u001b[0;34m\u001b[0m\u001b[0m\n\u001b[0m\u001b[1;32m    707\u001b[0m             \u001b[0mtrans\u001b[0m \u001b[0;34m=\u001b[0m \u001b[0mtextobj\u001b[0m\u001b[0;34m.\u001b[0m\u001b[0mget_transform\u001b[0m\u001b[0;34m(\u001b[0m\u001b[0;34m)\u001b[0m\u001b[0;34m\u001b[0m\u001b[0m\n\u001b[1;32m    708\u001b[0m \u001b[0;34m\u001b[0m\u001b[0m\n",
      "\u001b[0;32m/home/juferoga/anaconda2/lib/python2.7/site-packages/matplotlib/text.pyc\u001b[0m in \u001b[0;36m_get_layout\u001b[0;34m(self, renderer)\u001b[0m\n\u001b[1;32m    303\u001b[0m         \u001b[0mbaseline\u001b[0m \u001b[0;34m=\u001b[0m \u001b[0;36m0\u001b[0m\u001b[0;34m\u001b[0m\u001b[0m\n\u001b[1;32m    304\u001b[0m         \u001b[0;32mfor\u001b[0m \u001b[0mi\u001b[0m\u001b[0;34m,\u001b[0m \u001b[0mline\u001b[0m \u001b[0;32min\u001b[0m \u001b[0menumerate\u001b[0m\u001b[0;34m(\u001b[0m\u001b[0mlines\u001b[0m\u001b[0;34m)\u001b[0m\u001b[0;34m:\u001b[0m\u001b[0;34m\u001b[0m\u001b[0m\n\u001b[0;32m--> 305\u001b[0;31m             \u001b[0mclean_line\u001b[0m\u001b[0;34m,\u001b[0m \u001b[0mismath\u001b[0m \u001b[0;34m=\u001b[0m \u001b[0mself\u001b[0m\u001b[0;34m.\u001b[0m\u001b[0mis_math_text\u001b[0m\u001b[0;34m(\u001b[0m\u001b[0mline\u001b[0m\u001b[0;34m,\u001b[0m \u001b[0mself\u001b[0m\u001b[0;34m.\u001b[0m\u001b[0mget_usetex\u001b[0m\u001b[0;34m(\u001b[0m\u001b[0;34m)\u001b[0m\u001b[0;34m)\u001b[0m\u001b[0;34m\u001b[0m\u001b[0m\n\u001b[0m\u001b[1;32m    306\u001b[0m             \u001b[0;32mif\u001b[0m \u001b[0mclean_line\u001b[0m\u001b[0;34m:\u001b[0m\u001b[0;34m\u001b[0m\u001b[0m\n\u001b[1;32m    307\u001b[0m                 w, h, d = renderer.get_text_width_height_descent(clean_line,\n",
      "\u001b[0;32m/home/juferoga/anaconda2/lib/python2.7/site-packages/matplotlib/text.pyc\u001b[0m in \u001b[0;36mis_math_text\u001b[0;34m(s, usetex)\u001b[0m\n\u001b[1;32m   1186\u001b[0m             \u001b[0;32mreturn\u001b[0m \u001b[0ms\u001b[0m\u001b[0;34m,\u001b[0m \u001b[0;34m'TeX'\u001b[0m\u001b[0;34m\u001b[0m\u001b[0m\n\u001b[1;32m   1187\u001b[0m \u001b[0;34m\u001b[0m\u001b[0m\n\u001b[0;32m-> 1188\u001b[0;31m         \u001b[0;32mif\u001b[0m \u001b[0mcbook\u001b[0m\u001b[0;34m.\u001b[0m\u001b[0mis_math_text\u001b[0m\u001b[0;34m(\u001b[0m\u001b[0ms\u001b[0m\u001b[0;34m)\u001b[0m\u001b[0;34m:\u001b[0m\u001b[0;34m\u001b[0m\u001b[0m\n\u001b[0m\u001b[1;32m   1189\u001b[0m             \u001b[0;32mreturn\u001b[0m \u001b[0ms\u001b[0m\u001b[0;34m,\u001b[0m \u001b[0mTrue\u001b[0m\u001b[0;34m\u001b[0m\u001b[0m\n\u001b[1;32m   1190\u001b[0m         \u001b[0;32melse\u001b[0m\u001b[0;34m:\u001b[0m\u001b[0;34m\u001b[0m\u001b[0m\n",
      "\u001b[0;32m/home/juferoga/anaconda2/lib/python2.7/site-packages/matplotlib/cbook/__init__.pyc\u001b[0m in \u001b[0;36mis_math_text\u001b[0;34m(s)\u001b[0m\n\u001b[1;32m   2033\u001b[0m     \u001b[0;32mexcept\u001b[0m \u001b[0mUnicodeDecodeError\u001b[0m\u001b[0;34m:\u001b[0m\u001b[0;34m\u001b[0m\u001b[0m\n\u001b[1;32m   2034\u001b[0m         raise ValueError(\n\u001b[0;32m-> 2035\u001b[0;31m             \u001b[0;34m\"matplotlib display text must have all code points < 128 or use \"\u001b[0m\u001b[0;34m\u001b[0m\u001b[0m\n\u001b[0m\u001b[1;32m   2036\u001b[0m             \"Unicode strings\")\n\u001b[1;32m   2037\u001b[0m \u001b[0;34m\u001b[0m\u001b[0m\n",
      "\u001b[0;31mValueError\u001b[0m: matplotlib display text must have all code points < 128 or use Unicode strings"
     ]
    },
    {
     "data": {
      "text/plain": [
       "<Figure size 720x720 with 6 Axes>"
      ]
     },
     "metadata": {
      "needs_background": "light"
     },
     "output_type": "display_data"
    }
   ],
   "source": [
    "S4=data['Edad'][data['Estado']=='Leve']\n",
    "S5=data['Edad'][data['Estado']=='Asintomático']\n",
    "S6=data['Edad'][data['Estado']=='Fallecido']\n",
    "S7=data['Edad'][data['Estado']=='Moderado']\n",
    "S8=data['Edad'][data['Estado']=='Grave']\n",
    "frame = { 'Leves': S4, 'Asintomáticos': S5, 'Fallecidos': S6, 'Moderados': S7, 'Graves': S8 } \n",
    "df1=pd.DataFrame(frame)\n",
    "df1.hist(figsize=(10,10), bins=30)"
   ]
  },
  {
   "cell_type": "markdown",
   "metadata": {
    "colab_type": "text",
    "id": "QI2a_9TH-dXu"
   },
   "source": []
  },
  {
   "cell_type": "markdown",
   "metadata": {
    "colab_type": "text",
    "id": "L35fXdX9WpUa"
   },
   "source": [
    "\n",
    "\n",
    "---\n",
    "\n",
    "###Box\n",
    "\n",
    "\n",
    "---\n",
    "\n"
   ]
  },
  {
   "cell_type": "markdown",
   "metadata": {
    "colab_type": "text",
    "id": "nSWVmJr3TLS0"
   },
   "source": [
    "![image.png](data:image/png;base64,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)"
   ]
  },
  {
   "cell_type": "markdown",
   "metadata": {
    "colab_type": "text",
    "id": "rLkIYoW2ULmt"
   },
   "source": [
    "De https://commons.wikimedia.org/wiki/User:OnkelDagobert - File:Statistik_boxplot_balken.jpg, CC BY-SA 3.0, https://commons.wikimedia.org/w/index.php?curid=87652694"
   ]
  },
  {
   "cell_type": "code",
   "execution_count": 19,
   "metadata": {
    "colab": {},
    "colab_type": "code",
    "id": "GUkR_cN9JK02"
   },
   "outputs": [
    {
     "data": {
      "text/plain": [
       "<matplotlib.axes._subplots.AxesSubplot at 0x7efd040ae750>"
      ]
     },
     "execution_count": 19,
     "metadata": {},
     "output_type": "execute_result"
    },
    {
     "data": {
      "image/png": "[encoded data removed]",
      "text/plain": [
       "<Figure size 432x288 with 1 Axes>"
      ]
     },
     "metadata": {
      "needs_background": "light"
     },
     "output_type": "display_data"
    }
   ],
   "source": [
    "df1.plot.box()"
   ]
  },
  {
   "cell_type": "markdown",
   "metadata": {
    "colab_type": "text",
    "id": "AqlAO04AWuMz"
   },
   "source": [
    "\n",
    "\n",
    "---\n",
    "\n",
    "###Area\n",
    "\n",
    "\n",
    "---\n",
    "\n"
   ]
  },
  {
   "cell_type": "code",
   "execution_count": 20,
   "metadata": {
    "colab": {},
    "colab_type": "code",
    "id": "LLyGURZoLpYK"
   },
   "outputs": [
    {
     "data": {
      "text/plain": [
       "<matplotlib.axes._subplots.AxesSubplot at 0x7efcfff40150>"
      ]
     },
     "execution_count": 20,
     "metadata": {},
     "output_type": "execute_result"
    },
    {
     "data": {
      "image/png": "[encoded data removed]",
      "text/plain": [
       "<Figure size 432x288 with 1 Axes>"
      ]
     },
     "metadata": {
      "needs_background": "light"
     },
     "output_type": "display_data"
    }
   ],
   "source": [
    "df.cumsum().plot.area(stacked=False)"
   ]
  },
  {
   "cell_type": "markdown",
   "metadata": {
    "colab_type": "text",
    "id": "4LqM258gWy-g"
   },
   "source": [
    "\n",
    "\n",
    "---\n",
    "\n",
    "###Scatter\n",
    "\n",
    "\n",
    "---\n",
    "\n"
   ]
  },
  {
   "cell_type": "code",
   "execution_count": 21,
   "metadata": {
    "colab": {},
    "colab_type": "code",
    "id": "pArB5K0iNvD7"
   },
   "outputs": [
    {
     "data": {
      "text/plain": [
       "<matplotlib.axes._subplots.AxesSubplot at 0x7efcfe63c990>"
      ]
     },
     "execution_count": 21,
     "metadata": {},
     "output_type": "execute_result"
    },
    {
     "data": {
      "image/png": "[encoded data removed]",
      "text/plain": [
       "<Figure size 432x288 with 1 Axes>"
      ]
     },
     "metadata": {
      "needs_background": "light"
     },
     "output_type": "display_data"
    }
   ],
   "source": [
    "df.cumsum().plot.scatter(x='Contagiados', y='Muertos')"
   ]
  },
  {
   "cell_type": "markdown",
   "metadata": {
    "colab_type": "text",
    "id": "basYjKHOW3g7"
   },
   "source": [
    "\n",
    "\n",
    "---\n",
    "\n",
    "###Pie\n",
    "\n",
    "\n",
    "---\n",
    "\n"
   ]
  },
  {
   "cell_type": "code",
   "execution_count": 22,
   "metadata": {
    "colab": {},
    "colab_type": "code",
    "id": "0fASNHQ8YFtx"
   },
   "outputs": [
    {
     "data": {
      "text/plain": [
       "<matplotlib.axes._subplots.AxesSubplot at 0x7efcfe6261d0>"
      ]
     },
     "execution_count": 22,
     "metadata": {},
     "output_type": "execute_result"
    },
    {
     "data": {
      "image/png": "[encoded data removed]",
      "text/plain": [
       "<Figure size 432x432 with 1 Axes>"
      ]
     },
     "metadata": {},
     "output_type": "display_data"
    }
   ],
   "source": [
    " explode = (0.1, 0, 0, 0, 0, 0) \n",
    " data.groupby('Estado')['Estado'].count().plot.pie(figsize=(6, 6))"
   ]
  },
  {
   "cell_type": "code",
   "execution_count": 23,
   "metadata": {
    "colab": {},
    "colab_type": "code",
    "id": "2AePexZZbR-e"
   },
   "outputs": [
    {
     "data": {
      "text/plain": [
       "array(['Leve', 'Asintom\\xc3\\xa1tico', 'Fallecido', 'Grave', 'Moderado',\n",
       "       'leve', nan], dtype=object)"
      ]
     },
     "execution_count": 23,
     "metadata": {},
     "output_type": "execute_result"
    }
   ],
   "source": [
    "data['Estado'].unique()"
   ]
  },
  {
   "cell_type": "code",
   "execution_count": 24,
   "metadata": {
    "colab": {},
    "colab_type": "code",
    "id": "X5JaBeAWXiBX"
   },
   "outputs": [
    {
     "data": {
      "text/plain": [
       "array(['Leve', 'Asintom\\xc3\\xa1tico', 'Fallecido', 'Grave', 'Moderado',\n",
       "       nan], dtype=object)"
      ]
     },
     "execution_count": 24,
     "metadata": {},
     "output_type": "execute_result"
    }
   ],
   "source": [
    "data = data.replace('leve','Leve')\n",
    "data['Estado'].unique()"
   ]
  },
  {
   "cell_type": "code",
   "execution_count": 25,
   "metadata": {
    "colab": {},
    "colab_type": "code",
    "id": "R_Lmb1IrZZDN"
   },
   "outputs": [
    {
     "ename": "ValueError",
     "evalue": "'explode' must be of length 'x'",
     "output_type": "error",
     "traceback": [
      "\u001b[0;31m\u001b[0m",
      "\u001b[0;31mValueError\u001b[0mTraceback (most recent call last)",
      "\u001b[0;32m<ipython-input-25-d4851f303c64>\u001b[0m in \u001b[0;36m<module>\u001b[0;34m()\u001b[0m\n\u001b[1;32m      1\u001b[0m \u001b[0mexplode\u001b[0m \u001b[0;34m=\u001b[0m \u001b[0;34m(\u001b[0m \u001b[0;36m0.1\u001b[0m\u001b[0;34m,\u001b[0m \u001b[0;36m0\u001b[0m\u001b[0;34m)\u001b[0m\u001b[0;34m\u001b[0m\u001b[0m\n\u001b[0;32m----> 2\u001b[0;31m \u001b[0mdata\u001b[0m\u001b[0;34m.\u001b[0m\u001b[0mgroupby\u001b[0m\u001b[0;34m(\u001b[0m\u001b[0;34m'Estado'\u001b[0m\u001b[0;34m)\u001b[0m\u001b[0;34m[\u001b[0m\u001b[0;34m'Estado'\u001b[0m\u001b[0;34m]\u001b[0m\u001b[0;34m.\u001b[0m\u001b[0mcount\u001b[0m\u001b[0;34m(\u001b[0m\u001b[0;34m)\u001b[0m\u001b[0;34m.\u001b[0m\u001b[0mplot\u001b[0m\u001b[0;34m.\u001b[0m\u001b[0mpie\u001b[0m\u001b[0;34m(\u001b[0m\u001b[0mfigsize\u001b[0m\u001b[0;34m=\u001b[0m\u001b[0;34m(\u001b[0m\u001b[0;36m6\u001b[0m\u001b[0;34m,\u001b[0m \u001b[0;36m6\u001b[0m\u001b[0;34m)\u001b[0m\u001b[0;34m,\u001b[0m \u001b[0mexplode\u001b[0m \u001b[0;34m=\u001b[0m \u001b[0mexplode\u001b[0m\u001b[0;34m,\u001b[0m \u001b[0mautopct\u001b[0m\u001b[0;34m=\u001b[0m\u001b[0;34m'%1.1f%%'\u001b[0m\u001b[0;34m)\u001b[0m\u001b[0;34m\u001b[0m\u001b[0m\n\u001b[0m",
      "\u001b[0;32m/home/juferoga/anaconda2/lib/python2.7/site-packages/pandas/plotting/_core.pyc\u001b[0m in \u001b[0;36mpie\u001b[0;34m(self, **kwds)\u001b[0m\n\u001b[1;32m   2907\u001b[0m         \u001b[0maxes\u001b[0m \u001b[0;34m:\u001b[0m \u001b[0;34m:\u001b[0m\u001b[0;32mclass\u001b[0m\u001b[0;34m:\u001b[0m\u001b[0;34m`\u001b[0m\u001b[0mmatplotlib\u001b[0m\u001b[0;34m.\u001b[0m\u001b[0maxes\u001b[0m\u001b[0;34m.\u001b[0m\u001b[0mAxes\u001b[0m\u001b[0;34m`\u001b[0m \u001b[0;32mor\u001b[0m \u001b[0mnumpy\u001b[0m\u001b[0;34m.\u001b[0m\u001b[0mndarray\u001b[0m \u001b[0mof\u001b[0m \u001b[0mthem\u001b[0m\u001b[0;34m\u001b[0m\u001b[0m\n\u001b[1;32m   2908\u001b[0m         \"\"\"\n\u001b[0;32m-> 2909\u001b[0;31m         \u001b[0;32mreturn\u001b[0m \u001b[0mself\u001b[0m\u001b[0;34m(\u001b[0m\u001b[0mkind\u001b[0m\u001b[0;34m=\u001b[0m\u001b[0;34m'pie'\u001b[0m\u001b[0;34m,\u001b[0m \u001b[0;34m**\u001b[0m\u001b[0mkwds\u001b[0m\u001b[0;34m)\u001b[0m\u001b[0;34m\u001b[0m\u001b[0m\n\u001b[0m\u001b[1;32m   2910\u001b[0m \u001b[0;34m\u001b[0m\u001b[0m\n\u001b[1;32m   2911\u001b[0m \u001b[0;34m\u001b[0m\u001b[0m\n",
      "\u001b[0;32m/home/juferoga/anaconda2/lib/python2.7/site-packages/pandas/plotting/_core.pyc\u001b[0m in \u001b[0;36m__call__\u001b[0;34m(self, kind, ax, figsize, use_index, title, grid, legend, style, logx, logy, loglog, xticks, yticks, xlim, ylim, rot, fontsize, colormap, table, yerr, xerr, label, secondary_y, **kwds)\u001b[0m\n\u001b[1;32m   2740\u001b[0m                            \u001b[0mcolormap\u001b[0m\u001b[0;34m=\u001b[0m\u001b[0mcolormap\u001b[0m\u001b[0;34m,\u001b[0m \u001b[0mtable\u001b[0m\u001b[0;34m=\u001b[0m\u001b[0mtable\u001b[0m\u001b[0;34m,\u001b[0m \u001b[0myerr\u001b[0m\u001b[0;34m=\u001b[0m\u001b[0myerr\u001b[0m\u001b[0;34m,\u001b[0m\u001b[0;34m\u001b[0m\u001b[0m\n\u001b[1;32m   2741\u001b[0m                            \u001b[0mxerr\u001b[0m\u001b[0;34m=\u001b[0m\u001b[0mxerr\u001b[0m\u001b[0;34m,\u001b[0m \u001b[0mlabel\u001b[0m\u001b[0;34m=\u001b[0m\u001b[0mlabel\u001b[0m\u001b[0;34m,\u001b[0m \u001b[0msecondary_y\u001b[0m\u001b[0;34m=\u001b[0m\u001b[0msecondary_y\u001b[0m\u001b[0;34m,\u001b[0m\u001b[0;34m\u001b[0m\u001b[0m\n\u001b[0;32m-> 2742\u001b[0;31m                            **kwds)\n\u001b[0m\u001b[1;32m   2743\u001b[0m     \u001b[0m__call__\u001b[0m\u001b[0;34m.\u001b[0m\u001b[0m__doc__\u001b[0m \u001b[0;34m=\u001b[0m \u001b[0mplot_series\u001b[0m\u001b[0;34m.\u001b[0m\u001b[0m__doc__\u001b[0m\u001b[0;34m\u001b[0m\u001b[0m\n\u001b[1;32m   2744\u001b[0m \u001b[0;34m\u001b[0m\u001b[0m\n",
      "\u001b[0;32m/home/juferoga/anaconda2/lib/python2.7/site-packages/pandas/plotting/_core.pyc\u001b[0m in \u001b[0;36mplot_series\u001b[0;34m(data, kind, ax, figsize, use_index, title, grid, legend, style, logx, logy, loglog, xticks, yticks, xlim, ylim, rot, fontsize, colormap, table, yerr, xerr, label, secondary_y, **kwds)\u001b[0m\n\u001b[1;32m   1996\u001b[0m                  \u001b[0myerr\u001b[0m\u001b[0;34m=\u001b[0m\u001b[0myerr\u001b[0m\u001b[0;34m,\u001b[0m \u001b[0mxerr\u001b[0m\u001b[0;34m=\u001b[0m\u001b[0mxerr\u001b[0m\u001b[0;34m,\u001b[0m\u001b[0;34m\u001b[0m\u001b[0m\n\u001b[1;32m   1997\u001b[0m                  \u001b[0mlabel\u001b[0m\u001b[0;34m=\u001b[0m\u001b[0mlabel\u001b[0m\u001b[0;34m,\u001b[0m \u001b[0msecondary_y\u001b[0m\u001b[0;34m=\u001b[0m\u001b[0msecondary_y\u001b[0m\u001b[0;34m,\u001b[0m\u001b[0;34m\u001b[0m\u001b[0m\n\u001b[0;32m-> 1998\u001b[0;31m                  **kwds)\n\u001b[0m\u001b[1;32m   1999\u001b[0m \u001b[0;34m\u001b[0m\u001b[0m\n\u001b[1;32m   2000\u001b[0m \u001b[0;34m\u001b[0m\u001b[0m\n",
      "\u001b[0;32m/home/juferoga/anaconda2/lib/python2.7/site-packages/pandas/plotting/_core.pyc\u001b[0m in \u001b[0;36m_plot\u001b[0;34m(data, x, y, subplots, ax, kind, **kwds)\u001b[0m\n\u001b[1;32m   1799\u001b[0m         \u001b[0mplot_obj\u001b[0m \u001b[0;34m=\u001b[0m \u001b[0mklass\u001b[0m\u001b[0;34m(\u001b[0m\u001b[0mdata\u001b[0m\u001b[0;34m,\u001b[0m \u001b[0msubplots\u001b[0m\u001b[0;34m=\u001b[0m\u001b[0msubplots\u001b[0m\u001b[0;34m,\u001b[0m \u001b[0max\u001b[0m\u001b[0;34m=\u001b[0m\u001b[0max\u001b[0m\u001b[0;34m,\u001b[0m \u001b[0mkind\u001b[0m\u001b[0;34m=\u001b[0m\u001b[0mkind\u001b[0m\u001b[0;34m,\u001b[0m \u001b[0;34m**\u001b[0m\u001b[0mkwds\u001b[0m\u001b[0;34m)\u001b[0m\u001b[0;34m\u001b[0m\u001b[0m\n\u001b[1;32m   1800\u001b[0m \u001b[0;34m\u001b[0m\u001b[0m\n\u001b[0;32m-> 1801\u001b[0;31m     \u001b[0mplot_obj\u001b[0m\u001b[0;34m.\u001b[0m\u001b[0mgenerate\u001b[0m\u001b[0;34m(\u001b[0m\u001b[0;34m)\u001b[0m\u001b[0;34m\u001b[0m\u001b[0m\n\u001b[0m\u001b[1;32m   1802\u001b[0m     \u001b[0mplot_obj\u001b[0m\u001b[0;34m.\u001b[0m\u001b[0mdraw\u001b[0m\u001b[0;34m(\u001b[0m\u001b[0;34m)\u001b[0m\u001b[0;34m\u001b[0m\u001b[0m\n\u001b[1;32m   1803\u001b[0m     \u001b[0;32mreturn\u001b[0m \u001b[0mplot_obj\u001b[0m\u001b[0;34m.\u001b[0m\u001b[0mresult\u001b[0m\u001b[0;34m\u001b[0m\u001b[0m\n",
      "\u001b[0;32m/home/juferoga/anaconda2/lib/python2.7/site-packages/pandas/plotting/_core.pyc\u001b[0m in \u001b[0;36mgenerate\u001b[0;34m(self)\u001b[0m\n\u001b[1;32m    249\u001b[0m         \u001b[0mself\u001b[0m\u001b[0;34m.\u001b[0m\u001b[0m_compute_plot_data\u001b[0m\u001b[0;34m(\u001b[0m\u001b[0;34m)\u001b[0m\u001b[0;34m\u001b[0m\u001b[0m\n\u001b[1;32m    250\u001b[0m         \u001b[0mself\u001b[0m\u001b[0;34m.\u001b[0m\u001b[0m_setup_subplots\u001b[0m\u001b[0;34m(\u001b[0m\u001b[0;34m)\u001b[0m\u001b[0;34m\u001b[0m\u001b[0m\n\u001b[0;32m--> 251\u001b[0;31m         \u001b[0mself\u001b[0m\u001b[0;34m.\u001b[0m\u001b[0m_make_plot\u001b[0m\u001b[0;34m(\u001b[0m\u001b[0;34m)\u001b[0m\u001b[0;34m\u001b[0m\u001b[0m\n\u001b[0m\u001b[1;32m    252\u001b[0m         \u001b[0mself\u001b[0m\u001b[0;34m.\u001b[0m\u001b[0m_add_table\u001b[0m\u001b[0;34m(\u001b[0m\u001b[0;34m)\u001b[0m\u001b[0;34m\u001b[0m\u001b[0m\n\u001b[1;32m    253\u001b[0m         \u001b[0mself\u001b[0m\u001b[0;34m.\u001b[0m\u001b[0m_make_legend\u001b[0m\u001b[0;34m(\u001b[0m\u001b[0;34m)\u001b[0m\u001b[0;34m\u001b[0m\u001b[0m\n",
      "\u001b[0;32m/home/juferoga/anaconda2/lib/python2.7/site-packages/pandas/plotting/_core.pyc\u001b[0m in \u001b[0;36m_make_plot\u001b[0;34m(self)\u001b[0m\n\u001b[1;32m   1537\u001b[0m             \u001b[0;32melse\u001b[0m\u001b[0;34m:\u001b[0m\u001b[0;34m\u001b[0m\u001b[0m\n\u001b[1;32m   1538\u001b[0m                 \u001b[0mblabels\u001b[0m \u001b[0;34m=\u001b[0m \u001b[0mNone\u001b[0m\u001b[0;34m\u001b[0m\u001b[0m\n\u001b[0;32m-> 1539\u001b[0;31m             \u001b[0mresults\u001b[0m \u001b[0;34m=\u001b[0m \u001b[0max\u001b[0m\u001b[0;34m.\u001b[0m\u001b[0mpie\u001b[0m\u001b[0;34m(\u001b[0m\u001b[0my\u001b[0m\u001b[0;34m,\u001b[0m \u001b[0mlabels\u001b[0m\u001b[0;34m=\u001b[0m\u001b[0mblabels\u001b[0m\u001b[0;34m,\u001b[0m \u001b[0;34m**\u001b[0m\u001b[0mkwds\u001b[0m\u001b[0;34m)\u001b[0m\u001b[0;34m\u001b[0m\u001b[0m\n\u001b[0m\u001b[1;32m   1540\u001b[0m \u001b[0;34m\u001b[0m\u001b[0m\n\u001b[1;32m   1541\u001b[0m             \u001b[0;32mif\u001b[0m \u001b[0mkwds\u001b[0m\u001b[0;34m.\u001b[0m\u001b[0mget\u001b[0m\u001b[0;34m(\u001b[0m\u001b[0;34m'autopct'\u001b[0m\u001b[0;34m,\u001b[0m \u001b[0mNone\u001b[0m\u001b[0;34m)\u001b[0m \u001b[0;32mis\u001b[0m \u001b[0;32mnot\u001b[0m \u001b[0mNone\u001b[0m\u001b[0;34m:\u001b[0m\u001b[0;34m\u001b[0m\u001b[0m\n",
      "\u001b[0;32m/home/juferoga/anaconda2/lib/python2.7/site-packages/matplotlib/__init__.pyc\u001b[0m in \u001b[0;36minner\u001b[0;34m(ax, *args, **kwargs)\u001b[0m\n\u001b[1;32m   1865\u001b[0m                         \u001b[0;34m\"the Matplotlib list!)\"\u001b[0m \u001b[0;34m%\u001b[0m \u001b[0;34m(\u001b[0m\u001b[0mlabel_namer\u001b[0m\u001b[0;34m,\u001b[0m \u001b[0mfunc\u001b[0m\u001b[0;34m.\u001b[0m\u001b[0m__name__\u001b[0m\u001b[0;34m)\u001b[0m\u001b[0;34m,\u001b[0m\u001b[0;34m\u001b[0m\u001b[0m\n\u001b[1;32m   1866\u001b[0m                         RuntimeWarning, stacklevel=2)\n\u001b[0;32m-> 1867\u001b[0;31m             \u001b[0;32mreturn\u001b[0m \u001b[0mfunc\u001b[0m\u001b[0;34m(\u001b[0m\u001b[0max\u001b[0m\u001b[0;34m,\u001b[0m \u001b[0;34m*\u001b[0m\u001b[0margs\u001b[0m\u001b[0;34m,\u001b[0m \u001b[0;34m**\u001b[0m\u001b[0mkwargs\u001b[0m\u001b[0;34m)\u001b[0m\u001b[0;34m\u001b[0m\u001b[0m\n\u001b[0m\u001b[1;32m   1868\u001b[0m \u001b[0;34m\u001b[0m\u001b[0m\n\u001b[1;32m   1869\u001b[0m         inner.__doc__ = _add_data_doc(inner.__doc__,\n",
      "\u001b[0;32m/home/juferoga/anaconda2/lib/python2.7/site-packages/matplotlib/axes/_axes.pyc\u001b[0m in \u001b[0;36mpie\u001b[0;34m(self, x, explode, labels, colors, autopct, pctdistance, shadow, labeldistance, startangle, radius, counterclock, wedgeprops, textprops, center, frame, rotatelabels)\u001b[0m\n\u001b[1;32m   2867\u001b[0m             \u001b[0;32mraise\u001b[0m \u001b[0mValueError\u001b[0m\u001b[0;34m(\u001b[0m\u001b[0;34m\"'label' must be of length 'x'\"\u001b[0m\u001b[0;34m)\u001b[0m\u001b[0;34m\u001b[0m\u001b[0m\n\u001b[1;32m   2868\u001b[0m         \u001b[0;32mif\u001b[0m \u001b[0mlen\u001b[0m\u001b[0;34m(\u001b[0m\u001b[0mx\u001b[0m\u001b[0;34m)\u001b[0m \u001b[0;34m!=\u001b[0m \u001b[0mlen\u001b[0m\u001b[0;34m(\u001b[0m\u001b[0mexplode\u001b[0m\u001b[0;34m)\u001b[0m\u001b[0;34m:\u001b[0m\u001b[0;34m\u001b[0m\u001b[0m\n\u001b[0;32m-> 2869\u001b[0;31m             \u001b[0;32mraise\u001b[0m \u001b[0mValueError\u001b[0m\u001b[0;34m(\u001b[0m\u001b[0;34m\"'explode' must be of length 'x'\"\u001b[0m\u001b[0;34m)\u001b[0m\u001b[0;34m\u001b[0m\u001b[0m\n\u001b[0m\u001b[1;32m   2870\u001b[0m         \u001b[0;32mif\u001b[0m \u001b[0mcolors\u001b[0m \u001b[0;32mis\u001b[0m \u001b[0mNone\u001b[0m\u001b[0;34m:\u001b[0m\u001b[0;34m\u001b[0m\u001b[0m\n\u001b[1;32m   2871\u001b[0m             \u001b[0mget_next_color\u001b[0m \u001b[0;34m=\u001b[0m \u001b[0mself\u001b[0m\u001b[0;34m.\u001b[0m\u001b[0m_get_patches_for_fill\u001b[0m\u001b[0;34m.\u001b[0m\u001b[0mget_next_color\u001b[0m\u001b[0;34m\u001b[0m\u001b[0m\n",
      "\u001b[0;31mValueError\u001b[0m: 'explode' must be of length 'x'"
     ]
    },
    {
     "data": {
      "image/png": "[encoded data removed]",
      "text/plain": [
       "<Figure size 432x432 with 1 Axes>"
      ]
     },
     "metadata": {
      "needs_background": "light"
     },
     "output_type": "display_data"
    }
   ],
   "source": [
    "explode = ( 0.1, 0) \n",
    "data.groupby('Estado')['Estado'].count().plot.pie(figsize=(6, 6), explode = explode, autopct='%1.1f%%')"
   ]
  }
 ],
 "metadata": {
  "colab": {
   "collapsed_sections": [
    "-c2tnoM5WYjn",
    "JCpyDXoTWhUL",
    "L35fXdX9WpUa",
    "AqlAO04AWuMz",
    "4LqM258gWy-g",
    "basYjKHOW3g7"
   ],
   "name": "Visualizar datos.ipynb",
   "provenance": []
  },
  "kernelspec": {
   "display_name": "Python 2",
   "language": "python",
   "name": "python2"
  },
  "language_info": {
   "codemirror_mode": {
    "name": "ipython",
    "version": 2
   },
   "file_extension": ".py",
   "mimetype": "text/x-python",
   "name": "python",
   "nbconvert_exporter": "python",
   "pygments_lexer": "ipython2",
   "version": "2.7.16"
  }
 },
 "nbformat": 4,
 "nbformat_minor": 1
}
