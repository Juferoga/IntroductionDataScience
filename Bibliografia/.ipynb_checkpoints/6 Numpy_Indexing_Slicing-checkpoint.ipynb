{
 "cells": [
  {
   "cell_type": "markdown",
   "metadata": {
    "colab_type": "text",
    "id": "YsQs3emPozPK"
   },
   "source": [
    "# INDEXING - SLICING"
   ]
  },
  {
   "cell_type": "markdown",
   "metadata": {
    "colab_type": "text",
    "id": "YYKVlTaTo6Hi"
   },
   "source": [
    "\n",
    "\n",
    "---\n",
    "\n",
    "\n",
    "### 1 DIMENSIÓN\n",
    "\n",
    "\n",
    "---\n",
    "\n"
   ]
  },
  {
   "cell_type": "code",
   "execution_count": 1,
   "metadata": {
    "colab": {
     "base_uri": "https://localhost:8080/",
     "height": 35
    },
    "colab_type": "code",
    "id": "mal-0zFFpcvA",
    "outputId": "eaa0c3c1-9578-40f3-9e9d-b28b65af333a"
   },
   "outputs": [
    {
     "name": "stdout",
     "output_type": "stream",
     "text": [
      "[0 1 2 3 4 5 6 7 8 9]\n"
     ]
    }
   ],
   "source": [
    "import numpy as np\n",
    "v = np.arange(10)\n",
    "print(v)"
   ]
  },
  {
   "cell_type": "markdown",
   "metadata": {
    "colab_type": "text",
    "id": "vKhu46sApD8D"
   },
   "source": [
    "Indexing 1D"
   ]
  },
  {
   "cell_type": "code",
   "execution_count": 2,
   "metadata": {
    "colab": {},
    "colab_type": "code",
    "id": "SLZwTBPPpT67"
   },
   "outputs": [
    {
     "name": "stdout",
     "output_type": "stream",
     "text": [
      "[0 1 2 3 4 5 6 7 8 9]\n",
      "3\n",
      "8\n"
     ]
    }
   ],
   "source": [
    "print(v)\n",
    "print(v[3])\n",
    "print(v[-2])"
   ]
  },
  {
   "cell_type": "markdown",
   "metadata": {
    "colab_type": "text",
    "id": "Rgs-h89_p8Gx"
   },
   "source": [
    "Slincing 1D"
   ]
  },
  {
   "cell_type": "code",
   "execution_count": 3,
   "metadata": {
    "colab": {},
    "colab_type": "code",
    "id": "nDZ3L9gRpnVc"
   },
   "outputs": [
    {
     "name": "stdout",
     "output_type": "stream",
     "text": [
      "[0 1 2 3 4 5 6 7 8 9]\n",
      "[1 3 5]\n",
      "[8 9]\n",
      "[7 6 5 4]\n",
      "[0 1 2 3 4 5 6 7 8 9]\n"
     ]
    }
   ],
   "source": [
    "print(v)\n",
    "print(v[1:7:2])\n",
    "print(v[-2:10])\n",
    "print(v[-3:3:-1])\n",
    "print(v[:])"
   ]
  },
  {
   "cell_type": "markdown",
   "metadata": {
    "colab_type": "text",
    "id": "RYpQuFzWqCRa"
   },
   "source": [
    "\n",
    "\n",
    "---\n",
    "### 2 DIMENSIONES\n",
    "\n",
    "\n",
    "---\n",
    "\n",
    "\n"
   ]
  },
  {
   "cell_type": "code",
   "execution_count": 4,
   "metadata": {
    "colab": {
     "base_uri": "https://localhost:8080/",
     "height": 104
    },
    "colab_type": "code",
    "id": "cHr8znoUqTaq",
    "outputId": "bff21413-7025-499c-8951-7db238bb6571"
   },
   "outputs": [
    {
     "name": "stdout",
     "output_type": "stream",
     "text": [
      "[[ 0  1  2  3]\n",
      " [ 4  5  6  7]\n",
      " [ 8  9 10 11]\n",
      " [12 13 14 15]\n",
      " [16 17 18 19]]\n"
     ]
    }
   ],
   "source": [
    "m = np.arange(20).reshape(5,4)\n",
    "print(m)"
   ]
  },
  {
   "cell_type": "markdown",
   "metadata": {
    "colab_type": "text",
    "id": "vbLIe7MqqWsk"
   },
   "source": [
    "Indexing 2D"
   ]
  },
  {
   "cell_type": "code",
   "execution_count": 5,
   "metadata": {
    "colab": {},
    "colab_type": "code",
    "id": "D0HXizEOqZ_x"
   },
   "outputs": [
    {
     "name": "stdout",
     "output_type": "stream",
     "text": [
      "[[ 0  1  2  3]\n",
      " [ 4  5  6  7]\n",
      " [ 8  9 10 11]\n",
      " [12 13 14 15]\n",
      " [16 17 18 19]] \n",
      "\n",
      "9\n",
      "[ 8  9 10 11]\n"
     ]
    }
   ],
   "source": [
    "#simple\n",
    "print(m,'\\n')\n",
    "print(m[2,1]) # [[y],[x]]\n",
    "print(m[2]) # ¿Qué pasa si falta una coordenada?"
   ]
  },
  {
   "cell_type": "code",
   "execution_count": 6,
   "metadata": {
    "colab": {},
    "colab_type": "code",
    "id": "-YJxKjJ-Qlui"
   },
   "outputs": [
    {
     "name": "stdout",
     "output_type": "stream",
     "text": [
      "[[ 0  1  2  3]\n",
      " [ 4  5  6  7]\n",
      " [ 8  9 10 11]\n",
      " [12 13 14 15]\n",
      " [16 17 18 19]] \n",
      "\n",
      "[ 4 11 13]\n",
      "[[ 4  5  6  7]\n",
      " [ 8  9 10 11]\n",
      " [12 13 14 15]]\n"
     ]
    }
   ],
   "source": [
    "#múltiple\n",
    "print(m,'\\n')\n",
    "n = m[[1,2,3],[0,3,1]] # [[las y´s],[las x´s]]\n",
    "print(n)\n",
    "n = m[[1,2,3]] # ¿Qué pasa si falta una coordenada?\n",
    "print(n)"
   ]
  },
  {
   "cell_type": "markdown",
   "metadata": {
    "colab_type": "text",
    "id": "WHgJLjoRrcoG"
   },
   "source": [
    "Slicing 2D"
   ]
  },
  {
   "cell_type": "code",
   "execution_count": 7,
   "metadata": {
    "colab": {},
    "colab_type": "code",
    "id": "Xo4Q3qs6uaDy"
   },
   "outputs": [
    {
     "name": "stdout",
     "output_type": "stream",
     "text": [
      "[[ 0  1  2  3]\n",
      " [ 4  5  6  7]\n",
      " [ 8  9 10 11]\n",
      " [12 13 14 15]\n",
      " [16 17 18 19]] \n",
      "\n",
      "[[ 5  6]\n",
      " [ 9 10]]\n",
      "[[ 1  2]\n",
      " [ 5  6]\n",
      " [ 9 10]\n",
      " [13 14]\n",
      " [17 18]]\n",
      "[[ 4  5  6  7]\n",
      " [ 8  9 10 11]]\n"
     ]
    }
   ],
   "source": [
    "# 2D->2D\n",
    "print(m,'\\n')\n",
    "print(m[1:3, 1:3])\n",
    "print(m[:, 1:3])\n",
    "print(m[1:3,:])"
   ]
  },
  {
   "cell_type": "code",
   "execution_count": 8,
   "metadata": {
    "colab": {},
    "colab_type": "code",
    "id": "WVdqLOyGQhxL"
   },
   "outputs": [
    {
     "name": "stdout",
     "output_type": "stream",
     "text": [
      "[[ 0  1  2  3]\n",
      " [ 4  5  6  7]\n",
      " [ 8  9 10 11]\n",
      " [12 13 14 15]\n",
      " [16 17 18 19]] \n",
      "\n",
      "[[5 6]]\n",
      "[5 6]\n"
     ]
    }
   ],
   "source": [
    "# 2D->1D\n",
    "print(m,'\\n')\n",
    "print(m[1:2, 1:3])\n",
    "print(m[1:2, 1:3].reshape(2))"
   ]
  },
  {
   "cell_type": "markdown",
   "metadata": {
    "colab_type": "text",
    "id": "rsF8R8UwDmx_"
   },
   "source": [
    "\n",
    "\n",
    "---\n",
    "\n",
    "\n",
    "### 3 DIMENSIONES\n",
    "\n",
    "\n",
    "---\n",
    "\n"
   ]
  },
  {
   "cell_type": "code",
   "execution_count": 9,
   "metadata": {
    "colab": {
     "base_uri": "https://localhost:8080/",
     "height": 208
    },
    "colab_type": "code",
    "id": "Bip14uKMDug0",
    "outputId": "76eceef2-157a-45ee-905c-e26a9870cf64"
   },
   "outputs": [
    {
     "name": "stdout",
     "output_type": "stream",
     "text": [
      "[[[ 0  1  2  3]\n",
      "  [ 4  5  6  7]\n",
      "  [ 8  9 10 11]\n",
      "  [12 13 14 15]\n",
      "  [16 17 18 19]]\n",
      "\n",
      " [[20 21 22 23]\n",
      "  [24 25 26 27]\n",
      "  [28 29 30 31]\n",
      "  [32 33 34 35]\n",
      "  [36 37 38 39]]]\n"
     ]
    }
   ],
   "source": [
    "s = np.arange(40).reshape(2,5,4)\n",
    "print(s)"
   ]
  },
  {
   "cell_type": "markdown",
   "metadata": {
    "colab_type": "text",
    "id": "J0muiN1xEyJ-"
   },
   "source": [
    "Indexing 3D"
   ]
  },
  {
   "cell_type": "code",
   "execution_count": 10,
   "metadata": {
    "colab": {},
    "colab_type": "code",
    "id": "Xq4dEktYE0lG"
   },
   "outputs": [
    {
     "name": "stdout",
     "output_type": "stream",
     "text": [
      "[[[ 0  1  2  3]\n",
      "  [ 4  5  6  7]\n",
      "  [ 8  9 10 11]\n",
      "  [12 13 14 15]\n",
      "  [16 17 18 19]]\n",
      "\n",
      " [[20 21 22 23]\n",
      "  [24 25 26 27]\n",
      "  [28 29 30 31]\n",
      "  [32 33 34 35]\n",
      "  [36 37 38 39]]] \n",
      "\n",
      "33\n",
      "[32 33 34 35]\n",
      "[[20 21 22 23]\n",
      " [24 25 26 27]\n",
      " [28 29 30 31]\n",
      " [32 33 34 35]\n",
      " [36 37 38 39]]\n"
     ]
    }
   ],
   "source": [
    "print(s,'\\n')\n",
    "\n",
    "#simple\n",
    "print(s[1,3,1]) # [z,y,x]\n",
    "print(s[1,3]) # ¿Qué pasa si falta una coordenada?\n",
    "print(s[1]) # ¿Qué pasa si faltan dos coordenadas?"
   ]
  },
  {
   "cell_type": "code",
   "execution_count": 11,
   "metadata": {
    "colab": {
     "base_uri": "https://localhost:8080/",
     "height": 468
    },
    "colab_type": "code",
    "id": "bdUfi6DNSJ-a",
    "outputId": "d755a605-c887-4595-efd2-8b978e252f31"
   },
   "outputs": [
    {
     "name": "stdout",
     "output_type": "stream",
     "text": [
      "[[[ 0  1  2  3]\n",
      "  [ 4  5  6  7]\n",
      "  [ 8  9 10 11]\n",
      "  [12 13 14 15]\n",
      "  [16 17 18 19]]\n",
      "\n",
      " [[20 21 22 23]\n",
      "  [24 25 26 27]\n",
      "  [28 29 30 31]\n",
      "  [32 33 34 35]\n",
      "  [36 37 38 39]]] \n",
      "\n",
      "[21 14]\n",
      "[[20 21 22 23]\n",
      " [12 13 14 15]]\n",
      "[[[20 21 22 23]\n",
      "  [24 25 26 27]\n",
      "  [28 29 30 31]\n",
      "  [32 33 34 35]\n",
      "  [36 37 38 39]]\n",
      "\n",
      " [[ 0  1  2  3]\n",
      "  [ 4  5  6  7]\n",
      "  [ 8  9 10 11]\n",
      "  [12 13 14 15]\n",
      "  [16 17 18 19]]]\n"
     ]
    }
   ],
   "source": [
    "#múltiple\n",
    "print(s,'\\n')\n",
    "n = s[[1,0],[0,3],[1,2]] # [[las z´s],[las y´s],[las x´s]]\n",
    "print(n)\n",
    "n = s[[1,0],[0,3]] # ¿Qué pasa si falta una coordenada?\n",
    "print(n)\n",
    "n = s[[1,0]] # ¿Qué pasa si faltan dos coordenadas?\n",
    "print(n)"
   ]
  },
  {
   "cell_type": "markdown",
   "metadata": {
    "colab_type": "text",
    "id": "wPa7CYkHFj7E"
   },
   "source": [
    "Slicing 3D"
   ]
  },
  {
   "cell_type": "code",
   "execution_count": 12,
   "metadata": {
    "colab": {},
    "colab_type": "code",
    "id": "u1XSD9xZFlxM"
   },
   "outputs": [
    {
     "name": "stdout",
     "output_type": "stream",
     "text": [
      "[[[ 0  1  2  3]\n",
      "  [ 4  5  6  7]\n",
      "  [ 8  9 10 11]\n",
      "  [12 13 14 15]\n",
      "  [16 17 18 19]]\n",
      "\n",
      " [[20 21 22 23]\n",
      "  [24 25 26 27]\n",
      "  [28 29 30 31]\n",
      "  [32 33 34 35]\n",
      "  [36 37 38 39]]] \n",
      "\n",
      "[[[ 0  1  2]\n",
      "  [ 4  5  6]\n",
      "  [ 8  9 10]]\n",
      "\n",
      " [[20 21 22]\n",
      "  [24 25 26]\n",
      "  [28 29 30]]]\n",
      "[[[ 0  1  2]\n",
      "  [ 4  5  6]\n",
      "  [ 8  9 10]\n",
      "  [12 13 14]\n",
      "  [16 17 18]]\n",
      "\n",
      " [[20 21 22]\n",
      "  [24 25 26]\n",
      "  [28 29 30]\n",
      "  [32 33 34]\n",
      "  [36 37 38]]]\n"
     ]
    }
   ],
   "source": [
    "# 3D->3D\n",
    "print(s,'\\n')\n",
    "print(s[0:2,0:3,0:3])\n",
    "print(s[:,:,0:3])"
   ]
  },
  {
   "cell_type": "code",
   "execution_count": 13,
   "metadata": {
    "colab": {
     "base_uri": "https://localhost:8080/",
     "height": 329
    },
    "colab_type": "code",
    "id": "TMBu6DLDTSRM",
    "outputId": "a75d3843-ac44-4834-ecfe-bfcd2f2513cb"
   },
   "outputs": [
    {
     "name": "stdout",
     "output_type": "stream",
     "text": [
      "[[[ 0  1  2  3]\n",
      "  [ 4  5  6  7]\n",
      "  [ 8  9 10 11]\n",
      "  [12 13 14 15]\n",
      "  [16 17 18 19]]\n",
      "\n",
      " [[20 21 22 23]\n",
      "  [24 25 26 27]\n",
      "  [28 29 30 31]\n",
      "  [32 33 34 35]\n",
      "  [36 37 38 39]]] \n",
      "\n",
      "[[[ 0  1  2  3]]\n",
      "\n",
      " [[20 21 22 23]]]\n",
      "[[ 0  1  2]\n",
      " [ 4  5  6]\n",
      " [ 8  9 10]]\n"
     ]
    }
   ],
   "source": [
    "# 3D->2D\n",
    "print(s,'\\n')\n",
    "print(s[:,0:1,:])\n",
    "print(s[0:1,0:3,0:3].reshape(3,3))"
   ]
  },
  {
   "cell_type": "code",
   "execution_count": 14,
   "metadata": {
    "colab": {
     "base_uri": "https://localhost:8080/",
     "height": 260
    },
    "colab_type": "code",
    "id": "hHUj4GWWTm8U",
    "outputId": "1704c6dc-6c1c-40b2-ee84-e95eab30a636"
   },
   "outputs": [
    {
     "name": "stdout",
     "output_type": "stream",
     "text": [
      "[[[ 0  1  2  3]\n",
      "  [ 4  5  6  7]\n",
      "  [ 8  9 10 11]\n",
      "  [12 13 14 15]\n",
      "  [16 17 18 19]]\n",
      "\n",
      " [[20 21 22 23]\n",
      "  [24 25 26 27]\n",
      "  [28 29 30 31]\n",
      "  [32 33 34 35]\n",
      "  [36 37 38 39]]] \n",
      "\n",
      "[[[0 1 2]]]\n",
      "[0 1 2]\n"
     ]
    }
   ],
   "source": [
    "# 3D->1D\n",
    "print(s,'\\n')\n",
    "print(s[0:1,0:1,0:3])\n",
    "print(s[0:1,0:1,0:3].reshape(3))"
   ]
  }
 ],
 "metadata": {
  "colab": {
   "name": "Numpy: Indexing - Slicing.ipynb",
   "provenance": []
  },
  "kernelspec": {
   "display_name": "Python 3",
   "language": "python",
   "name": "python3"
  },
  "language_info": {
   "codemirror_mode": {
    "name": "ipython",
    "version": 3
   },
   "file_extension": ".py",
   "mimetype": "text/x-python",
   "name": "python",
   "nbconvert_exporter": "python",
   "pygments_lexer": "ipython3",
   "version": "3.7.6"
  }
 },
 "nbformat": 4,
 "nbformat_minor": 1
}
