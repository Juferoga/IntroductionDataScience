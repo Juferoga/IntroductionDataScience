{
 "cells": [
  {
   "cell_type": "markdown",
   "metadata": {
    "colab_type": "text",
    "id": "Khmp9aYaJbb6"
   },
   "source": [
    "# ESTRUCTURAS DE DATOS\n",
    "\n",
    "\n",
    "*   Listas\n",
    "*   Tuplas\n",
    "*   Sets\n",
    "*   Diccionarios\n",
    "\n",
    "\n",
    "\n",
    "\n"
   ]
  },
  {
   "cell_type": "markdown",
   "metadata": {
    "colab_type": "text",
    "id": "dBAEME0dKqia"
   },
   "source": [
    "\n",
    "\n",
    "---\n",
    "\n",
    "\n",
    "### LISTAS\n",
    "\n",
    "\n",
    "---\n",
    "\n"
   ]
  },
  {
   "cell_type": "markdown",
   "metadata": {
    "colab_type": "text",
    "id": "iJOizY-YPA4G"
   },
   "source": [
    "Construcción de Listas"
   ]
  },
  {
   "cell_type": "code",
   "execution_count": 1,
   "metadata": {
    "colab": {},
    "colab_type": "code",
    "id": "l1MZo_-MLVb3"
   },
   "outputs": [
    {
     "name": "stdout",
     "output_type": "stream",
     "text": [
      "<class 'list'>\n",
      "<class 'list'>\n",
      "<class 'list'>\n",
      "<class 'list'>\n",
      "<class 'str'>\n",
      "<class 'complex'>\n"
     ]
    }
   ],
   "source": [
    "Primos = [2, 3, 5, 7, 11, 13, 17, 19]\n",
    "print(type(Primos))\n",
    "Temperaturas = [5.5, 6.3, 9.6, 10, 12.4, 14.7, 18, 20.2]\n",
    "print(type(Temperaturas))\n",
    "Nombres = ['Pedro Perez', 'Nelson Vera', 'Carlos Montenegro']\n",
    "print(type(Nombres))\n",
    "Mezcla = [3, 40, 'Hola', 30.5, True, 2+5j]\n",
    "print(type(Mezcla))\n",
    "print(type(Mezcla[2]))\n",
    "print(type(Mezcla[5]))\n"
   ]
  },
  {
   "cell_type": "markdown",
   "metadata": {
    "colab_type": "text",
    "id": "tJTvNwNUP988"
   },
   "source": [
    "Indexación de Listas"
   ]
  },
  {
   "cell_type": "code",
   "execution_count": 2,
   "metadata": {
    "colab": {},
    "colab_type": "code",
    "id": "WUdSngYaQDQ9"
   },
   "outputs": [
    {
     "name": "stdout",
     "output_type": "stream",
     "text": [
      "[2, 3, 5, 7, 11, 13, 17, 19]\n",
      "[11, 13, 17, 19]\n",
      "[2, 3, 5, 7, 11, 13]\n",
      "[11, 13]\n",
      "[3, 5, 7, 11, 13]\n"
     ]
    }
   ],
   "source": [
    "print(Primos)\n",
    "print(Primos[4:])\n",
    "print(Primos[:6])\n",
    "print(Primos[4:6])\n",
    "print(Primos[-7:-2])\n",
    "\n"
   ]
  },
  {
   "cell_type": "markdown",
   "metadata": {
    "colab_type": "text",
    "id": "Q7Ud85TLQRO4"
   },
   "source": [
    "Operaciones básicas con Listas"
   ]
  },
  {
   "cell_type": "code",
   "execution_count": 3,
   "metadata": {
    "colab": {},
    "colab_type": "code",
    "id": "S5iT5n6vQmpB"
   },
   "outputs": [
    {
     "name": "stdout",
     "output_type": "stream",
     "text": [
      "[2, 3, 5, 7, 11, 13, 17, 19, 5.5, 6.3, 9.6, 10, 12.4, 14.7, 18, 20.2]\n",
      "[2, 3, 5, 7, 11, 13, 17, 19, 2, 3, 5, 7, 11, 13, 17, 19, 2, 3, 5, 7, 11, 13, 17, 19]\n"
     ]
    },
    {
     "data": {
      "text/plain": [
       "8"
      ]
     },
     "execution_count": 3,
     "metadata": {},
     "output_type": "execute_result"
    }
   ],
   "source": [
    "print(Primos + Temperaturas)\n",
    "print(Primos*3)\n",
    "len(Temperaturas)"
   ]
  },
  {
   "cell_type": "markdown",
   "metadata": {
    "colab_type": "text",
    "id": "Bz7lEuESS5tc"
   },
   "source": [
    "Métodos de Listas"
   ]
  },
  {
   "cell_type": "code",
   "execution_count": 4,
   "metadata": {
    "colab": {},
    "colab_type": "code",
    "id": "qC5auA9fS-4O"
   },
   "outputs": [
    {
     "name": "stdout",
     "output_type": "stream",
     "text": [
      "['Pedro Perez', 'Nelson Vera', 'Carlos Montenegro', 'Manuel Cifuentes']\n"
     ]
    }
   ],
   "source": [
    "Nombres.append('Manuel Cifuentes')\n",
    "print(Nombres)"
   ]
  },
  {
   "cell_type": "code",
   "execution_count": 5,
   "metadata": {
    "colab": {},
    "colab_type": "code",
    "id": "2Z5yFLtwUKfU"
   },
   "outputs": [
    {
     "name": "stdout",
     "output_type": "stream",
     "text": [
      "[3, 40, 'Hola', 30.5, True, (2+5j), 2, 3, 5, 7, 11, 13, 17, 19, 'Pedro Perez', 'Nelson Vera', 'Carlos Montenegro', 'Manuel Cifuentes']\n",
      "[3, 40, 'Hola', 30.5, True, (2+5j), 2, 3, 5, 7, 11, 13, 17, 19, 'Pedro Perez', 'Nelson Vera', 'Carlos Montenegro', 'Manuel Cifuentes', 'H', 'o', 'l', 'a', ' ', 'M', 'u', 'n', 'd', 'o']\n"
     ]
    }
   ],
   "source": [
    "Mezcla.extend(Primos)\n",
    "Mezcla.extend(Nombres)\n",
    "print(Mezcla)\n",
    "Mezcla.extend('Hola Mundo')\n",
    "print(Mezcla)"
   ]
  },
  {
   "cell_type": "code",
   "execution_count": 6,
   "metadata": {
    "colab": {},
    "colab_type": "code",
    "id": "J8IFM4j3VAcc"
   },
   "outputs": [
    {
     "name": "stdout",
     "output_type": "stream",
     "text": [
      "[3, 40, 'Hola', 30.5, True, (2+5j), 2, 3, 5, 7, 11, 13, 17, 19, 'Pedro Perez', 'Nelson Vera', 'Carlos Montenegro', 'Manuel Cifuentes', 'H', 'o', 'l', 'a', ' ', 'M', 'u', 'n', 'd', 'o']\n",
      "[3, 40, 'Hola', 'Mundo', 30.5, True, (2+5j), 2, 3, 5, 7, 11, 13, 17, 19, 'Pedro Perez', 'Nelson Vera', 'Carlos Montenegro', 'Manuel Cifuentes', 'H', 'o', 'l', 'a', ' ', 'M', 'u', 'n', 'd', 'o']\n"
     ]
    }
   ],
   "source": [
    "print(Mezcla)\n",
    "Mezcla.insert(3, 'Mundo')\n",
    "print(Mezcla)"
   ]
  },
  {
   "cell_type": "code",
   "execution_count": 7,
   "metadata": {
    "colab": {},
    "colab_type": "code",
    "id": "Tl79BK3-XFo4"
   },
   "outputs": [
    {
     "name": "stdout",
     "output_type": "stream",
     "text": [
      "[3, 40, 'Hola', 30.5, True, (2+5j), 2, 3, 5, 7, 11, 13, 17, 19, 'Pedro Perez', 'Nelson Vera', 'Carlos Montenegro', 'Manuel Cifuentes', 'H', 'o', 'l', 'a', ' ', 'M', 'u', 'n', 'd', 'o']\n"
     ]
    }
   ],
   "source": [
    "Mezcla.remove('Mundo')\n",
    "print(Mezcla)"
   ]
  },
  {
   "cell_type": "code",
   "execution_count": 8,
   "metadata": {
    "colab": {},
    "colab_type": "code",
    "id": "3mbkCxzKXI5c"
   },
   "outputs": [
    {
     "name": "stdout",
     "output_type": "stream",
     "text": [
      "[3, 40, 'Hola', 30.5, True, (2+5j), 2, 3, 5, 7, 11, 13, 17, 19, 'Pedro Perez', 'Nelson Vera', 'Carlos Montenegro', 'Manuel Cifuentes', 'H', 'o', 'l', 'a', ' ', 'M', 'u', 'n', 'd', 'o']\n",
      "o\n",
      "[3, 40, 'Hola', 30.5, True, (2+5j), 2, 3, 5, 7, 11, 13, 17, 19, 'Pedro Perez', 'Nelson Vera', 'Carlos Montenegro', 'Manuel Cifuentes', 'H', 'o', 'l', 'a', ' ', 'M', 'u', 'n', 'd']\n",
      "Hola\n",
      "[3, 40, 30.5, True, (2+5j), 2, 3, 5, 7, 11, 13, 17, 19, 'Pedro Perez', 'Nelson Vera', 'Carlos Montenegro', 'Manuel Cifuentes', 'H', 'o', 'l', 'a', ' ', 'M', 'u', 'n', 'd']\n"
     ]
    }
   ],
   "source": [
    "print(Mezcla)\n",
    "print(Mezcla.pop())\n",
    "print(Mezcla)\n",
    "print(Mezcla.pop(2))\n",
    "print(Mezcla)"
   ]
  },
  {
   "cell_type": "code",
   "execution_count": 9,
   "metadata": {
    "colab": {},
    "colab_type": "code",
    "id": "I6nB58VOXMgz"
   },
   "outputs": [
    {
     "name": "stdout",
     "output_type": "stream",
     "text": [
      "[3, 40, 30.5, True, (2+5j), 2, 3, 5, 7, 11, 13, 17, 19, 'Pedro Perez', 'Nelson Vera', 'Carlos Montenegro', 'Manuel Cifuentes', 'H', 'o', 'l', 'a', ' ', 'M', 'u', 'n', 'd']\n"
     ]
    },
    {
     "data": {
      "text/plain": [
       "2"
      ]
     },
     "execution_count": 9,
     "metadata": {},
     "output_type": "execute_result"
    }
   ],
   "source": [
    "print(Mezcla)\n",
    "Mezcla.count(3)"
   ]
  },
  {
   "cell_type": "code",
   "execution_count": 10,
   "metadata": {
    "colab": {},
    "colab_type": "code",
    "id": "JStmiDxaXVAt"
   },
   "outputs": [
    {
     "name": "stdout",
     "output_type": "stream",
     "text": [
      "[5.5, 6.3, 9.6, 10, 12.4, 14.7, 18, 20.2]\n",
      "[20.2, 18, 14.7, 12.4, 10, 9.6, 6.3, 5.5]\n"
     ]
    }
   ],
   "source": [
    "print(Temperaturas)\n",
    "Temperaturas.reverse()\n",
    "print(Temperaturas)"
   ]
  },
  {
   "cell_type": "code",
   "execution_count": 11,
   "metadata": {
    "colab": {},
    "colab_type": "code",
    "id": "2_EcemCRXXcm"
   },
   "outputs": [
    {
     "name": "stdout",
     "output_type": "stream",
     "text": [
      "['Pedro Perez', 'Nelson Vera', 'Carlos Montenegro', 'Manuel Cifuentes']\n",
      "['Carlos Montenegro', 'Manuel Cifuentes', 'Nelson Vera', 'Pedro Perez']\n",
      "[20.2, 18, 14.7, 12.4, 10, 9.6, 6.3, 5.5]\n",
      "[5.5, 6.3, 9.6, 10, 12.4, 14.7, 18, 20.2]\n"
     ]
    }
   ],
   "source": [
    "print(Nombres)\n",
    "Nombres.sort()\n",
    "print(Nombres)\n",
    "print(Temperaturas)\n",
    "Temperaturas.sort()\n",
    "print(Temperaturas)"
   ]
  },
  {
   "cell_type": "code",
   "execution_count": 12,
   "metadata": {
    "colab": {
     "base_uri": "https://localhost:8080/",
     "height": 52
    },
    "colab_type": "code",
    "id": "RuEasNqfXaH-",
    "outputId": "90d4e7c0-330d-4e64-b96c-19eee4c7935c"
   },
   "outputs": [
    {
     "name": "stdout",
     "output_type": "stream",
     "text": [
      "[5.5, 6.3, 9.6, 10, 12.4, 14.7, 18, 20.2]\n"
     ]
    },
    {
     "data": {
      "text/plain": [
       "4"
      ]
     },
     "execution_count": 12,
     "metadata": {},
     "output_type": "execute_result"
    }
   ],
   "source": [
    "print(Temperaturas)\n",
    "Temperaturas.index(12.4)"
   ]
  },
  {
   "cell_type": "code",
   "execution_count": 13,
   "metadata": {
    "colab": {
     "base_uri": "https://localhost:8080/",
     "height": 35
    },
    "colab_type": "code",
    "id": "3xAuTSCzXdLe",
    "outputId": "966af349-3be4-4177-f1b6-fc77b953e345"
   },
   "outputs": [
    {
     "data": {
      "text/plain": [
       "4"
      ]
     },
     "execution_count": 13,
     "metadata": {},
     "output_type": "execute_result"
    }
   ],
   "source": [
    "Temperaturas.index(12.4,2,7)"
   ]
  },
  {
   "cell_type": "code",
   "execution_count": 14,
   "metadata": {
    "colab": {},
    "colab_type": "code",
    "id": "GtIh2y4vXeiZ"
   },
   "outputs": [
    {
     "ename": "ValueError",
     "evalue": "12.4 is not in list",
     "output_type": "error",
     "traceback": [
      "\u001b[0;31m---------------------------------------------------------------------------\u001b[0m",
      "\u001b[0;31mValueError\u001b[0m                                Traceback (most recent call last)",
      "\u001b[0;32m<ipython-input-14-08a157273548>\u001b[0m in \u001b[0;36m<module>\u001b[0;34m\u001b[0m\n\u001b[0;32m----> 1\u001b[0;31m \u001b[0mTemperaturas\u001b[0m\u001b[0;34m.\u001b[0m\u001b[0mindex\u001b[0m\u001b[0;34m(\u001b[0m\u001b[0;36m12.4\u001b[0m\u001b[0;34m,\u001b[0m\u001b[0;36m1\u001b[0m\u001b[0;34m,\u001b[0m\u001b[0;36m3\u001b[0m\u001b[0;34m)\u001b[0m\u001b[0;34m\u001b[0m\u001b[0;34m\u001b[0m\u001b[0m\n\u001b[0m",
      "\u001b[0;31mValueError\u001b[0m: 12.4 is not in list"
     ]
    }
   ],
   "source": [
    "Temperaturas.index(12.4,1,3)"
   ]
  },
  {
   "cell_type": "markdown",
   "metadata": {
    "colab_type": "text",
    "id": "i787ScygaP6x"
   },
   "source": [
    "\n",
    "\n",
    "---\n",
    "\n",
    "\n",
    "### TUPLAS\n",
    "\n",
    "\n",
    "---\n",
    "\n"
   ]
  },
  {
   "cell_type": "markdown",
   "metadata": {
    "colab_type": "text",
    "id": "gNzH1gc9aVyo"
   },
   "source": [
    "Construcción de Tuplas"
   ]
  },
  {
   "cell_type": "code",
   "execution_count": 15,
   "metadata": {
    "colab": {
     "base_uri": "https://localhost:8080/",
     "height": 52
    },
    "colab_type": "code",
    "id": "4xT3M8dYasg3",
    "outputId": "2a799da9-5bcc-4b29-ffdc-ea1dee451e42"
   },
   "outputs": [
    {
     "name": "stdout",
     "output_type": "stream",
     "text": [
      "<class 'tuple'>\n",
      "<class 'list'>\n"
     ]
    }
   ],
   "source": [
    "T = 40, 32, 10.5, 'Hola', 'Mundo'\n",
    "L = [40, 32, 10.5, 'Hola', 'Mundo']\n",
    "print(type(T))\n",
    "print(type(L))"
   ]
  },
  {
   "cell_type": "code",
   "execution_count": 16,
   "metadata": {
    "colab": {
     "base_uri": "https://localhost:8080/",
     "height": 35
    },
    "colab_type": "code",
    "id": "pBj_wGhQvsFY",
    "outputId": "12e4048b-3a46-498e-b7c3-8e0ad782f3e9"
   },
   "outputs": [
    {
     "data": {
      "text/plain": [
       "list"
      ]
     },
     "execution_count": 16,
     "metadata": {},
     "output_type": "execute_result"
    }
   ],
   "source": [
    "r=list(T)\n",
    "type(r)"
   ]
  },
  {
   "cell_type": "markdown",
   "metadata": {
    "colab_type": "text",
    "id": "ay1zmx0obL6U"
   },
   "source": [
    "Las Tuplas son inmutables"
   ]
  },
  {
   "cell_type": "code",
   "execution_count": 17,
   "metadata": {
    "colab": {
     "base_uri": "https://localhost:8080/",
     "height": 35
    },
    "colab_type": "code",
    "id": "VisqMasFdf6w",
    "outputId": "d7e3952d-6fa6-43b4-afe6-a9a8c6c0d958"
   },
   "outputs": [
    {
     "name": "stdout",
     "output_type": "stream",
     "text": [
      "[40, 32, 10.5, 'Hola', 'Todos']\n"
     ]
    }
   ],
   "source": [
    "L[4]='Todos'\n",
    "print(L)"
   ]
  },
  {
   "cell_type": "code",
   "execution_count": 18,
   "metadata": {
    "colab": {},
    "colab_type": "code",
    "id": "KT8cp6J_dzOW"
   },
   "outputs": [
    {
     "ename": "TypeError",
     "evalue": "'tuple' object does not support item assignment",
     "output_type": "error",
     "traceback": [
      "\u001b[0;31m---------------------------------------------------------------------------\u001b[0m",
      "\u001b[0;31mTypeError\u001b[0m                                 Traceback (most recent call last)",
      "\u001b[0;32m<ipython-input-18-83291fe91527>\u001b[0m in \u001b[0;36m<module>\u001b[0;34m\u001b[0m\n\u001b[0;32m----> 1\u001b[0;31m \u001b[0mT\u001b[0m\u001b[0;34m[\u001b[0m\u001b[0;36m4\u001b[0m\u001b[0;34m]\u001b[0m\u001b[0;34m=\u001b[0m\u001b[0;34m'Todos'\u001b[0m\u001b[0;34m\u001b[0m\u001b[0;34m\u001b[0m\u001b[0m\n\u001b[0m",
      "\u001b[0;31mTypeError\u001b[0m: 'tuple' object does not support item assignment"
     ]
    }
   ],
   "source": [
    "T[4]='Todos'"
   ]
  },
  {
   "cell_type": "markdown",
   "metadata": {
    "colab_type": "text",
    "id": "UmA_x0tLd6F3"
   },
   "source": [
    "\n",
    "\n",
    "---\n",
    "\n",
    "### SETS\n",
    "\n",
    "---\n",
    "Elimina elementos repetidos - No importa el orden\n"
   ]
  },
  {
   "cell_type": "markdown",
   "metadata": {
    "colab_type": "text",
    "id": "dWN5IeD2fuvW"
   },
   "source": [
    "Construcción de Sets"
   ]
  },
  {
   "cell_type": "code",
   "execution_count": 19,
   "metadata": {
    "colab": {
     "base_uri": "https://localhost:8080/",
     "height": 35
    },
    "colab_type": "code",
    "id": "9KYJ80sKf0qY",
    "outputId": "9375c517-6ba7-4a59-9a97-ee9f05302614"
   },
   "outputs": [
    {
     "name": "stdout",
     "output_type": "stream",
     "text": [
      "{'Naranja', 'Durazno', 'Piña', 'Manzana'}\n"
     ]
    }
   ],
   "source": [
    "Frutas = {'Naranja', 'Manzana', 'Piña', 'Durazno', 'Manzana'}\n",
    "print(Frutas)"
   ]
  },
  {
   "cell_type": "markdown",
   "metadata": {
    "colab_type": "text",
    "id": "XrYJAxolFEft"
   },
   "source": [
    "Conversión a Sets"
   ]
  },
  {
   "cell_type": "code",
   "execution_count": 20,
   "metadata": {
    "colab": {},
    "colab_type": "code",
    "id": "8KEe2pNlFFWF"
   },
   "outputs": [
    {
     "name": "stdout",
     "output_type": "stream",
     "text": [
      "{'z', 'a', 'n', 's', 'm'}\n",
      "{'r', 'd', 'z', 'a', 'o', 'n', 's', 'u'}\n"
     ]
    }
   ],
   "source": [
    "S = set('manzanas')\n",
    "print(S)\n",
    "E = set('duraznos')\n",
    "print(E)"
   ]
  },
  {
   "cell_type": "markdown",
   "metadata": {
    "colab_type": "text",
    "id": "0XA6SCM-FepK"
   },
   "source": [
    "Operaciones con Sets"
   ]
  },
  {
   "cell_type": "code",
   "execution_count": 21,
   "metadata": {
    "colab": {},
    "colab_type": "code",
    "id": "8RWs-A2DFhYo"
   },
   "outputs": [
    {
     "name": "stdout",
     "output_type": "stream",
     "text": [
      "{'z', 'a', 'n', 's', 'm'} {'r', 'd', 'z', 'a', 'o', 'n', 's', 'u'}\n",
      "Letras en S pero no en E: {'m'}\n",
      "Letras en S o E o en ambos: {'r', 'd', 'z', 'a', 'o', 'n', 's', 'u', 'm'}\n",
      "Letras en ambos conjuntos: {'a', 's', 'n', 'z'}\n",
      "Letras en S o E pero no en ambos: {'r', 'd', 'o', 'u', 'm'}\n"
     ]
    }
   ],
   "source": [
    "print(S,E)\n",
    "print('Letras en S pero no en E:',S-E)\n",
    "print('Letras en S o E o en ambos:',S|E)\n",
    "print('Letras en ambos conjuntos:',S&E)\n",
    "print('Letras en S o E pero no en ambos:',S^E)\n"
   ]
  },
  {
   "cell_type": "markdown",
   "metadata": {
    "colab_type": "text",
    "id": "MvfOnp4FJKR-"
   },
   "source": [
    "\n",
    "\n",
    "---\n",
    "\n",
    "### DICCIONARIOS\n",
    "\n",
    "\n",
    "---\n",
    "\n",
    "Son colecciones que relacionan una llave (también conocida como clave) con un valor. Las llaves son únicas por cada diccionario, estas pueden ser cualquier dato de tipo inmutable, es decir, tuplas, cadenas de texto, números o booleanos y los valores pueden ser cualquier tipo de dato (numérico, cadena de caracteres, listas, tuplas e incluso más diccionarios)."
   ]
  },
  {
   "cell_type": "markdown",
   "metadata": {
    "colab_type": "text",
    "id": "KozwhnSjLPQX"
   },
   "source": [
    "Crear un diccionario"
   ]
  },
  {
   "cell_type": "code",
   "execution_count": 22,
   "metadata": {
    "colab": {
     "base_uri": "https://localhost:8080/",
     "height": 35
    },
    "colab_type": "code",
    "id": "L2Yh-lT_KJUN",
    "outputId": "41adbeae-2ce7-4cc4-fd04-30bd0aa66ca6"
   },
   "outputs": [
    {
     "name": "stdout",
     "output_type": "stream",
     "text": [
      "{'10203040': 'Cristian Rojas', '12321001': 'Steven Sierra', '218479': 'Nelson Vera'}\n"
     ]
    }
   ],
   "source": [
    "estudiantes={'10203040': \"Cristian Rojas\", '12321001' : \"Steven Sierra\", '218479' : \"Nelson Vera\" }\n",
    "print(estudiantes)"
   ]
  },
  {
   "cell_type": "markdown",
   "metadata": {
    "colab_type": "text",
    "id": "DbYaeKHWLSgN"
   },
   "source": [
    "Agregar un dato"
   ]
  },
  {
   "cell_type": "code",
   "execution_count": 23,
   "metadata": {
    "colab": {
     "base_uri": "https://localhost:8080/",
     "height": 35
    },
    "colab_type": "code",
    "id": "48zs7BxuLVw2",
    "outputId": "3a7cecfa-f0fb-4154-a397-29a97ee1e71a"
   },
   "outputs": [
    {
     "name": "stdout",
     "output_type": "stream",
     "text": [
      "{'10203040': 'Cristian Rojas', '12321001': 'Steven Sierra', '218479': 'Nelson Vera', '122126873': 'Ruben Medina'}\n"
     ]
    }
   ],
   "source": [
    "estudiantes['122126873']=\"Ruben Medina\"\n",
    "print(estudiantes)"
   ]
  },
  {
   "cell_type": "markdown",
   "metadata": {
    "colab_type": "text",
    "id": "fKNov8LGL1lL"
   },
   "source": [
    "Acceder a los datos"
   ]
  },
  {
   "cell_type": "code",
   "execution_count": 24,
   "metadata": {
    "colab": {
     "base_uri": "https://localhost:8080/",
     "height": 35
    },
    "colab_type": "code",
    "id": "I3cO_sfRMEZ3",
    "outputId": "324c278a-dddf-4d81-be58-370dbdc81b71"
   },
   "outputs": [
    {
     "name": "stdout",
     "output_type": "stream",
     "text": [
      "Ruben Medina\n"
     ]
    }
   ],
   "source": [
    "print (estudiantes['122126873'])"
   ]
  },
  {
   "cell_type": "markdown",
   "metadata": {
    "colab_type": "text",
    "id": "qYjHrm3XMK9W"
   },
   "source": [
    "Funciones para tratar con diccionarios"
   ]
  },
  {
   "cell_type": "code",
   "execution_count": 25,
   "metadata": {
    "colab": {},
    "colab_type": "code",
    "id": "yJxx2DMzMXEQ"
   },
   "outputs": [
    {
     "name": "stdout",
     "output_type": "stream",
     "text": [
      "4\n",
      "False\n",
      "dict_keys(['10203040', '12321001', '218479'])\n",
      "dict_values(['Cristian Rojas', 'Steven Sierra', 'Nelson Vera'])\n",
      "Steven Sierra\n",
      "{'10203040': 'Cristian Rojas', '218479': 'Nelson Vera'}\n"
     ]
    }
   ],
   "source": [
    "print(len(estudiantes))\n",
    "del estudiantes['122126873']\n",
    "print('122126873' in estudiantes)\n",
    "print(estudiantes.keys())\n",
    "print(estudiantes.values())\n",
    "print(estudiantes.pop('12321001'))\n",
    "print(estudiantes)"
   ]
  }
 ],
 "metadata": {
  "colab": {
   "name": "Python: Estructuras de datos.ipynb",
   "provenance": []
  },
  "kernelspec": {
   "display_name": "Python 3",
   "language": "python",
   "name": "python3"
  },
  "language_info": {
   "codemirror_mode": {
    "name": "ipython",
    "version": 3
   },
   "file_extension": ".py",
   "mimetype": "text/x-python",
   "name": "python",
   "nbconvert_exporter": "python",
   "pygments_lexer": "ipython3",
   "version": "3.7.6"
  }
 },
 "nbformat": 4,
 "nbformat_minor": 1
}
