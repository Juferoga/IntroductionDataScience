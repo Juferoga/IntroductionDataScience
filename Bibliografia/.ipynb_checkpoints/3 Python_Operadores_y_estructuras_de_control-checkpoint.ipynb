{
 "cells": [
  {
   "cell_type": "markdown",
   "metadata": {
    "colab_type": "text",
    "id": "NiRHB-jgR8Ig"
   },
   "source": [
    "# OPERADORES\n",
    "\n",
    "\n",
    "*   Aritméticos\n",
    "*   Lógicos\n",
    "*   Relacionales\n",
    "\n"
   ]
  },
  {
   "cell_type": "markdown",
   "metadata": {
    "colab_type": "text",
    "id": "_qcGK4i1Sfp-"
   },
   "source": [
    "\n",
    "\n",
    "---\n",
    "\n",
    "\n",
    "### OPERADORES ARITMÉTICOS\n",
    "\n",
    "\n",
    "---\n",
    "\n"
   ]
  },
  {
   "cell_type": "markdown",
   "metadata": {
    "colab_type": "text",
    "id": "7Lo4DzO4TkKD"
   },
   "source": [
    "Suma"
   ]
  },
  {
   "cell_type": "code",
   "execution_count": 1,
   "metadata": {
    "colab": {
     "base_uri": "https://localhost:8080/",
     "height": 35
    },
    "colab_type": "code",
    "id": "d01PgwJYUHu_",
    "outputId": "683e1ffd-aca1-4d16-f19c-915c3306c823"
   },
   "outputs": [
    {
     "data": {
      "text/plain": [
       "11"
      ]
     },
     "execution_count": 1,
     "metadata": {},
     "output_type": "execute_result"
    }
   ],
   "source": [
    "4+7"
   ]
  },
  {
   "cell_type": "markdown",
   "metadata": {
    "colab_type": "text",
    "id": "LdVEC3cSTnNf"
   },
   "source": [
    "Resta"
   ]
  },
  {
   "cell_type": "code",
   "execution_count": 2,
   "metadata": {
    "colab": {
     "base_uri": "https://localhost:8080/",
     "height": 35
    },
    "colab_type": "code",
    "id": "X36r6Ar1UPOr",
    "outputId": "128232b4-1063-4da6-d0d8-b0e4d04bce6a"
   },
   "outputs": [
    {
     "data": {
      "text/plain": [
       "3"
      ]
     },
     "execution_count": 2,
     "metadata": {},
     "output_type": "execute_result"
    }
   ],
   "source": [
    "7-4"
   ]
  },
  {
   "cell_type": "markdown",
   "metadata": {
    "colab_type": "text",
    "id": "h9QDf__pTpAH"
   },
   "source": [
    "Multiplicación"
   ]
  },
  {
   "cell_type": "code",
   "execution_count": 3,
   "metadata": {
    "colab": {
     "base_uri": "https://localhost:8080/",
     "height": 35
    },
    "colab_type": "code",
    "id": "qmhbrauRUR1Q",
    "outputId": "63b0ebc9-d4fb-4497-d967-70f854b4b019"
   },
   "outputs": [
    {
     "data": {
      "text/plain": [
       "28"
      ]
     },
     "execution_count": 3,
     "metadata": {},
     "output_type": "execute_result"
    }
   ],
   "source": [
    "7*4"
   ]
  },
  {
   "cell_type": "markdown",
   "metadata": {
    "colab_type": "text",
    "id": "vm9_xMNfTvuV"
   },
   "source": [
    "División"
   ]
  },
  {
   "cell_type": "code",
   "execution_count": 4,
   "metadata": {
    "colab": {
     "base_uri": "https://localhost:8080/",
     "height": 35
    },
    "colab_type": "code",
    "id": "10LYfFCuUWND",
    "outputId": "b9c4aae9-0cbe-444d-9250-dd53e251d9fc"
   },
   "outputs": [
    {
     "data": {
      "text/plain": [
       "1.75"
      ]
     },
     "execution_count": 4,
     "metadata": {},
     "output_type": "execute_result"
    }
   ],
   "source": [
    "7/4"
   ]
  },
  {
   "cell_type": "markdown",
   "metadata": {
    "colab_type": "text",
    "id": "jZ7VG-PiTxRE"
   },
   "source": [
    "División entera"
   ]
  },
  {
   "cell_type": "code",
   "execution_count": 5,
   "metadata": {
    "colab": {
     "base_uri": "https://localhost:8080/",
     "height": 35
    },
    "colab_type": "code",
    "id": "YLX8e-yZUZBV",
    "outputId": "bfb7e9c5-27fc-484a-90f9-be6e0f05cc62"
   },
   "outputs": [
    {
     "data": {
      "text/plain": [
       "1"
      ]
     },
     "execution_count": 5,
     "metadata": {},
     "output_type": "execute_result"
    }
   ],
   "source": [
    "7//4"
   ]
  },
  {
   "cell_type": "markdown",
   "metadata": {
    "colab_type": "text",
    "id": "Z_Hcj9XkTy8Y"
   },
   "source": [
    "Potenciación"
   ]
  },
  {
   "cell_type": "code",
   "execution_count": 6,
   "metadata": {
    "colab": {
     "base_uri": "https://localhost:8080/",
     "height": 35
    },
    "colab_type": "code",
    "id": "sqKQJcUGUdf9",
    "outputId": "ccdb39ad-d6a3-46ba-9b7f-2fae407709c6"
   },
   "outputs": [
    {
     "data": {
      "text/plain": [
       "2401"
      ]
     },
     "execution_count": 6,
     "metadata": {},
     "output_type": "execute_result"
    }
   ],
   "source": [
    "7**4"
   ]
  },
  {
   "cell_type": "markdown",
   "metadata": {
    "colab_type": "text",
    "id": "d6lyn4_fTz4N"
   },
   "source": [
    "Módulo"
   ]
  },
  {
   "cell_type": "code",
   "execution_count": 7,
   "metadata": {
    "colab": {},
    "colab_type": "code",
    "id": "BEHWQVyAUs49"
   },
   "outputs": [
    {
     "data": {
      "text/plain": [
       "2"
      ]
     },
     "execution_count": 7,
     "metadata": {},
     "output_type": "execute_result"
    }
   ],
   "source": [
    "8%3\n",
    "#0 1 2 0 1 2 0 1 2 0 1 2"
   ]
  },
  {
   "cell_type": "markdown",
   "metadata": {
    "colab_type": "text",
    "id": "zB9LNoFKXJGh"
   },
   "source": [
    "\n",
    "\n",
    "---\n",
    "\n",
    "\n",
    "### OPERADORES LÓGICOS\n",
    "\n",
    "\n",
    "---\n",
    "\n"
   ]
  },
  {
   "cell_type": "markdown",
   "metadata": {
    "colab_type": "text",
    "id": "fcKekt3DY2Wg"
   },
   "source": [
    "And"
   ]
  },
  {
   "cell_type": "code",
   "execution_count": 8,
   "metadata": {
    "colab": {},
    "colab_type": "code",
    "id": "x6P7Z0HQZL2a"
   },
   "outputs": [
    {
     "name": "stdout",
     "output_type": "stream",
     "text": [
      "False\n",
      "False\n",
      "False\n",
      "True\n"
     ]
    }
   ],
   "source": [
    "print(False & False)\n",
    "print(False and True)\n",
    "print(True & False)\n",
    "print(True & True)"
   ]
  },
  {
   "cell_type": "markdown",
   "metadata": {
    "colab_type": "text",
    "id": "wMvXwMnWY7K7"
   },
   "source": [
    "Or"
   ]
  },
  {
   "cell_type": "code",
   "execution_count": 9,
   "metadata": {
    "colab": {},
    "colab_type": "code",
    "id": "YgapCT_MZQpy"
   },
   "outputs": [
    {
     "name": "stdout",
     "output_type": "stream",
     "text": [
      "False\n",
      "True\n",
      "True\n",
      "True\n"
     ]
    }
   ],
   "source": [
    "print(False | False)\n",
    "print(False or True)\n",
    "print(True | False)\n",
    "print(True | True)"
   ]
  },
  {
   "cell_type": "markdown",
   "metadata": {
    "colab_type": "text",
    "id": "EUwiC1uzY7wi"
   },
   "source": [
    "Xor"
   ]
  },
  {
   "cell_type": "code",
   "execution_count": 10,
   "metadata": {
    "colab": {},
    "colab_type": "code",
    "id": "DeSnBFM-ZYOZ"
   },
   "outputs": [
    {
     "name": "stdout",
     "output_type": "stream",
     "text": [
      "False\n",
      "True\n",
      "True\n",
      "False\n"
     ]
    }
   ],
   "source": [
    "print(False ^ False)\n",
    "print(False ^ True)\n",
    "print(True ^ False)\n",
    "print(True ^ True)"
   ]
  },
  {
   "cell_type": "markdown",
   "metadata": {
    "colab_type": "text",
    "id": "SJ78wDIhY8ca"
   },
   "source": [
    "Not"
   ]
  },
  {
   "cell_type": "code",
   "execution_count": 11,
   "metadata": {
    "colab": {
     "base_uri": "https://localhost:8080/",
     "height": 52
    },
    "colab_type": "code",
    "id": "sQZr-7R6aiQ3",
    "outputId": "13260750-4bd9-4b8c-8f3a-3b64a71d8846"
   },
   "outputs": [
    {
     "name": "stdout",
     "output_type": "stream",
     "text": [
      "True\n",
      "False\n"
     ]
    }
   ],
   "source": [
    "print(not(False))\n",
    "print(not(True))"
   ]
  },
  {
   "cell_type": "markdown",
   "metadata": {
    "colab_type": "text",
    "id": "eUvjM0BiY9-T"
   },
   "source": [
    "Desplazar bit a la derecha"
   ]
  },
  {
   "cell_type": "code",
   "execution_count": 12,
   "metadata": {
    "colab": {
     "base_uri": "https://localhost:8080/",
     "height": 35
    },
    "colab_type": "code",
    "id": "FsrS-pOxbius",
    "outputId": "1e91af1c-2ca3-4ac9-ee71-570df99cf003"
   },
   "outputs": [
    {
     "data": {
      "text/plain": [
       "2"
      ]
     },
     "execution_count": 12,
     "metadata": {},
     "output_type": "execute_result"
    }
   ],
   "source": [
    "4>>1\n",
    "#0100 -> 0010"
   ]
  },
  {
   "cell_type": "markdown",
   "metadata": {
    "colab_type": "text",
    "id": "4ZJ0BnFUZDYj"
   },
   "source": [
    "Desplazar bit a la izquierda"
   ]
  },
  {
   "cell_type": "code",
   "execution_count": 13,
   "metadata": {
    "colab": {},
    "colab_type": "code",
    "id": "9MiAB0R_cZXL"
   },
   "outputs": [
    {
     "data": {
      "text/plain": [
       "8"
      ]
     },
     "execution_count": 13,
     "metadata": {},
     "output_type": "execute_result"
    }
   ],
   "source": [
    "4<<1\n",
    "#0100 -> 1000"
   ]
  },
  {
   "cell_type": "markdown",
   "metadata": {
    "colab_type": "text",
    "id": "_r6657tMdOZp"
   },
   "source": [
    "\n",
    "\n",
    "---\n",
    "\n",
    "### OPERADORES RELACIONALES\n",
    "\n",
    "\n",
    "---\n",
    "\n"
   ]
  },
  {
   "cell_type": "markdown",
   "metadata": {
    "colab_type": "text",
    "id": "vVtGWH_xg6ty"
   },
   "source": [
    "Igual que"
   ]
  },
  {
   "cell_type": "code",
   "execution_count": 14,
   "metadata": {
    "colab": {
     "base_uri": "https://localhost:8080/",
     "height": 52
    },
    "colab_type": "code",
    "id": "8dlbGoSThaMT",
    "outputId": "e93a41e5-9dbb-4668-c09e-f35afc16af7d"
   },
   "outputs": [
    {
     "name": "stdout",
     "output_type": "stream",
     "text": [
      "False\n",
      "True\n"
     ]
    }
   ],
   "source": [
    "print(5==6)\n",
    "print(5==5)"
   ]
  },
  {
   "cell_type": "markdown",
   "metadata": {
    "colab_type": "text",
    "id": "GLhvZ5O7hBTd"
   },
   "source": [
    "Diferente de"
   ]
  },
  {
   "cell_type": "code",
   "execution_count": 15,
   "metadata": {
    "colab": {
     "base_uri": "https://localhost:8080/",
     "height": 52
    },
    "colab_type": "code",
    "id": "Cu2R2qJ_hkxC",
    "outputId": "b3699b91-dc32-4619-96ec-c15ac385a98e"
   },
   "outputs": [
    {
     "name": "stdout",
     "output_type": "stream",
     "text": [
      "True\n",
      "False\n"
     ]
    }
   ],
   "source": [
    "print(5!=6)\n",
    "print(5!=5)"
   ]
  },
  {
   "cell_type": "markdown",
   "metadata": {
    "colab_type": "text",
    "id": "B6Ew9v4EhCkr"
   },
   "source": [
    "Mayor que"
   ]
  },
  {
   "cell_type": "code",
   "execution_count": 16,
   "metadata": {
    "colab": {
     "base_uri": "https://localhost:8080/",
     "height": 52
    },
    "colab_type": "code",
    "id": "bEnx3NnxhqdQ",
    "outputId": "7f32f38b-eff7-4c65-db6d-eb6675cb59b1"
   },
   "outputs": [
    {
     "name": "stdout",
     "output_type": "stream",
     "text": [
      "False\n",
      "False\n"
     ]
    }
   ],
   "source": [
    "print(5>6)\n",
    "print(5>5)"
   ]
  },
  {
   "cell_type": "markdown",
   "metadata": {
    "colab_type": "text",
    "id": "ZyRozu-MhINt"
   },
   "source": [
    "Menor que"
   ]
  },
  {
   "cell_type": "code",
   "execution_count": 17,
   "metadata": {
    "colab": {
     "base_uri": "https://localhost:8080/",
     "height": 52
    },
    "colab_type": "code",
    "id": "SUNvI76XhyJx",
    "outputId": "f836eeb8-2e28-4992-9169-cd873a0cde2f"
   },
   "outputs": [
    {
     "name": "stdout",
     "output_type": "stream",
     "text": [
      "True\n",
      "False\n"
     ]
    }
   ],
   "source": [
    "print(5<6)\n",
    "print(5<5)"
   ]
  },
  {
   "cell_type": "markdown",
   "metadata": {
    "colab_type": "text",
    "id": "ViQCIz0ghL7z"
   },
   "source": [
    "Mayor o igual que"
   ]
  },
  {
   "cell_type": "code",
   "execution_count": 18,
   "metadata": {
    "colab": {
     "base_uri": "https://localhost:8080/",
     "height": 52
    },
    "colab_type": "code",
    "id": "T29tnOGZh5MP",
    "outputId": "02404692-075f-49cd-91be-0c79f5bbc665"
   },
   "outputs": [
    {
     "name": "stdout",
     "output_type": "stream",
     "text": [
      "False\n",
      "True\n"
     ]
    }
   ],
   "source": [
    "print(5>=6)\n",
    "print(5>=5)"
   ]
  },
  {
   "cell_type": "markdown",
   "metadata": {
    "colab_type": "text",
    "id": "yacDZdnKhNy2"
   },
   "source": [
    "Menor igual que"
   ]
  },
  {
   "cell_type": "code",
   "execution_count": 19,
   "metadata": {
    "colab": {
     "base_uri": "https://localhost:8080/",
     "height": 52
    },
    "colab_type": "code",
    "id": "0pYYrpUeh-Ae",
    "outputId": "e57e4bd6-08be-4e9c-c5c8-19d4b90267b5"
   },
   "outputs": [
    {
     "name": "stdout",
     "output_type": "stream",
     "text": [
      "True\n",
      "True\n"
     ]
    }
   ],
   "source": [
    "print(5<=6)\n",
    "print(5<=5)"
   ]
  },
  {
   "cell_type": "markdown",
   "metadata": {
    "colab_type": "text",
    "id": "MVmcLZFiigrZ"
   },
   "source": [
    "# ESTRUCTURAS DE CONTROL DE FLUJO\n",
    "\n",
    "El control de flujo se refiere al orden en el que se ejecutan las instrucciones contenidas en un programa. Cuando un programa tiene más de una posibilidad de flujo es necesario utilizar estructuras de control que decidan qué camino tomar en la ejecución a partir del cumplimiento o no de ciertas condiciones.\n",
    "\n",
    "*   Sentencias condicionales\n",
    "*   Sentencias cíclicas\n",
    "\n"
   ]
  },
  {
   "cell_type": "markdown",
   "metadata": {
    "colab_type": "text",
    "id": "Pgg2iWSBkHbM"
   },
   "source": [
    "## SENTENCIAS CONDICIONALES\n",
    "\n",
    "Las sentencias condicionales permiten la decisión entre la ejecución o no de bloques de código a partir del cumplimiento de una condición. Esta condición se evalúa  mediante operadores relacionales que retornan un dato booleano.\n",
    "\n",
    "\n"
   ]
  },
  {
   "cell_type": "markdown",
   "metadata": {
    "colab_type": "text",
    "id": "AUCETF08kNIs"
   },
   "source": [
    "\n",
    "\n",
    "---\n",
    "\n",
    "\n",
    "### IF\n",
    "\n",
    "\n",
    "---\n",
    "\n",
    "Esta es la sentencia de control de flujo más básica. Permite o no la ejecución de un bloque de código a partir de la verificación de una condición. Hay que recordar que Python es un lenguaje identado, esto quiere decir que el bloque de código asociado al if debe ir tabulado."
   ]
  },
  {
   "cell_type": "code",
   "execution_count": 20,
   "metadata": {
    "colab": {},
    "colab_type": "code",
    "id": "PhizECRUkpIz"
   },
   "outputs": [
    {
     "name": "stdout",
     "output_type": "stream",
     "text": [
      "Y mayor que 8\n",
      "Fin del programa\n"
     ]
    }
   ],
   "source": [
    "x=6\n",
    "y=12\n",
    "z=False\n",
    "if (y>8):\n",
    "   \tprint (\"Y mayor que 8\")\n",
    "if (x>8):\n",
    "   \tprint (\"X mayor que 8\")\n",
    "if (z):\n",
    "   \tprint (\"Z verdadero\")\n",
    "print (\"Fin del programa\")"
   ]
  },
  {
   "cell_type": "code",
   "execution_count": 21,
   "metadata": {
    "colab": {},
    "colab_type": "code",
    "id": "0VLeK0Kel1AX"
   },
   "outputs": [
    {
     "name": "stdout",
     "output_type": "stream",
     "text": [
      "Se cumple una o las dos condiciones\n"
     ]
    }
   ],
   "source": [
    "x=6\n",
    "y=12\n",
    "if (y>8 and x>8):\n",
    "   \tprint(\"Se cumplen las dos condiciones\")\n",
    "if (y>8 or x>8):\n",
    "   \tprint (\"Se cumple una o las dos condiciones\")"
   ]
  },
  {
   "cell_type": "markdown",
   "metadata": {
    "colab_type": "text",
    "id": "qRpS1kvdlnZA"
   },
   "source": [
    "\n",
    "\n",
    "---\n",
    "### IF ... ELSE\n",
    "\n",
    "\n",
    "---\n",
    "La sentencia else va luego de una sentencia if y tiene como objetivo que el bloque de código asociado a esta se ejecute únicamente si la condición expresada en el if no se cumple. Una traducción de esta sentencia es \"Si se cumple la condición se debe ejecutar un bloque de código, sino se cumple se debe ejecutar otro bloque de código\".\n",
    "\n"
   ]
  },
  {
   "cell_type": "code",
   "execution_count": 22,
   "metadata": {
    "colab": {
     "base_uri": "https://localhost:8080/",
     "height": 35
    },
    "colab_type": "code",
    "id": "xpvPjioslr_G",
    "outputId": "281cb76a-7b15-47a3-987a-a46700d510cd"
   },
   "outputs": [
    {
     "name": "stdout",
     "output_type": "stream",
     "text": [
      "x mayor que y\n"
     ]
    }
   ],
   "source": [
    "x=8\n",
    "y=6\n",
    "if (x>y):\n",
    "   \tprint (\"x mayor que y\")\n",
    "else:\n",
    "   \tprint (\"x no es mayor que y\")"
   ]
  },
  {
   "cell_type": "markdown",
   "metadata": {
    "colab_type": "text",
    "id": "E0k5eJern4_7"
   },
   "source": [
    "\n",
    "\n",
    "---\n",
    "### IF ... ELIF\n",
    "\n",
    "\n",
    "---\n",
    "\n",
    "La sentencia elif tiene que ir después de de una sentencia if. Esta hace que en el caso de que no se cumpla la condición del if se verifique una segunda condición. Una traducción a esta sentencia es \"Si se cumple la condición 1 se debe ejecutar un bloque de código, si no se cumple la condición 1 se verifica una condición 2 y si esta se cumple se ejecuta otro bloque de código\"\n"
   ]
  },
  {
   "cell_type": "code",
   "execution_count": 23,
   "metadata": {
    "colab": {
     "base_uri": "https://localhost:8080/",
     "height": 35
    },
    "colab_type": "code",
    "id": "B32cktzXn_Kc",
    "outputId": "f423eae8-0a98-426c-b402-7c385f97151f"
   },
   "outputs": [
    {
     "name": "stdout",
     "output_type": "stream",
     "text": [
      "Rendimiento aceptable\n"
     ]
    }
   ],
   "source": [
    "x=3.5\n",
    "if (x>4):\n",
    "   \tprint (\"Rendimiento excelente\")\n",
    "elif (x>=3):\n",
    "   \tprint (\"Rendimiento aceptable\")\n",
    "else:\n",
    "   \tprint (\"Reprobado\")"
   ]
  },
  {
   "cell_type": "markdown",
   "metadata": {
    "colab_type": "text",
    "id": "Xo40CUiIoOXV"
   },
   "source": [
    "## SENTENCIAS CÍCLICAS\n",
    "\n",
    "Las sentencias cíclicas permiten la repetición de un bloque de código un número de veces determinado por una condición o por un arreglo de datos."
   ]
  },
  {
   "cell_type": "markdown",
   "metadata": {
    "colab_type": "text",
    "id": "0Vam_Y3ioSAb"
   },
   "source": [
    "\n",
    "\n",
    "---\n",
    "\n",
    "### WHILE\n",
    "\n",
    "\n",
    "---\n",
    "\n",
    "Esta sentencia repite un bloque de código mientras se cumpla una condición."
   ]
  },
  {
   "cell_type": "code",
   "execution_count": 24,
   "metadata": {
    "colab": {
     "base_uri": "https://localhost:8080/",
     "height": 69
    },
    "colab_type": "code",
    "id": "xOWn0jq3perC",
    "outputId": "6cc2c384-a0c0-48c9-e9b5-3e59bd27b593"
   },
   "outputs": [
    {
     "name": "stdout",
     "output_type": "stream",
     "text": [
      "Vuelta No:  1\n",
      "Vuelta No:  2\n",
      "Vuelta No:  3\n"
     ]
    }
   ],
   "source": [
    "i=1\n",
    "while i<4:\n",
    "   \tprint(\"Vuelta No: \",i)\n",
    "   \ti=i+1\n"
   ]
  },
  {
   "cell_type": "code",
   "execution_count": 26,
   "metadata": {
    "colab": {},
    "colab_type": "code",
    "id": "feOt98yMphYB"
   },
   "outputs": [
    {
     "name": "stdout",
     "output_type": "stream",
     "text": [
      "Desea salir (s/n): n\n",
      "Desea salir (s/n): s\n"
     ]
    }
   ],
   "source": [
    "m='n'\n",
    "while m!='s':\n",
    "   \tm=input(\"Desea salir (s/n): \")"
   ]
  },
  {
   "cell_type": "code",
   "execution_count": 28,
   "metadata": {
    "colab": {},
    "colab_type": "code",
    "id": "8SNgTwQjp1_o"
   },
   "outputs": [
    {
     "name": "stdout",
     "output_type": "stream",
     "text": [
      "Ciclo infinito\n"
     ]
    }
   ],
   "source": [
    "n=True\n",
    "while n:\n",
    "\tn=False\n",
    "\tprint(\"Ciclo infinito\")\n",
    "\t\t\n",
    "   \t\n",
    "\t\t"
   ]
  },
  {
   "cell_type": "markdown",
   "metadata": {
    "colab_type": "text",
    "id": "Mu96ndmYqP4n"
   },
   "source": [
    "\n",
    "\n",
    "---\n",
    "\n",
    "### FOR\n",
    "\n",
    "\n",
    "---\n",
    "\n",
    "Esta sentencia permite repetir un bloque de código en el cual una variable va tomando para cada ciclo, uno a uno los valores definidos en un arreglo de datos."
   ]
  },
  {
   "cell_type": "code",
   "execution_count": 29,
   "metadata": {
    "colab": {},
    "colab_type": "code",
    "id": "9FAOw3YzqWtV"
   },
   "outputs": [
    {
     "name": "stdout",
     "output_type": "stream",
     "text": [
      "a\n",
      "e\n",
      "i\n",
      "o\n",
      "u\n"
     ]
    }
   ],
   "source": [
    "# Usando una lista\n",
    "vocales = ['a','e','i','o','u']\n",
    "for i in vocales:\n",
    "   \tprint(i)"
   ]
  },
  {
   "cell_type": "code",
   "execution_count": 30,
   "metadata": {
    "colab": {},
    "colab_type": "code",
    "id": "6qPCZW9ZqzVF"
   },
   "outputs": [
    {
     "name": "stdout",
     "output_type": "stream",
     "text": [
      "h\n",
      "o\n",
      "l\n",
      "a\n"
     ]
    }
   ],
   "source": [
    "# Usando una cadena de caracteres\n",
    "cadena = \"hola\"\n",
    "for i in cadena:\n",
    "   \tprint(i)"
   ]
  },
  {
   "cell_type": "code",
   "execution_count": 31,
   "metadata": {
    "colab": {},
    "colab_type": "code",
    "id": "Td8vCtgrrBvT"
   },
   "outputs": [
    {
     "name": "stdout",
     "output_type": "stream",
     "text": [
      "0\n",
      "1\n",
      "2\n",
      "3\n"
     ]
    }
   ],
   "source": [
    "# Usando un rango generado automático\n",
    "for i in range(4):\n",
    "   \tprint(i)"
   ]
  },
  {
   "cell_type": "code",
   "execution_count": 32,
   "metadata": {
    "colab": {},
    "colab_type": "code",
    "id": "i4JOb7FzrL09"
   },
   "outputs": [
    {
     "name": "stdout",
     "output_type": "stream",
     "text": [
      "[0, 1, 2]\n",
      "[3, 4]\n",
      "[4, 6, 8]\n",
      "[10, 8, 6]\n"
     ]
    }
   ],
   "source": [
    "# Diferentes formas de generar un rango automáticamente\n",
    "print(list(range(3))) #el inicio y el paso se toman por defecto\n",
    "print(list(range(3,5))) #el paso se toma por defecto = 1\n",
    "print(list(range(4,10,2))) #el paso es 2\n",
    "print(list(range(10,4,-2))) #el paso es -2"
   ]
  },
  {
   "cell_type": "markdown",
   "metadata": {
    "colab_type": "text",
    "id": "qYpRuTzMr-5c"
   },
   "source": [
    "\n",
    "\n",
    "---\n",
    "\n",
    "### BREAK\n",
    "\n",
    "\n",
    "---\n",
    "\n",
    "La sentencia Break permite interrumpir la ejecución de un bucle."
   ]
  },
  {
   "cell_type": "code",
   "execution_count": 46,
   "metadata": {
    "colab": {},
    "colab_type": "code",
    "id": "gdweG5_UsHvF"
   },
   "outputs": [
    {
     "name": "stdout",
     "output_type": "stream",
     "text": [
      "Posición  0\n",
      "Valor : s\n",
      "Desea continuar ingresando (s/n):s\n",
      "Posición  1\n",
      "Valor : n\n",
      "Desea continuar ingresando (s/n):n\n"
     ]
    }
   ],
   "source": [
    "x=[]\n",
    "for i in range(100):\n",
    "    print(\"Posición \",i)\n",
    "    a=input(\"Valor : \")\n",
    "    x.append(a)\n",
    "    m=input(\"Desea continuar ingresando (s/n):\")\n",
    "    if (m=='n'):\n",
    "        break"
   ]
  },
  {
   "cell_type": "markdown",
   "metadata": {
    "colab_type": "text",
    "id": "pwSFgwPYs7io"
   },
   "source": [
    "\n",
    "\n",
    "---\n",
    "\n",
    "### CONTINUE\n",
    "\n",
    "\n",
    "---\n",
    "\n",
    "La sentencia continue permite omitir una porción de código de un bucle. Cuando esta sentencia se ejecuta, el programa pasa al siguiente ciclo, omitiendo el fragmento de código que faltaba por ejecutar dentro del bucle."
   ]
  },
  {
   "cell_type": "code",
   "execution_count": 47,
   "metadata": {
    "colab": {},
    "colab_type": "code",
    "id": "_f61lHLYs-B0"
   },
   "outputs": [
    {
     "name": "stdout",
     "output_type": "stream",
     "text": [
      "Vuelta No. :  0\n",
      "En esta vuelta no se ejecutó la sentencia continue\n",
      "Vuelta No. :  1\n",
      "En esta vuelta no se ejecutó la sentencia continue\n",
      "Vuelta No. :  2\n",
      "En esta vuelta no se ejecutó la sentencia continue\n",
      "Vuelta No. :  3\n",
      "Vuelta No. :  4\n"
     ]
    }
   ],
   "source": [
    "for i in range(5):\n",
    "   \tprint(\"Vuelta No. : \",i)\n",
    "   \tif (i>2):\n",
    "           \tcontinue\n",
    "   \tprint(\"En esta vuelta no se ejecutó la sentencia continue\")"
   ]
  },
  {
   "cell_type": "markdown",
   "metadata": {
    "colab_type": "text",
    "id": "GnIdq6bSubWu"
   },
   "source": [
    "\n",
    "\n",
    "---\n",
    "### SENTENCIA ELSE EN BUCLES\n",
    "\n",
    "\n",
    "---\n",
    "\n",
    "La sentencia else en Python no es exclusivamente un complemento de la sentencia if, también puede utilizarse junto a una sentencia cíclica for o while. La sentencia else asociada a una sentencia cíclica permite la ejecución de un bloque de código únicamente cuando el bucle ha completado los ciclos completamente según la condición (para while) o el arreglo de datos (para for), si el bucle se ha interrumpido mediante un break el bloque de código asociado al else no será ejecutado.\n",
    "(Ver taller)\n"
   ]
  }
 ],
 "metadata": {
  "colab": {
   "name": "Python: Operadores y estructuras de control.ipynb",
   "provenance": []
  },
  "kernelspec": {
   "display_name": "Python 3",
   "language": "python",
   "name": "python3"
  },
  "language_info": {
   "codemirror_mode": {
    "name": "ipython",
    "version": 3
   },
   "file_extension": ".py",
   "mimetype": "text/x-python",
   "name": "python",
   "nbconvert_exporter": "python",
   "pygments_lexer": "ipython3",
   "version": "3.7.6"
  }
 },
 "nbformat": 4,
 "nbformat_minor": 1
}
