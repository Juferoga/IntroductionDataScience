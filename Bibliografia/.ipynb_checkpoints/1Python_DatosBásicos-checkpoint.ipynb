{
 "cells": [
  {
   "cell_type": "markdown",
   "metadata": {
    "colab_type": "text",
    "id": "oCZ2UVJdIsrK"
   },
   "source": [
    "\n",
    "\n",
    "---\n",
    "\n",
    "\n",
    "# PYTHON\n",
    "\n",
    "<div style=\"text-align: justify\">Python es un lenguaje de programación interpretado, de fácil aprendizaje, creado a principios de los años 90 por Guido van Rossum. El desarrollo de este lenguaje fue influenciado por Perl, Java y Ruby. Python es un lenguaje de propósito general, fácilmente extensible a dominios específicos; provee estructuras de datos eficientes de alto nivel y posee un tipado fuerte y dinámico. A continuación las principales características:</div>\n",
    "\n",
    "*   Propósito general\n",
    "*   Multiparadigma\n",
    "*   Tipado dinámico\n",
    "*   Fuertemente tipado\n",
    "*   Multiplataforma\n",
    "*   Libre\n",
    "*   Identado\n",
    "\n",
    "\n",
    "---\n",
    "\n",
    "\n",
    "\n"
   ]
  },
  {
   "cell_type": "markdown",
   "metadata": {
    "colab_type": "text",
    "id": "K-AFrMrvKF66"
   },
   "source": [
    "# DATOS BÁSICOS\n",
    "\n",
    "\n",
    "*   Integer\n",
    "*   Float\n",
    "*   Complex\n",
    "*   Bool\n",
    "*   String\n",
    "\n",
    "\n",
    "\n",
    "\n",
    "\n",
    "\n",
    "\n"
   ]
  },
  {
   "cell_type": "markdown",
   "metadata": {
    "colab_type": "text",
    "id": "GHQeKdLhyZfQ"
   },
   "source": [
    "\n",
    "\n",
    "---\n",
    "\n",
    "\n",
    "### INTEGER\n",
    "\n",
    "\n",
    "---\n",
    "\n",
    "\n",
    "\n",
    "Tipado dinámico Integer\n"
   ]
  },
  {
   "cell_type": "code",
   "execution_count": 2,
   "metadata": {
    "colab": {
     "base_uri": "https://localhost:8080/",
     "height": 52
    },
    "colab_type": "code",
    "id": "OdAn6iEAyyLh",
    "outputId": "804787a4-e5a5-488c-ea74-ebaf9c572614"
   },
   "outputs": [
    {
     "name": "stdout",
     "output_type": "stream",
     "text": [
      "35\n",
      "<class 'int'>\n"
     ]
    }
   ],
   "source": [
    "x=35\n",
    "print(x)\n",
    "print(type(x))\n"
   ]
  },
  {
   "cell_type": "markdown",
   "metadata": {
    "colab_type": "text",
    "id": "upni56f71KfM"
   },
   "source": [
    "\n",
    "\n",
    "---\n",
    "\n",
    "\n",
    "### FLOAT ###\n",
    "\n",
    "\n",
    "---\n",
    "\n",
    "\n",
    "\n",
    "Tipado dinámico Float"
   ]
  },
  {
   "cell_type": "code",
   "execution_count": 3,
   "metadata": {
    "colab": {
     "base_uri": "https://localhost:8080/",
     "height": 52
    },
    "colab_type": "code",
    "id": "K7pIUaW81RgB",
    "outputId": "757ab247-3af3-4be9-d6ec-7e39770a502a"
   },
   "outputs": [
    {
     "name": "stdout",
     "output_type": "stream",
     "text": [
      "8.75\n"
     ]
    },
    {
     "data": {
      "text/plain": [
       "float"
      ]
     },
     "execution_count": 3,
     "metadata": {},
     "output_type": "execute_result"
    }
   ],
   "source": [
    "y=x/4\n",
    "print(y)\n",
    "type(y)"
   ]
  },
  {
   "cell_type": "markdown",
   "metadata": {
    "colab_type": "text",
    "id": "JOCsMov6Kdh4"
   },
   "source": [
    "Conversión Float -> Integer"
   ]
  },
  {
   "cell_type": "code",
   "execution_count": 4,
   "metadata": {
    "colab": {
     "base_uri": "https://localhost:8080/",
     "height": 69
    },
    "colab_type": "code",
    "id": "BoOvjgWwKxy5",
    "outputId": "907302c7-a877-45c3-a959-8c3252f6cdd7"
   },
   "outputs": [
    {
     "name": "stdout",
     "output_type": "stream",
     "text": [
      "8\n",
      "8.75\n",
      "10\n"
     ]
    }
   ],
   "source": [
    "\n",
    "inty=int(y)\n",
    "print(inty)\n",
    "print(y)\n",
    "print(int(10.95))"
   ]
  },
  {
   "cell_type": "markdown",
   "metadata": {
    "colab_type": "text",
    "id": "0H3_3881LV4q"
   },
   "source": [
    "\n",
    "\n",
    "---\n",
    "\n",
    "\n",
    "### COMPLEX ###\n",
    "\n",
    "\n",
    "---\n",
    "\n",
    "\n",
    "\n",
    "Tipado dinámico Complex\n"
   ]
  },
  {
   "cell_type": "code",
   "execution_count": 5,
   "metadata": {
    "colab": {
     "base_uri": "https://localhost:8080/",
     "height": 52
    },
    "colab_type": "code",
    "id": "SWejupXQORlt",
    "outputId": "d28fc3b7-9851-40af-96d3-1b42c23e5076"
   },
   "outputs": [
    {
     "name": "stdout",
     "output_type": "stream",
     "text": [
      "(5+3j)\n"
     ]
    },
    {
     "data": {
      "text/plain": [
       "complex"
      ]
     },
     "execution_count": 5,
     "metadata": {},
     "output_type": "execute_result"
    }
   ],
   "source": [
    "n = 5 + 3j\n",
    "print(n)\n",
    "type(n)"
   ]
  },
  {
   "cell_type": "markdown",
   "metadata": {
    "colab_type": "text",
    "id": "yymcgQFIOdx8"
   },
   "source": [
    "Obtención parte Real e Imaginaria"
   ]
  },
  {
   "cell_type": "code",
   "execution_count": 6,
   "metadata": {
    "colab": {},
    "colab_type": "code",
    "id": "YfIbhx0_Ok3L"
   },
   "outputs": [
    {
     "name": "stdout",
     "output_type": "stream",
     "text": [
      "5.0\n",
      "3.0\n"
     ]
    }
   ],
   "source": [
    "print(n.real)\n",
    "print(n.imag)"
   ]
  },
  {
   "cell_type": "markdown",
   "metadata": {
    "colab_type": "text",
    "id": "afD2fgUfO_DV"
   },
   "source": [
    "Obtención Magnitud"
   ]
  },
  {
   "cell_type": "code",
   "execution_count": 7,
   "metadata": {
    "colab": {
     "base_uri": "https://localhost:8080/",
     "height": 35
    },
    "colab_type": "code",
    "id": "FqoL9-TuPCtI",
    "outputId": "4eaf5e68-d54f-49fd-fff0-b724a921da5a"
   },
   "outputs": [
    {
     "name": "stdout",
     "output_type": "stream",
     "text": [
      "5.830951894845301\n"
     ]
    }
   ],
   "source": [
    "an=abs(n)\n",
    "print(an)\n"
   ]
  },
  {
   "cell_type": "markdown",
   "metadata": {
    "colab_type": "text",
    "id": "3N9otal_PITh"
   },
   "source": [
    "Conversión a Complex"
   ]
  },
  {
   "cell_type": "code",
   "execution_count": 8,
   "metadata": {
    "colab": {},
    "colab_type": "code",
    "id": "DDG59WsrPN6J"
   },
   "outputs": [
    {
     "name": "stdout",
     "output_type": "stream",
     "text": [
      "(2+7j)\n",
      "(35+0j)\n",
      "(8.75+0j)\n"
     ]
    }
   ],
   "source": [
    "m = complex (2,7)\n",
    "print(m)\n",
    "print(complex(x))\n",
    "print(complex(y))\n"
   ]
  },
  {
   "cell_type": "markdown",
   "metadata": {
    "colab_type": "text",
    "id": "SClB-A-bUj9_"
   },
   "source": [
    "\n",
    "\n",
    "---\n",
    "\n",
    "\n",
    "### BOOL ###\n",
    "\n",
    "\n",
    "---\n",
    "\n",
    "\n",
    "\n",
    "Tipado dinámico Bool\n"
   ]
  },
  {
   "cell_type": "code",
   "execution_count": 9,
   "metadata": {
    "colab": {},
    "colab_type": "code",
    "id": "KjhLb1zLUm-z"
   },
   "outputs": [
    {
     "data": {
      "text/plain": [
       "bool"
      ]
     },
     "execution_count": 9,
     "metadata": {},
     "output_type": "execute_result"
    }
   ],
   "source": [
    "p = True\n",
    "type(p)\n"
   ]
  },
  {
   "cell_type": "markdown",
   "metadata": {
    "colab_type": "text",
    "id": "uiKSOsFTUvAb"
   },
   "source": [
    "Conversión a Bool"
   ]
  },
  {
   "cell_type": "code",
   "execution_count": 10,
   "metadata": {
    "colab": {},
    "colab_type": "code",
    "id": "YyHa1ZTuVR8b"
   },
   "outputs": [
    {
     "name": "stdout",
     "output_type": "stream",
     "text": [
      "False\n",
      "True\n",
      "True\n",
      "False\n",
      "True\n",
      "False\n"
     ]
    }
   ],
   "source": [
    "print(bool(0))\n",
    "print(bool(x))\n",
    "print(bool(y))\n",
    "print(bool(0.0))\n",
    "print(bool(2+3j))\n",
    "print(bool(0+0j))"
   ]
  },
  {
   "cell_type": "markdown",
   "metadata": {
    "colab_type": "text",
    "id": "QgLF9MT-VthL"
   },
   "source": [
    "\n",
    "\n",
    "---\n",
    "\n",
    "\n",
    "### STRING ###\n",
    "\n",
    "\n",
    "---\n",
    "\n",
    "\n",
    "\n",
    "Tipado dinámico String\n"
   ]
  },
  {
   "cell_type": "code",
   "execution_count": 11,
   "metadata": {
    "colab": {},
    "colab_type": "code",
    "id": "T15wVhz3WZQa"
   },
   "outputs": [
    {
     "name": "stdout",
     "output_type": "stream",
     "text": [
      "Introducción a la Ciencia de Datos\n"
     ]
    },
    {
     "data": {
      "text/plain": [
       "str"
      ]
     },
     "execution_count": 11,
     "metadata": {},
     "output_type": "execute_result"
    }
   ],
   "source": [
    "s = 'Introducción a la Ciencia de Datos'\n",
    "print(s)\n",
    "type(s)"
   ]
  },
  {
   "cell_type": "markdown",
   "metadata": {
    "colab_type": "text",
    "id": "Y2gSUMLNWkHb"
   },
   "source": [
    "Conversión a String"
   ]
  },
  {
   "cell_type": "code",
   "execution_count": 12,
   "metadata": {
    "colab": {},
    "colab_type": "code",
    "id": "aBYBkcR3WqvJ"
   },
   "outputs": [
    {
     "name": "stdout",
     "output_type": "stream",
     "text": [
      "35\n",
      "8.75\n",
      "(2+7j)\n",
      "True\n"
     ]
    }
   ],
   "source": [
    "print(str(x))\n",
    "print(str(y))\n",
    "print(str(m))\n",
    "print(str(p))\n"
   ]
  },
  {
   "cell_type": "markdown",
   "metadata": {
    "colab_type": "text",
    "id": "XfyS9-5peuzN"
   },
   "source": [
    "Conversión desde String"
   ]
  },
  {
   "cell_type": "code",
   "execution_count": 13,
   "metadata": {
    "colab": {},
    "colab_type": "code",
    "id": "cVjY9T93eywH"
   },
   "outputs": [
    {
     "name": "stdout",
     "output_type": "stream",
     "text": [
      "38\n",
      "7.5\n",
      "(6+5j)\n",
      "True\n",
      "True\n",
      "False\n"
     ]
    }
   ],
   "source": [
    "print(int('38'))\n",
    "print(float('7.5'))\n",
    "print(complex('6+5j'))\n",
    "print(bool('False'))\n",
    "print(bool('True'))\n",
    "print(bool(''))\n"
   ]
  },
  {
   "cell_type": "markdown",
   "metadata": {
    "colab_type": "text",
    "id": "lEjovOxdgkwt"
   },
   "source": [
    "Caracteres especiales"
   ]
  },
  {
   "cell_type": "code",
   "execution_count": 14,
   "metadata": {
    "colab": {},
    "colab_type": "code",
    "id": "xZLS1x4Ygzj_"
   },
   "outputs": [
    {
     "name": "stdout",
     "output_type": "stream",
     "text": [
      "Hola \n",
      " Mundo\n",
      "Hola\t\tMundo\n",
      "Hola 'Mundo'\n"
     ]
    }
   ],
   "source": [
    "print('Hola \\n Mundo')\n",
    "print('Hola\\t\\tMundo')\n",
    "print('Hola \\'Mundo\\'')\n"
   ]
  },
  {
   "cell_type": "markdown",
   "metadata": {
    "colab_type": "text",
    "id": "fORz0Jwyg-qW"
   },
   "source": [
    "Indexación de String"
   ]
  },
  {
   "cell_type": "code",
   "execution_count": 15,
   "metadata": {
    "colab": {},
    "colab_type": "code",
    "id": "GbvzMyqihbRN"
   },
   "outputs": [
    {
     "name": "stdout",
     "output_type": "stream",
     "text": [
      "Introducción a la Ciencia de Datos\n",
      "d\n",
      "t\n",
      "ucción a la Ciencia de Datos\n",
      "Introducci\n",
      "ón a la Ci\n"
     ]
    }
   ],
   "source": [
    "print(s)\n",
    "print(s[5])\n",
    "print(s[-3])\n",
    "print(s[6:])\n",
    "print(s[:10])\n",
    "print(s[10:20])\n"
   ]
  },
  {
   "cell_type": "markdown",
   "metadata": {
    "colab_type": "text",
    "id": "e0ESG0syiIgy"
   },
   "source": [
    "Operaciones básicas a String"
   ]
  },
  {
   "cell_type": "code",
   "execution_count": 16,
   "metadata": {
    "colab": {},
    "colab_type": "code",
    "id": "4MViPQE_iMG4"
   },
   "outputs": [
    {
     "name": "stdout",
     "output_type": "stream",
     "text": [
      "HolaMundo\n",
      "Hola Mundo\n",
      "Hola Mundo Cruel\n",
      "Hola Hola Hola \n"
     ]
    },
    {
     "data": {
      "text/plain": [
       "34"
      ]
     },
     "execution_count": 16,
     "metadata": {},
     "output_type": "execute_result"
    }
   ],
   "source": [
    "t=('Hola')\n",
    "u=('Mundo')\n",
    "v=t+u\n",
    "print(v)\n",
    "v= t+' '+u\n",
    "print(v)\n",
    "v+=' Cruel'\n",
    "print(v)\n",
    "w='Hola '*3\n",
    "#f=('Hola ')/3\n",
    "print(w)\n",
    "len(s)"
   ]
  },
  {
   "cell_type": "markdown",
   "metadata": {
    "colab_type": "text",
    "id": "HDU3NnNHjDDr"
   },
   "source": [
    "Métodos de String"
   ]
  },
  {
   "cell_type": "code",
   "execution_count": 17,
   "metadata": {
    "colab": {},
    "colab_type": "code",
    "id": "E6B9aWr9jLeR"
   },
   "outputs": [
    {
     "name": "stdout",
     "output_type": "stream",
     "text": [
      "Introducción a la Ciencia de Datos\n",
      "INTRODUCCIÓN A LA CIENCIA DE DATOS\n",
      "introducción a la ciencia de datos\n",
      "Introducción a la ciencia de datos\n",
      "iNTRODUCCIÓN A LA cIENCIA DE dATOS\n",
      "IntroducciónalaCienciadeDatos\n",
      "4\n",
      "13\n",
      "['Introducción', 'a', 'la', 'Ciencia', 'de', 'Datos']\n",
      "['Introducción ', ' l', ' Cienci', ' de D', 'tos']\n",
      "False\n",
      "True\n",
      "False\n",
      "True\n"
     ]
    }
   ],
   "source": [
    "print(s)\n",
    "print(s.upper())\n",
    "print(s.lower())\n",
    "print(s.capitalize())\n",
    "print(s.swapcase())\n",
    "print(s.replace(' ',''))\n",
    "print(s.count('a'))\n",
    "print(s.find('a'))\n",
    "print(s.split(' '))\n",
    "print(s.split('a'))\n",
    "print(s.startswith('i'))\n",
    "print(s.startswith('I'))\n",
    "r='Hola Mundo'\n",
    "print(r.isalpha())\n",
    "r='HolaMundo'\n",
    "print(r.isalpha())"
   ]
  }
 ],
 "metadata": {
  "colab": {
   "name": "Python: DatosBásicos.ipynb",
   "provenance": []
  },
  "kernelspec": {
   "display_name": "Python 3",
   "language": "python",
   "name": "python3"
  },
  "language_info": {
   "codemirror_mode": {
    "name": "ipython",
    "version": 3
   },
   "file_extension": ".py",
   "mimetype": "text/x-python",
   "name": "python",
   "nbconvert_exporter": "python",
   "pygments_lexer": "ipython3",
   "version": "3.7.6"
  }
 },
 "nbformat": 4,
 "nbformat_minor": 1
}
