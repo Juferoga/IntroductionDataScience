{
 "cells": [
  {
   "cell_type": "markdown",
   "metadata": {
    "colab_type": "text",
    "id": "Y0a68WVh174m"
   },
   "source": [
    "# NUMPY: Funciones matemáticas"
   ]
  },
  {
   "cell_type": "markdown",
   "metadata": {
    "colab_type": "text",
    "id": "OIbWxxpX2Jyv"
   },
   "source": [
    "\n",
    "\n",
    "---\n",
    "### FUNCIONES UNIVERSALES\n",
    "\n",
    "\n",
    "---\n",
    "\n",
    "\n"
   ]
  },
  {
   "cell_type": "markdown",
   "metadata": {
    "colab_type": "text",
    "id": "cZ2eLRmc5jhl"
   },
   "source": [
    "**Básicas**"
   ]
  },
  {
   "cell_type": "code",
   "execution_count": 1,
   "metadata": {
    "colab": {},
    "colab_type": "code",
    "id": "bXkwBEr7dcN-"
   },
   "outputs": [
    {
     "name": "stdout",
     "output_type": "stream",
     "text": [
      "[0 1 2 3 4]\n",
      "[13 -4  2 18  7] \n",
      "\n",
      "Suma: [13 -3  4 21 11]\n",
      "Resta: [13 -5  0 15  3]\n",
      "Raiz: [0.         1.         1.41421356 1.73205081 2.        ]\n",
      "Potencia: [ 0  1  4  9 16]\n",
      "Signo: [ 1 -1  1  1  1]\n"
     ]
    }
   ],
   "source": [
    "# %%\n",
    "import numpy as np\n",
    "\n",
    "# Declaramos un par de arrays de prueba\n",
    "arr_1 = np.arange(5)\n",
    "arr_2 = np.array([13,-4,2,18,7])\n",
    "\n",
    "print(arr_1)\n",
    "print(arr_2,\"\\n\")\n",
    "\n",
    "# Suma\n",
    "print(\"Suma:\",np.add(arr_1, arr_2))\n",
    "\n",
    "# Resta\n",
    "print(\"Resta:\",np.subtract(arr_2, arr_1))\n",
    "\n",
    "# Raiz cuadrada\n",
    "print(\"Raiz:\",np.sqrt(arr_1))\n",
    "\n",
    "# Potencia\n",
    "print(\"Potencia:\",np.power(arr_1, 2))\n",
    "\n",
    "# Signo\n",
    "print(\"Signo:\",np.sign(arr_2))"
   ]
  },
  {
   "cell_type": "markdown",
   "metadata": {
    "colab_type": "text",
    "id": "YFcd_DKJAJ2u"
   },
   "source": [
    "**Trigonométricas**"
   ]
  },
  {
   "cell_type": "code",
   "execution_count": 2,
   "metadata": {
    "colab": {},
    "colab_type": "code",
    "id": "Ehx_r_CkAXD2"
   },
   "outputs": [
    {
     "name": "stdout",
     "output_type": "stream",
     "text": [
      "Seno: [ 0.          0.84147098  0.90929743  0.14112001 -0.7568025 ]\n",
      "Tangente: [ 0.          1.55740772 -2.18503986 -0.14254654  1.15782128]\n",
      "Radianes: [0.         0.01745329 0.03490659 0.05235988 0.06981317]\n",
      "Grados: [ 744.84513367 -229.18311805  114.59155903 1031.32403124  401.07045659]\n"
     ]
    }
   ],
   "source": [
    "# Seno\n",
    "print(\"Seno:\",np.sin(arr_1))\n",
    "\n",
    "# Tangente\n",
    "print(\"Tangente:\",np.tan(arr_1))\n",
    "\n",
    "# Grados a radianes\n",
    "print(\"Radianes:\",np.deg2rad(arr_1))\n",
    "\n",
    "# Radianes a Grados\n",
    "print(\"Grados:\",np.rad2deg(arr_2))\n"
   ]
  },
  {
   "cell_type": "markdown",
   "metadata": {
    "colab_type": "text",
    "id": "acbdAyqxHXyj"
   },
   "source": [
    "**Comparativas**"
   ]
  },
  {
   "cell_type": "code",
   "execution_count": 3,
   "metadata": {
    "colab": {},
    "colab_type": "code",
    "id": "MbhuQUmAHafE"
   },
   "outputs": [
    {
     "name": "stdout",
     "output_type": "stream",
     "text": [
      "[0 1 2 3 4]\n",
      "[13 -4  2 18  7] \n",
      "\n",
      "Máximo: [13  1  2 18  7]\n",
      "Igual: [False False  True False False]\n",
      "Mayor: [False  True False False False]\n"
     ]
    }
   ],
   "source": [
    "print(arr_1)\n",
    "print(arr_2,\"\\n\")\n",
    "\n",
    "# Máximo\n",
    "print(\"Máximo:\",np.maximum(arr_1, arr_2))\n",
    "\n",
    "# Igual\n",
    "print(\"Igual:\",np.equal(arr_1, arr_2))\n",
    "\n",
    "# Mayor\n",
    "print(\"Mayor:\",np.greater(arr_1, arr_2))"
   ]
  },
  {
   "cell_type": "markdown",
   "metadata": {
    "colab_type": "text",
    "id": "7fZ5yonyaRir"
   },
   "source": [
    "**Flotantes**"
   ]
  },
  {
   "cell_type": "code",
   "execution_count": 4,
   "metadata": {
    "colab": {
     "base_uri": "https://localhost:8080/",
     "height": 69
    },
    "colab_type": "code",
    "id": "pPWmQrk-aRzB",
    "outputId": "c7f9a24f-2e9d-4fe4-8cf8-29bf910ad187"
   },
   "outputs": [
    {
     "name": "stdout",
     "output_type": "stream",
     "text": [
      "Valor absoluto: [3.14 2.57 6.4  0.47 5.5 ]\n",
      "Techo: [ 4.  3. -6.  1.  6.]\n",
      "Piso: [ 3.  2. -7.  0.  5.]\n"
     ]
    }
   ],
   "source": [
    "arr_3 = np.array([3.14, 2.57, -6.4, 0.47, 5.5])\n",
    "\n",
    "# Valor absoluto\n",
    "print(\"Valor absoluto:\",np.fabs(arr_3))\n",
    "\n",
    "# Techo (redondeo entero siempre al alza)\n",
    "print(\"Techo:\",np.ceil(arr_3))\n",
    "\n",
    "# Suelo (redondeo entero siempre a la baja)\n",
    "print(\"Piso:\",np.floor(arr_3))"
   ]
  },
  {
   "cell_type": "markdown",
   "metadata": {
    "colab_type": "text",
    "id": "VwLYF2TMpSD6"
   },
   "source": [
    "\n",
    "\n",
    "---\n",
    "### FUNCIONES ALGEBRAICAS\n",
    "\n",
    "\n",
    "---\n",
    "\n",
    "\n"
   ]
  },
  {
   "cell_type": "markdown",
   "metadata": {
    "colab_type": "text",
    "id": "lvOchFV_YJqt"
   },
   "source": [
    "**Suma**"
   ]
  },
  {
   "cell_type": "code",
   "execution_count": 5,
   "metadata": {
    "colab": {},
    "colab_type": "code",
    "id": "TxYUvfelYKC_"
   },
   "outputs": [
    {
     "name": "stdout",
     "output_type": "stream",
     "text": [
      "a=\n",
      " [[2 3]\n",
      " [1 4]]\n",
      "b=\n",
      " [[7 8]\n",
      " [6 9]]\n",
      "c=\n",
      " [[ 9 11]\n",
      " [ 7 13]]\n"
     ]
    }
   ],
   "source": [
    "a = np.array([[2, 3], [1, 4]])\n",
    "print(\"a=\\n\",a)\n",
    "\n",
    "#Con un escalar\n",
    "b=a+5\n",
    "print(\"b=\\n\",b)\n",
    "\n",
    "#Entre matrices\n",
    "c=a+b\n",
    "print(\"c=\\n\",c)"
   ]
  },
  {
   "cell_type": "markdown",
   "metadata": {
    "colab_type": "text",
    "id": "6GReFwVLdNQ8"
   },
   "source": [
    "**Producto matricial y producto elemento a elemento**"
   ]
  },
  {
   "cell_type": "code",
   "execution_count": 6,
   "metadata": {
    "colab": {
     "base_uri": "https://localhost:8080/",
     "height": 381
    },
    "colab_type": "code",
    "id": "gMR4Od41dUvw",
    "outputId": "4dcb17de-3df7-49dc-fe58-0db9722b93f0"
   },
   "outputs": [
    {
     "name": "stdout",
     "output_type": "stream",
     "text": [
      "a=\n",
      " [[3 2]\n",
      " [8 4]]\n",
      "v= [3 2 4]\n",
      "\n",
      "Producto matricial\n",
      "b=\n",
      " [[25 14]\n",
      " [56 32]]\n",
      "g= 29\n",
      "\n",
      "Producto elemento a elemento\n",
      "c=\n",
      " [[250 140]\n",
      " [560 320]]\n",
      "d=\n",
      " [[ 9  4]\n",
      " [64 16]] \n",
      "e=\n",
      " [[ 9  4]\n",
      " [64 16]]\n"
     ]
    }
   ],
   "source": [
    "a = np.array([[3, 2], [8, 4]])\n",
    "v = np.array([3, 2, 4])\n",
    "print(\"a=\\n\",a)\n",
    "print(\"v=\",v)\n",
    "\n",
    "print(\"\\nProducto matricial\")\n",
    "b=np.dot(a,a)\n",
    "print(\"b=\\n\",b)\n",
    "g=np.dot(v,v)\n",
    "print(\"g=\",g)\n",
    "\n",
    "print(\"\\nProducto elemento a elemento\")\n",
    "c=b*10 #Por un escalar\n",
    "print(\"c=\\n\",c)\n",
    "d=a*a #Entre matrices (alternativa 1)\n",
    "e=np.multiply(a, a) #Entre matrices (alternativa 2)\n",
    "print(\"d=\\n\",d,\"\\ne=\\n\",e)"
   ]
  },
  {
   "cell_type": "markdown",
   "metadata": {
    "colab_type": "text",
    "id": "hPOa-BBbibL2"
   },
   "source": [
    "**Producto vectorial**"
   ]
  },
  {
   "cell_type": "markdown",
   "metadata": {
    "colab_type": "text",
    "id": "WdDUL7i0m6TJ"
   },
   "source": [
    "![image.png](data:image/png;base64,iVBORw0KGgoAAAANSUhEUgAAAgEAAAAYCAYAAABjoC4bAAAO+klEQVR4Ae3ci7Us3RAH8CYCRIAIkIBHAh4JeCSALwFEgAg8EkAEiAARIAIyYP2YP3Xr27unu8/MnDn3dq3Va3fvR+2qfz12dc+5d1lOOhE4ETgROBE4ETgROBE4ETgROBE4ETgROBE4ETgROBF4uwh8Z1mWb7xd8d8byX+8LAtbPCN9almWPzyjYB+oTJ+92INdnpV+uywLOU96DgTY4pfPIcopxTMh4NARrCe9PgKfuCT2L05E+dmyLH96pULhz8uyfGEi19n9Ogh8a1mWX61s/cNlWX6/LMt3V+bca8hh8817MT/5HkaAT4wKAecAX1Hoa+Wikz4ABLxF/G1Zlmd+m/gAzPCOip9fluWf7/T890Fh8K/L5UB+JP3kymHzSFnOvf6PgEStCGCfTsbiL9pHkqLjfLF4JOLb98qLRi/QvnKxWXzmLAK2Y/qmZ0ogP3/TGryfwqvGv9dUU6gpDgSpLwJ7yU8NR+jTy7L8Y1mWzx1ZfK65OwJfuhTyo6StWOQvR4pGB/nRT/leLGZfs+4OyLnBVQTklr8OZn21FI4jfxosObveMgKSuwRxBuvzWVGVPgpShYBAPUIKiyOB7fPh+bcARxB/3BqH/OiTP3/xhneEfF04spYcioCTnhcBecALRc8lu4sAvw9yki9fWvcqx9qXA0ar3/Wo3xUTANnXM4qMvf8y/LHGfEkw6/sETv+D3tmegZv9KgZ4VvxmezR2N3l00HCE2cFwSzvFD6rgt+Rf+e69h/lIvr18zPe23G14RE98FGj17bvG0BF5jxYBf5x8bqbvM2J3xG5b17Blt+/WtaN51b4ZP+Ivvub1vw2o/iLn7KWjRYCfAUa/OWf/I76btaO285Ovb2mj0Z5b+24ZH/bs/vISXdmpfwUeFQHdj97BVlKRqOrFcepz3iDq3PRtBfLovKoQmTyjLmP6L8PDBhDkfgeAS+D14OsMHLIVE/fBQHDWsS2ydP5Hn+EQOToPDuKTsyKh6uyT8mxN5+HZWvMlBW+24eWZ3pz4NUnCpSsZ+yd2b1fXirsqO52CWRK5P7ah596/+Ocz3qbq2x0Z4yt7bBAZrZkVfJnT2/hu//3QPL5L544dG/v5YI/OFbv4BOyPYNd1uNUz28a+kRFv/6qGvntpxC86x3+28szn3Wrf6i9wrGNb+B4pAuzBb63tRCcyuX7TBvfGmuWVHyxDctboK1rGH9WS71a5ZcaLrv5Q+AixUf+ZqJ5H8ZfuRx87oxyOSUxfu0hCYH0CI0kfw7+3pDYSXEDFUUatt5J6jZyt8s0nb/JU4auytb+u7fdxuugk8K4VAOFBf7IGF3KFJEB8Anr6exuHGuGir+LiviaqzsuzNfbuRE74wKXjJsC36owvXviwK174ohyOW7G/LLt5AwNEpxoQI90vU4cNfejKN+iZ39/5jEA1tof4Atn6OskO/8i9h6c113ys88sXiditjkeG3zV5FAxk7G9odW29V+j4ySHYpfBKHukY1LWPumdfciWfkDeUuMzzlpbOLjFa4yJxUou/LfzkXny6fWue62PX+MJ9ZPe1dfYgxyiu4cTGKaTCJ2fIqNDMnFHL//CTw+rPD/Yhw2tT5JNb5IDQ3txiXXjRteYp95V39tjSfjTwmcgWX+Lvioy/XHx16kMEsSiHAwf27MofN2FO2Hr4zQS1Ub/M7X1TgQpjcyJLdcwaHLW/LB3e5ouAhBB9hxMHnXSHAXmS2PQplrbKMMJg1jcQ4Z0uhULkqAOpqn0qIm9wzoGwJ0GlyOiBbz9+0z9vVTmu3c/07v0zPg4Zyd18elZ7woWdovuMR/od+mwZ38c7BIO9Cc5agd8/10UuY2vUMfBszScHcbTGh1/Cofun+HFgxX+rnN1v1vgb4xuSebCrxSvs+t7X+PXxERazvr42z4kJ+Qwe8Vt8ajxn/rU2/BQT1tM/xE57dY6dIld4pd8eZJ3RCA++Zv1obI2Pvbr8bCpn4uVlsMZaMOBLW0l8pRATu8kz1vPNa/FxbZ+RzqO+GZ+aW/qLU2IYvy2EV3LuLXUdFY7VX5x1zia2qv45lDmBwfgMKbk7YDznUwVG1fBDRnfoBDQ5umMeLQKI6M2HMa4CM9BHgiQLcMnGIV7qsINtNnXZ1/4jIhvnrcGVJN0TzWh97cOrH7LGX6K3BNC/fMyeHfRrlDfXelCT7Yh8fIP/V/JmsifBZe1IhiSQNdkcziMs2GDUnwMp+9Y2SWEmf3yivvXTHw57ybqOHT1ne2/hL0ZHOo/61jDNXtZVGYNP9Z3M3dKKMf5RiRxiZg9FDm2l9Ms5M54OmREeZKNrH6s5oe7lXm7oubbOGb31079iWudfu0/sVr3dz/LaNX7GFStd59nztdwS/Kt/sO8RfaNrjbWX6BrZql+kjw1z+T8DrpIglWAs+vWl/czlENHnP7TQVuFnTFWMBNl6XeNJwSiDZ6gqW/szPmtTzNiXMfcWAgkSMkmgAi1V3mzP9G/FJPOybtaSfxYs9IuMWU93dq5Ok7G1NljXQMC/vj2urb/3WNcrPjPDZiaPOIBZXwfnvUQG6/oBgbc9jvC0Zq/t4gezGIEdHw7fGQbX9E9c5O3OfLHV9b/G557j0a3KGHsY20vRucY/nY8UUIkxB3ql9POZ2KiOr93TzcvSHrKHvWb+0vEyX045mgsSu1VGvPjtMxBZas4MPkf0VXzhVekluuZcrvziL/bh51r23CQvY5jsSqUYg3vr3Vr5cDrrtl41gKoyuQ/o5MrfLBirXwK2Ojq96BniaBLr3kIAn2BVE2j4ztqtmGRe/aw64inBzhIOXMkoUYXImvn5zTt/KOjtE0lC/c2SPHixRQiOlTcb8BNV59fLb+qZf89WlV8P1fiGgHCl2oenL1v+6IiM8fPIlgDShuAYH4WNNTUW4NcTt7WwIhPsKgXLKm8dX7u3ptpgbW7GEj9Vp4xpYRef8JzftM1X9FW/gBv8/GuY7iPXsMPbGxq8+G3a8K8y3et+JCNMY8/4g3xAPs/fL7L2eBzxY1/9Ib5RccN3RKNPu+Zljx5/Ix69jyxbc2PWxl9qwZ8xLbyq79KPbGJEPk2ssWtsrI+/dJ8JPz5YqfK3xnP8xH4jPnX9Le+7vskt8GEbuvGLyJmzhO49L+BVdTW3FsnRjd/96IJfxaLrlVxS++MvWUdO9nHNbPq/9XljMDlOnEo3Rv7f5AffpJpJBQ88f50a5QDWA7SLCNhaAGT8SCEQoO0fmcLvka29q1PVvSNj3nDivJzTGKfV54KNBI04Vg+yFBRxcJj1OYLUOH597ML6bo1DLE5vE4HFNuRh8/gG2dy76Bx9Ilj8PQnHeA1S2OnDO8Q3wz99WsnUWAoIfXD7xWW9w5Q8e4iOR4qAta9VeNYiINiRy310IyvdJSr9Hbvkj4pdtYn+6Ktf8sQHpo+iyJj8Rhe25K9sTx4U/zUe+6a9TPlPkxiLXnhULE2qcTHCLfzEMjt1yh7k3Gv7I0WA/dnH2hGJp2pXcUQ2WHnb1LpSDBiHJzu77wST/ORszL6xD1xd1q3lp87zls/Xcgtda15IvLClsUpydcWu6mpe8KGzwtR6fjcjeNf8z//4EXvANDiymT4vaQoBcTAlAnZHZCSC5DCZLr7jAMHJRRFVtfta4ehfSybAXDusgRKn3aoGrF4blyS1UXKQpDmSYumnFwfjZPm/pTlrHLYmOGtGFSNn41gCGp9+CMBNX4J1K463mAcHOtCTv5LBswM3gVX3MT6S3xz68S/+hFcwMmZNDi/P/KrHS/aJbQRmiM/w1XqNbJf5vbV+z/yslwRmnwPJSYcRdjkMwyf2nWFnj4pdnVfv6V9xCf9HtLDgx9FXIvYM2yTtyFptPZMNPzkp/pK1db6+WcxkHl/Dq9NrFAEw6cVM5BrFmpwh1uIvFQNjOYzCo7aJIetdtWgOn5qf2GmUnyrPW96P9OXjNbeQk6/QFckZZO6UWMvaqqu50ZcvzeI1POUBObnOY7eaW9yb1/OO5zdLPQF6zvVmlXqh4BxyLSgk23qQeY6z2TpVp3v9HKeOV/EUgrNi0B61AKh7Vh73vKdLpS4DvWoB0Mezlk/NDinJOgWjYB0VGfgI8CSF8NXGh9PWsWv3gvfIOrI4qNZoC3b1IJthxz9m2Nm/+pvnGZ81WV861mOCzCM56BufHo1HjjWd+ZzDMTE141PjmH/FHq9RBOTgi36jth/sKaDqXDrLJ6GZ7sbtOfLt7i9r+Sn73KO9pm/1FT4jT8xopmvmyxv5ojbDLNjiVSkYanNvPPdp65rz/o0jIMHPDqItqnG2VIbuRwfXNT4c0tuU39n9XqzSHSWFa3zuPS4w/cZLRm0S/J59YZUE7b5X83gJtJrU9/Bfm5vEsDZnNEYe/6wrco/mXOvjFxW7FELX1mWcj7ociPE3+M+SXNY9uuXLPpvCyttcMFPw7SW8fHn7dvG5kQ396yz+giR1B51LDOWL5+jN8rJk2pCdDEeIjUaybuHFrtbzkdiaLMFyC4/MsSY8juan8LpnS8boJ8+sfXkeycHWKXC04oLtZn6Hf3AZ8Tv7PjAEJOheEW6FgKPV5JxPelvXm8dROa21ktneA2LPXkfn5u1KS8YjetpbIhLkdE6wdpkUBs8WoA6TozLRVZIKdrPE1HGoz9bC3AHB3/DQ94zEvmSV1CPzkcPUWnFBZzE6wk2BZiwHSC0CFNWKa372aKzIQa4jJEZiYzrT33WEbpGfjuy7d03yApuz196XIHomr8AKbq6R3/ny5MvesxXQezE7598QAZ83JfiRw1zbJonKPIfj2qfca7ze93GBnWQm6EeHKvzgeMQW98bvowNvKPeW6UPn7zddv+VW8ulZXPpd3thrxaRitstW5XzEfc9PR1927ilrCmR71C8X99pTsfDoovBeupx8b4gAR9xbfaokHVja/kc5NxTtvWGlMpeU4KwAGOGtOHjmCt1nxGcsUN4bJ9mhCDs8ezL3Bem1/OWt5CcvBr58kNcBPcoLO9xidao95JiTTgRuhoDKlRM/88F1M2VfyEgyhNUZhC8E8lx+IrARgbeQn5IXfDl5rYJpI5zntBOBE4ETgROBE4ETgROBE4ETgROBE4ETgROBE4EPE4F/A9227adl6Os9AAAAAElFTkSuQmCC)"
   ]
  },
  {
   "cell_type": "code",
   "execution_count": 7,
   "metadata": {
    "colab": {
     "base_uri": "https://localhost:8080/",
     "height": 69
    },
    "colab_type": "code",
    "id": "EWBd4kTLsnBR",
    "outputId": "c675b770-e797-4c96-e38f-14f4fef65068"
   },
   "outputs": [
    {
     "name": "stdout",
     "output_type": "stream",
     "text": [
      "a= [8 1 4] \n",
      "b= [3 7 4]\n",
      "c= [-24 -20  53]\n"
     ]
    }
   ],
   "source": [
    "a = np.array([8, 1, 4])\n",
    "b= np.array([3, 7, 4])\n",
    "print(\"a=\",a,\"\\nb=\",b)\n",
    "\n",
    "# Producto vectorial \n",
    "c= np.cross(a, b)\n",
    "print(\"c=\",c)"
   ]
  },
  {
   "cell_type": "markdown",
   "metadata": {
    "colab_type": "text",
    "id": "r7SYX3jnsvio"
   },
   "source": [
    "**Producto exterior**"
   ]
  },
  {
   "cell_type": "markdown",
   "metadata": {
    "colab_type": "text",
    "id": "WaWA5G6Gs2uc"
   },
   "source": [
    "![image.png](data:image/png;base64,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)\n",
    "\n",
    "![image.png](data:image/png;base64,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)"
   ]
  },
  {
   "cell_type": "code",
   "execution_count": 8,
   "metadata": {
    "colab": {
     "base_uri": "https://localhost:8080/",
     "height": 121
    },
    "colab_type": "code",
    "id": "ukcl2L0Mi8HE",
    "outputId": "03c74a5e-e5c6-4951-e16f-926d33cbddec"
   },
   "outputs": [
    {
     "name": "stdout",
     "output_type": "stream",
     "text": [
      "a= [8 1 4] \n",
      "b= [3 7 4]\n",
      "d=\n",
      " [[24 56 32]\n",
      " [ 3  7  4]\n",
      " [12 28 16]]\n"
     ]
    }
   ],
   "source": [
    "a = np.array([8, 1, 4])\n",
    "b= np.array([3, 7, 4])\n",
    "print(\"a=\",a,\"\\nb=\",b)\n",
    "\n",
    "# Producto exterior\n",
    "d=np.outer(a, b)\n",
    "print(\"d=\\n\",d)"
   ]
  },
  {
   "cell_type": "markdown",
   "metadata": {
    "colab_type": "text",
    "id": "I8luA_IjzmSL"
   },
   "source": [
    "**Operaciones a matrices**"
   ]
  },
  {
   "cell_type": "code",
   "execution_count": 9,
   "metadata": {
    "colab": {},
    "colab_type": "code",
    "id": "uP2ECopzzuFY"
   },
   "outputs": [
    {
     "name": "stdout",
     "output_type": "stream",
     "text": [
      "g=\n",
      " [[ 3  4 -9]\n",
      " [ 7  4 -5]\n",
      " [ 1  3  9]]\n",
      "b= [[-9]\n",
      " [-5]\n",
      " [ 9]] \n",
      "\n",
      "g*b=\n",
      " [[-128]\n",
      " [-128]\n",
      " [  57]]\n",
      "Inversa de g=\n",
      " [[-0.1875      0.23161765 -0.05882353]\n",
      " [ 0.25       -0.13235294  0.17647059]\n",
      " [-0.0625      0.01838235  0.05882353]]\n"
     ]
    }
   ],
   "source": [
    "g=np.matrix( [[3,4,-9], [7,4,-5] ,[1,3,9]] )\n",
    "print(\"g=\\n\",g)\n",
    "b=np.matrix( [[-9], [-5] ,[9]] )\n",
    "print(\"b=\",b,\"\\n\")\n",
    "\n",
    "# Producto (Si g y b fueran arreglos esto sería un producto elemento a elemento)\n",
    "c=g*b\n",
    "print(\"g*b=\\n\",c)\n",
    "# Inversa (Si g fuera un arreglo esto no sería permitido)\n",
    "i=g.I\n",
    "print(\"Inversa de g=\\n\",i)\n",
    "\n",
    "#Sin embargo se debe aclarar que python ya no recomienda el uso de esta clase y posiblemente en futuras versiones ya no vendrá"
   ]
  },
  {
   "cell_type": "code",
   "execution_count": 10,
   "metadata": {
    "colab": {},
    "colab_type": "code",
    "id": "XVocJKbqMZ-E"
   },
   "outputs": [
    {
     "name": "stdout",
     "output_type": "stream",
     "text": [
      "g=\n",
      " [[ 3  4 -9]\n",
      " [ 7  4 -5]\n",
      " [ 1  3  9]]\n",
      "b= [[-9]\n",
      " [-5]\n",
      " [ 9]] \n",
      "\n",
      "Traspuesta de b=\n",
      " [[-9 -5  9]]\n",
      "Inversa de g=\n",
      " [[-0.1875      0.23161765 -0.05882353]\n",
      " [ 0.25       -0.13235294  0.17647059]\n",
      " [-0.0625      0.01838235  0.05882353]]\n",
      "Determinante de g= -271.9999999999999\n",
      "Traza de g= 16\n"
     ]
    }
   ],
   "source": [
    "g=np.array( [[3,4,-9], [7,4,-5] ,[1,3,9]] )\n",
    "print(\"g=\\n\",g)\n",
    "b=np.array( [[-9], [-5] ,[9]] )\n",
    "print(\"b=\",b,\"\\n\")\n",
    "\n",
    "bt=b.T #traspuestas\n",
    "print(\"Traspuesta de b=\\n\",bt)\n",
    "gi=np.linalg.inv(g) #inversa\n",
    "print(\"Inversa de g=\\n\",gi)\n",
    "detg=np.linalg.det(g)\n",
    "print(\"Determinante de g=\",detg)\n",
    "trag=np.trace(g)\n",
    "print(\"Traza de g=\",trag)\n"
   ]
  }
 ],
 "metadata": {
  "colab": {
   "name": "Numpy: Funciones matemáticas.ipynb",
   "provenance": []
  },
  "kernelspec": {
   "display_name": "Python 3",
   "language": "python",
   "name": "python3"
  },
  "language_info": {
   "codemirror_mode": {
    "name": "ipython",
    "version": 3
   },
   "file_extension": ".py",
   "mimetype": "text/x-python",
   "name": "python",
   "nbconvert_exporter": "python",
   "pygments_lexer": "ipython3",
   "version": "3.7.6"
  }
 },
 "nbformat": 4,
 "nbformat_minor": 1
}
