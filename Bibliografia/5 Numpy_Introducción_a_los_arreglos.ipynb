{
  "nbformat": 4,
  "nbformat_minor": 0,
  "metadata": {
    "colab": {
      "name": "Numpy: Introducción a los arreglos.ipynb",
      "provenance": [],
      "collapsed_sections": []
    },
    "kernelspec": {
      "name": "python3",
      "display_name": "Python 3"
    }
  },
  "cells": [
    {
      "cell_type": "markdown",
      "metadata": {
        "id": "gEV7BzHblPik",
        "colab_type": "text"
      },
      "source": [
        "#NUMPY"
      ]
    },
    {
      "cell_type": "markdown",
      "metadata": {
        "id": "Xo0P8hW4lzvT",
        "colab_type": "text"
      },
      "source": [
        "#INTRODUCCIÓN A LOS ARREGLOS"
      ]
    },
    {
      "cell_type": "markdown",
      "metadata": {
        "id": "JMEyhf7unREo",
        "colab_type": "text"
      },
      "source": [
        "\n",
        "\n",
        "---\n",
        "\n",
        "\n",
        "###CREANDO ARREGLOS\n",
        "\n",
        "\n",
        "---\n",
        "\n"
      ]
    },
    {
      "cell_type": "markdown",
      "metadata": {
        "id": "m_rA1u0HLKCA",
        "colab_type": "text"
      },
      "source": [
        "Importando Numpy y asignándole un alias"
      ]
    },
    {
      "cell_type": "code",
      "metadata": {
        "id": "PjbfHQ8RLN_H",
        "colab_type": "code",
        "colab": {}
      },
      "source": [
        "import numpy as np"
      ],
      "execution_count": 0,
      "outputs": []
    },
    {
      "cell_type": "markdown",
      "metadata": {
        "id": "wc9_2zivKzFx",
        "colab_type": "text"
      },
      "source": [
        "Una sola dimensión"
      ]
    },
    {
      "cell_type": "code",
      "metadata": {
        "id": "ebPftXVyK0n-",
        "colab_type": "code",
        "colab": {}
      },
      "source": [
        "# Arreglo de integers\n",
        "ai = np.array([4,7,9])\n",
        "print(ai)\n",
        "print(type(ai[2]))"
      ],
      "execution_count": 0,
      "outputs": []
    },
    {
      "cell_type": "code",
      "metadata": {
        "id": "sxLYNdNMNAfC",
        "colab_type": "code",
        "colab": {}
      },
      "source": [
        "# Arreglo de floats\n",
        "af = np.array([4,7.3,9.1])\n",
        "print(af)\n",
        "print(type(af[2]))\n",
        "print(type(af[0]))"
      ],
      "execution_count": 0,
      "outputs": []
    },
    {
      "cell_type": "code",
      "metadata": {
        "id": "0oiHOCJQN60w",
        "colab_type": "code",
        "colab": {}
      },
      "source": [
        "# Arreglo de strings\n",
        "am = np.array([4,7.3,'hola'])\n",
        "print(am)\n",
        "print(type(am[0]))"
      ],
      "execution_count": 0,
      "outputs": []
    },
    {
      "cell_type": "code",
      "metadata": {
        "id": "oE5gRMq0O8R4",
        "colab_type": "code",
        "colab": {}
      },
      "source": [
        "# Definir el tipo de dato\n",
        "a = np.array([33,40,5],dtype=complex)\n",
        "print(a)\n",
        "a = np.array([33,40,5],dtype=float)\n",
        "print(a)\n",
        "a = np.array([4.5,7.32,9.01],dtype = int)\n",
        "print(a)\n"
      ],
      "execution_count": 0,
      "outputs": []
    },
    {
      "cell_type": "markdown",
      "metadata": {
        "id": "Lm3wLsy1OCxY",
        "colab_type": "text"
      },
      "source": [
        "Varias dimensiones"
      ]
    },
    {
      "cell_type": "code",
      "metadata": {
        "id": "PC3OAsEyOdG-",
        "colab_type": "code",
        "outputId": "051745f7-cea9-4277-d2c6-36ef86d6b236",
        "colab": {
          "base_uri": "https://localhost:8080/",
          "height": 69
        }
      },
      "source": [
        "# Dos dimensiones\n",
        "m = np.array([[4,7,9],[3,5,8],[1,6,2]]) #[e1,e2,e3]\n",
        "print(m)"
      ],
      "execution_count": 0,
      "outputs": [
        {
          "output_type": "stream",
          "text": [
            "[[4 7 9]\n",
            " [3 5 8]\n",
            " [1 6 2]]\n"
          ],
          "name": "stdout"
        }
      ]
    },
    {
      "cell_type": "code",
      "metadata": {
        "id": "LcmNfsggQ2-j",
        "colab_type": "code",
        "colab": {}
      },
      "source": [
        "# Tres dimensiones\n",
        "m3 = np.array([[[3,6,9],[1,1,2],[1,2,2]],[[3,3,3],[5,5,8],[8,5,8]],[[6,6,2],[2,2,2],[1,1,1]]])\n",
        "print(m3)"
      ],
      "execution_count": 0,
      "outputs": []
    },
    {
      "cell_type": "markdown",
      "metadata": {
        "id": "Q-YxkcS6R8c5",
        "colab_type": "text"
      },
      "source": [
        "\n",
        "\n",
        "---\n",
        "\n",
        "###CREANDO ARREGLOS E INGRESANDO DATOS AUTOMÁTICAMENTE\n",
        "\n",
        "\n",
        "---\n",
        "\n"
      ]
    },
    {
      "cell_type": "markdown",
      "metadata": {
        "id": "u-fmBVaeSFMO",
        "colab_type": "text"
      },
      "source": [
        "Zeros"
      ]
    },
    {
      "cell_type": "code",
      "metadata": {
        "id": "kQ848yrwSeAE",
        "colab_type": "code",
        "colab": {}
      },
      "source": [
        "c = np.zeros((5,5,3))\n",
        "print(c)\n",
        "c = np.zeros((5,5), dtype=int)\n",
        "print(c)"
      ],
      "execution_count": 0,
      "outputs": []
    },
    {
      "cell_type": "markdown",
      "metadata": {
        "id": "u5kOQkARSvY1",
        "colab_type": "text"
      },
      "source": [
        "Unos"
      ]
    },
    {
      "cell_type": "code",
      "metadata": {
        "id": "hSrYjktzSzqi",
        "colab_type": "code",
        "colab": {}
      },
      "source": [
        "d = np.ones((5,5))\n",
        "print(d)"
      ],
      "execution_count": 0,
      "outputs": []
    },
    {
      "cell_type": "markdown",
      "metadata": {
        "id": "9AACklTXS7Xm",
        "colab_type": "text"
      },
      "source": [
        "Vacio"
      ]
    },
    {
      "cell_type": "code",
      "metadata": {
        "id": "Ch1rw7mxUzxr",
        "colab_type": "code",
        "colab": {}
      },
      "source": [
        "g = np.empty((3,3))\n",
        "print(g)\n",
        "h = np.empty((2,2))\n",
        "print(h)"
      ],
      "execution_count": 0,
      "outputs": []
    },
    {
      "cell_type": "markdown",
      "metadata": {
        "id": "GZIdvvK0XV9w",
        "colab_type": "text"
      },
      "source": [
        "Llenar con el mismo número"
      ]
    },
    {
      "cell_type": "code",
      "metadata": {
        "id": "2VAUN6EPXW9p",
        "colab_type": "code",
        "colab": {}
      },
      "source": [
        "b = np.full((3,3),5)\n",
        "print(b)"
      ],
      "execution_count": 0,
      "outputs": []
    },
    {
      "cell_type": "markdown",
      "metadata": {
        "id": "92YHRi6YXd03",
        "colab_type": "text"
      },
      "source": [
        "Llenar con números aleatorios"
      ]
    },
    {
      "cell_type": "code",
      "metadata": {
        "id": "UjnKjSRnXeRK",
        "colab_type": "code",
        "colab": {}
      },
      "source": [
        "b = np.random.random((3,3))\n",
        "print(b)"
      ],
      "execution_count": 0,
      "outputs": []
    },
    {
      "cell_type": "markdown",
      "metadata": {
        "id": "66oYOp9pXlQa",
        "colab_type": "text"
      },
      "source": [
        "Matriz idéntica"
      ]
    },
    {
      "cell_type": "code",
      "metadata": {
        "id": "PaVIvuseXlx8",
        "colab_type": "code",
        "colab": {}
      },
      "source": [
        "m = np.eye(5,5)\n",
        "print(m)\n",
        "m = np.eye(5,3)\n",
        "print(m)\n",
        "m = np.eye(3,5)\n",
        "print(m)"
      ],
      "execution_count": 0,
      "outputs": []
    },
    {
      "cell_type": "markdown",
      "metadata": {
        "id": "DECiLGXwZkWD",
        "colab_type": "text"
      },
      "source": [
        "Rangos"
      ]
    },
    {
      "cell_type": "code",
      "metadata": {
        "id": "JM0SXke1ZoIA",
        "colab_type": "code",
        "colab": {}
      },
      "source": [
        "n = np.arange(0,20,2)\n",
        "print(n)\n",
        "n = np.arange(0,5,0.3)\n",
        "print(n)\n"
      ],
      "execution_count": 0,
      "outputs": []
    },
    {
      "cell_type": "markdown",
      "metadata": {
        "id": "kM0O_S6aZ1jq",
        "colab_type": "text"
      },
      "source": [
        "Espacios lineales"
      ]
    },
    {
      "cell_type": "code",
      "metadata": {
        "id": "_h3gPF-XZ53n",
        "colab_type": "code",
        "colab": {}
      },
      "source": [
        "n = np.linspace(0,4,10)\n",
        "print(n)"
      ],
      "execution_count": 0,
      "outputs": []
    },
    {
      "cell_type": "code",
      "metadata": {
        "id": "wUpqNph_acqt",
        "colab_type": "code",
        "colab": {}
      },
      "source": [
        "import math\n",
        "x = np.linspace( 0, 2*math.pi, 20 )\n",
        "print(x)\n",
        "f = np.sin(x)\n",
        "print(f)"
      ],
      "execution_count": 0,
      "outputs": []
    },
    {
      "cell_type": "markdown",
      "metadata": {
        "id": "Ix-F_FUObw0t",
        "colab_type": "text"
      },
      "source": [
        "\n",
        "\n",
        "---\n",
        "###Reformando y redimensionando\n",
        "\n",
        "\n",
        "---\n",
        "\n",
        "\n"
      ]
    },
    {
      "cell_type": "markdown",
      "metadata": {
        "id": "X8HeqXsdb3DJ",
        "colab_type": "text"
      },
      "source": [
        "Reformar"
      ]
    },
    {
      "cell_type": "code",
      "metadata": {
        "id": "0uTrt_Lwb8Ex",
        "colab_type": "code",
        "colab": {}
      },
      "source": [
        "n = np.arange(20)\n",
        "print(n)\n",
        "n = np.arange(20).reshape(5,4)\n",
        "print(n)\n",
        "n.reshape(10,2)"
      ],
      "execution_count": 0,
      "outputs": []
    },
    {
      "cell_type": "code",
      "metadata": {
        "id": "YrX4Ztv8c3ro",
        "colab_type": "code",
        "colab": {}
      },
      "source": [
        "n = np.arange(24)\n",
        "print(n)\n",
        "n = np.arange(24).reshape(2,4,3)\n",
        "print(n)"
      ],
      "execution_count": 0,
      "outputs": []
    },
    {
      "cell_type": "code",
      "metadata": {
        "id": "na_HEmGnc_Y4",
        "colab_type": "code",
        "colab": {}
      },
      "source": [
        "a = np.reshape(n,(12,2))\n",
        "print(a)\n",
        "a = n.reshape(12,2)\n",
        "print(a)\n",
        "print(n)"
      ],
      "execution_count": 0,
      "outputs": []
    },
    {
      "cell_type": "markdown",
      "metadata": {
        "id": "w52_NR5pdEsU",
        "colab_type": "text"
      },
      "source": [
        "Redimensionar"
      ]
    },
    {
      "cell_type": "code",
      "metadata": {
        "id": "80YL-EqodGGT",
        "colab_type": "code",
        "colab": {}
      },
      "source": [
        "print(a)\n",
        "b = np.resize(a,(4))\n",
        "print(b)"
      ],
      "execution_count": 0,
      "outputs": []
    },
    {
      "cell_type": "code",
      "metadata": {
        "id": "SgdUqPyqddnc",
        "colab_type": "code",
        "outputId": "52fe2269-f702-4941-f89e-caa8f115fa20",
        "colab": {
          "base_uri": "https://localhost:8080/",
          "height": 69
        }
      },
      "source": [
        "print(b)\n",
        "c = np.resize(b,(2,3))\n",
        "print(c)"
      ],
      "execution_count": 0,
      "outputs": [
        {
          "output_type": "stream",
          "text": [
            "[0 1 2 3]\n",
            "[[0 1 2]\n",
            " [3 0 1]]\n"
          ],
          "name": "stdout"
        }
      ]
    },
    {
      "cell_type": "markdown",
      "metadata": {
        "id": "ePSEYbyVdvtH",
        "colab_type": "text"
      },
      "source": [
        "\n",
        "\n",
        "---\n",
        "\n",
        "###ATRIBUTOS DE LOS ARREGLOS\n",
        "\n",
        "\n",
        "---\n",
        "\n"
      ]
    },
    {
      "cell_type": "markdown",
      "metadata": {
        "id": "hvtHK-n1d0XB",
        "colab_type": "text"
      },
      "source": [
        ""
      ]
    },
    {
      "cell_type": "code",
      "metadata": {
        "id": "sSfSJKX9eo0e",
        "colab_type": "code",
        "outputId": "229b0877-5778-4954-e07b-10a1627d8534",
        "colab": {
          "base_uri": "https://localhost:8080/",
          "height": 295
        }
      },
      "source": [
        "n = np.arange(32).reshape(2,4,4)\n",
        "print(n)\n",
        "print('\\nDimensiones:',n.ndim)\n",
        "print('Forma:',n.shape)\n",
        "print('Tamaño',n.size)\n",
        "print('Tipo de dato:',n.dtype)\n",
        "print('Tamaño (bytes) de un elemento:',n.itemsize)\n",
        "print('Dirección en memoria:',n.data)"
      ],
      "execution_count": 0,
      "outputs": [
        {
          "output_type": "stream",
          "text": [
            "[[[ 0  1  2  3]\n",
            "  [ 4  5  6  7]\n",
            "  [ 8  9 10 11]\n",
            "  [12 13 14 15]]\n",
            "\n",
            " [[16 17 18 19]\n",
            "  [20 21 22 23]\n",
            "  [24 25 26 27]\n",
            "  [28 29 30 31]]]\n",
            "\n",
            "Dimensiones: 3\n",
            "Forma: (2, 4, 4)\n",
            "Tamaño 32\n",
            "Tipo de dato: int64\n",
            "Tamaño (bytes) de un elemento: 8\n",
            "Dirección en memoria: <memory at 0x7fa94b3777c8>\n"
          ],
          "name": "stdout"
        }
      ]
    },
    {
      "cell_type": "markdown",
      "metadata": {
        "id": "Sh1uPBfyQqTo",
        "colab_type": "text"
      },
      "source": [
        "\n",
        "\n",
        "---\n",
        "\n",
        "###MÉTODOS MATEMÁTICOS DE LOS ARREGLOS\n",
        "\n",
        "\n",
        "---\n",
        "\n"
      ]
    },
    {
      "cell_type": "code",
      "metadata": {
        "id": "b7PNQmPoQy21",
        "colab_type": "code",
        "colab": {}
      },
      "source": [
        "n = np.array([4,7.3,6.8,2,5])\n",
        "print(n)\n",
        "print(\"Redondeo:\",n.round())\n",
        "print(\"Suma:\",n.sum())\n",
        "print(\"Producto:\",n.prod())\n",
        "print(\"Suma acumulativa:\",n.cumsum())\n",
        "print(\"Media artimética:\",n.mean())\n",
        "print(\"Máximo:\",n.max())\n",
        "print(\"Mínimo:\",n.min())\n",
        "print(\"Ind máximo:\",n.argmax())\n",
        "print(\"Ind mínimo:\",n.argmin())\n"
      ],
      "execution_count": 0,
      "outputs": []
    }
  ]
}