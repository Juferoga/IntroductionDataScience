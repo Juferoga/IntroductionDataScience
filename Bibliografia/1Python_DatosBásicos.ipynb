{
  "nbformat": 4,
  "nbformat_minor": 0,
  "metadata": {
    "colab": {
      "name": "Python: DatosBásicos.ipynb",
      "provenance": []
    },
    "kernelspec": {
      "name": "python3",
      "display_name": "Python 3"
    }
  },
  "cells": [
    {
      "cell_type": "markdown",
      "metadata": {
        "id": "oCZ2UVJdIsrK",
        "colab_type": "text"
      },
      "source": [
        "\n",
        "\n",
        "---\n",
        "\n",
        "\n",
        "# PYTHON\n",
        "<div style=\"text-align: justify\">Python es un lenguaje de programación interpretado, de fácil aprendizaje, creado a principios de los años 90 por Guido van Rossum. El desarrollo de este lenguaje fue influenciado por Perl, Java y Ruby. Python es un lenguaje de propósito general, fácilmente extensible a dominios específicos; provee estructuras de datos eficientes de alto nivel y posee un tipado fuerte y dinámico. A continuación las principales características:</div>\n",
        "\n",
        "*   Propósito general\n",
        "*   Multiparadigma\n",
        "*   Tipado dinámico\n",
        "*   Fuertemente tipado\n",
        "*   Multiplataforma\n",
        "*   Libre\n",
        "*   Identado\n",
        "\n",
        "\n",
        "---\n",
        "\n",
        "\n",
        "\n"
      ]
    },
    {
      "cell_type": "markdown",
      "metadata": {
        "id": "K-AFrMrvKF66",
        "colab_type": "text"
      },
      "source": [
        "# DATOS BÁSICOS\n",
        "\n",
        "\n",
        "*   Integer\n",
        "*   Float\n",
        "*   Complex\n",
        "*   Bool\n",
        "*   String\n",
        "\n",
        "\n",
        "\n",
        "\n",
        "\n",
        "\n",
        "\n"
      ]
    },
    {
      "cell_type": "markdown",
      "metadata": {
        "id": "GHQeKdLhyZfQ",
        "colab_type": "text"
      },
      "source": [
        "\n",
        "\n",
        "---\n",
        "\n",
        "\n",
        "###INTEGER\n",
        "\n",
        "\n",
        "---\n",
        "\n",
        "\n",
        "\n",
        "Tipado dinámico Integer\n"
      ]
    },
    {
      "cell_type": "code",
      "metadata": {
        "id": "OdAn6iEAyyLh",
        "colab_type": "code",
        "outputId": "804787a4-e5a5-488c-ea74-ebaf9c572614",
        "colab": {
          "base_uri": "https://localhost:8080/",
          "height": 52
        }
      },
      "source": [
        "x=35\n",
        "print(x)\n",
        "print(type(x))\n"
      ],
      "execution_count": 0,
      "outputs": [
        {
          "output_type": "stream",
          "text": [
            "35\n",
            "<class 'int'>\n"
          ],
          "name": "stdout"
        }
      ]
    },
    {
      "cell_type": "markdown",
      "metadata": {
        "id": "upni56f71KfM",
        "colab_type": "text"
      },
      "source": [
        "\n",
        "\n",
        "---\n",
        "\n",
        "\n",
        "###FLOAT###\n",
        "\n",
        "\n",
        "---\n",
        "\n",
        "\n",
        "\n",
        "Tipado dinámico Float"
      ]
    },
    {
      "cell_type": "code",
      "metadata": {
        "id": "K7pIUaW81RgB",
        "colab_type": "code",
        "outputId": "757ab247-3af3-4be9-d6ec-7e39770a502a",
        "colab": {
          "base_uri": "https://localhost:8080/",
          "height": 52
        }
      },
      "source": [
        "y=x/4\n",
        "print(y)\n",
        "type(y)"
      ],
      "execution_count": 0,
      "outputs": [
        {
          "output_type": "stream",
          "text": [
            "8.75\n"
          ],
          "name": "stdout"
        },
        {
          "output_type": "execute_result",
          "data": {
            "text/plain": [
              "float"
            ]
          },
          "metadata": {
            "tags": []
          },
          "execution_count": 2
        }
      ]
    },
    {
      "cell_type": "markdown",
      "metadata": {
        "id": "JOCsMov6Kdh4",
        "colab_type": "text"
      },
      "source": [
        "Conversión Float -> Integer"
      ]
    },
    {
      "cell_type": "code",
      "metadata": {
        "id": "BoOvjgWwKxy5",
        "colab_type": "code",
        "outputId": "907302c7-a877-45c3-a959-8c3252f6cdd7",
        "colab": {
          "base_uri": "https://localhost:8080/",
          "height": 69
        }
      },
      "source": [
        "\n",
        "inty=int(y)\n",
        "print(inty)\n",
        "print(y)\n",
        "print(int(10.95))"
      ],
      "execution_count": 0,
      "outputs": [
        {
          "output_type": "stream",
          "text": [
            "8\n",
            "8.75\n",
            "10\n"
          ],
          "name": "stdout"
        }
      ]
    },
    {
      "cell_type": "markdown",
      "metadata": {
        "id": "0H3_3881LV4q",
        "colab_type": "text"
      },
      "source": [
        "\n",
        "\n",
        "---\n",
        "\n",
        "\n",
        "###COMPLEX###\n",
        "\n",
        "\n",
        "---\n",
        "\n",
        "\n",
        "\n",
        "Tipado dinámico Complex\n"
      ]
    },
    {
      "cell_type": "code",
      "metadata": {
        "id": "SWejupXQORlt",
        "colab_type": "code",
        "outputId": "d28fc3b7-9851-40af-96d3-1b42c23e5076",
        "colab": {
          "base_uri": "https://localhost:8080/",
          "height": 52
        }
      },
      "source": [
        "n = 5 + 3j\n",
        "print(n)\n",
        "type(n)"
      ],
      "execution_count": 0,
      "outputs": [
        {
          "output_type": "stream",
          "text": [
            "(5+3j)\n"
          ],
          "name": "stdout"
        },
        {
          "output_type": "execute_result",
          "data": {
            "text/plain": [
              "complex"
            ]
          },
          "metadata": {
            "tags": []
          },
          "execution_count": 4
        }
      ]
    },
    {
      "cell_type": "markdown",
      "metadata": {
        "id": "yymcgQFIOdx8",
        "colab_type": "text"
      },
      "source": [
        "Obtención parte Real e Imaginaria"
      ]
    },
    {
      "cell_type": "code",
      "metadata": {
        "id": "YfIbhx0_Ok3L",
        "colab_type": "code",
        "colab": {}
      },
      "source": [
        "print(n.real)\n",
        "print(n.imag)"
      ],
      "execution_count": 0,
      "outputs": []
    },
    {
      "cell_type": "markdown",
      "metadata": {
        "id": "afD2fgUfO_DV",
        "colab_type": "text"
      },
      "source": [
        "Obtención Magnitud"
      ]
    },
    {
      "cell_type": "code",
      "metadata": {
        "id": "FqoL9-TuPCtI",
        "colab_type": "code",
        "outputId": "4eaf5e68-d54f-49fd-fff0-b724a921da5a",
        "colab": {
          "base_uri": "https://localhost:8080/",
          "height": 35
        }
      },
      "source": [
        "an=abs(n)\n",
        "print(an)\n"
      ],
      "execution_count": 0,
      "outputs": [
        {
          "output_type": "stream",
          "text": [
            "5.830951894845301\n"
          ],
          "name": "stdout"
        }
      ]
    },
    {
      "cell_type": "markdown",
      "metadata": {
        "id": "3N9otal_PITh",
        "colab_type": "text"
      },
      "source": [
        "Conversión a Complex"
      ]
    },
    {
      "cell_type": "code",
      "metadata": {
        "id": "DDG59WsrPN6J",
        "colab_type": "code",
        "colab": {}
      },
      "source": [
        "m = complex (2,7)\n",
        "print(m)\n",
        "print(complex(x))\n",
        "print(complex(y))\n"
      ],
      "execution_count": 0,
      "outputs": []
    },
    {
      "cell_type": "markdown",
      "metadata": {
        "id": "SClB-A-bUj9_",
        "colab_type": "text"
      },
      "source": [
        "\n",
        "\n",
        "---\n",
        "\n",
        "\n",
        "###BOOL###\n",
        "\n",
        "\n",
        "---\n",
        "\n",
        "\n",
        "\n",
        "Tipado dinámico Bool\n"
      ]
    },
    {
      "cell_type": "code",
      "metadata": {
        "id": "KjhLb1zLUm-z",
        "colab_type": "code",
        "colab": {}
      },
      "source": [
        "p = True\n",
        "type(p)\n"
      ],
      "execution_count": 0,
      "outputs": []
    },
    {
      "cell_type": "markdown",
      "metadata": {
        "id": "uiKSOsFTUvAb",
        "colab_type": "text"
      },
      "source": [
        "Conversión a Bool"
      ]
    },
    {
      "cell_type": "code",
      "metadata": {
        "id": "YyHa1ZTuVR8b",
        "colab_type": "code",
        "colab": {}
      },
      "source": [
        "print(bool(0))\n",
        "print(bool(x))\n",
        "print(bool(y))\n",
        "print(bool(0.0))\n",
        "print(bool(2+3j))\n",
        "print(bool(0+0j))"
      ],
      "execution_count": 0,
      "outputs": []
    },
    {
      "cell_type": "markdown",
      "metadata": {
        "id": "QgLF9MT-VthL",
        "colab_type": "text"
      },
      "source": [
        "\n",
        "\n",
        "---\n",
        "\n",
        "\n",
        "###STRING###\n",
        "\n",
        "\n",
        "---\n",
        "\n",
        "\n",
        "\n",
        "Tipado dinámico String\n"
      ]
    },
    {
      "cell_type": "code",
      "metadata": {
        "id": "T15wVhz3WZQa",
        "colab_type": "code",
        "colab": {}
      },
      "source": [
        "s = 'Introducción a la Ciencia de Datos'\n",
        "print(s)\n",
        "type(s)"
      ],
      "execution_count": 0,
      "outputs": []
    },
    {
      "cell_type": "markdown",
      "metadata": {
        "id": "Y2gSUMLNWkHb",
        "colab_type": "text"
      },
      "source": [
        "Conversión a String"
      ]
    },
    {
      "cell_type": "code",
      "metadata": {
        "id": "aBYBkcR3WqvJ",
        "colab_type": "code",
        "colab": {}
      },
      "source": [
        "print(str(x))\n",
        "print(str(y))\n",
        "print(str(m))\n",
        "print(str(p))\n"
      ],
      "execution_count": 0,
      "outputs": []
    },
    {
      "cell_type": "markdown",
      "metadata": {
        "id": "XfyS9-5peuzN",
        "colab_type": "text"
      },
      "source": [
        "Conversión desde String"
      ]
    },
    {
      "cell_type": "code",
      "metadata": {
        "id": "cVjY9T93eywH",
        "colab_type": "code",
        "colab": {}
      },
      "source": [
        "print(int('38'))\n",
        "print(float('7.5'))\n",
        "print(complex('6+5j'))\n",
        "print(bool('False'))\n",
        "print(bool('True'))\n",
        "print(bool(''))\n"
      ],
      "execution_count": 0,
      "outputs": []
    },
    {
      "cell_type": "markdown",
      "metadata": {
        "id": "lEjovOxdgkwt",
        "colab_type": "text"
      },
      "source": [
        "Caracteres especiales"
      ]
    },
    {
      "cell_type": "code",
      "metadata": {
        "id": "xZLS1x4Ygzj_",
        "colab_type": "code",
        "colab": {}
      },
      "source": [
        "print('Hola \\n Mundo')\n",
        "print('Hola\\t\\tMundo')\n",
        "print('Hola \\'Mundo\\'')\n"
      ],
      "execution_count": 0,
      "outputs": []
    },
    {
      "cell_type": "markdown",
      "metadata": {
        "id": "fORz0Jwyg-qW",
        "colab_type": "text"
      },
      "source": [
        "Indexación de String"
      ]
    },
    {
      "cell_type": "code",
      "metadata": {
        "id": "GbvzMyqihbRN",
        "colab_type": "code",
        "colab": {}
      },
      "source": [
        "print(s)\n",
        "print(s[5])\n",
        "print(s[-3])\n",
        "print(s[6:])\n",
        "print(s[:10])\n",
        "print(s[10:20])\n"
      ],
      "execution_count": 0,
      "outputs": []
    },
    {
      "cell_type": "markdown",
      "metadata": {
        "id": "e0ESG0syiIgy",
        "colab_type": "text"
      },
      "source": [
        "Operaciones básicas a String"
      ]
    },
    {
      "cell_type": "code",
      "metadata": {
        "id": "4MViPQE_iMG4",
        "colab_type": "code",
        "colab": {}
      },
      "source": [
        "t=('Hola')\n",
        "u=('Mundo')\n",
        "v=t+u\n",
        "print(v)\n",
        "v= t+' '+u\n",
        "print(v)\n",
        "v+=' Cruel'\n",
        "print(v)\n",
        "w='Hola '*3\n",
        "#f=('Hola ')/3\n",
        "print(w)\n",
        "len(s)"
      ],
      "execution_count": 0,
      "outputs": []
    },
    {
      "cell_type": "markdown",
      "metadata": {
        "id": "HDU3NnNHjDDr",
        "colab_type": "text"
      },
      "source": [
        "Métodos de String"
      ]
    },
    {
      "cell_type": "code",
      "metadata": {
        "id": "E6B9aWr9jLeR",
        "colab_type": "code",
        "colab": {}
      },
      "source": [
        "print(s)\n",
        "print(s.upper())\n",
        "print(s.lower())\n",
        "print(s.capitalize())\n",
        "print(s.swapcase())\n",
        "print(s.replace(' ',''))\n",
        "print(s.count('a'))\n",
        "print(s.find('a'))\n",
        "print(s.split(' '))\n",
        "print(s.split('a'))\n",
        "print(s.startswith('i'))\n",
        "print(s.startswith('I'))\n",
        "r='Hola Mundo'\n",
        "print(r.isalpha())\n",
        "r='HolaMundo'\n",
        "print(r.isalpha())"
      ],
      "execution_count": 0,
      "outputs": []
    }
  ]
}