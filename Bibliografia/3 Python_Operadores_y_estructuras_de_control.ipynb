{
  "nbformat": 4,
  "nbformat_minor": 0,
  "metadata": {
    "colab": {
      "name": "Python: Operadores y estructuras de control.ipynb",
      "provenance": []
    },
    "kernelspec": {
      "name": "python3",
      "display_name": "Python 3"
    }
  },
  "cells": [
    {
      "cell_type": "markdown",
      "metadata": {
        "id": "NiRHB-jgR8Ig",
        "colab_type": "text"
      },
      "source": [
        "#OPERADORES\n",
        "\n",
        "\n",
        "*   Aritméticos\n",
        "*   Lógicos\n",
        "*   Relacionales\n",
        "\n"
      ]
    },
    {
      "cell_type": "markdown",
      "metadata": {
        "id": "_qcGK4i1Sfp-",
        "colab_type": "text"
      },
      "source": [
        "\n",
        "\n",
        "---\n",
        "\n",
        "\n",
        "###OPERADORES ARITMÉTICOS\n",
        "\n",
        "\n",
        "---\n",
        "\n"
      ]
    },
    {
      "cell_type": "markdown",
      "metadata": {
        "id": "7Lo4DzO4TkKD",
        "colab_type": "text"
      },
      "source": [
        "Suma"
      ]
    },
    {
      "cell_type": "code",
      "metadata": {
        "id": "d01PgwJYUHu_",
        "colab_type": "code",
        "outputId": "683e1ffd-aca1-4d16-f19c-915c3306c823",
        "colab": {
          "base_uri": "https://localhost:8080/",
          "height": 35
        }
      },
      "source": [
        "4+7"
      ],
      "execution_count": 0,
      "outputs": [
        {
          "output_type": "execute_result",
          "data": {
            "text/plain": [
              "11"
            ]
          },
          "metadata": {
            "tags": []
          },
          "execution_count": 1
        }
      ]
    },
    {
      "cell_type": "markdown",
      "metadata": {
        "id": "LdVEC3cSTnNf",
        "colab_type": "text"
      },
      "source": [
        "Resta"
      ]
    },
    {
      "cell_type": "code",
      "metadata": {
        "id": "X36r6Ar1UPOr",
        "colab_type": "code",
        "outputId": "128232b4-1063-4da6-d0d8-b0e4d04bce6a",
        "colab": {
          "base_uri": "https://localhost:8080/",
          "height": 35
        }
      },
      "source": [
        "7-4"
      ],
      "execution_count": 0,
      "outputs": [
        {
          "output_type": "execute_result",
          "data": {
            "text/plain": [
              "3"
            ]
          },
          "metadata": {
            "tags": []
          },
          "execution_count": 2
        }
      ]
    },
    {
      "cell_type": "markdown",
      "metadata": {
        "id": "h9QDf__pTpAH",
        "colab_type": "text"
      },
      "source": [
        "Multiplicación"
      ]
    },
    {
      "cell_type": "code",
      "metadata": {
        "id": "qmhbrauRUR1Q",
        "colab_type": "code",
        "outputId": "63b0ebc9-d4fb-4497-d967-70f854b4b019",
        "colab": {
          "base_uri": "https://localhost:8080/",
          "height": 35
        }
      },
      "source": [
        "7*4"
      ],
      "execution_count": 0,
      "outputs": [
        {
          "output_type": "execute_result",
          "data": {
            "text/plain": [
              "28"
            ]
          },
          "metadata": {
            "tags": []
          },
          "execution_count": 3
        }
      ]
    },
    {
      "cell_type": "markdown",
      "metadata": {
        "id": "vm9_xMNfTvuV",
        "colab_type": "text"
      },
      "source": [
        "División"
      ]
    },
    {
      "cell_type": "code",
      "metadata": {
        "id": "10LYfFCuUWND",
        "colab_type": "code",
        "outputId": "b9c4aae9-0cbe-444d-9250-dd53e251d9fc",
        "colab": {
          "base_uri": "https://localhost:8080/",
          "height": 35
        }
      },
      "source": [
        "7/4"
      ],
      "execution_count": 0,
      "outputs": [
        {
          "output_type": "execute_result",
          "data": {
            "text/plain": [
              "1.75"
            ]
          },
          "metadata": {
            "tags": []
          },
          "execution_count": 4
        }
      ]
    },
    {
      "cell_type": "markdown",
      "metadata": {
        "id": "jZ7VG-PiTxRE",
        "colab_type": "text"
      },
      "source": [
        "División entera"
      ]
    },
    {
      "cell_type": "code",
      "metadata": {
        "id": "YLX8e-yZUZBV",
        "colab_type": "code",
        "outputId": "bfb7e9c5-27fc-484a-90f9-be6e0f05cc62",
        "colab": {
          "base_uri": "https://localhost:8080/",
          "height": 35
        }
      },
      "source": [
        "7//4"
      ],
      "execution_count": 0,
      "outputs": [
        {
          "output_type": "execute_result",
          "data": {
            "text/plain": [
              "1"
            ]
          },
          "metadata": {
            "tags": []
          },
          "execution_count": 5
        }
      ]
    },
    {
      "cell_type": "markdown",
      "metadata": {
        "id": "Z_Hcj9XkTy8Y",
        "colab_type": "text"
      },
      "source": [
        "Potenciación"
      ]
    },
    {
      "cell_type": "code",
      "metadata": {
        "id": "sqKQJcUGUdf9",
        "colab_type": "code",
        "outputId": "ccdb39ad-d6a3-46ba-9b7f-2fae407709c6",
        "colab": {
          "base_uri": "https://localhost:8080/",
          "height": 35
        }
      },
      "source": [
        "7**4"
      ],
      "execution_count": 0,
      "outputs": [
        {
          "output_type": "execute_result",
          "data": {
            "text/plain": [
              "2401"
            ]
          },
          "metadata": {
            "tags": []
          },
          "execution_count": 2
        }
      ]
    },
    {
      "cell_type": "markdown",
      "metadata": {
        "id": "d6lyn4_fTz4N",
        "colab_type": "text"
      },
      "source": [
        "Módulo"
      ]
    },
    {
      "cell_type": "code",
      "metadata": {
        "id": "BEHWQVyAUs49",
        "colab_type": "code",
        "colab": {}
      },
      "source": [
        "8%3\n",
        "#0 1 2 0 1 2 0 1 2 0 1 2"
      ],
      "execution_count": 0,
      "outputs": []
    },
    {
      "cell_type": "markdown",
      "metadata": {
        "id": "zB9LNoFKXJGh",
        "colab_type": "text"
      },
      "source": [
        "\n",
        "\n",
        "---\n",
        "\n",
        "\n",
        "###OPERADORES LÓGICOS\n",
        "\n",
        "\n",
        "---\n",
        "\n"
      ]
    },
    {
      "cell_type": "markdown",
      "metadata": {
        "id": "fcKekt3DY2Wg",
        "colab_type": "text"
      },
      "source": [
        "And"
      ]
    },
    {
      "cell_type": "code",
      "metadata": {
        "id": "x6P7Z0HQZL2a",
        "colab_type": "code",
        "colab": {}
      },
      "source": [
        "print(False & False)\n",
        "print(False and True)\n",
        "print(True & False)\n",
        "print(True & True)"
      ],
      "execution_count": 0,
      "outputs": []
    },
    {
      "cell_type": "markdown",
      "metadata": {
        "id": "wMvXwMnWY7K7",
        "colab_type": "text"
      },
      "source": [
        "Or"
      ]
    },
    {
      "cell_type": "code",
      "metadata": {
        "id": "YgapCT_MZQpy",
        "colab_type": "code",
        "colab": {}
      },
      "source": [
        "print(False | False)\n",
        "print(False or True)\n",
        "print(True | False)\n",
        "print(True | True)"
      ],
      "execution_count": 0,
      "outputs": []
    },
    {
      "cell_type": "markdown",
      "metadata": {
        "id": "EUwiC1uzY7wi",
        "colab_type": "text"
      },
      "source": [
        "Xor"
      ]
    },
    {
      "cell_type": "code",
      "metadata": {
        "id": "DeSnBFM-ZYOZ",
        "colab_type": "code",
        "colab": {}
      },
      "source": [
        "print(False ^ False)\n",
        "print(False ^ True)\n",
        "print(True ^ False)\n",
        "print(True ^ True)"
      ],
      "execution_count": 0,
      "outputs": []
    },
    {
      "cell_type": "markdown",
      "metadata": {
        "id": "SJ78wDIhY8ca",
        "colab_type": "text"
      },
      "source": [
        "Not"
      ]
    },
    {
      "cell_type": "code",
      "metadata": {
        "id": "sQZr-7R6aiQ3",
        "colab_type": "code",
        "outputId": "13260750-4bd9-4b8c-8f3a-3b64a71d8846",
        "colab": {
          "base_uri": "https://localhost:8080/",
          "height": 52
        }
      },
      "source": [
        "print(not(False))\n",
        "print(not(True))"
      ],
      "execution_count": 0,
      "outputs": [
        {
          "output_type": "stream",
          "text": [
            "True\n",
            "False\n"
          ],
          "name": "stdout"
        }
      ]
    },
    {
      "cell_type": "markdown",
      "metadata": {
        "id": "eUvjM0BiY9-T",
        "colab_type": "text"
      },
      "source": [
        "Desplazar bit a la derecha"
      ]
    },
    {
      "cell_type": "code",
      "metadata": {
        "id": "FsrS-pOxbius",
        "colab_type": "code",
        "outputId": "1e91af1c-2ca3-4ac9-ee71-570df99cf003",
        "colab": {
          "base_uri": "https://localhost:8080/",
          "height": 35
        }
      },
      "source": [
        "4>>1\n",
        "#0100 -> 0010"
      ],
      "execution_count": 0,
      "outputs": [
        {
          "output_type": "execute_result",
          "data": {
            "text/plain": [
              "2"
            ]
          },
          "metadata": {
            "tags": []
          },
          "execution_count": 15
        }
      ]
    },
    {
      "cell_type": "markdown",
      "metadata": {
        "id": "4ZJ0BnFUZDYj",
        "colab_type": "text"
      },
      "source": [
        "Desplazar bit a la izquierda"
      ]
    },
    {
      "cell_type": "code",
      "metadata": {
        "id": "9MiAB0R_cZXL",
        "colab_type": "code",
        "colab": {}
      },
      "source": [
        "4<<1\n",
        "#0100 -> 1000"
      ],
      "execution_count": 0,
      "outputs": []
    },
    {
      "cell_type": "markdown",
      "metadata": {
        "id": "_r6657tMdOZp",
        "colab_type": "text"
      },
      "source": [
        "\n",
        "\n",
        "---\n",
        "\n",
        "###OPERADORES RELACIONALES\n",
        "\n",
        "\n",
        "---\n",
        "\n"
      ]
    },
    {
      "cell_type": "markdown",
      "metadata": {
        "id": "vVtGWH_xg6ty",
        "colab_type": "text"
      },
      "source": [
        "Igual que"
      ]
    },
    {
      "cell_type": "code",
      "metadata": {
        "id": "8dlbGoSThaMT",
        "colab_type": "code",
        "outputId": "e93a41e5-9dbb-4668-c09e-f35afc16af7d",
        "colab": {
          "base_uri": "https://localhost:8080/",
          "height": 52
        }
      },
      "source": [
        "print(5==6)\n",
        "print(5==5)"
      ],
      "execution_count": 0,
      "outputs": [
        {
          "output_type": "stream",
          "text": [
            "False\n",
            "True\n"
          ],
          "name": "stdout"
        }
      ]
    },
    {
      "cell_type": "markdown",
      "metadata": {
        "id": "GLhvZ5O7hBTd",
        "colab_type": "text"
      },
      "source": [
        "Diferente de"
      ]
    },
    {
      "cell_type": "code",
      "metadata": {
        "id": "Cu2R2qJ_hkxC",
        "colab_type": "code",
        "outputId": "b3699b91-dc32-4619-96ec-c15ac385a98e",
        "colab": {
          "base_uri": "https://localhost:8080/",
          "height": 52
        }
      },
      "source": [
        "print(5!=6)\n",
        "print(5!=5)"
      ],
      "execution_count": 0,
      "outputs": [
        {
          "output_type": "stream",
          "text": [
            "True\n",
            "False\n"
          ],
          "name": "stdout"
        }
      ]
    },
    {
      "cell_type": "markdown",
      "metadata": {
        "id": "B6Ew9v4EhCkr",
        "colab_type": "text"
      },
      "source": [
        "Mayor que"
      ]
    },
    {
      "cell_type": "code",
      "metadata": {
        "id": "bEnx3NnxhqdQ",
        "colab_type": "code",
        "outputId": "7f32f38b-eff7-4c65-db6d-eb6675cb59b1",
        "colab": {
          "base_uri": "https://localhost:8080/",
          "height": 52
        }
      },
      "source": [
        "print(5>6)\n",
        "print(5>5)"
      ],
      "execution_count": 0,
      "outputs": [
        {
          "output_type": "stream",
          "text": [
            "False\n",
            "False\n"
          ],
          "name": "stdout"
        }
      ]
    },
    {
      "cell_type": "markdown",
      "metadata": {
        "id": "ZyRozu-MhINt",
        "colab_type": "text"
      },
      "source": [
        "Menor que"
      ]
    },
    {
      "cell_type": "code",
      "metadata": {
        "id": "SUNvI76XhyJx",
        "colab_type": "code",
        "outputId": "f836eeb8-2e28-4992-9169-cd873a0cde2f",
        "colab": {
          "base_uri": "https://localhost:8080/",
          "height": 52
        }
      },
      "source": [
        "print(5<6)\n",
        "print(5<5)"
      ],
      "execution_count": 0,
      "outputs": [
        {
          "output_type": "stream",
          "text": [
            "True\n",
            "False\n"
          ],
          "name": "stdout"
        }
      ]
    },
    {
      "cell_type": "markdown",
      "metadata": {
        "id": "ViQCIz0ghL7z",
        "colab_type": "text"
      },
      "source": [
        "Mayor o igual que"
      ]
    },
    {
      "cell_type": "code",
      "metadata": {
        "id": "T29tnOGZh5MP",
        "colab_type": "code",
        "outputId": "02404692-075f-49cd-91be-0c79f5bbc665",
        "colab": {
          "base_uri": "https://localhost:8080/",
          "height": 52
        }
      },
      "source": [
        "print(5>=6)\n",
        "print(5>=5)"
      ],
      "execution_count": 0,
      "outputs": [
        {
          "output_type": "stream",
          "text": [
            "False\n",
            "True\n"
          ],
          "name": "stdout"
        }
      ]
    },
    {
      "cell_type": "markdown",
      "metadata": {
        "id": "yacDZdnKhNy2",
        "colab_type": "text"
      },
      "source": [
        "Menor igual que"
      ]
    },
    {
      "cell_type": "code",
      "metadata": {
        "id": "0pYYrpUeh-Ae",
        "colab_type": "code",
        "outputId": "e57e4bd6-08be-4e9c-c5c8-19d4b90267b5",
        "colab": {
          "base_uri": "https://localhost:8080/",
          "height": 52
        }
      },
      "source": [
        "print(5<=6)\n",
        "print(5<=5)"
      ],
      "execution_count": 0,
      "outputs": [
        {
          "output_type": "stream",
          "text": [
            "True\n",
            "True\n"
          ],
          "name": "stdout"
        }
      ]
    },
    {
      "cell_type": "markdown",
      "metadata": {
        "id": "MVmcLZFiigrZ",
        "colab_type": "text"
      },
      "source": [
        "#ESTRUCTURAS DE CONTROL DE FLUJO\n",
        "\n",
        "El control de flujo se refiere al orden en el que se ejecutan las instrucciones contenidas en un programa. Cuando un programa tiene más de una posibilidad de flujo es necesario utilizar estructuras de control que decidan qué camino tomar en la ejecución a partir del cumplimiento o no de ciertas condiciones.\n",
        "\n",
        "*   Sentencias condicionales\n",
        "*   Sentencias cíclicas\n",
        "\n"
      ]
    },
    {
      "cell_type": "markdown",
      "metadata": {
        "id": "Pgg2iWSBkHbM",
        "colab_type": "text"
      },
      "source": [
        "##SENTENCIAS CONDICIONALES\n",
        "Las sentencias condicionales permiten la decisión entre la ejecución o no de bloques de código a partir del cumplimiento de una condición. Esta condición se evalúa  mediante operadores relacionales que retornan un dato booleano.\n",
        "\n",
        "\n"
      ]
    },
    {
      "cell_type": "markdown",
      "metadata": {
        "id": "AUCETF08kNIs",
        "colab_type": "text"
      },
      "source": [
        "\n",
        "\n",
        "---\n",
        "\n",
        "\n",
        "###IF\n",
        "\n",
        "\n",
        "---\n",
        "\n",
        "Esta es la sentencia de control de flujo más básica. Permite o no la ejecución de un bloque de código a partir de la verificación de una condición. Hay que recordar que Python es un lenguaje identado, esto quiere decir que el bloque de código asociado al if debe ir tabulado."
      ]
    },
    {
      "cell_type": "code",
      "metadata": {
        "id": "PhizECRUkpIz",
        "colab_type": "code",
        "colab": {}
      },
      "source": [
        "x=6\n",
        "y=12\n",
        "z=False\n",
        "if (y>8):\n",
        "   \tprint (\"Y mayor que 8\")\n",
        "if (x>8):\n",
        "   \tprint (\"X mayor que 8\")\n",
        "if (z):\n",
        "   \tprint (\"Z verdadero\")\n",
        "print (\"Fin del programa\")"
      ],
      "execution_count": 0,
      "outputs": []
    },
    {
      "cell_type": "code",
      "metadata": {
        "id": "0VLeK0Kel1AX",
        "colab_type": "code",
        "colab": {}
      },
      "source": [
        "x=6\n",
        "y=12\n",
        "if (y>8 and x>8):\n",
        "   \tprint(\"Se cumplen las dos condiciones\")\n",
        "if (y>8 or x>8):\n",
        "   \tprint (\"Se cumple una o las dos condiciones\")"
      ],
      "execution_count": 0,
      "outputs": []
    },
    {
      "cell_type": "markdown",
      "metadata": {
        "id": "qRpS1kvdlnZA",
        "colab_type": "text"
      },
      "source": [
        "\n",
        "\n",
        "---\n",
        "###IF ... ELSE\n",
        "\n",
        "\n",
        "---\n",
        "La sentencia else va luego de una sentencia if y tiene como objetivo que el bloque de código asociado a esta se ejecute únicamente si la condición expresada en el if no se cumple. Una traducción de esta sentencia es \"Si se cumple la condición se debe ejecutar un bloque de código, sino se cumple se debe ejecutar otro bloque de código\".\n",
        "\n"
      ]
    },
    {
      "cell_type": "code",
      "metadata": {
        "id": "xpvPjioslr_G",
        "colab_type": "code",
        "outputId": "281cb76a-7b15-47a3-987a-a46700d510cd",
        "colab": {
          "base_uri": "https://localhost:8080/",
          "height": 35
        }
      },
      "source": [
        "x=8\n",
        "y=6\n",
        "if (x>y):\n",
        "   \tprint (\"x mayor que y\")\n",
        "else:\n",
        "   \tprint (\"x no es mayor que y\")"
      ],
      "execution_count": 0,
      "outputs": [
        {
          "output_type": "stream",
          "text": [
            "x mayor que y\n"
          ],
          "name": "stdout"
        }
      ]
    },
    {
      "cell_type": "markdown",
      "metadata": {
        "id": "E0k5eJern4_7",
        "colab_type": "text"
      },
      "source": [
        "\n",
        "\n",
        "---\n",
        "###IF ... ELIF\n",
        "\n",
        "\n",
        "---\n",
        "\n",
        "La sentencia elif tiene que ir después de de una sentencia if. Esta hace que en el caso de que no se cumpla la condición del if se verifique una segunda condición. Una traducción a esta sentencia es \"Si se cumple la condición 1 se debe ejecutar un bloque de código, si no se cumple la condición 1 se verifica una condición 2 y si esta se cumple se ejecuta otro bloque de código\"\n"
      ]
    },
    {
      "cell_type": "code",
      "metadata": {
        "id": "B32cktzXn_Kc",
        "colab_type": "code",
        "outputId": "f423eae8-0a98-426c-b402-7c385f97151f",
        "colab": {
          "base_uri": "https://localhost:8080/",
          "height": 35
        }
      },
      "source": [
        "x=3.5\n",
        "if (x>4):\n",
        "   \tprint (\"Rendimiento excelente\")\n",
        "elif (x>=3):\n",
        "   \tprint (\"Rendimiento aceptable\")\n",
        "else:\n",
        "   \tprint (\"Reprobado\")"
      ],
      "execution_count": 0,
      "outputs": [
        {
          "output_type": "stream",
          "text": [
            "Rendimiento aceptable\n"
          ],
          "name": "stdout"
        }
      ]
    },
    {
      "cell_type": "markdown",
      "metadata": {
        "id": "Xo40CUiIoOXV",
        "colab_type": "text"
      },
      "source": [
        "##SENTENCIAS CÍCLICAS\n",
        "\n",
        "Las sentencias cíclicas permiten la repetición de un bloque de código un número de veces determinado por una condición o por un arreglo de datos."
      ]
    },
    {
      "cell_type": "markdown",
      "metadata": {
        "id": "0Vam_Y3ioSAb",
        "colab_type": "text"
      },
      "source": [
        "\n",
        "\n",
        "---\n",
        "\n",
        "###WHILE\n",
        "\n",
        "\n",
        "---\n",
        "\n",
        "Esta sentencia repite un bloque de código mientras se cumpla una condición."
      ]
    },
    {
      "cell_type": "code",
      "metadata": {
        "id": "xOWn0jq3perC",
        "colab_type": "code",
        "outputId": "6cc2c384-a0c0-48c9-e9b5-3e59bd27b593",
        "colab": {
          "base_uri": "https://localhost:8080/",
          "height": 69
        }
      },
      "source": [
        "i=1\n",
        "while i<4:\n",
        "   \tprint(\"Vuelta No: \",i)\n",
        "   \ti=i+1\n"
      ],
      "execution_count": 0,
      "outputs": [
        {
          "output_type": "stream",
          "text": [
            "Vuelta No:  1\n",
            "Vuelta No:  2\n",
            "Vuelta No:  3\n"
          ],
          "name": "stdout"
        }
      ]
    },
    {
      "cell_type": "code",
      "metadata": {
        "id": "feOt98yMphYB",
        "colab_type": "code",
        "colab": {}
      },
      "source": [
        "m='n'\n",
        "while m!='s':\n",
        "   \tm=input(\"Desea salir (s/n): \")"
      ],
      "execution_count": 0,
      "outputs": []
    },
    {
      "cell_type": "code",
      "metadata": {
        "id": "8SNgTwQjp1_o",
        "colab_type": "code",
        "colab": {}
      },
      "source": [
        "n=True\n",
        "while n:\n",
        "\tn=False\n",
        "\tprint(\"Ciclo infinito\")\n",
        "\t\t\n",
        "   \t\n",
        "\t\t"
      ],
      "execution_count": 0,
      "outputs": []
    },
    {
      "cell_type": "markdown",
      "metadata": {
        "id": "Mu96ndmYqP4n",
        "colab_type": "text"
      },
      "source": [
        "\n",
        "\n",
        "---\n",
        "\n",
        "###FOR\n",
        "\n",
        "\n",
        "---\n",
        "\n",
        "Esta sentencia permite repetir un bloque de código en el cual una variable va tomando para cada ciclo, uno a uno los valores definidos en un arreglo de datos."
      ]
    },
    {
      "cell_type": "code",
      "metadata": {
        "id": "9FAOw3YzqWtV",
        "colab_type": "code",
        "colab": {}
      },
      "source": [
        "# Usando una lista\n",
        "vocales = ['a','e','i','o','u']\n",
        "for i in vocales:\n",
        "   \tprint(i)"
      ],
      "execution_count": 0,
      "outputs": []
    },
    {
      "cell_type": "code",
      "metadata": {
        "id": "6qPCZW9ZqzVF",
        "colab_type": "code",
        "colab": {}
      },
      "source": [
        "# Usando una cadena de caracteres\n",
        "cadena = \"hola\"\n",
        "for i in cadena:\n",
        "   \tprint(i)"
      ],
      "execution_count": 0,
      "outputs": []
    },
    {
      "cell_type": "code",
      "metadata": {
        "id": "Td8vCtgrrBvT",
        "colab_type": "code",
        "colab": {}
      },
      "source": [
        "# Usando un rango generado automático\n",
        "for i in range(4):\n",
        "   \tprint(i)"
      ],
      "execution_count": 0,
      "outputs": []
    },
    {
      "cell_type": "code",
      "metadata": {
        "id": "i4JOb7FzrL09",
        "colab_type": "code",
        "colab": {}
      },
      "source": [
        "# Diferentes formas de generar un rango automáticamente\n",
        "print(list(range(3))) #el inicio y el paso se toman por defecto\n",
        "print(list(range(3,5))) #el paso se toma por defecto = 1\n",
        "print(list(range(4,10,2))) #el paso es 2\n",
        "print(list(range(10,4,-2))) #el paso es -2"
      ],
      "execution_count": 0,
      "outputs": []
    },
    {
      "cell_type": "markdown",
      "metadata": {
        "id": "qYpRuTzMr-5c",
        "colab_type": "text"
      },
      "source": [
        "\n",
        "\n",
        "---\n",
        "\n",
        "###BREAK\n",
        "\n",
        "\n",
        "---\n",
        "\n",
        "La sentencia Break permite interrumpir la ejecución de un bucle."
      ]
    },
    {
      "cell_type": "code",
      "metadata": {
        "id": "gdweG5_UsHvF",
        "colab_type": "code",
        "colab": {}
      },
      "source": [
        "x=[]\n",
        "for i in range(100):\n",
        "   \tprint(\"Posición \",i)\n",
        "   \ta=input(\"Valor : \")\n",
        "   \tx.append(a)\n",
        "   \tm=input(\"Desea continuar ingresando (s/n):\")\n",
        "   \tif (m=='n'):\n",
        "           \tbreak\n",
        "else\n",
        "\thgghfgf"
      ],
      "execution_count": 0,
      "outputs": []
    },
    {
      "cell_type": "markdown",
      "metadata": {
        "id": "pwSFgwPYs7io",
        "colab_type": "text"
      },
      "source": [
        "\n",
        "\n",
        "---\n",
        "\n",
        "###CONTINUE\n",
        "\n",
        "\n",
        "---\n",
        "\n",
        "La sentencia continue permite omitir una porción de código de un bucle. Cuando esta sentencia se ejecuta, el programa pasa al siguiente ciclo, omitiendo el fragmento de código que faltaba por ejecutar dentro del bucle."
      ]
    },
    {
      "cell_type": "code",
      "metadata": {
        "id": "_f61lHLYs-B0",
        "colab_type": "code",
        "colab": {}
      },
      "source": [
        "for i in range(5):\n",
        "   \tprint(\"Vuelta No. : \",i)\n",
        "   \tif (i>2):\n",
        "           \tcontinue\n",
        "   \tprint(\"En esta vuelta no se ejecutó la sentencia continue\")"
      ],
      "execution_count": 0,
      "outputs": []
    },
    {
      "cell_type": "markdown",
      "metadata": {
        "id": "GnIdq6bSubWu",
        "colab_type": "text"
      },
      "source": [
        "\n",
        "\n",
        "---\n",
        "###SENTENCIA ELSE EN BUCLES\n",
        "\n",
        "\n",
        "---\n",
        "\n",
        "La sentencia else en Python no es exclusivamente un complemento de la sentencia if, también puede utilizarse junto a una sentencia cíclica for o while. La sentencia else asociada a una sentencia cíclica permite la ejecución de un bloque de código únicamente cuando el bucle ha completado los ciclos completamente según la condición (para while) o el arreglo de datos (para for), si el bucle se ha interrumpido mediante un break el bloque de código asociado al else no será ejecutado.\n",
        "(Ver taller)\n"
      ]
    }
  ]
}