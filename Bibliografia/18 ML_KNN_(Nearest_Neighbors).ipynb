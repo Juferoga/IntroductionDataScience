{
  "nbformat": 4,
  "nbformat_minor": 0,
  "metadata": {
    "colab": {
      "name": "ML: KNN (Nearest Neighbors).ipynb",
      "provenance": []
    },
    "kernelspec": {
      "name": "python3",
      "display_name": "Python 3"
    }
  },
  "cells": [
    {
      "cell_type": "markdown",
      "metadata": {
        "id": "sa2U7P1IfnnZ",
        "colab_type": "text"
      },
      "source": [
        "# KNN"
      ]
    },
    {
      "cell_type": "markdown",
      "metadata": {
        "id": "TjYsxdrJf3pw",
        "colab_type": "text"
      },
      "source": [
        "###UTILIZANDO UN CONJUNTO DE DATOS DE PRUEBA DE SKLEARN"
      ]
    },
    {
      "cell_type": "code",
      "metadata": {
        "id": "-NMWx4-CjwbI",
        "colab_type": "code",
        "colab": {}
      },
      "source": [
        "from sklearn import datasets\n",
        "\n",
        "iris = datasets.load_iris()\n",
        "iris.feature_names\n",
        "iris.target_names\n",
        "\n",
        "iris.data\n",
        "iris.target\n",
        "\n",
        "\n",
        "from sklearn.model_selection import train_test_split \n",
        "\n",
        "x_train, x_test, y_train, y_test = train_test_split(iris.data, iris.target)\n",
        "x_train\n",
        "y_train\n",
        "x_test\n",
        "y_test\n",
        "\n",
        "from sklearn.neighbors import KNeighborsClassifier\n",
        "\n",
        "knn = KNeighborsClassifier(n_neighbors=5)\n",
        "knn.fit(x_train, y_train) \n",
        "knn.score(x_test, y_test) \n",
        "\n",
        "print(knn.predict(x_test))\n",
        "print(y_test)\n",
        "\n",
        "knn.predict(x_test[2:3][:4])\n",
        "y_test[2:3][:4]\n",
        "\n",
        "from sklearn.neighbors import RadiusNeighborsClassifier\n",
        "\n",
        "knn_r = RadiusNeighborsClassifier(radius=1)\n",
        "\n",
        "knn_r.fit(x_train, y_train) \n",
        "knn_r.score(x_test, y_test) \n",
        "\n",
        "print(knn_r.predict(x_test))\n",
        "print(y_test)\n",
        "knn_r.predict(x_test[2:3][:4])\n",
        "y_test[2]"
      ],
      "execution_count": null,
      "outputs": []
    },
    {
      "cell_type": "markdown",
      "metadata": {
        "id": "_A8byByCjuu-",
        "colab_type": "text"
      },
      "source": [
        "###UTILIZANDO UN CONJUNTO DE DATOS DE UCI\n",
        "https://archive.ics.uci.edu/ml/index.php"
      ]
    },
    {
      "cell_type": "code",
      "metadata": {
        "id": "Aht0EaQz_D8m",
        "colab_type": "code",
        "colab": {
          "base_uri": "https://localhost:8080/",
          "height": 1000
        },
        "outputId": "d25818b5-55d3-4c3b-ca6b-51ec3d2ebc4f"
      },
      "source": [
        "import pandas as pd\n",
        "df = pd.read_csv('https://archive.ics.uci.edu/ml/machine-learning-databases/glass/glass.data')\n",
        "print(df)\n",
        "x_train, x_test, y_train, y_test = train_test_split(df.iloc[:,:10], df.iloc[:,10:11])\n",
        "y_train\n",
        "y_test\n",
        "from sklearn.neighbors import KNeighborsClassifier\n",
        "\n",
        "knn = KNeighborsClassifier(n_neighbors=7)\n",
        "knn.fit(x_train, y_train) \n",
        "knn.score(x_test, y_test) \n",
        "\n",
        "print(knn.predict(x_test))\n",
        "print(y_test)"
      ],
      "execution_count": null,
      "outputs": [
        {
          "output_type": "stream",
          "text": [
            "       1  1.52101  13.64  4.49  1.10  71.78  0.06  8.75  0.00  0.00.1  1.1\n",
            "0      2  1.51761  13.89  3.60  1.36  72.73  0.48  7.83  0.00    0.00    1\n",
            "1      3  1.51618  13.53  3.55  1.54  72.99  0.39  7.78  0.00    0.00    1\n",
            "2      4  1.51766  13.21  3.69  1.29  72.61  0.57  8.22  0.00    0.00    1\n",
            "3      5  1.51742  13.27  3.62  1.24  73.08  0.55  8.07  0.00    0.00    1\n",
            "4      6  1.51596  12.79  3.61  1.62  72.97  0.64  8.07  0.00    0.26    1\n",
            "..   ...      ...    ...   ...   ...    ...   ...   ...   ...     ...  ...\n",
            "208  210  1.51623  14.14  0.00  2.88  72.61  0.08  9.18  1.06    0.00    7\n",
            "209  211  1.51685  14.92  0.00  1.99  73.06  0.00  8.40  1.59    0.00    7\n",
            "210  212  1.52065  14.36  0.00  2.02  73.42  0.00  8.44  1.64    0.00    7\n",
            "211  213  1.51651  14.38  0.00  1.94  73.61  0.00  8.48  1.57    0.00    7\n",
            "212  214  1.51711  14.23  0.00  2.08  73.36  0.00  8.62  1.67    0.00    7\n",
            "\n",
            "[213 rows x 11 columns]\n",
            "[7 3 1 1 1 1 1 2 2 2 7 2 1 6 2 7 1 2 2 2 3 2 2 1 3 2 2 2 7 6 1 2 7 2 5 1 2\n",
            " 2 2 2 1 2 2 7 1 1 7 1 2 2 1 1 6 5]\n",
            "     1.1\n",
            "187    7\n",
            "147    3\n",
            "31     1\n",
            "57     1\n",
            "7      1\n",
            "59     1\n",
            "63     1\n",
            "81     2\n",
            "78     2\n",
            "99     2\n",
            "210    7\n",
            "141    2\n",
            "35     1\n",
            "175    6\n",
            "114    2\n",
            "183    6\n",
            "20     1\n",
            "131    2\n",
            "103    2\n",
            "71     2\n",
            "159    3\n",
            "73     2\n",
            "70     2\n",
            "34     1\n",
            "153    3\n",
            "80     2\n",
            "119    2\n",
            "113    2\n",
            "190    7\n",
            "178    6\n",
            "68     1\n",
            "96     2\n",
            "207    7\n",
            "122    2\n",
            "173    5\n",
            "32     1\n",
            "85     2\n",
            "123    2\n",
            "142    2\n",
            "90     2\n",
            "23     1\n",
            "72     2\n",
            "102    2\n",
            "206    7\n",
            "17     1\n",
            "53     1\n",
            "209    7\n",
            "54     1\n",
            "98     2\n",
            "87     2\n",
            "13     1\n",
            "47     1\n",
            "182    6\n",
            "169    5\n"
          ],
          "name": "stdout"
        },
        {
          "output_type": "stream",
          "text": [
            "/usr/local/lib/python3.6/dist-packages/ipykernel_launcher.py:10: DataConversionWarning: A column-vector y was passed when a 1d array was expected. Please change the shape of y to (n_samples, ), for example using ravel().\n",
            "  # Remove the CWD from sys.path while we load stuff.\n"
          ],
          "name": "stderr"
        }
      ]
    },
    {
      "cell_type": "code",
      "metadata": {
        "id": "TST-obqxiNkR",
        "colab_type": "code",
        "colab": {
          "base_uri": "https://localhost:8080/",
          "height": 88
        },
        "outputId": "869e991d-4236-40ca-e466-6693f6a97271"
      },
      "source": [
        "import numpy as np\n",
        "df = pd.read_csv('https://archive.ics.uci.edu/ml/machine-learning-databases/lung-cancer/lung-cancer.data')\n",
        "df\n",
        "df.replace('?',0, inplace=True)\n",
        "x_train, x_test, y_train, y_test = train_test_split(df.iloc[:,:55], df.iloc[:,55:56])\n",
        "from sklearn.neighbors import KNeighborsClassifier\n",
        "\n",
        "knn = KNeighborsClassifier(n_neighbors=3)\n",
        "knn.fit(x_train, y_train) \n",
        "knn.score(x_test, y_test) \n",
        "\n",
        "print(knn.predict(x_test))\n",
        "print(y_test)"
      ],
      "execution_count": null,
      "outputs": [
        {
          "output_type": "stream",
          "text": [
            "/usr/local/lib/python3.6/dist-packages/ipykernel_launcher.py:9: DataConversionWarning: A column-vector y was passed when a 1d array was expected. Please change the shape of y to (n_samples, ), for example using ravel().\n",
            "  if __name__ == '__main__':\n"
          ],
          "name": "stderr"
        },
        {
          "output_type": "execute_result",
          "data": {
            "text/plain": [
              "0.75"
            ]
          },
          "metadata": {
            "tags": []
          },
          "execution_count": 7
        }
      ]
    }
  ]
}