{
  "nbformat": 4,
  "nbformat_minor": 0,
  "metadata": {
    "colab": {
      "name": "Python: Funciones, módulos y paquetes.ipynb",
      "provenance": []
    },
    "kernelspec": {
      "name": "python3",
      "display_name": "Python 3"
    }
  },
  "cells": [
    {
      "cell_type": "markdown",
      "metadata": {
        "id": "gPxIVAHCK8Td",
        "colab_type": "text"
      },
      "source": [
        "#FUNCIONES, MÓDULOS Y PAQUETES"
      ]
    },
    {
      "cell_type": "markdown",
      "metadata": {
        "id": "PgvqoybaLQZG",
        "colab_type": "text"
      },
      "source": [
        "\n",
        "\n",
        "---\n",
        "\n",
        "\n",
        "###FUNCIONES\n",
        "\n",
        "\n",
        "---\n",
        "\n"
      ]
    },
    {
      "cell_type": "markdown",
      "metadata": {
        "id": "J0A81N0X1PnL",
        "colab_type": "text"
      },
      "source": [
        "Una función es un bloque de código con un nombre asociado, que recibe cero o más argumentos como entrada, sigue una secuencia de sentencias, la cuales ejecuta una operación deseada y devuelve un valor y/o realiza una tarea, este bloque puede ser llamados cuando se necesite."
      ]
    },
    {
      "cell_type": "code",
      "metadata": {
        "id": "eLE7GgaVc1oi",
        "colab_type": "code",
        "colab": {}
      },
      "source": [
        "def pietometro(a):\n",
        "    return a*0.3048\n",
        "    \n",
        "def metrotopie(m):\n",
        "    return m/0.3048\n",
        "\n",
        "def millatometro(m):\n",
        "    return m*1609.34\n",
        "\n",
        "def metrotomilla(m):\n",
        "    return m/1609.34"
      ],
      "execution_count": 0,
      "outputs": []
    },
    {
      "cell_type": "code",
      "metadata": {
        "id": "p8IvRB9VLzN5",
        "colab_type": "code",
        "outputId": "7e12089f-f773-459e-d923-829ced7e6ad8",
        "colab": {
          "base_uri": "https://localhost:8080/",
          "height": 52
        }
      },
      "source": [
        "print(pietometro(5))\n",
        "print(metrotomilla(3000))"
      ],
      "execution_count": 0,
      "outputs": [
        {
          "output_type": "stream",
          "text": [
            "1.524\n",
            "1.8641182099494205\n"
          ],
          "name": "stdout"
        }
      ]
    },
    {
      "cell_type": "markdown",
      "metadata": {
        "id": "9INCUotNMF4M",
        "colab_type": "text"
      },
      "source": [
        "\n",
        "\n",
        "---\n",
        "###MÓDULOS\n",
        "\n",
        "\n",
        "---\n",
        "\n",
        "\n"
      ]
    },
    {
      "cell_type": "markdown",
      "metadata": {
        "id": "mEI-Nc4pM60K",
        "colab_type": "text"
      },
      "source": [
        "En python un módulo es un script que contiene definiciones (funciones) y declaraciones (variables).\n",
        "\n",
        "Si se crea un script con funciones y/o variables y se almacena en la carpeta de trabajo, este script será un módulo que se podrá importar para acceder a sus funciones y variables. Por ejemplo si se crea el siguiente script:"
      ]
    },
    {
      "cell_type": "code",
      "metadata": {
        "id": "Y50lKLV6w51x",
        "colab_type": "code",
        "colab": {}
      },
      "source": [
        "def ctok(c):\n",
        "    return c + 273.15\n",
        "\n",
        "def ktoc(k):\n",
        "    return k - 273.15\n",
        "\n",
        "def ctof(c):\n",
        "    return c*(9/5)+32\n",
        "\n",
        "def ftoc(f):\n",
        "    return (f-32)*(5/9)\n",
        "\n",
        "tea=100"
      ],
      "execution_count": 0,
      "outputs": []
    },
    {
      "cell_type": "markdown",
      "metadata": {
        "id": "nbYfABlcNW3N",
        "colab_type": "text"
      },
      "source": [
        "Y se guarda en la carpeta de trabajo; ahora _temperatura_ será un módulo que se puede importar y acceder a sus funciones y variables."
      ]
    },
    {
      "cell_type": "code",
      "metadata": {
        "id": "ZQpOq8BPOLN-",
        "colab_type": "code",
        "colab": {}
      },
      "source": [
        "import temperatura"
      ],
      "execution_count": 0,
      "outputs": []
    },
    {
      "cell_type": "code",
      "metadata": {
        "id": "t7VAVKkuZJ9Y",
        "colab_type": "code",
        "colab": {}
      },
      "source": [
        "print(temperatura.ctok(25))\n",
        "print(temperatura.ctof(25))\n",
        "#print(temperatura.tea)"
      ],
      "execution_count": 0,
      "outputs": []
    },
    {
      "cell_type": "markdown",
      "metadata": {
        "id": "zavQCmkURGFY",
        "colab_type": "text"
      },
      "source": [
        "\n",
        "\n",
        "---\n",
        "\n",
        "###PAQUETES\n",
        "\n",
        "\n",
        "---\n",
        "\n"
      ]
    },
    {
      "cell_type": "markdown",
      "metadata": {
        "id": "MUOKmTRVRZ6B",
        "colab_type": "text"
      },
      "source": [
        "Si ahora se crea una carpeta donde se guarden algunos módulos y se adicione un archivo denominado *``_init_.py``*, esa carpeta se interpretará como un paquete que dispone de los módulos contenidos en ésta.\n",
        "\n",
        "Por ejemplo, si en la carpeta de trabajo se crea la carpeta _conver_ y en ella se meten los módulos _longitud.py_ y _temperatura.py_, y se adiciona el archivo *``_init_.py``*, python interpretará esta carpeta como un paquete al cual podemos acceder e importar sus módulos. "
      ]
    },
    {
      "cell_type": "code",
      "metadata": {
        "id": "U4Efi5pF4QV4",
        "colab_type": "code",
        "colab": {}
      },
      "source": [
        "from conver import temperatura\n",
        "from conver import longitud"
      ],
      "execution_count": 0,
      "outputs": []
    },
    {
      "cell_type": "code",
      "metadata": {
        "id": "BykHzoy5eZRm",
        "colab_type": "code",
        "outputId": "13c16a1a-5783-46df-a9ba-ad71ff925d74",
        "colab": {
          "base_uri": "https://localhost:8080/",
          "height": 52
        }
      },
      "source": [
        "print(longitud.metrotomilla(5000))\n",
        "print(temperatura.ftoc(90))"
      ],
      "execution_count": 0,
      "outputs": [
        {
          "output_type": "stream",
          "text": [
            "3.106863683249034\n",
            "32.22222222222222\n"
          ],
          "name": "stdout"
        }
      ]
    },
    {
      "cell_type": "markdown",
      "metadata": {
        "id": "-PsHOyxnfYBR",
        "colab_type": "text"
      },
      "source": [
        "\n",
        "\n",
        "---\n",
        "#NOTA\n",
        "\n",
        "\n",
        "---\n",
        "\n",
        "\n"
      ]
    },
    {
      "cell_type": "markdown",
      "metadata": {
        "id": "9ObvwcWufbln",
        "colab_type": "text"
      },
      "source": [
        "Si se requiere subir archivos a colab se puede hacer de la siguiente forma:"
      ]
    },
    {
      "cell_type": "code",
      "metadata": {
        "id": "2J9vVGrQ1ryq",
        "colab_type": "code",
        "colab": {}
      },
      "source": [
        "from google.colab import files\n",
        "files.upload()"
      ],
      "execution_count": 0,
      "outputs": []
    }
  ]
}