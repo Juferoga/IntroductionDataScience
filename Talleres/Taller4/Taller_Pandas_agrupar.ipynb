{
  "nbformat": 4,
  "nbformat_minor": 0,
  "metadata": {
    "colab": {
      "name": "Taller - Pandas: agrupar.ipynb",
      "provenance": []
    },
    "kernelspec": {
      "name": "python3",
      "display_name": "Python 3"
    }
  },
  "cells": [
    {
      "cell_type": "markdown",
      "metadata": {
        "id": "DD7nCAao9Qf1",
        "colab_type": "text"
      },
      "source": [
        "#Taller Group by"
      ]
    },
    {
      "cell_type": "markdown",
      "metadata": {
        "id": "t-Ou5RVg9YNF",
        "colab_type": "text"
      },
      "source": [
        "1. Cargar el CSV phone_data y convertir la columna date de string a tiempo"
      ]
    },
    {
      "cell_type": "code",
      "metadata": {
        "id": "WbofEhAy9LFB",
        "colab_type": "code",
        "outputId": "6531c7ea-9e53-43a4-c1bc-34a27261f490",
        "colab": {
          "base_uri": "https://localhost:8080/",
          "height": 446
        }
      },
      "source": [
        "import pandas as pd\n",
        "import dateutil\n",
        " \n",
        "data = pd.read_csv('phone_data.csv', index_col='index')\n",
        "data['date'] = data['date'].apply(dateutil.parser.parse, dayfirst=True)\n",
        "data"
      ],
      "execution_count": 0,
      "outputs": [
        {
          "output_type": "execute_result",
          "data": {
            "text/html": [
              "<div>\n",
              "<style scoped>\n",
              "    .dataframe tbody tr th:only-of-type {\n",
              "        vertical-align: middle;\n",
              "    }\n",
              "\n",
              "    .dataframe tbody tr th {\n",
              "        vertical-align: top;\n",
              "    }\n",
              "\n",
              "    .dataframe thead th {\n",
              "        text-align: right;\n",
              "    }\n",
              "</style>\n",
              "<table border=\"1\" class=\"dataframe\">\n",
              "  <thead>\n",
              "    <tr style=\"text-align: right;\">\n",
              "      <th></th>\n",
              "      <th>date</th>\n",
              "      <th>duration</th>\n",
              "      <th>item</th>\n",
              "      <th>month</th>\n",
              "      <th>network</th>\n",
              "      <th>network_type</th>\n",
              "    </tr>\n",
              "    <tr>\n",
              "      <th>index</th>\n",
              "      <th></th>\n",
              "      <th></th>\n",
              "      <th></th>\n",
              "      <th></th>\n",
              "      <th></th>\n",
              "      <th></th>\n",
              "    </tr>\n",
              "  </thead>\n",
              "  <tbody>\n",
              "    <tr>\n",
              "      <th>0</th>\n",
              "      <td>2014-10-15 06:58:00</td>\n",
              "      <td>34.429</td>\n",
              "      <td>data</td>\n",
              "      <td>2014-11</td>\n",
              "      <td>data</td>\n",
              "      <td>data</td>\n",
              "    </tr>\n",
              "    <tr>\n",
              "      <th>1</th>\n",
              "      <td>2014-10-15 06:58:00</td>\n",
              "      <td>13.000</td>\n",
              "      <td>call</td>\n",
              "      <td>2014-11</td>\n",
              "      <td>Vodafone</td>\n",
              "      <td>mobile</td>\n",
              "    </tr>\n",
              "    <tr>\n",
              "      <th>2</th>\n",
              "      <td>2014-10-15 14:46:00</td>\n",
              "      <td>23.000</td>\n",
              "      <td>call</td>\n",
              "      <td>2014-11</td>\n",
              "      <td>Meteor</td>\n",
              "      <td>mobile</td>\n",
              "    </tr>\n",
              "    <tr>\n",
              "      <th>3</th>\n",
              "      <td>2014-10-15 14:48:00</td>\n",
              "      <td>4.000</td>\n",
              "      <td>call</td>\n",
              "      <td>2014-11</td>\n",
              "      <td>Tesco</td>\n",
              "      <td>mobile</td>\n",
              "    </tr>\n",
              "    <tr>\n",
              "      <th>4</th>\n",
              "      <td>2014-10-15 17:27:00</td>\n",
              "      <td>4.000</td>\n",
              "      <td>call</td>\n",
              "      <td>2014-11</td>\n",
              "      <td>Tesco</td>\n",
              "      <td>mobile</td>\n",
              "    </tr>\n",
              "    <tr>\n",
              "      <th>...</th>\n",
              "      <td>...</td>\n",
              "      <td>...</td>\n",
              "      <td>...</td>\n",
              "      <td>...</td>\n",
              "      <td>...</td>\n",
              "      <td>...</td>\n",
              "    </tr>\n",
              "    <tr>\n",
              "      <th>825</th>\n",
              "      <td>2015-03-13 00:38:00</td>\n",
              "      <td>1.000</td>\n",
              "      <td>sms</td>\n",
              "      <td>2015-03</td>\n",
              "      <td>world</td>\n",
              "      <td>world</td>\n",
              "    </tr>\n",
              "    <tr>\n",
              "      <th>826</th>\n",
              "      <td>2015-03-13 00:39:00</td>\n",
              "      <td>1.000</td>\n",
              "      <td>sms</td>\n",
              "      <td>2015-03</td>\n",
              "      <td>Vodafone</td>\n",
              "      <td>mobile</td>\n",
              "    </tr>\n",
              "    <tr>\n",
              "      <th>827</th>\n",
              "      <td>2015-03-13 06:58:00</td>\n",
              "      <td>34.429</td>\n",
              "      <td>data</td>\n",
              "      <td>2015-03</td>\n",
              "      <td>data</td>\n",
              "      <td>data</td>\n",
              "    </tr>\n",
              "    <tr>\n",
              "      <th>828</th>\n",
              "      <td>2015-03-14 00:13:00</td>\n",
              "      <td>1.000</td>\n",
              "      <td>sms</td>\n",
              "      <td>2015-03</td>\n",
              "      <td>world</td>\n",
              "      <td>world</td>\n",
              "    </tr>\n",
              "    <tr>\n",
              "      <th>829</th>\n",
              "      <td>2015-03-14 00:16:00</td>\n",
              "      <td>1.000</td>\n",
              "      <td>sms</td>\n",
              "      <td>2015-03</td>\n",
              "      <td>world</td>\n",
              "      <td>world</td>\n",
              "    </tr>\n",
              "  </tbody>\n",
              "</table>\n",
              "<p>830 rows × 6 columns</p>\n",
              "</div>"
            ],
            "text/plain": [
              "                     date  duration  item    month   network network_type\n",
              "index                                                                    \n",
              "0     2014-10-15 06:58:00    34.429  data  2014-11      data         data\n",
              "1     2014-10-15 06:58:00    13.000  call  2014-11  Vodafone       mobile\n",
              "2     2014-10-15 14:46:00    23.000  call  2014-11    Meteor       mobile\n",
              "3     2014-10-15 14:48:00     4.000  call  2014-11     Tesco       mobile\n",
              "4     2014-10-15 17:27:00     4.000  call  2014-11     Tesco       mobile\n",
              "...                   ...       ...   ...      ...       ...          ...\n",
              "825   2015-03-13 00:38:00     1.000   sms  2015-03     world        world\n",
              "826   2015-03-13 00:39:00     1.000   sms  2015-03  Vodafone       mobile\n",
              "827   2015-03-13 06:58:00    34.429  data  2015-03      data         data\n",
              "828   2015-03-14 00:13:00     1.000   sms  2015-03     world        world\n",
              "829   2015-03-14 00:16:00     1.000   sms  2015-03     world        world\n",
              "\n",
              "[830 rows x 6 columns]"
            ]
          },
          "metadata": {
            "tags": []
          },
          "execution_count": 28
        }
      ]
    },
    {
      "cell_type": "markdown",
      "metadata": {
        "id": "WRfBhY6g-2T1",
        "colab_type": "text"
      },
      "source": [
        "2. ¿Cuál fue el ítem (llamada/datos) de mayor duración? "
      ]
    },
    {
      "cell_type": "code",
      "metadata": {
        "id": "SYhYjb5z_A6e",
        "colab_type": "code",
        "outputId": "2436e451-555d-40d5-d89c-c8cd28b27dac",
        "colab": {
          "base_uri": "https://localhost:8080/",
          "height": 35
        }
      },
      "source": [
        "data['duration'].max()"
      ],
      "execution_count": 0,
      "outputs": [
        {
          "output_type": "execute_result",
          "data": {
            "text/plain": [
              "10528.0"
            ]
          },
          "metadata": {
            "tags": []
          },
          "execution_count": 33
        }
      ]
    },
    {
      "cell_type": "code",
      "metadata": {
        "id": "XExG6MJWPTzB",
        "colab_type": "code",
        "colab": {}
      },
      "source": [
        "data[data['duration']==data['duration'].max()]"
      ],
      "execution_count": 0,
      "outputs": []
    },
    {
      "cell_type": "code",
      "metadata": {
        "id": "-A9C_FiuOjyM",
        "colab_type": "code",
        "colab": {}
      },
      "source": [
        "data.loc[800:,['duration']].plot(kind='bar')"
      ],
      "execution_count": 0,
      "outputs": []
    },
    {
      "cell_type": "markdown",
      "metadata": {
        "id": "aWhXCZzL_Q6t",
        "colab_type": "text"
      },
      "source": [
        "*   ¿Cuál fue la llamada de mayor duración?\n",
        "*   ¿Cuál fue el evento de datos de mayor duración?"
      ]
    },
    {
      "cell_type": "markdown",
      "metadata": {
        "id": "_ihlSQ8J_UsH",
        "colab_type": "text"
      },
      "source": [
        "3. ¿Cuánto fue el total de segundos de todas las llamadas?"
      ]
    },
    {
      "cell_type": "code",
      "metadata": {
        "id": "VRPJGw4mAjuU",
        "colab_type": "code",
        "outputId": "b3929a7f-28df-4c1e-c903-e4243460a0c6",
        "colab": {
          "base_uri": "https://localhost:8080/",
          "height": 35
        }
      },
      "source": [
        "data['duration'][data['item'] == 'call'].sum()"
      ],
      "execution_count": 0,
      "outputs": [
        {
          "output_type": "execute_result",
          "data": {
            "text/plain": [
              "92321.0"
            ]
          },
          "metadata": {
            "tags": []
          },
          "execution_count": 12
        }
      ]
    },
    {
      "cell_type": "markdown",
      "metadata": {
        "id": "4yXw7YAOBFWD",
        "colab_type": "text"
      },
      "source": [
        "\n",
        "\n",
        "*   ¿Cuánto fue el total de segundos entre sms y eventos de datos?\n",
        "\n",
        "\n"
      ]
    },
    {
      "cell_type": "markdown",
      "metadata": {
        "id": "AV8pi7MMBYFh",
        "colab_type": "text"
      },
      "source": [
        "4. ¿Cuantas entradas hay por cada uno de los meses"
      ]
    },
    {
      "cell_type": "code",
      "metadata": {
        "id": "m3h9wOBYCiqI",
        "colab_type": "code",
        "outputId": "678c68c6-5f8d-4852-9299-6b7d1278fa9d",
        "colab": {
          "base_uri": "https://localhost:8080/",
          "height": 121
        }
      },
      "source": [
        "data['month'].value_counts()"
      ],
      "execution_count": 0,
      "outputs": [
        {
          "output_type": "execute_result",
          "data": {
            "text/plain": [
              "2014-11    230\n",
              "2015-01    205\n",
              "2014-12    157\n",
              "2015-02    137\n",
              "2015-03    101\n",
              "Name: month, dtype: int64"
            ]
          },
          "metadata": {
            "tags": []
          },
          "execution_count": 13
        }
      ]
    },
    {
      "cell_type": "markdown",
      "metadata": {
        "id": "gJ6RqGV-C6Wm",
        "colab_type": "text"
      },
      "source": [
        "*   ¿Cuantas entradas de datos hay por cada uno de las redes?\n",
        "*   ¿Cuantas entradas de llamada hay por cada una de las redes?\n",
        "\n"
      ]
    },
    {
      "cell_type": "markdown",
      "metadata": {
        "id": "8dUW2IDuDFcR",
        "colab_type": "text"
      },
      "source": [
        "5. Obtener la suma de la duración por mes"
      ]
    },
    {
      "cell_type": "code",
      "metadata": {
        "id": "5X0AYVZbEwi0",
        "colab_type": "code",
        "colab": {}
      },
      "source": [
        "data.groupby('month')['duration'].sum()"
      ],
      "execution_count": 0,
      "outputs": []
    },
    {
      "cell_type": "markdown",
      "metadata": {
        "id": "pO7sikFjE1ks",
        "colab_type": "text"
      },
      "source": [
        "* Obtener el promedio de llamadas por cada una de las redes\n",
        "* Obtener el promedio de eventos de datos por cada una de las redes\n"
      ]
    },
    {
      "cell_type": "markdown",
      "metadata": {
        "id": "XpUR2W0XFeSu",
        "colab_type": "text"
      },
      "source": [
        "6. Obtener el número de entradas por mes"
      ]
    },
    {
      "cell_type": "code",
      "metadata": {
        "id": "4QkCvoB_GD-J",
        "colab_type": "code",
        "colab": {}
      },
      "source": [
        "data.groupby('month')['date'].count()"
      ],
      "execution_count": 0,
      "outputs": []
    },
    {
      "cell_type": "markdown",
      "metadata": {
        "id": "7z2xdy4lG7tT",
        "colab_type": "text"
      },
      "source": [
        "* Obtener el número de entradas tipo llamada por cada una de las redes\n",
        "* Obtener el número de entradas tipo sms por cada una de las redes\n"
      ]
    },
    {
      "cell_type": "markdown",
      "metadata": {
        "id": "fGafHKnBHDYI",
        "colab_type": "text"
      },
      "source": [
        "7. Cuántos eventos de llamada, datos y sms hubo por mes"
      ]
    },
    {
      "cell_type": "code",
      "metadata": {
        "id": "jEoV_7MLHdey",
        "colab_type": "code",
        "colab": {}
      },
      "source": [
        "data.groupby(['month', 'item'])['date'].count()"
      ],
      "execution_count": 0,
      "outputs": []
    },
    {
      "cell_type": "markdown",
      "metadata": {
        "id": "hjGzuz3WHf2-",
        "colab_type": "text"
      },
      "source": [
        "* Por cada uno de los meses, ¿cuántas veces se usaron cada una de las redes (para cualquier evento)?\n",
        "* Por cada uno de los meses, ¿cuántas veces se usaron cada una de las redes discriminando el tipo de evento?\n"
      ]
    }
  ]
}